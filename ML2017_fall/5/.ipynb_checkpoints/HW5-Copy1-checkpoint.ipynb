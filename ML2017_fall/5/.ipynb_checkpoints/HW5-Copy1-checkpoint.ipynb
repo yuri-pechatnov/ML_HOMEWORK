{
 "cells": [
  {
   "cell_type": "code",
   "execution_count": 1,
   "metadata": {},
   "outputs": [
    {
     "name": "stdout",
     "output_type": "stream",
     "text": [
      "env: THEANO_FLAGS='floatX=float32'\n"
     ]
    }
   ],
   "source": [
    "# libraries\n",
    "# copy-paste of seminar\n",
    "\n",
    "import matplotlib.pyplot as plt\n",
    "%matplotlib inline\n",
    "import numpy as np\n",
    "%env THEANO_FLAGS='floatX=float32'\n",
    "\n",
    "#XVFB will be launched if you run on a server\n",
    "import os\n",
    "if type(os.environ.get(\"DISPLAY\")) is not str or len(os.environ.get(\"DISPLAY\"))==0:\n",
    "    !bash ../xvfb start\n",
    "    %env DISPLAY=:1"
   ]
  },
  {
   "cell_type": "code",
   "execution_count": 2,
   "metadata": {
    "scrolled": false
   },
   "outputs": [
    {
     "name": "stdout",
     "output_type": "stream",
     "text": [
      "state_shape = (8,)  n_actions = 4\n"
     ]
    }
   ],
   "source": [
    "# load game and look at it\n",
    "\n",
    "import gym\n",
    "make_env = lambda: gym.make(\"LunarLander-v2\")\n",
    "\n",
    "env=make_env()\n",
    "env.reset()\n",
    "\n",
    "state_shape = env.observation_space.shape\n",
    "n_actions = env.action_space.n\n",
    "\n",
    "print(\"state_shape =\", state_shape, \" n_actions =\", n_actions)"
   ]
  },
  {
   "cell_type": "code",
   "execution_count": 3,
   "metadata": {},
   "outputs": [
    {
     "data": {
      "image/png": "[encoded data removed]",
      "text/plain": [
       "<matplotlib.figure.Figure at 0x7f7aac50e7b8>"
      ]
     },
     "metadata": {},
     "output_type": "display_data"
    }
   ],
   "source": [
    "plt.imshow(env.render(\"rgb_array\"))\n",
    "del env"
   ]
  },
  {
   "cell_type": "markdown",
   "metadata": {},
   "source": [
    "# Neural Network body"
   ]
  },
  {
   "cell_type": "code",
   "execution_count": 4,
   "metadata": {},
   "outputs": [],
   "source": [
    "import lasagne\n",
    "from lasagne.layers import *\n",
    "from lasagne.nonlinearities import elu\n",
    "\n",
    "\n",
    "#image observation at current tick goes here, shape = (sample_i,x,y,color)\n",
    "observation_layer = InputLayer((None,)+state_shape)\n",
    "\n",
    "\n",
    "nn = DenseLayer(observation_layer, 60, nonlinearity=elu)\n",
    "nn = DenseLayer(nn, 60, nonlinearity=elu)\n",
    "nn = DenseLayer(nn, 40, nonlinearity=elu)\n",
    "nn = DenseLayer(nn, 20, nonlinearity=elu)\n",
    "\n",
    "#a layer that predicts Qvalues\n",
    "qvalues_layer = DenseLayer(nn,num_units=n_actions,\n",
    "                           nonlinearity=None,name=\"q-values\")"
   ]
  },
  {
   "cell_type": "markdown",
   "metadata": {},
   "source": [
    "Picking actions is done by yet another layer, that implements $ \\epsilon$ -greedy policy"
   ]
  },
  {
   "cell_type": "code",
   "execution_count": 5,
   "metadata": {},
   "outputs": [],
   "source": [
    "from agentnet.resolver import EpsilonGreedyResolver\n",
    "action_layer = EpsilonGreedyResolver(qvalues_layer)\n",
    "\n",
    "#set starting epsilon\n",
    "action_layer.epsilon.set_value(np.float32(0.05))\n"
   ]
  },
  {
   "cell_type": "markdown",
   "metadata": {},
   "source": [
    "### Agent\n",
    "\n",
    "We define an agent entirely composed of a lasagne network:\n",
    "* Observations as InputLayer(s)\n",
    "* Actions as intermediate Layer(s)\n",
    "* `policy_estimators` is \"whatever else you want to keep track of\"\n",
    "\n",
    "Each parameter can be either one layer or a list of layers"
   ]
  },
  {
   "cell_type": "code",
   "execution_count": 6,
   "metadata": {},
   "outputs": [],
   "source": [
    "from agentnet.agent import Agent\n",
    "agent = Agent(observation_layers=observation_layer,\n",
    "              action_layers=action_layer,\n",
    "              policy_estimators=qvalues_layer,)"
   ]
  },
  {
   "cell_type": "code",
   "execution_count": 7,
   "metadata": {},
   "outputs": [
    {
     "data": {
      "text/plain": [
       "[W, b, W, b, W, b, W, b, q-values.W, q-values.b]"
      ]
     },
     "execution_count": 7,
     "metadata": {},
     "output_type": "execute_result"
    }
   ],
   "source": [
    "#Since it's a single lasagne network, one can get it's weights, output, etc\n",
    "weights = lasagne.layers.get_all_params(action_layer,trainable=True)\n",
    "weights"
   ]
  },
  {
   "cell_type": "markdown",
   "metadata": {},
   "source": [
    "# Create and manage a pool of atari sessions to play with\n",
    "\n",
    "* To make training more stable, we shall have an entire batch of game sessions each happening independent of others\n",
    "* Why several parallel agents help training: http://arxiv.org/pdf/1602.01783v1.pdf\n",
    "* Alternative approach: store more sessions: https://www.cs.toronto.edu/~vmnih/docs/dqn.pdf"
   ]
  },
  {
   "cell_type": "code",
   "execution_count": 8,
   "metadata": {},
   "outputs": [],
   "source": [
    "from agentnet.experiments.openai_gym.pool import EnvPool\n",
    "pool = EnvPool(agent,make_env,n_games=1,max_size=10000)"
   ]
  },
  {
   "cell_type": "code",
   "execution_count": 9,
   "metadata": {},
   "outputs": [
    {
     "name": "stdout",
     "output_type": "stream",
     "text": [
      "actions: [[1 1 3 1 0]]\n",
      "rewards: [[-1.1994961  -1.56783587  0.45341898 -1.51351082  0.        ]]\n",
      "CPU times: user 0 ns, sys: 0 ns, total: 0 ns\n",
      "Wall time: 3.01 ms\n"
     ]
    }
   ],
   "source": [
    "%%time\n",
    "#interact for 7 ticks\n",
    "obs_log,action_log,reward_log,_,_,_  = pool.interact(5)\n",
    "\n",
    "\n",
    "print('actions:',action_log)\n",
    "print('rewards:',reward_log)"
   ]
  },
  {
   "cell_type": "code",
   "execution_count": 10,
   "metadata": {},
   "outputs": [],
   "source": [
    "#we'll train on rollouts of 10 steps (required by n-step algorithms and rnns later)\n",
    "SEQ_LENGTH=10\n",
    "\n",
    "#load first sessions (this function calls interact and stores sessions in the pool)\n",
    "\n",
    "for _ in range(100):\n",
    "    pool.update(SEQ_LENGTH)"
   ]
  },
  {
   "cell_type": "markdown",
   "metadata": {},
   "source": [
    "# q-learning\n",
    "\n",
    "We shall now define a function that replays recent game sessions and updates network weights"
   ]
  },
  {
   "cell_type": "code",
   "execution_count": 11,
   "metadata": {},
   "outputs": [],
   "source": [
    "#get agent's Qvalues obtained via experience replay\n",
    "replay = pool.experience_replay.sample_session_batch(100)\n",
    "qvalues_seq = agent.get_sessions(\n",
    "    replay,\n",
    "    session_length=SEQ_LENGTH,\n",
    "    experience_replay=True,\n",
    ")[-1]\n"
   ]
  },
  {
   "cell_type": "code",
   "execution_count": 12,
   "metadata": {},
   "outputs": [],
   "source": [
    "#loss for Qlearning = (Q(s,a) - (r+gamma*Q(s',a_max)))^2, like you implemented before in lasagne.\n",
    "\n",
    "from agentnet.learning import qlearning\n",
    "elwise_mse_loss = qlearning.get_elementwise_objective(qvalues_seq,\n",
    "                                                      replay.actions[0],\n",
    "                                                      replay.rewards,\n",
    "                                                      replay.is_alive,\n",
    "                                                      gamma_or_gammas=0.99,\n",
    "                                                      n_steps=1,)\n",
    "\n",
    "#compute mean loss over \"alive\" fragments\n",
    "loss = elwise_mse_loss.sum() / replay.is_alive.sum()"
   ]
  },
  {
   "cell_type": "code",
   "execution_count": 13,
   "metadata": {},
   "outputs": [],
   "source": [
    "#get weight updates\n",
    "updates = lasagne.updates.adam(loss,weights)\n",
    "\n",
    "#compile train function\n",
    "import theano\n",
    "train_step = theano.function([],loss,updates=updates)"
   ]
  },
  {
   "cell_type": "markdown",
   "metadata": {},
   "source": [
    "# Demo run\n",
    "\n",
    "Play full session with an untrained agent"
   ]
  },
  {
   "cell_type": "code",
   "execution_count": 14,
   "metadata": {},
   "outputs": [],
   "source": [
    "#for MountainCar-v0 evaluation session is cropped to 200 ticks\n",
    "#untrained_reward = pool.evaluate(save_path=\"./records\",record_video=True)"
   ]
  },
  {
   "cell_type": "code",
   "execution_count": 15,
   "metadata": {},
   "outputs": [],
   "source": [
    "#show video\n",
    "# from IPython.display import HTML\n",
    "# import os\n",
    "\n",
    "# video_names = list(filter(lambda s:s.endswith(\".mp4\"),os.listdir(\"./records/\")))\n",
    "\n",
    "# HTML(\"\"\"\n",
    "# <video width=\"640\" height=\"480\" controls>\n",
    "#   <source src=\"{}\" type=\"video/mp4\">\n",
    "# </video>\n",
    "# \"\"\".format(\"./records/\"+video_names[-1])) #this may or may not be _last_ video. Try other indices"
   ]
  },
  {
   "cell_type": "markdown",
   "metadata": {},
   "source": [
    "# Training loop"
   ]
  },
  {
   "cell_type": "code",
   "execution_count": 16,
   "metadata": {},
   "outputs": [],
   "source": [
    "epoch_counter = 1 #starting epoch\n",
    "rewards = {} #full game rewards\n",
    "#target_score = -90\n",
    "target_score = 200"
   ]
  },
  {
   "cell_type": "code",
   "execution_count": 17,
   "metadata": {
    "scrolled": false
   },
   "outputs": [
    {
     "name": "stderr",
     "output_type": "stream",
     "text": [
      "  3%|▎         | 97/3000 [00:04<02:18, 20.93it/s]"
     ]
    },
    {
     "name": "stdout",
     "output_type": "stream",
     "text": [
      "Episode finished after 114 timesteps with reward=-493.176894724768\n",
      "Episode finished after 102 timesteps with reward=-460.9381116105444\n",
      "Episode finished after 66 timesteps with reward=-271.910406127584\n",
      "Episode finished after 94 timesteps with reward=-116.11929543450213\n",
      "Episode finished after 106 timesteps with reward=-169.3217698088548\n",
      "Episode finished after 78 timesteps with reward=-370.13753864715613"
     ]
    },
    {
     "name": "stderr",
     "output_type": "stream",
     "text": [
      "  3%|▎         | 102/3000 [00:05<02:30, 19.26it/s]"
     ]
    },
    {
     "name": "stdout",
     "output_type": "stream",
     "text": [
      "\n",
      "Episode finished after 127 timesteps with reward=-190.43116005563155\n",
      "Episode finished after 92 timesteps with reward=-352.1972006179297\n",
      "Episode finished after 73 timesteps with reward=-126.0521383612176\n",
      "Episode finished after 98 timesteps with reward=-463.3761835099949\n",
      "iter=100\tepsilon=0.910\n",
      "-301.36606989\n",
      "Current score(mean over 10) = -301.366\n"
     ]
    },
    {
     "name": "stderr",
     "output_type": "stream",
     "text": [
      "  7%|▋         | 198/3000 [00:10<02:25, 19.21it/s]"
     ]
    },
    {
     "name": "stdout",
     "output_type": "stream",
     "text": [
      "Episode finished after 123 timesteps with reward=-444.21962169305993\n",
      "Episode finished after 88 timesteps with reward=-160.49734580660854\n",
      "Episode finished after 92 timesteps with reward=-323.75031741252343\n",
      "Episode finished after 94 timesteps with reward=-301.92629257292185\n",
      "Episode finished after 111 timesteps with reward=-281.4340093703771\n",
      "Episode finished after 135 timesteps with reward=-113.28205542878206"
     ]
    },
    {
     "name": "stderr",
     "output_type": "stream",
     "text": [
      "  7%|▋         | 202/3000 [00:10<02:32, 18.38it/s]"
     ]
    },
    {
     "name": "stdout",
     "output_type": "stream",
     "text": [
      "\n",
      "Episode finished after 98 timesteps with reward=-444.8230573159086\n",
      "Episode finished after 94 timesteps with reward=-98.68710002933055\n",
      "Episode finished after 78 timesteps with reward=-141.10487339395544\n",
      "Episode finished after 134 timesteps with reward=-103.43632833310005\n",
      "iter=200\tepsilon=0.828\n",
      "-241.316100136\n",
      "Current score(mean over 10) = -241.316\n"
     ]
    },
    {
     "name": "stderr",
     "output_type": "stream",
     "text": [
      " 10%|▉         | 298/3000 [00:16<02:26, 18.49it/s]"
     ]
    },
    {
     "name": "stdout",
     "output_type": "stream",
     "text": [
      "Episode finished after 108 timesteps with reward=-64.32342104375843\n",
      "Episode finished after 68 timesteps with reward=-134.34180190843344\n",
      "Episode finished after 100 timesteps with reward=-80.47050208619282\n",
      "Episode finished after 137 timesteps with reward=-139.17655377851355\n",
      "Episode finished after 83 timesteps with reward=-150.72726614159063\n",
      "Episode finished after 70 timesteps with reward=-143.4523576716821\n"
     ]
    },
    {
     "name": "stderr",
     "output_type": "stream",
     "text": [
      " 10%|█         | 302/3000 [00:16<02:30, 17.98it/s]"
     ]
    },
    {
     "name": "stdout",
     "output_type": "stream",
     "text": [
      "Episode finished after 91 timesteps with reward=-129.71457339404589\n",
      "Episode finished after 86 timesteps with reward=-140.88541487834445\n",
      "Episode finished after 165 timesteps with reward=-86.58369844455248\n",
      "Episode finished after 91 timesteps with reward=-128.12058255864147\n",
      "iter=300\tepsilon=0.754\n",
      "-119.779617191\n",
      "Current score(mean over 10) = -119.780\n"
     ]
    },
    {
     "name": "stderr",
     "output_type": "stream",
     "text": [
      " 13%|█▎        | 399/3000 [00:23<02:34, 16.88it/s]"
     ]
    },
    {
     "name": "stdout",
     "output_type": "stream",
     "text": [
      "Episode finished after 158 timesteps with reward=-177.94797923449457\n",
      "Episode finished after 117 timesteps with reward=-65.8731369221232\n",
      "Episode finished after 114 timesteps with reward=-159.48167613584133\n",
      "Episode finished after 111 timesteps with reward=-78.55046240143302\n",
      "Episode finished after 136 timesteps with reward=-188.71971007295235"
     ]
    },
    {
     "name": "stderr",
     "output_type": "stream",
     "text": [
      " 13%|█▎        | 401/3000 [00:24<02:38, 16.40it/s]"
     ]
    },
    {
     "name": "stdout",
     "output_type": "stream",
     "text": [
      "\n",
      "Episode finished after 161 timesteps with reward=-110.58498408246206\n",
      "Episode finished after 95 timesteps with reward=-162.66461545213056\n",
      "Episode finished after 162 timesteps with reward=-151.86539882524332\n",
      "Episode finished after 75 timesteps with reward=-64.434646160686\n",
      "Episode finished after 98 timesteps with reward=-84.06978255247434\n",
      "iter=400\tepsilon=0.687\n",
      "-124.419239184\n",
      "Current score(mean over 10) = -124.419\n"
     ]
    },
    {
     "name": "stderr",
     "output_type": "stream",
     "text": [
      " 17%|█▋        | 498/3000 [00:29<02:28, 16.79it/s]"
     ]
    },
    {
     "name": "stdout",
     "output_type": "stream",
     "text": [
      "Episode finished after 151 timesteps with reward=-62.36698247488113\n",
      "Episode finished after 145 timesteps with reward=-182.01439693433218\n",
      "Episode finished after 87 timesteps with reward=-164.63471185198398\n",
      "Episode finished after 229 timesteps with reward=-199.31449946686578\n",
      "Episode finished after 128 timesteps with reward=-164.89171658997176\n"
     ]
    },
    {
     "name": "stderr",
     "output_type": "stream",
     "text": [
      "\r",
      " 17%|█▋        | 501/3000 [00:30<02:31, 16.52it/s]"
     ]
    },
    {
     "name": "stdout",
     "output_type": "stream",
     "text": [
      "Episode finished after 125 timesteps with reward=-216.52351347810188\n",
      "Episode finished after 137 timesteps with reward=-200.21916569730172\n",
      "Episode finished after 116 timesteps with reward=-205.60695572263367\n",
      "Episode finished after 125 timesteps with reward=-136.23200547721726\n",
      "Episode finished after 187 timesteps with reward=-200.58276578436798\n",
      "iter=500\tepsilon=0.626\n",
      "-173.238671348\n",
      "Current score(mean over 10) = -173.239\n"
     ]
    },
    {
     "name": "stderr",
     "output_type": "stream",
     "text": [
      " 20%|█▉        | 599/3000 [00:35<02:23, 16.68it/s]"
     ]
    },
    {
     "name": "stdout",
     "output_type": "stream",
     "text": [
      "Episode finished after 153 timesteps with reward=-42.579881737219964\n",
      "Episode finished after 102 timesteps with reward=-145.57220803775803\n",
      "Episode finished after 195 timesteps with reward=-76.71251982299682\n",
      "Episode finished after 95 timesteps with reward=-185.2051054764821\n",
      "Episode finished after 147 timesteps with reward=-160.77799289986422\n",
      "Episode finished after 97 timesteps with reward=-135.63187832682033\n"
     ]
    },
    {
     "name": "stderr",
     "output_type": "stream",
     "text": [
      "\r",
      " 20%|██        | 601/3000 [00:36<02:25, 16.46it/s]"
     ]
    },
    {
     "name": "stdout",
     "output_type": "stream",
     "text": [
      "Episode finished after 142 timesteps with reward=-177.19340503157582\n",
      "Episode finished after 155 timesteps with reward=-136.87296496073586\n",
      "Episode finished after 82 timesteps with reward=-103.5597532015105\n",
      "Episode finished after 211 timesteps with reward=-92.29790388604229\n",
      "iter=600\tepsilon=0.571\n",
      "-125.640361338\n",
      "Current score(mean over 10) = -125.640\n"
     ]
    },
    {
     "name": "stderr",
     "output_type": "stream",
     "text": [
      " 23%|██▎       | 698/3000 [00:41<02:18, 16.68it/s]"
     ]
    },
    {
     "name": "stdout",
     "output_type": "stream",
     "text": [
      "Episode finished after 143 timesteps with reward=-56.52179367813228\n",
      "Episode finished after 91 timesteps with reward=-220.1358957435343\n",
      "Episode finished after 123 timesteps with reward=-130.03740807220206\n",
      "Episode finished after 114 timesteps with reward=-68.26745340865926\n",
      "Episode finished after 97 timesteps with reward=-211.50634459197903\n",
      "Episode finished after 154 timesteps with reward=-161.19468011917044"
     ]
    },
    {
     "name": "stderr",
     "output_type": "stream",
     "text": [
      " 23%|██▎       | 702/3000 [00:42<02:19, 16.46it/s]"
     ]
    },
    {
     "name": "stdout",
     "output_type": "stream",
     "text": [
      "\n",
      "Episode finished after 185 timesteps with reward=-159.18059861099528\n",
      "Episode finished after 196 timesteps with reward=-139.35138136573443\n",
      "Episode finished after 211 timesteps with reward=-147.39993393216517\n",
      "Episode finished after 200 timesteps with reward=-97.04225632376009\n",
      "iter=700\tepsilon=0.522\n",
      "-139.063774585\n",
      "Current score(mean over 10) = -139.064\n"
     ]
    },
    {
     "name": "stderr",
     "output_type": "stream",
     "text": [
      " 27%|██▋       | 798/3000 [00:49<02:17, 16.07it/s]"
     ]
    },
    {
     "name": "stdout",
     "output_type": "stream",
     "text": [
      "Episode finished after 203 timesteps with reward=-191.93897425263268\n",
      "Episode finished after 1000 timesteps with reward=46.47830008343589\n",
      "Episode finished after 243 timesteps with reward=-84.56351744451644\n",
      "Episode finished after 134 timesteps with reward=-153.84895032771306\n",
      "Episode finished after 101 timesteps with reward=-100.31287043345152"
     ]
    },
    {
     "name": "stderr",
     "output_type": "stream",
     "text": [
      "\r",
      " 27%|██▋       | 800/3000 [00:51<02:21, 15.59it/s]"
     ]
    },
    {
     "name": "stdout",
     "output_type": "stream",
     "text": [
      "\n",
      "Episode finished after 136 timesteps with reward=-156.76990467677416\n",
      "Episode finished after 267 timesteps with reward=-108.79077839887069\n",
      "Episode finished after 174 timesteps with reward=-96.04085284131384\n",
      "Episode finished after 119 timesteps with reward=-201.96639742635006\n",
      "Episode finished after 134 timesteps with reward=-179.8028014944145\n",
      "iter=800\tepsilon=0.477\n",
      "-122.755674721\n",
      "Current score(mean over 10) = -122.756\n"
     ]
    },
    {
     "name": "stderr",
     "output_type": "stream",
     "text": [
      " 30%|██▉       | 898/3000 [00:57<02:13, 15.72it/s]"
     ]
    },
    {
     "name": "stdout",
     "output_type": "stream",
     "text": [
      "Episode finished after 234 timesteps with reward=-65.45257613283799\n",
      "Episode finished after 1000 timesteps with reward=-51.6810767717494\n",
      "Episode finished after 209 timesteps with reward=-140.75262800839332\n",
      "Episode finished after 1000 timesteps with reward=57.53232326991088\n",
      "Episode finished after 253 timesteps with reward=-72.13924338895342\n"
     ]
    },
    {
     "name": "stderr",
     "output_type": "stream",
     "text": [
      "\r",
      " 30%|███       | 900/3000 [01:00<02:21, 14.85it/s]"
     ]
    },
    {
     "name": "stdout",
     "output_type": "stream",
     "text": [
      "Episode finished after 242 timesteps with reward=-17.49817119659663\n",
      "Episode finished after 225 timesteps with reward=-58.34691290201371\n",
      "Episode finished after 288 timesteps with reward=-45.96752543361772\n",
      "Episode finished after 179 timesteps with reward=-22.75597186759792\n",
      "Episode finished after 258 timesteps with reward=-201.3185619027371\n",
      "iter=900\tepsilon=0.436\n",
      "-61.8380344335\n",
      "Current score(mean over 10) = -61.838\n"
     ]
    },
    {
     "name": "stderr",
     "output_type": "stream",
     "text": [
      " 33%|███▎      | 998/3000 [01:08<02:17, 14.51it/s]"
     ]
    },
    {
     "name": "stdout",
     "output_type": "stream",
     "text": [
      "Episode finished after 1000 timesteps with reward=8.680892748431614\n",
      "Episode finished after 1000 timesteps with reward=17.812559630132778\n",
      "Episode finished after 121 timesteps with reward=-218.6004149021943\n",
      "Episode finished after 1000 timesteps with reward=77.4446018270453\n",
      "Episode finished after 1000 timesteps with reward=42.59395780208051\n",
      "Episode finished after 327 timesteps with reward=-74.60515147494314\n",
      "Episode finished after 324 timesteps with reward=-42.19077072460334\n",
      "Episode finished after 1000 timesteps with reward=44.579207456527676\n"
     ]
    },
    {
     "name": "stderr",
     "output_type": "stream",
     "text": [
      " 33%|███▎      | 1002/3000 [01:15<02:31, 13.20it/s]"
     ]
    },
    {
     "name": "stdout",
     "output_type": "stream",
     "text": [
      "Episode finished after 1000 timesteps with reward=46.12808996838541\n",
      "Episode finished after 183 timesteps with reward=-31.483396116935978\n",
      "iter=1000\tepsilon=0.399\n",
      "-12.9640423786\n",
      "Current score(mean over 10) = -12.964\n"
     ]
    },
    {
     "name": "stderr",
     "output_type": "stream",
     "text": [
      " 37%|███▋      | 1098/3000 [01:24<02:26, 12.99it/s]"
     ]
    },
    {
     "name": "stdout",
     "output_type": "stream",
     "text": [
      "Episode finished after 312 timesteps with reward=-16.72653197347978\n",
      "Episode finished after 407 timesteps with reward=-33.22534592801736\n",
      "Episode finished after 201 timesteps with reward=-94.73679181121734\n",
      "Episode finished after 1000 timesteps with reward=40.16015847370937\n",
      "Episode finished after 1000 timesteps with reward=82.57414024958071\n",
      "Episode finished after 1000 timesteps with reward=68.30956201219648\n",
      "Episode finished after 1000 timesteps with reward=79.21514199826456\n",
      "Episode finished after 1000 timesteps with reward=8.523073857628638\n"
     ]
    },
    {
     "name": "stderr",
     "output_type": "stream",
     "text": [
      " 37%|███▋      | 1102/3000 [01:31<02:38, 12.01it/s]"
     ]
    },
    {
     "name": "stdout",
     "output_type": "stream",
     "text": [
      "Episode finished after 1000 timesteps with reward=43.899751960546254\n",
      "Episode finished after 180 timesteps with reward=-37.540118836201216\n",
      "iter=1100\tepsilon=0.366\n",
      "14.0453040003\n",
      "Current score(mean over 10) = 14.045\n"
     ]
    },
    {
     "name": "stderr",
     "output_type": "stream",
     "text": [
      " 40%|███▉      | 1198/3000 [01:40<02:30, 11.95it/s]"
     ]
    },
    {
     "name": "stdout",
     "output_type": "stream",
     "text": [
      "Episode finished after 262 timesteps with reward=-86.8677555468449\n",
      "Episode finished after 829 timesteps with reward=111.78278253730281\n",
      "Episode finished after 1000 timesteps with reward=-23.304545760219753\n",
      "Episode finished after 166 timesteps with reward=-124.5167746344027\n",
      "Episode finished after 205 timesteps with reward=-112.67067807757232\n",
      "Episode finished after 402 timesteps with reward=177.60969441356238\n",
      "Episode finished after 752 timesteps with reward=202.16712714071267\n",
      "Episode finished after 1000 timesteps with reward=87.63768024946617\n",
      "Episode finished after 259 timesteps with reward=-6.7855028807187665"
     ]
    },
    {
     "name": "stderr",
     "output_type": "stream",
     "text": [
      " 40%|████      | 1201/3000 [01:46<02:39, 11.26it/s]"
     ]
    },
    {
     "name": "stdout",
     "output_type": "stream",
     "text": [
      "\n",
      "Episode finished after 1000 timesteps with reward=-16.396505570046045\n",
      "iter=1200\tepsilon=0.336\n",
      "20.8655521871\n",
      "Current score(mean over 10) = 20.866\n"
     ]
    },
    {
     "name": "stderr",
     "output_type": "stream",
     "text": [
      " 43%|████▎     | 1298/3000 [01:57<02:34, 11.02it/s]"
     ]
    },
    {
     "name": "stdout",
     "output_type": "stream",
     "text": [
      "Episode finished after 522 timesteps with reward=193.89881409217833\n",
      "Episode finished after 1000 timesteps with reward=95.78703001474315\n",
      "Episode finished after 516 timesteps with reward=168.72584285627244\n",
      "Episode finished after 1000 timesteps with reward=47.3237551327307\n",
      "Episode finished after 1000 timesteps with reward=91.22636518814168\n",
      "Episode finished after 1000 timesteps with reward=50.34795264775525\n",
      "Episode finished after 1000 timesteps with reward=58.181037940800465\n",
      "Episode finished after 1000 timesteps with reward=22.530953734543438\n",
      "Episode finished after 907 timesteps with reward=177.5895991658084\n"
     ]
    },
    {
     "name": "stderr",
     "output_type": "stream",
     "text": [
      " 43%|████▎     | 1301/3000 [02:10<02:50,  9.97it/s]"
     ]
    },
    {
     "name": "stdout",
     "output_type": "stream",
     "text": [
      "Episode finished after 1000 timesteps with reward=66.97870512139092\n",
      "iter=1300\tepsilon=0.309\n",
      "97.2590055894\n",
      "Current score(mean over 10) = 97.259\n"
     ]
    },
    {
     "name": "stderr",
     "output_type": "stream",
     "text": [
      " 47%|████▋     | 1399/3000 [02:22<02:42,  9.83it/s]"
     ]
    },
    {
     "name": "stdout",
     "output_type": "stream",
     "text": [
      "Episode finished after 1000 timesteps with reward=8.112182523038243\n",
      "Episode finished after 1000 timesteps with reward=3.549493010427677\n",
      "Episode finished after 1000 timesteps with reward=-7.7620362925674256\n",
      "Episode finished after 1000 timesteps with reward=21.498399721923533\n",
      "Episode finished after 1000 timesteps with reward=71.79908918257988\n",
      "Episode finished after 1000 timesteps with reward=34.54974531418115\n",
      "Episode finished after 1000 timesteps with reward=42.859737694452605\n",
      "Episode finished after 1000 timesteps with reward=-45.54485156783333\n"
     ]
    },
    {
     "name": "stderr",
     "output_type": "stream",
     "text": [
      "\r",
      " 47%|████▋     | 1400/3000 [02:36<02:58,  8.96it/s]"
     ]
    },
    {
     "name": "stdout",
     "output_type": "stream",
     "text": [
      "Episode finished after 1000 timesteps with reward=83.23838993059174\n",
      "Episode finished after 966 timesteps with reward=102.50616753064544\n",
      "iter=1400\tepsilon=0.284\n",
      "31.4806317047\n",
      "Current score(mean over 10) = 31.481\n"
     ]
    },
    {
     "name": "stderr",
     "output_type": "stream",
     "text": [
      " 50%|████▉     | 1498/3000 [02:45<02:46,  9.05it/s]"
     ]
    },
    {
     "name": "stdout",
     "output_type": "stream",
     "text": [
      "Episode finished after 1000 timesteps with reward=58.610397568678245\n",
      "Episode finished after 735 timesteps with reward=140.76249744969036\n",
      "Episode finished after 1000 timesteps with reward=-26.539666637026414\n",
      "Episode finished after 1000 timesteps with reward=-111.33612774312573\n",
      "Episode finished after 360 timesteps with reward=-67.4616534843523\n",
      "Episode finished after 1000 timesteps with reward=40.872765240118696\n",
      "Episode finished after 1000 timesteps with reward=-102.86356854262795\n",
      "Episode finished after 393 timesteps with reward=-375.13870283129364\n",
      "Episode finished after 1000 timesteps with reward=-142.71130401557093\n"
     ]
    },
    {
     "name": "stderr",
     "output_type": "stream",
     "text": [
      " 50%|█████     | 1501/3000 [02:55<02:55,  8.55it/s]"
     ]
    },
    {
     "name": "stdout",
     "output_type": "stream",
     "text": [
      "Episode finished after 1000 timesteps with reward=-135.04731394694159\n",
      "iter=1500\tepsilon=0.262\n",
      "-72.0852676942\n",
      "Current score(mean over 10) = -72.085\n"
     ]
    },
    {
     "name": "stderr",
     "output_type": "stream",
     "text": [
      " 53%|█████▎    | 1598/3000 [03:04<02:41,  8.67it/s]"
     ]
    },
    {
     "name": "stdout",
     "output_type": "stream",
     "text": [
      "Episode finished after 1000 timesteps with reward=-27.82002688443606\n",
      "Episode finished after 1000 timesteps with reward=11.806678852079106\n",
      "Episode finished after 1000 timesteps with reward=36.738420108825586\n",
      "Episode finished after 1000 timesteps with reward=105.09653283566084\n",
      "Episode finished after 513 timesteps with reward=150.1717710567611\n",
      "Episode finished after 1000 timesteps with reward=43.96265304430274\n",
      "Episode finished after 1000 timesteps with reward=24.17181724069236\n",
      "Episode finished after 1000 timesteps with reward=4.2593745658820055\n"
     ]
    },
    {
     "name": "stderr",
     "output_type": "stream",
     "text": [
      " 53%|█████▎    | 1601/3000 [03:14<02:50,  8.22it/s]"
     ]
    },
    {
     "name": "stdout",
     "output_type": "stream",
     "text": [
      "Episode finished after 1000 timesteps with reward=-7.2001543843702445\n",
      "Episode finished after 1000 timesteps with reward=-34.03157965717931\n",
      "iter=1600\tepsilon=0.242\n",
      "30.7155486778\n",
      "Current score(mean over 10) = 30.716\n"
     ]
    },
    {
     "name": "stderr",
     "output_type": "stream",
     "text": [
      " 57%|█████▋    | 1699/3000 [03:24<02:36,  8.29it/s]"
     ]
    },
    {
     "name": "stdout",
     "output_type": "stream",
     "text": [
      "Episode finished after 832 timesteps with reward=104.47574547996084\n",
      "Episode finished after 1000 timesteps with reward=-40.14245183456292\n",
      "Episode finished after 839 timesteps with reward=-250.2474369850925\n",
      "Episode finished after 1000 timesteps with reward=-34.55141444126338\n",
      "Episode finished after 1000 timesteps with reward=-38.01141104223664\n",
      "Episode finished after 1000 timesteps with reward=-24.4808142470435\n",
      "Episode finished after 1000 timesteps with reward=-56.57444465321095\n",
      "Episode finished after 538 timesteps with reward=-39.51620672989351\n"
     ]
    },
    {
     "name": "stderr",
     "output_type": "stream",
     "text": [
      "\r",
      " 57%|█████▋    | 1701/3000 [03:36<02:45,  7.85it/s]"
     ]
    },
    {
     "name": "stdout",
     "output_type": "stream",
     "text": [
      "Episode finished after 1000 timesteps with reward=-40.017203239717745\n",
      "Episode finished after 1000 timesteps with reward=-134.59562987325887\n",
      "iter=1700\tepsilon=0.224\n",
      "-55.3661267566\n",
      "Current score(mean over 10) = -55.366\n"
     ]
    },
    {
     "name": "stderr",
     "output_type": "stream",
     "text": [
      " 60%|█████▉    | 1799/3000 [03:48<02:32,  7.89it/s]"
     ]
    },
    {
     "name": "stdout",
     "output_type": "stream",
     "text": [
      "Episode finished after 866 timesteps with reward=169.324423541846\n",
      "Episode finished after 1000 timesteps with reward=32.01878630416651\n",
      "Episode finished after 1000 timesteps with reward=59.55044568819598\n",
      "Episode finished after 915 timesteps with reward=143.5798441987687\n",
      "Episode finished after 1000 timesteps with reward=80.86965156599832\n",
      "Episode finished after 1000 timesteps with reward=19.066594653075203\n",
      "Episode finished after 629 timesteps with reward=174.38524073568473\n",
      "Episode finished after 1000 timesteps with reward=-153.4820935819102\n",
      "Episode finished after 1000 timesteps with reward=42.50307263270847\n"
     ]
    },
    {
     "name": "stderr",
     "output_type": "stream",
     "text": [
      " 60%|██████    | 1801/3000 [04:02<02:41,  7.43it/s]"
     ]
    },
    {
     "name": "stdout",
     "output_type": "stream",
     "text": [
      "Episode finished after 1000 timesteps with reward=56.27669452331248\n",
      "iter=1800\tepsilon=0.207\n",
      "62.4092660262\n",
      "Current score(mean over 10) = 62.409\n"
     ]
    },
    {
     "name": "stderr",
     "output_type": "stream",
     "text": [
      " 63%|██████▎   | 1899/3000 [04:13<02:26,  7.50it/s]"
     ]
    },
    {
     "name": "stdout",
     "output_type": "stream",
     "text": [
      "Episode finished after 1000 timesteps with reward=-74.00379097792916\n",
      "Episode finished after 1000 timesteps with reward=-105.9932931151806\n",
      "Episode finished after 328 timesteps with reward=-46.20722261018298\n",
      "Episode finished after 1000 timesteps with reward=-75.88778004569134\n",
      "Episode finished after 1000 timesteps with reward=-75.46772980386365\n",
      "Episode finished after 1000 timesteps with reward=-56.48100416440938\n",
      "Episode finished after 1000 timesteps with reward=-82.54270599965312\n",
      "Episode finished after 1000 timesteps with reward=-112.22988454657246\n",
      "Episode finished after 1000 timesteps with reward=-93.90979215281614\n"
     ]
    },
    {
     "name": "stderr",
     "output_type": "stream",
     "text": [
      " 63%|██████▎   | 1901/3000 [04:27<02:34,  7.10it/s]"
     ]
    },
    {
     "name": "stdout",
     "output_type": "stream",
     "text": [
      "Episode finished after 1000 timesteps with reward=-98.88260124661056\n",
      "iter=1900\tepsilon=0.192\n",
      "-82.1605804663\n",
      "Current score(mean over 10) = -82.161\n"
     ]
    },
    {
     "name": "stderr",
     "output_type": "stream",
     "text": [
      " 67%|██████▋   | 1999/3000 [04:38<02:19,  7.19it/s]"
     ]
    },
    {
     "name": "stdout",
     "output_type": "stream",
     "text": [
      "Episode finished after 1000 timesteps with reward=-102.66172154554698\n",
      "Episode finished after 1000 timesteps with reward=12.892213420468591\n",
      "Episode finished after 1000 timesteps with reward=-83.73278141858367\n",
      "Episode finished after 1000 timesteps with reward=-61.542206666855094\n",
      "Episode finished after 1000 timesteps with reward=-79.2948546168537\n",
      "Episode finished after 484 timesteps with reward=215.8781832107138\n",
      "Episode finished after 951 timesteps with reward=131.96308283416676\n",
      "Episode finished after 708 timesteps with reward=-481.37879888630573\n",
      "Episode finished after 1000 timesteps with reward=-72.26981720721342\n"
     ]
    },
    {
     "name": "stderr",
     "output_type": "stream",
     "text": [
      "\r",
      " 67%|██████▋   | 2001/3000 [04:49<02:24,  6.92it/s]"
     ]
    },
    {
     "name": "stdout",
     "output_type": "stream",
     "text": [
      "Episode finished after 1000 timesteps with reward=27.862837996981796\n",
      "iter=2000\tepsilon=0.179\n",
      "-49.2283862879\n",
      "Current score(mean over 10) = -49.228\n"
     ]
    },
    {
     "name": "stderr",
     "output_type": "stream",
     "text": [
      " 70%|██████▉   | 2099/3000 [05:02<02:09,  6.94it/s]"
     ]
    },
    {
     "name": "stdout",
     "output_type": "stream",
     "text": [
      "Episode finished after 1000 timesteps with reward=-181.83138221268254\n",
      "Episode finished after 1000 timesteps with reward=8.652914867975618\n",
      "Episode finished after 568 timesteps with reward=-157.27310638051722\n",
      "Episode finished after 680 timesteps with reward=129.36580850938697\n",
      "Episode finished after 1000 timesteps with reward=-22.768135082228213\n",
      "Episode finished after 500 timesteps with reward=-112.46008855185819\n",
      "Episode finished after 712 timesteps with reward=104.32063391517768\n",
      "Episode finished after 619 timesteps with reward=170.250773839831\n"
     ]
    },
    {
     "name": "stderr",
     "output_type": "stream",
     "text": [
      " 70%|███████   | 2101/3000 [05:13<02:14,  6.70it/s]"
     ]
    },
    {
     "name": "stdout",
     "output_type": "stream",
     "text": [
      "Episode finished after 618 timesteps with reward=128.77128974291955\n",
      "Episode finished after 813 timesteps with reward=49.1245264580366\n",
      "iter=2100\tepsilon=0.166\n",
      "11.6153235106\n",
      "Current score(mean over 10) = 11.615\n"
     ]
    },
    {
     "name": "stderr",
     "output_type": "stream",
     "text": [
      " 73%|███████▎  | 2199/3000 [05:25<01:58,  6.75it/s]"
     ]
    },
    {
     "name": "stdout",
     "output_type": "stream",
     "text": [
      "Episode finished after 981 timesteps with reward=-562.8906134691961\n",
      "Episode finished after 1000 timesteps with reward=-64.4224717898101\n",
      "Episode finished after 1000 timesteps with reward=-73.60580026244531\n",
      "Episode finished after 1000 timesteps with reward=-87.87196222405362\n",
      "Episode finished after 1000 timesteps with reward=-82.06970777453847\n",
      "Episode finished after 1000 timesteps with reward=-76.44641999579636\n",
      "Episode finished after 1000 timesteps with reward=-85.21648434419488\n",
      "Episode finished after 1000 timesteps with reward=-73.5371041180238\n",
      "Episode finished after 1000 timesteps with reward=-38.35281494010963\n"
     ]
    },
    {
     "name": "stderr",
     "output_type": "stream",
     "text": [
      " 73%|███████▎  | 2201/3000 [05:43<02:04,  6.40it/s]"
     ]
    },
    {
     "name": "stdout",
     "output_type": "stream",
     "text": [
      "Episode finished after 1000 timesteps with reward=-42.00268156361343\n",
      "iter=2200\tepsilon=0.155\n",
      "-118.641606048\n",
      "Current score(mean over 10) = -118.642\n"
     ]
    },
    {
     "name": "stderr",
     "output_type": "stream",
     "text": [
      " 77%|███████▋  | 2299/3000 [05:55<01:48,  6.46it/s]"
     ]
    },
    {
     "name": "stdout",
     "output_type": "stream",
     "text": [
      "Episode finished after 799 timesteps with reward=157.1867370859239\n",
      "Episode finished after 1000 timesteps with reward=-70.97647892711748\n",
      "Episode finished after 1000 timesteps with reward=-74.77194393868847\n",
      "Episode finished after 1000 timesteps with reward=-86.6801500439359\n",
      "Episode finished after 1000 timesteps with reward=-86.89797183063392\n",
      "Episode finished after 1000 timesteps with reward=-89.8991699050642\n",
      "Episode finished after 1000 timesteps with reward=-101.26441191755129\n",
      "Episode finished after 1000 timesteps with reward=-74.99281630575216\n",
      "Episode finished after 1000 timesteps with reward=-75.17163320107493\n"
     ]
    },
    {
     "name": "stderr",
     "output_type": "stream",
     "text": [
      " 77%|███████▋  | 2302/3000 [06:14<01:53,  6.15it/s]"
     ]
    },
    {
     "name": "stdout",
     "output_type": "stream",
     "text": [
      "Episode finished after 1000 timesteps with reward=-102.89450349225852\n",
      "iter=2300\tepsilon=0.145\n",
      "-60.6362342476\n",
      "Current score(mean over 10) = -60.636\n"
     ]
    },
    {
     "name": "stderr",
     "output_type": "stream",
     "text": [
      " 80%|███████▉  | 2398/3000 [06:24<01:36,  6.24it/s]"
     ]
    },
    {
     "name": "stdout",
     "output_type": "stream",
     "text": [
      "Episode finished after 1000 timesteps with reward=-101.26009504314693\n",
      "Episode finished after 1000 timesteps with reward=-90.31017865381892\n",
      "Episode finished after 1000 timesteps with reward=-112.7849518549688\n",
      "Episode finished after 1000 timesteps with reward=-85.18141105679341\n",
      "Episode finished after 1000 timesteps with reward=-95.5749669759585\n",
      "Episode finished after 1000 timesteps with reward=-69.77226301065357\n",
      "Episode finished after 1000 timesteps with reward=-84.726103457899\n",
      "Episode finished after 1000 timesteps with reward=-60.990430301858886\n",
      "Episode finished after 1000 timesteps with reward=-120.47687379495144\n"
     ]
    },
    {
     "name": "stderr",
     "output_type": "stream",
     "text": [
      " 80%|████████  | 2402/3000 [06:39<01:39,  6.01it/s]"
     ]
    },
    {
     "name": "stdout",
     "output_type": "stream",
     "text": [
      "Episode finished after 1000 timesteps with reward=-115.08489096203802\n",
      "iter=2400\tepsilon=0.136\n",
      "-93.6162165112\n",
      "Current score(mean over 10) = -93.616\n"
     ]
    },
    {
     "name": "stderr",
     "output_type": "stream",
     "text": [
      " 83%|████████▎ | 2499/3000 [06:49<01:22,  6.11it/s]"
     ]
    },
    {
     "name": "stdout",
     "output_type": "stream",
     "text": [
      "Episode finished after 1000 timesteps with reward=-114.94847901293565\n",
      "Episode finished after 1000 timesteps with reward=-122.45368945048189\n",
      "Episode finished after 1000 timesteps with reward=-100.14788350057586\n",
      "Episode finished after 1000 timesteps with reward=-99.12105013635286\n",
      "Episode finished after 1000 timesteps with reward=-87.78474963899815\n",
      "Episode finished after 1000 timesteps with reward=-60.622672094664466\n",
      "Episode finished after 1000 timesteps with reward=-136.23602520079697\n",
      "Episode finished after 1000 timesteps with reward=-67.7160158923943\n",
      "Episode finished after 1000 timesteps with reward=-71.08858766926002\n"
     ]
    },
    {
     "name": "stderr",
     "output_type": "stream",
     "text": [
      " 83%|████████▎ | 2501/3000 [07:04<01:24,  5.89it/s]"
     ]
    },
    {
     "name": "stdout",
     "output_type": "stream",
     "text": [
      "Episode finished after 1000 timesteps with reward=-107.89500489671187\n",
      "iter=2500\tepsilon=0.128\n",
      "-96.8014157493\n",
      "Current score(mean over 10) = -96.801\n"
     ]
    },
    {
     "name": "stderr",
     "output_type": "stream",
     "text": [
      " 87%|████████▋ | 2598/3000 [07:15<01:07,  5.97it/s]"
     ]
    },
    {
     "name": "stdout",
     "output_type": "stream",
     "text": [
      "Episode finished after 1000 timesteps with reward=-124.3154704519046\n",
      "Episode finished after 1000 timesteps with reward=-86.96347025980538\n",
      "Episode finished after 1000 timesteps with reward=-41.11164477887141\n",
      "Episode finished after 1000 timesteps with reward=-88.07902336635551\n",
      "Episode finished after 1000 timesteps with reward=-57.96858960219164\n",
      "Episode finished after 1000 timesteps with reward=-67.6369331899701\n",
      "Episode finished after 1000 timesteps with reward=-92.3784489377565\n",
      "Episode finished after 1000 timesteps with reward=-84.7949197387238\n",
      "Episode finished after 1000 timesteps with reward=-33.53827032879925\n"
     ]
    },
    {
     "name": "stderr",
     "output_type": "stream",
     "text": [
      " 87%|████████▋ | 2602/3000 [07:30<01:08,  5.77it/s]"
     ]
    },
    {
     "name": "stdout",
     "output_type": "stream",
     "text": [
      "Episode finished after 1000 timesteps with reward=-105.50525823356033\n",
      "iter=2600\tepsilon=0.121\n",
      "-78.2292028888\n",
      "Current score(mean over 10) = -78.229\n"
     ]
    },
    {
     "name": "stderr",
     "output_type": "stream",
     "text": [
      " 90%|████████▉ | 2699/3000 [07:43<00:51,  5.83it/s]"
     ]
    },
    {
     "name": "stdout",
     "output_type": "stream",
     "text": [
      "Episode finished after 337 timesteps with reward=-106.65944119269791\n",
      "Episode finished after 579 timesteps with reward=135.5778573752869\n",
      "Episode finished after 657 timesteps with reward=162.55717499753604\n",
      "Episode finished after 747 timesteps with reward=206.5613063640768\n",
      "Episode finished after 611 timesteps with reward=151.89935706050045\n",
      "Episode finished after 991 timesteps with reward=184.90582228581087\n",
      "Episode finished after 175 timesteps with reward=-79.99986116027617\n",
      "Episode finished after 616 timesteps with reward=139.29999378729525\n",
      "Episode finished after 449 timesteps with reward=125.97302284323573\n"
     ]
    },
    {
     "name": "stderr",
     "output_type": "stream",
     "text": [
      "\r",
      " 90%|█████████ | 2701/3000 [07:50<00:52,  5.75it/s]"
     ]
    },
    {
     "name": "stdout",
     "output_type": "stream",
     "text": [
      "Episode finished after 743 timesteps with reward=141.7650890938857\n",
      "iter=2700\tepsilon=0.114\n",
      "106.188032145\n",
      "Current score(mean over 10) = 106.188\n"
     ]
    },
    {
     "name": "stderr",
     "output_type": "stream",
     "text": [
      " 93%|█████████▎| 2798/3000 [08:00<00:34,  5.83it/s]"
     ]
    },
    {
     "name": "stdout",
     "output_type": "stream",
     "text": [
      "Episode finished after 1000 timesteps with reward=-71.54364471758369\n",
      "Episode finished after 591 timesteps with reward=117.33489411243454\n",
      "Episode finished after 584 timesteps with reward=143.53848936179298\n",
      "Episode finished after 715 timesteps with reward=143.16270133505813\n",
      "Episode finished after 731 timesteps with reward=104.51744401359717\n",
      "Episode finished after 794 timesteps with reward=119.93591669858984\n",
      "Episode finished after 542 timesteps with reward=144.64953203116562\n",
      "Episode finished after 1000 timesteps with reward=-66.46778027036903\n",
      "Episode finished after 652 timesteps with reward=104.10796316061379\n"
     ]
    },
    {
     "name": "stderr",
     "output_type": "stream",
     "text": [
      " 93%|█████████▎| 2802/3000 [08:09<00:34,  5.73it/s]"
     ]
    },
    {
     "name": "stdout",
     "output_type": "stream",
     "text": [
      "Episode finished after 867 timesteps with reward=142.1383919628716\n",
      "iter=2800\tepsilon=0.108\n",
      "88.1373907688\n",
      "Current score(mean over 10) = 88.137\n"
     ]
    },
    {
     "name": "stderr",
     "output_type": "stream",
     "text": [
      " 97%|█████████▋| 2898/3000 [08:18<00:17,  5.82it/s]"
     ]
    },
    {
     "name": "stdout",
     "output_type": "stream",
     "text": [
      "Episode finished after 658 timesteps with reward=132.8885537396135\n",
      "Episode finished after 548 timesteps with reward=110.07429121847248\n",
      "Episode finished after 624 timesteps with reward=121.36117570180198\n",
      "Episode finished after 1000 timesteps with reward=-111.52011397212361\n",
      "Episode finished after 622 timesteps with reward=136.11528960589888\n",
      "Episode finished after 421 timesteps with reward=-113.59795592444537\n",
      "Episode finished after 722 timesteps with reward=66.47449428137827\n",
      "Episode finished after 780 timesteps with reward=177.82057879414148\n"
     ]
    },
    {
     "name": "stderr",
     "output_type": "stream",
     "text": [
      " 97%|█████████▋| 2901/3000 [08:25<00:17,  5.74it/s]"
     ]
    },
    {
     "name": "stdout",
     "output_type": "stream",
     "text": [
      "Episode finished after 652 timesteps with reward=133.31324638973308\n",
      "Episode finished after 882 timesteps with reward=124.78773035158808\n",
      "iter=2900\tepsilon=0.102\n",
      "77.7717290186\n",
      "Current score(mean over 10) = 77.772\n"
     ]
    },
    {
     "name": "stderr",
     "output_type": "stream",
     "text": [
      "100%|█████████▉| 2998/3000 [08:34<00:00,  5.82it/s]"
     ]
    },
    {
     "name": "stdout",
     "output_type": "stream",
     "text": [
      "Episode finished after 482 timesteps with reward=165.39604801034244\n",
      "Episode finished after 528 timesteps with reward=-315.4655493134178\n",
      "Episode finished after 464 timesteps with reward=127.28371889912847\n",
      "Episode finished after 515 timesteps with reward=157.93665516617875\n",
      "Episode finished after 440 timesteps with reward=90.61511355096478\n",
      "Episode finished after 460 timesteps with reward=202.7148361463423\n",
      "Episode finished after 492 timesteps with reward=104.20082791289317"
     ]
    },
    {
     "name": "stderr",
     "output_type": "stream",
     "text": [
      "\r",
      "100%|██████████| 3000/3000 [08:39<00:00,  5.78it/s]"
     ]
    },
    {
     "name": "stdout",
     "output_type": "stream",
     "text": [
      "\n",
      "Episode finished after 563 timesteps with reward=83.93275787571962\n",
      "Episode finished after 423 timesteps with reward=140.0221036028758\n",
      "Episode finished after 567 timesteps with reward=133.62471503140293\n",
      "iter=3000\tepsilon=0.097\n",
      "89.0261226882\n",
      "Current score(mean over 10) = 89.026\n"
     ]
    },
    {
     "name": "stderr",
     "output_type": "stream",
     "text": [
      "\n"
     ]
    }
   ],
   "source": [
    "from tqdm import trange\n",
    "\n",
    "lastReward = -500\n",
    "\n",
    "for i in trange(3000):    \n",
    "    \n",
    "    #play\n",
    "    for _ in range(5):\n",
    "        pool.update(SEQ_LENGTH,append=True)\n",
    "    \n",
    "    #train\n",
    "    train_step()\n",
    "    \n",
    "    #update epsilon\n",
    "    epsilon = 0.05 + 0.95*np.exp(-epoch_counter/1000.)\n",
    "    \n",
    "    action_layer.epsilon.set_value(np.float32(epsilon))\n",
    "    \n",
    "    #play a few games for evaluation\n",
    "    if epoch_counter%100==0:\n",
    "        n_games = 10\n",
    "        lastReward = np.mean(pool.evaluate(n_games=n_games,record_video=False, verbose=False))\n",
    "        rewards[epoch_counter] = lastReward\n",
    "        print(\"iter=%i\\tepsilon=%.3f\"%(epoch_counter,action_layer.epsilon.get_value(),))\n",
    "        print(rewards[epoch_counter])\n",
    "        print(\"Current score(mean over %i) = %.3f\"%(n_games, lastReward))\n",
    "    \n",
    "        if rewards[epoch_counter] >= target_score:\n",
    "            print(\"You win!\")\n",
    "            break\n",
    "\n",
    "    \n",
    "    epoch_counter  +=1\n",
    "\n",
    "    \n",
    "# Time to drink some coffee!"
   ]
  },
  {
   "cell_type": "code",
   "execution_count": 18,
   "metadata": {},
   "outputs": [
    {
     "name": "stdout",
     "output_type": "stream",
     "text": [
      "Help on method evaluate in module agentnet.experiments.openai_gym.pool:\n",
      "\n",
      "evaluate(n_games=1, save_path='./records', use_monitor=True, record_video=True, verbose=True, t_max=100000) method of agentnet.experiments.openai_gym.pool.EnvPool instance\n",
      "    Plays an entire game start to end, records the logs(and possibly mp4 video), returns reward.\n",
      "    \n",
      "    :param save_path: where to save the report\n",
      "    :param record_video: if True, records mp4 video\n",
      "    :return: total reward (scalar)\n",
      "\n"
     ]
    }
   ],
   "source": [
    "help(pool.evaluate)"
   ]
  },
  {
   "cell_type": "code",
   "execution_count": 21,
   "metadata": {},
   "outputs": [
    {
     "name": "stderr",
     "output_type": "stream",
     "text": [
      "/usr/local/lib/python3.5/dist-packages/ipykernel_launcher.py:3: FutureWarning: pd.ewm_mean is deprecated for ndarrays and will be removed in a future version\n",
      "  This is separate from the ipykernel package so we can avoid doing imports until\n"
     ]
    },
    {
     "data": {
      "text/plain": [
       "[<matplotlib.lines.Line2D at 0x7f7a866fd860>]"
      ]
     },
     "execution_count": 21,
     "metadata": {},
     "output_type": "execute_result"
    },
    {
     "data": {
      "image/png": "[encoded data removed]",
      "text/plain": [
       "<matplotlib.figure.Figure at 0x7f7a866e66a0>"
      ]
     },
     "metadata": {},
     "output_type": "display_data"
    }
   ],
   "source": [
    "from pandas import ewma\n",
    "iters,session_rewards=zip(*sorted(rewards.items(), key=lambda k_v : k_v[0]))\n",
    "plt.plot(iters,ewma(np.array(session_rewards),span=10))"
   ]
  },
  {
   "cell_type": "code",
   "execution_count": 20,
   "metadata": {},
   "outputs": [
    {
     "name": "stdout",
     "output_type": "stream",
     "text": [
      "Episode finished after 294 timesteps with reward=-106.87251915709271\n",
      "Episode finished after 715 timesteps with reward=158.17068437688707\n",
      "Episode finished after 649 timesteps with reward=180.5788720055919\n",
      "Episode finished after 444 timesteps with reward=147.41664351746545\n",
      "Episode finished after 1000 timesteps with reward=-44.76016677542373\n",
      "Episode finished after 489 timesteps with reward=-335.5593588567241\n",
      "Episode finished after 309 timesteps with reward=-69.7525416927676\n",
      "Episode finished after 425 timesteps with reward=115.34786240649079\n",
      "Episode finished after 418 timesteps with reward=138.25803977934652\n",
      "Episode finished after 663 timesteps with reward=116.68428589340083\n",
      "average reward: [-106.87251915709271, 158.17068437688707, 180.5788720055919, 147.41664351746545, -44.760166775423727, -335.55935885672409, -69.752541692767593, 115.34786240649079, 138.25803977934652, 116.68428589340083]\n"
     ]
    },
    {
     "ename": "NameError",
     "evalue": "name 'HTML' is not defined",
     "output_type": "error",
     "traceback": [
      "\u001b[0;31m---------------------------------------------------------------------------\u001b[0m",
      "\u001b[0;31mNameError\u001b[0m                                 Traceback (most recent call last)",
      "\u001b[0;32m<ipython-input-20-b2564375f3a1>\u001b[0m in \u001b[0;36m<module>\u001b[0;34m()\u001b[0m\n\u001b[1;32m      6\u001b[0m \u001b[0;34m\u001b[0m\u001b[0m\n\u001b[1;32m      7\u001b[0m \u001b[0;32mfor\u001b[0m \u001b[0mvideo_name\u001b[0m \u001b[0;32min\u001b[0m \u001b[0mvideo_names\u001b[0m\u001b[0;34m:\u001b[0m\u001b[0;34m\u001b[0m\u001b[0m\n\u001b[0;32m----> 8\u001b[0;31m     HTML(\"\"\"\n\u001b[0m\u001b[1;32m      9\u001b[0m     \u001b[0;34m<\u001b[0m\u001b[0mvideo\u001b[0m \u001b[0mwidth\u001b[0m\u001b[0;34m=\u001b[0m\u001b[0;34m\"640\"\u001b[0m \u001b[0mheight\u001b[0m\u001b[0;34m=\u001b[0m\u001b[0;34m\"480\"\u001b[0m \u001b[0mcontrols\u001b[0m\u001b[0;34m>\u001b[0m\u001b[0;34m\u001b[0m\u001b[0m\n\u001b[1;32m     10\u001b[0m       \u001b[0;34m<\u001b[0m\u001b[0msource\u001b[0m \u001b[0msrc\u001b[0m\u001b[0;34m=\u001b[0m\u001b[0;34m\"{}\"\u001b[0m \u001b[0mtype\u001b[0m\u001b[0;34m=\u001b[0m\u001b[0;34m\"video/mp4\"\u001b[0m\u001b[0;34m>\u001b[0m\u001b[0;34m\u001b[0m\u001b[0m\n",
      "\u001b[0;31mNameError\u001b[0m: name 'HTML' is not defined"
     ]
    }
   ],
   "source": [
    "final_reward = pool.evaluate(n_games=10,save_path=\"./records\",record_video=True)\n",
    "\n",
    "print(\"average reward:\",final_reward)\n",
    "\n",
    "video_names = list(filter(lambda s:s.endswith(\".mp4\"),os.listdir(\"./records/\")))\n",
    "\n",
    "for video_name in video_names:\n",
    "    HTML(\"\"\"\n",
    "    <video width=\"640\" height=\"480\" controls>\n",
    "      <source src=\"{}\" type=\"video/mp4\">\n",
    "    </video>\n",
    "    \"\"\".format(\"./records/\"+video_name)) #this may or may not be _last_ video. Try other indices"
   ]
  },
  {
   "cell_type": "code",
   "execution_count": null,
   "metadata": {},
   "outputs": [],
   "source": []
  },
  {
   "cell_type": "code",
   "execution_count": null,
   "metadata": {},
   "outputs": [],
   "source": []
  }
 ],
 "metadata": {
  "kernelspec": {
   "display_name": "Python 3",
   "language": "python",
   "name": "python3"
  },
  "language_info": {
   "codemirror_mode": {
    "name": "ipython",
    "version": 3
   },
   "file_extension": ".py",
   "mimetype": "text/x-python",
   "name": "python",
   "nbconvert_exporter": "python",
   "pygments_lexer": "ipython3",
   "version": "3.5.2"
  }
 },
 "nbformat": 4,
 "nbformat_minor": 2
}
