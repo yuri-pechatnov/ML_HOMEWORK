{
 "cells": [
  {
   "cell_type": "markdown",
   "metadata": {},
   "source": [
    "[this demo requires doom installed either from gym-pool or from [ppaquette's repo](https://github.com/ppaquette/gym-doom)]\n",
    "\n",
    "## Basic Doom demo\n",
    "\n",
    "This demo solves DoomBasic env with a simple q-learning with experience replay.\n",
    "\n",
    "Video observation forces you to use ```CNN```"
   ]
  },
  {
   "cell_type": "markdown",
   "metadata": {},
   "source": [
    "# Experiment setup\n",
    "* Here we basically just load the game and check that it works"
   ]
  },
  {
   "cell_type": "code",
   "execution_count": 5,
   "metadata": {
    "collapsed": true
   },
   "outputs": [],
   "source": [
    "import skimage\n",
    "import skimage.exposure"
   ]
  },
  {
   "cell_type": "code",
   "execution_count": 1,
   "metadata": {},
   "outputs": [
    {
     "name": "stderr",
     "output_type": "stream",
     "text": [
      "/Users/nexes/anaconda2/lib/python2.7/site-packages/matplotlib/font_manager.py:273: UserWarning: Matplotlib is building the font cache using fc-list. This may take a moment.\n",
      "  warnings.warn('Matplotlib is building the font cache using fc-list. This may take a moment.')\n"
     ]
    },
    {
     "name": "stdout",
     "output_type": "stream",
     "text": [
      "env: THEANO_FLAGS=device=gpu,floatX=float32\n"
     ]
    }
   ],
   "source": [
    "import matplotlib.pyplot as plt\n",
    "import numpy as np\n",
    "%matplotlib inline\n",
    "%env THEANO_FLAGS=device=gpu,floatX=float32"
   ]
  },
  {
   "cell_type": "code",
   "execution_count": 2,
   "metadata": {
    "collapsed": true
   },
   "outputs": [],
   "source": [
    "from gym.core import ObservationWrapper\n",
    "class Wrapper(ObservationWrapper):\n",
    "    \n",
    "    def _observation(self,img):    \n",
    "        a = img[0][23:-30, 10:-8]\n",
    "        v_min, v_max = np.percentile(a, (1.2, 98.8))\n",
    "        better_contrast = skimage.exposure.rescale_intensity(a, in_range=(v_min, v_max))\n",
    "        return np.expand_dims(a, axis=0)\n"
   ]
  },
  {
   "cell_type": "code",
   "execution_count": 6,
   "metadata": {},
   "outputs": [
    {
     "name": "stderr",
     "output_type": "stream",
     "text": [
      "[2017-03-19 22:01:49,013] Making new env: ppaquette/DoomBasic-v0\n"
     ]
    }
   ],
   "source": [
    "import gym\n",
    "import ppaquette_gym_doom\n",
    "from gym.wrappers import SkipWrapper\n",
    "from ppaquette_gym_doom.wrappers.action_space import ToDiscrete\n",
    "from agentnet.experiments.openai_gym.wrappers import PreprocessImage\n",
    "GAME_NAME = 'ppaquette/DoomBasic-v0'\n",
    "\n",
    "make_env = lambda: Wrapper(PreprocessImage(SkipWrapper(4)(ToDiscrete(\"minimal\")(gym.make(GAME_NAME))),\n",
    "                                   width=80,height=80,grayscale=True))\n",
    "\n",
    "env = make_env()"
   ]
  },
  {
   "cell_type": "code",
   "execution_count": 7,
   "metadata": {},
   "outputs": [
    {
     "data": {
      "text/plain": [
       "(1, 27, 62)"
      ]
     },
     "execution_count": 7,
     "metadata": {},
     "output_type": "execute_result"
    }
   ],
   "source": [
    "env.reset().shape"
   ]
  },
  {
   "cell_type": "code",
   "execution_count": 8,
   "metadata": {
    "collapsed": true
   },
   "outputs": [],
   "source": [
    "#global params.\n",
    "observation_shape = env.reset().shape\n",
    "n_actions = env.action_space.n\n",
    "#number of parallel agents and batch sequence length (frames)\n",
    "SEQ_LENGTH = 10\n",
    "FRAME_NUMBER = 4"
   ]
  },
  {
   "cell_type": "code",
   "execution_count": 9,
   "metadata": {
    "collapsed": true
   },
   "outputs": [],
   "source": [
    "flatten = lambda l: [item for sublist in l for item in sublist]"
   ]
  },
  {
   "cell_type": "code",
   "execution_count": 10,
   "metadata": {
    "collapsed": true
   },
   "outputs": [],
   "source": [
    "import skimage\n",
    "import skimage.exposure"
   ]
  },
  {
   "cell_type": "code",
   "execution_count": 11,
   "metadata": {},
   "outputs": [],
   "source": [
    "# a = obs[0][20:-20, 10:-8]\n",
    "# v_min, v_max = np.percentile(a, (1.5, 99))\n",
    "# better_contrast = skimage.exposure.rescale_intensity(a, in_range=(v_min, v_max))"
   ]
  },
  {
   "cell_type": "code",
   "execution_count": 12,
   "metadata": {},
   "outputs": [
    {
     "name": "stdout",
     "output_type": "stream",
     "text": [
      "(1, 27, 62)\n",
      "-10.0 False\n"
     ]
    },
    {
     "data": {
      "text/plain": [
       "<matplotlib.image.AxesImage at 0x10d9d1950>"
      ]
     },
     "execution_count": 12,
     "metadata": {},
     "output_type": "execute_result"
    },
    {
     "data": {
      "image/png": "[encoded data removed]",
      "text/plain": [
       "<matplotlib.figure.Figure at 0x105dbe790>"
      ]
     },
     "metadata": {},
     "output_type": "display_data"
    }
   ],
   "source": [
    "env.reset()\n",
    "obs,r,done,_=env.step(1)\n",
    "print obs.shape\n",
    "# a = obs[20:-20, 10:-8]\n",
    "# print a.shape\n",
    "# v_min, v_max = np.percentile(a, (1.2, 98.8))\n",
    "# better_contrast = skimage.exposure.rescale_intensity(a, in_range=(v_min, v_max))\n",
    "print r, done\n",
    "plt.imshow(obs[0],cmap='gray',interpolation='none')"
   ]
  },
  {
   "cell_type": "markdown",
   "metadata": {},
   "source": [
    "# Basic agent setup\n",
    "Here we define a simple agent that maps game images into Qvalues using simple convolutional neural network.\n",
    "\n",
    "![scheme](https://s18.postimg.org/gbmsq6gmx/dqn_scheme.png)"
   ]
  },
  {
   "cell_type": "code",
   "execution_count": 13,
   "metadata": {},
   "outputs": [
    {
     "name": "stdout",
     "output_type": "stream",
     "text": [
      "env: THEANO_FLAGS=device=gpu0,floatX=float32\n"
     ]
    }
   ],
   "source": [
    "#setup and import theano/lasagne. Prefer GPU\n",
    "%env THEANO_FLAGS=device=gpu0,floatX=float32\n",
    "\n",
    "import theano, lasagne\n",
    "from lasagne.layers import *\n",
    "\n",
    "from agentnet.memory import WindowAugmentation, LSTMCell\n",
    "from agentnet.resolver import EpsilonGreedyResolver\n",
    "from agentnet.target_network import TargetNetwork\n",
    "from agentnet.experiments.openai_gym.pool import EnvPool"
   ]
  },
  {
   "cell_type": "code",
   "execution_count": 14,
   "metadata": {},
   "outputs": [],
   "source": [
    "#observation\n",
    "observation_layer = InputLayer((None,)+observation_shape,)\n",
    "\n",
    "#4-tick window over images\n",
    "\n",
    "prev_wnd = InputLayer((None,FRAME_NUMBER)+observation_shape) \n",
    "new_wnd = WindowAugmentation(observation_layer,prev_wnd)\n",
    "        \n",
    "#reshape to (frame, h,w). If you don't use grayscale, 4 should become 12.\n",
    "wnd_reshape = reshape(new_wnd, (-1,FRAME_NUMBER*observation_shape[0])+observation_shape[1:])"
   ]
  },
  {
   "cell_type": "markdown",
   "metadata": {},
   "source": [
    "Now, define your NN which probably solve the environment. \n",
    "\n",
    "#### Tips:\n",
    "1. Main component are likely to be ```Conv2D``` and ```Pool2DLayer```\n",
    "2. Batch normalization here might speeds up training but may get unstable if you use small experience replay buffer\n",
    "3. Last layers should be Dense"
   ]
  },
  {
   "cell_type": "code",
   "execution_count": 15,
   "metadata": {},
   "outputs": [
    {
     "data": {
      "text/plain": [
       "(None, 4, 1, 27, 62)"
      ]
     },
     "execution_count": 15,
     "metadata": {},
     "output_type": "execute_result"
    }
   ],
   "source": [
    "new_wnd.output_shape"
   ]
  },
  {
   "cell_type": "code",
   "execution_count": 17,
   "metadata": {},
   "outputs": [],
   "source": [
    "nn = lasagne.layers.Conv2DLayer(wnd_reshape, 32, 5,  stride = 3)\n",
    "batch_norm = lasagne.layers.batch_norm(nn)\n",
    "nn = lasagne.layers.Conv2DLayer(batch_norm, 64, 3, stride=2)\n",
    "batch_norm = lasagne.layers.batch_norm(nn)\n",
    "dense = lasagne.layers.DenseLayer(nn, 256, nonlinearity=lasagne.nonlinearities.elu)"
   ]
  },
  {
   "cell_type": "code",
   "execution_count": 18,
   "metadata": {},
   "outputs": [],
   "source": [
    "#qvalues layer\n",
    "qvalues_layer = DenseLayer(dense, n_actions, nonlinearity=None, name='qval')\n",
    "\n",
    "#assert qvalues_layer.nonlinearity is not rectify\n",
    "#baseline for all qvalues\n",
    "#qvalues_layer = DenseLayer(<fill params>, name='qval')\n",
    "        \n",
    "#sample actions proportionally to policy_layer\n",
    "action_layer = EpsilonGreedyResolver(qvalues_layer)"
   ]
  },
  {
   "cell_type": "code",
   "execution_count": 19,
   "metadata": {},
   "outputs": [],
   "source": [
    "targetnet = TargetNetwork(qvalues_layer)\n",
    "qvalues_old = targetnet.output_layers"
   ]
  },
  {
   "cell_type": "markdown",
   "metadata": {},
   "source": [
    "##### Finally, agent\n",
    "We declare that this network is and MDP agent with such and such inputs, states and outputs"
   ]
  },
  {
   "cell_type": "code",
   "execution_count": 20,
   "metadata": {},
   "outputs": [],
   "source": [
    "from agentnet.agent import Agent\n",
    "#all together\n",
    "\n",
    "agent = Agent(observation_layers=observation_layer,\n",
    "              policy_estimators=(qvalues_layer,qvalues_old),\n",
    "              agent_states={new_wnd:prev_wnd},\n",
    "              action_layers=action_layer)"
   ]
  },
  {
   "cell_type": "code",
   "execution_count": 21,
   "metadata": {},
   "outputs": [
    {
     "data": {
      "text/plain": [
       "[W, beta, gamma, W, W, b, qval.W, qval.b]"
      ]
     },
     "execution_count": 21,
     "metadata": {},
     "output_type": "execute_result"
    }
   ],
   "source": [
    "#Since it's a single lasagne network, one can get it's weights, output, etc\n",
    "weights = lasagne.layers.get_all_params(action_layer,trainable=True)\n",
    "weights"
   ]
  },
  {
   "cell_type": "markdown",
   "metadata": {},
   "source": [
    "# Create and manage a pool of atari sessions to play with\n",
    "\n",
    "* To make training more stable, we shall have an entire batch of game sessions each happening independent of others\n",
    "* Why several parallel agents help training: http://arxiv.org/pdf/1602.01783v1.pdf\n",
    "* Alternative approach: store more sessions: https://www.cs.toronto.edu/~vmnih/docs/dqn.pdf"
   ]
  },
  {
   "cell_type": "code",
   "execution_count": 25,
   "metadata": {},
   "outputs": [
    {
     "name": "stderr",
     "output_type": "stream",
     "text": [
      "[2017-03-19 22:04:50,240] Making new env: ppaquette/DoomBasic-v0\n",
      "[2017-03-19 22:04:50,267] Making new env: ppaquette/DoomBasic-v0\n",
      "[2017-03-19 22:04:50,289] Making new env: ppaquette/DoomBasic-v0\n"
     ]
    }
   ],
   "source": [
    "pool = EnvPool(agent,make_env, \n",
    "               n_games=3, #parallel games (only 1 so far)\n",
    "               max_size=20000) #experience replay pool holding last 1k sessions"
   ]
  },
  {
   "cell_type": "code",
   "execution_count": 26,
   "metadata": {},
   "outputs": [
    {
     "name": "stdout",
     "output_type": "stream",
     "text": [
      "[[0 2 2 2 2 2 1]\n",
      " [0 2 2 2 2 2 0]\n",
      " [0 2 2 2 2 2 3]]\n",
      "[[-5. -5. -5. -5. -5. -5.  0.]\n",
      " [-5. -5. -5. -5. -5. -5.  0.]\n",
      " [-5. -5. -5. -5. -5. -5.  0.]]\n",
      "CPU times: user 176 ms, sys: 16.2 ms, total: 192 ms\n",
      "Wall time: 667 ms\n"
     ]
    }
   ],
   "source": [
    "%%time\n",
    "#interact for 7 ticks\n",
    "_,action_log,reward_log,_,_,_  = pool.interact(7)\n",
    "\n",
    "print(action_log)\n",
    "print(reward_log)"
   ]
  },
  {
   "cell_type": "code",
   "execution_count": 27,
   "metadata": {},
   "outputs": [],
   "source": [
    "#load first sessions (this function calls interact and remembers sessions)\n",
    "pool.update(SEQ_LENGTH)"
   ]
  },
  {
   "cell_type": "markdown",
   "metadata": {},
   "source": [
    "# Q-learning\n",
    "* An agent has a method that produces symbolic environment interaction sessions\n",
    "* Such sessions are in sequences of observations, agent memory, actions, q-values,etc\n",
    "  * one has to pre-define maximum session length.\n",
    "\n",
    "* SessionPool also stores rewards (Q-learning objective)"
   ]
  },
  {
   "cell_type": "code",
   "execution_count": 28,
   "metadata": {},
   "outputs": [],
   "source": [
    "#get agent's Qvalues obtained via experience replay\n",
    "replay = pool.experience_replay.sample_session_batch(100,replace=True)\n",
    "\n",
    "_,_,_,_,(qvalues_seq,old_qvalues_seq) = agent.get_sessions(\n",
    "    replay,\n",
    "    session_length=SEQ_LENGTH,\n",
    "    experience_replay=True,\n",
    ")"
   ]
  },
  {
   "cell_type": "code",
   "execution_count": 29,
   "metadata": {},
   "outputs": [],
   "source": [
    "#get reference Qvalues according to Qlearning algorithm\n",
    "from agentnet.learning import qlearning\n",
    "\n",
    "#loss for Qlearning = (Q(s,a) - (r+gamma*Q(s',a_max)))^2\n",
    "elwise_mse_loss = qlearning.get_elementwise_objective(qvalues_seq,\n",
    "                                                      replay.actions[0],\n",
    "                                                      replay.rewards,\n",
    "                                                      replay.is_alive,\n",
    "                                                      qvalues_target=old_qvalues_seq,\n",
    "                                                      gamma_or_gammas=0.99)\n",
    "\n",
    "#compute mean over \"alive\" fragments\n",
    "loss = elwise_mse_loss.sum() / replay.is_alive.sum()"
   ]
  },
  {
   "cell_type": "code",
   "execution_count": 30,
   "metadata": {},
   "outputs": [],
   "source": [
    "# Compute weight updates\n",
    "updates = lasagne.updates.adam(loss, weights, learning_rate= 1e-4)\n",
    "\n",
    "train_step = theano.function([],loss,updates=updates)"
   ]
  },
  {
   "cell_type": "markdown",
   "metadata": {},
   "source": [
    "# Demo run"
   ]
  },
  {
   "cell_type": "code",
   "execution_count": 32,
   "metadata": {},
   "outputs": [
    {
     "name": "stderr",
     "output_type": "stream",
     "text": [
      "[2017-03-19 22:07:32,793] Making new env: ppaquette/DoomBasic-v0\n",
      "[2017-03-19 22:07:32,853] Clearing 8 monitor files from previous run (because force=True was provided)\n",
      "[2017-03-19 22:07:34,259] Starting new video recorder writing to /Users/nexes/Documents/Study/Practical_RL/week4/records_doom2/openaigym.video.0.41826.video000000.mp4\n"
     ]
    },
    {
     "name": "stdout",
     "output_type": "stream",
     "text": [
      "Episode finished after 70 timesteps with reward=-430.0\n"
     ]
    },
    {
     "name": "stderr",
     "output_type": "stream",
     "text": [
      "[2017-03-19 22:07:37,116] Starting new video recorder writing to /Users/nexes/Documents/Study/Practical_RL/week4/records_doom2/openaigym.video.0.41826.video000001.mp4\n"
     ]
    },
    {
     "name": "stdout",
     "output_type": "stream",
     "text": [
      "Episode finished after 70 timesteps with reward=-360.0\n",
      "Episode finished after 70 timesteps with reward=-430.0\n",
      "Episode finished after 8 timesteps with reward=61.0\n",
      "Episode finished after 70 timesteps with reward=-430.0\n",
      "Episode finished after 70 timesteps with reward=-435.0\n",
      "Episode finished after 70 timesteps with reward=-435.0\n"
     ]
    },
    {
     "name": "stderr",
     "output_type": "stream",
     "text": [
      "[2017-03-19 22:07:48,423] Starting new video recorder writing to /Users/nexes/Documents/Study/Practical_RL/week4/records_doom2/openaigym.video.0.41826.video000008.mp4\n"
     ]
    },
    {
     "name": "stdout",
     "output_type": "stream",
     "text": [
      "Episode finished after 70 timesteps with reward=-360.0\n",
      "Episode finished after 70 timesteps with reward=-435.0\n"
     ]
    },
    {
     "name": "stderr",
     "output_type": "stream",
     "text": [
      "[2017-03-19 22:07:52,904] Finished writing results. You can upload them to the scoreboard via gym.upload('/Users/nexes/Documents/Study/Practical_RL/week4/records_doom2')\n"
     ]
    },
    {
     "name": "stdout",
     "output_type": "stream",
     "text": [
      "Episode finished after 70 timesteps with reward=-410.0\n"
     ]
    }
   ],
   "source": [
    "action_layer.epsilon.set_value(0)\n",
    "untrained_reward = np.mean(pool.evaluate(save_path=\"./records_doom2\",record_video=True,n_games=10))"
   ]
  },
  {
   "cell_type": "code",
   "execution_count": 33,
   "metadata": {},
   "outputs": [],
   "source": [
    "# #show video\n",
    "# from IPython.display import HTML\n",
    "# import os\n",
    "\n",
    "# video_names = list(filter(lambda s:s.endswith(\".mp4\"),os.listdir(\"./records_doom2/\")))\n",
    "\n",
    "# HTML(\"\"\"\n",
    "# <video width=\"640\" height=\"480\" controls>\n",
    "#   <source src=\"{}\" type=\"video/mp4\">\n",
    "# </video>\n",
    "# \"\"\".format(\"./records_doom2/\"+video_names[-1])) #this may or may not be _last_ video. Try other indices"
   ]
  },
  {
   "cell_type": "markdown",
   "metadata": {},
   "source": [
    "# Training loop"
   ]
  },
  {
   "cell_type": "code",
   "execution_count": 34,
   "metadata": {},
   "outputs": [],
   "source": [
    "#starting epoch\n",
    "epoch_counter = 1\n",
    "\n",
    "#full game rewards\n",
    "rewards = {0:untrained_reward}"
   ]
  },
  {
   "cell_type": "markdown",
   "metadata": {},
   "source": [
    "If you don't have ```tqdm```, remove the first line and ```tqdm_notebook``` from second line\n",
    "\n",
    "Loop may take years to finish.\n",
    "\n",
    "You may consider interrupting early."
   ]
  },
  {
   "cell_type": "code",
   "execution_count": 35,
   "metadata": {
    "scrolled": false
   },
   "outputs": [
    {
     "name": "stdout",
     "output_type": "stream",
     "text": [
      "iter=10\tepsilon=0.954\treward/step=-5.24242\n",
      "iter=20\tepsilon=0.910\treward/step=-4.50952\n",
      "iter=30\tepsilon=0.868\treward/step=-4.40645\n",
      "iter=40\tepsilon=0.828\treward/step=-4.47561\n",
      "iter=50\tepsilon=0.790\treward/step=-4.17451\n",
      "iter=60\tepsilon=0.754\treward/step=-4.27541\n",
      "iter=70\tepsilon=0.719\treward/step=-4.35399\n",
      "iter=80\tepsilon=0.687\treward/step=-4.17737\n",
      "iter=90\tepsilon=0.656\treward/step=-3.91722\n"
     ]
    },
    {
     "name": "stderr",
     "output_type": "stream",
     "text": [
      "[2017-03-19 22:11:54,962] Making new env: ppaquette/DoomBasic-v0\n",
      "[2017-03-19 22:11:54,992] Clearing 2 monitor files from previous run (because force=True was provided)\n"
     ]
    },
    {
     "name": "stdout",
     "output_type": "stream",
     "text": [
      "iter=100\tepsilon=0.626\treward/step=-3.68053\n"
     ]
    },
    {
     "name": "stderr",
     "output_type": "stream",
     "text": [
      "[2017-03-19 22:11:56,579] Finished writing results. You can upload them to the scoreboard via gym.upload('/Users/nexes/Documents/Study/Practical_RL/week4/records')\n"
     ]
    },
    {
     "name": "stdout",
     "output_type": "stream",
     "text": [
      "Episode finished after 12 timesteps with reward=29.0\n",
      "iter=110\tepsilon=0.598\treward/step=-3.66006\n",
      "iter=120\tepsilon=0.571\treward/step=-3.66556\n",
      "iter=130\tepsilon=0.546\treward/step=-3.76209\n",
      "iter=140\tepsilon=0.522\treward/step=-3.68274\n",
      "iter=150\tepsilon=0.499\treward/step=-3.76137\n",
      "iter=160\tepsilon=0.477\treward/step=-3.75859\n",
      "iter=170\tepsilon=0.456\treward/step=-3.70838\n",
      "iter=180\tepsilon=0.436\treward/step=-3.64788\n",
      "iter=190\tepsilon=0.417\treward/step=-3.58883\n"
     ]
    },
    {
     "name": "stderr",
     "output_type": "stream",
     "text": [
      "[2017-03-19 22:15:54,770] Making new env: ppaquette/DoomBasic-v0\n",
      "[2017-03-19 22:15:54,816] Clearing 2 monitor files from previous run (because force=True was provided)\n"
     ]
    },
    {
     "name": "stdout",
     "output_type": "stream",
     "text": [
      "iter=200\tepsilon=0.399\treward/step=-3.59934\n"
     ]
    },
    {
     "name": "stderr",
     "output_type": "stream",
     "text": [
      "[2017-03-19 22:15:58,505] Finished writing results. You can upload them to the scoreboard via gym.upload('/Users/nexes/Documents/Study/Practical_RL/week4/records')\n"
     ]
    },
    {
     "name": "stdout",
     "output_type": "stream",
     "text": [
      "Episode finished after 63 timesteps with reward=-288.0\n",
      "iter=210\tepsilon=0.382\treward/step=-3.65087\n",
      "iter=220\tepsilon=0.366\treward/step=-3.66274\n",
      "iter=230\tepsilon=0.351\treward/step=-3.64069\n",
      "iter=240\tepsilon=0.336\treward/step=-3.61715\n",
      "iter=250\tepsilon=0.322\treward/step=-3.60651\n",
      "iter=260\tepsilon=0.309\treward/step=-3.59080\n",
      "iter=270\tepsilon=0.296\treward/step=-3.47331\n",
      "iter=280\tepsilon=0.284\treward/step=-3.44626\n",
      "iter=290\tepsilon=0.273\treward/step=-3.34101\n"
     ]
    },
    {
     "name": "stderr",
     "output_type": "stream",
     "text": [
      "[2017-03-19 22:19:39,188] Making new env: ppaquette/DoomBasic-v0\n",
      "[2017-03-19 22:19:39,210] Clearing 2 monitor files from previous run (because force=True was provided)\n"
     ]
    },
    {
     "name": "stdout",
     "output_type": "stream",
     "text": [
      "iter=300\tepsilon=0.262\treward/step=-3.34319\n"
     ]
    },
    {
     "name": "stderr",
     "output_type": "stream",
     "text": [
      "[2017-03-19 22:19:40,578] Finished writing results. You can upload them to the scoreboard via gym.upload('/Users/nexes/Documents/Study/Practical_RL/week4/records')\n"
     ]
    },
    {
     "name": "stdout",
     "output_type": "stream",
     "text": [
      "Episode finished after 8 timesteps with reward=61.0\n",
      "iter=310\tepsilon=0.252\treward/step=-3.26238\n",
      "iter=320\tepsilon=0.242\treward/step=-3.21308\n",
      "iter=330\tepsilon=0.232\treward/step=-3.18590\n",
      "iter=340\tepsilon=0.224\treward/step=-3.12346\n",
      "iter=350\tepsilon=0.215\treward/step=-3.14179\n",
      "iter=360\tepsilon=0.207\treward/step=-3.06962\n",
      "iter=370\tepsilon=0.199\treward/step=-2.98868\n",
      "iter=380\tepsilon=0.192\treward/step=-2.99151\n",
      "iter=390\tepsilon=0.185\treward/step=-3.00384\n"
     ]
    },
    {
     "name": "stderr",
     "output_type": "stream",
     "text": [
      "[2017-03-19 22:23:28,855] Making new env: ppaquette/DoomBasic-v0\n",
      "[2017-03-19 22:23:28,905] Clearing 2 monitor files from previous run (because force=True was provided)\n"
     ]
    },
    {
     "name": "stdout",
     "output_type": "stream",
     "text": [
      "iter=400\tepsilon=0.179\treward/step=-2.97298\n"
     ]
    },
    {
     "name": "stderr",
     "output_type": "stream",
     "text": [
      "[2017-03-19 22:23:30,364] Finished writing results. You can upload them to the scoreboard via gym.upload('/Users/nexes/Documents/Study/Practical_RL/week4/records')\n"
     ]
    },
    {
     "name": "stdout",
     "output_type": "stream",
     "text": [
      "Episode finished after 1 timesteps with reward=96.0\n",
      "iter=410\tepsilon=0.172\treward/step=-2.89011\n",
      "iter=420\tepsilon=0.166\treward/step=-2.78931\n",
      "iter=430\tepsilon=0.161\treward/step=-2.79745\n",
      "iter=440\tepsilon=0.155\treward/step=-2.77173\n",
      "iter=450\tepsilon=0.150\treward/step=-2.75055\n",
      "iter=460\tepsilon=0.145\treward/step=-2.69798\n",
      "iter=470\tepsilon=0.141\treward/step=-2.63156\n",
      "iter=480\tepsilon=0.136\treward/step=-2.61538\n",
      "iter=490\tepsilon=0.132\treward/step=-2.62974\n"
     ]
    },
    {
     "name": "stderr",
     "output_type": "stream",
     "text": [
      "[2017-03-19 22:27:35,531] Making new env: ppaquette/DoomBasic-v0\n",
      "[2017-03-19 22:27:35,558] Clearing 2 monitor files from previous run (because force=True was provided)\n"
     ]
    },
    {
     "name": "stdout",
     "output_type": "stream",
     "text": [
      "iter=500\tepsilon=0.128\treward/step=-2.61118\n"
     ]
    },
    {
     "name": "stderr",
     "output_type": "stream",
     "text": [
      "[2017-03-19 22:27:38,610] Finished writing results. You can upload them to the scoreboard via gym.upload('/Users/nexes/Documents/Study/Practical_RL/week4/records')\n"
     ]
    },
    {
     "name": "stdout",
     "output_type": "stream",
     "text": [
      "Episode finished after 70 timesteps with reward=-360.0\n",
      "iter=510\tepsilon=0.124\treward/step=-2.60391\n",
      "iter=520\tepsilon=0.121\treward/step=-2.61446\n",
      "iter=530\tepsilon=0.117\treward/step=-2.58782\n",
      "iter=540\tepsilon=0.114\treward/step=-2.57400\n",
      "iter=550\tepsilon=0.111\treward/step=-2.56612\n",
      "iter=560\tepsilon=0.108\treward/step=-2.53440\n",
      "iter=570\tepsilon=0.105\treward/step=-2.55931\n",
      "iter=580\tepsilon=0.102\treward/step=-2.54073\n",
      "iter=590\tepsilon=0.100\treward/step=-2.55251\n"
     ]
    },
    {
     "name": "stderr",
     "output_type": "stream",
     "text": [
      "[2017-03-19 22:32:03,540] Making new env: ppaquette/DoomBasic-v0\n",
      "[2017-03-19 22:32:03,562] Clearing 2 monitor files from previous run (because force=True was provided)\n"
     ]
    },
    {
     "name": "stdout",
     "output_type": "stream",
     "text": [
      "iter=600\tepsilon=0.097\treward/step=-2.51681\n"
     ]
    },
    {
     "name": "stderr",
     "output_type": "stream",
     "text": [
      "[2017-03-19 22:32:04,922] Finished writing results. You can upload them to the scoreboard via gym.upload('/Users/nexes/Documents/Study/Practical_RL/week4/records')\n"
     ]
    },
    {
     "name": "stdout",
     "output_type": "stream",
     "text": [
      "Episode finished after 5 timesteps with reward=76.0\n",
      "iter=610\tepsilon=0.095\treward/step=-2.48783\n",
      "iter=620\tepsilon=0.093\treward/step=-2.49436\n",
      "iter=630\tepsilon=0.091\treward/step=-2.49435\n",
      "iter=640\tepsilon=0.089\treward/step=-2.47733\n",
      "iter=650\tepsilon=0.087\treward/step=-2.40896\n",
      "iter=660\tepsilon=0.085\treward/step=-2.41155\n",
      "iter=670\tepsilon=0.083\treward/step=-2.36468\n",
      "iter=680\tepsilon=0.082\treward/step=-2.30382\n",
      "iter=690\tepsilon=0.080\treward/step=-2.25075\n"
     ]
    },
    {
     "name": "stderr",
     "output_type": "stream",
     "text": [
      "[2017-03-19 22:36:31,931] Making new env: ppaquette/DoomBasic-v0\n",
      "[2017-03-19 22:36:31,963] Clearing 2 monitor files from previous run (because force=True was provided)\n"
     ]
    },
    {
     "name": "stdout",
     "output_type": "stream",
     "text": [
      "iter=700\tepsilon=0.079\treward/step=-2.23471\n"
     ]
    },
    {
     "name": "stderr",
     "output_type": "stream",
     "text": [
      "[2017-03-19 22:36:33,270] Finished writing results. You can upload them to the scoreboard via gym.upload('/Users/nexes/Documents/Study/Practical_RL/week4/records')\n"
     ]
    },
    {
     "name": "stdout",
     "output_type": "stream",
     "text": [
      "Episode finished after 3 timesteps with reward=86.0\n",
      "iter=710\tepsilon=0.077\treward/step=-2.21496\n",
      "iter=720\tepsilon=0.076\treward/step=-2.13130\n",
      "iter=730\tepsilon=0.075\treward/step=-2.09188\n",
      "iter=740\tepsilon=0.073\treward/step=-2.00180\n",
      "iter=750\tepsilon=0.072\treward/step=-1.96622\n",
      "iter=760\tepsilon=0.071\treward/step=-1.85642\n",
      "iter=770\tepsilon=0.070\treward/step=-1.76952\n",
      "iter=780\tepsilon=0.069\treward/step=-1.71131\n",
      "iter=790\tepsilon=0.068\treward/step=-1.64648\n"
     ]
    },
    {
     "name": "stderr",
     "output_type": "stream",
     "text": [
      "[2017-03-19 22:41:05,965] Making new env: ppaquette/DoomBasic-v0\n",
      "[2017-03-19 22:41:05,987] Clearing 2 monitor files from previous run (because force=True was provided)\n"
     ]
    },
    {
     "name": "stdout",
     "output_type": "stream",
     "text": [
      "iter=800\tepsilon=0.067\treward/step=-1.57486\n"
     ]
    },
    {
     "name": "stderr",
     "output_type": "stream",
     "text": [
      "[2017-03-19 22:41:07,328] Finished writing results. You can upload them to the scoreboard via gym.upload('/Users/nexes/Documents/Study/Practical_RL/week4/records')\n"
     ]
    },
    {
     "name": "stdout",
     "output_type": "stream",
     "text": [
      "Episode finished after 6 timesteps with reward=71.0\n",
      "iter=810\tepsilon=0.067\treward/step=-1.49092\n",
      "iter=820\tepsilon=0.066\treward/step=-1.38352\n",
      "iter=830\tepsilon=0.065\treward/step=-1.27020\n",
      "iter=840\tepsilon=0.064\treward/step=-1.20575\n",
      "iter=850\tepsilon=0.064\treward/step=-1.12538\n",
      "iter=860\tepsilon=0.063\treward/step=-1.03891\n",
      "iter=870\tepsilon=0.062\treward/step=-0.97134\n",
      "iter=880\tepsilon=0.062\treward/step=-0.90193\n",
      "iter=890\tepsilon=0.061\treward/step=-0.82840\n"
     ]
    },
    {
     "name": "stderr",
     "output_type": "stream",
     "text": [
      "[2017-03-19 22:46:01,770] Making new env: ppaquette/DoomBasic-v0\n",
      "[2017-03-19 22:46:01,800] Clearing 2 monitor files from previous run (because force=True was provided)\n"
     ]
    },
    {
     "name": "stdout",
     "output_type": "stream",
     "text": [
      "iter=900\tepsilon=0.061\treward/step=-0.76937\n"
     ]
    },
    {
     "name": "stderr",
     "output_type": "stream",
     "text": [
      "[2017-03-19 22:46:03,374] Finished writing results. You can upload them to the scoreboard via gym.upload('/Users/nexes/Documents/Study/Practical_RL/week4/records')\n"
     ]
    },
    {
     "name": "stdout",
     "output_type": "stream",
     "text": [
      "Episode finished after 5 timesteps with reward=76.0\n",
      "iter=910\tepsilon=0.060\treward/step=-0.73864\n",
      "iter=920\tepsilon=0.060\treward/step=-0.68882\n",
      "iter=930\tepsilon=0.059\treward/step=-0.62470\n",
      "iter=940\tepsilon=0.059\treward/step=-0.60312\n",
      "iter=950\tepsilon=0.058\treward/step=-0.51595\n",
      "iter=960\tepsilon=0.058\treward/step=-0.47385\n",
      "iter=970\tepsilon=0.057\treward/step=-0.42911\n",
      "iter=980\tepsilon=0.057\treward/step=-0.35688\n",
      "iter=990\tepsilon=0.057\treward/step=-0.34820\n"
     ]
    },
    {
     "name": "stderr",
     "output_type": "stream",
     "text": [
      "[2017-03-19 22:51:27,486] Making new env: ppaquette/DoomBasic-v0\n",
      "[2017-03-19 22:51:27,518] Clearing 2 monitor files from previous run (because force=True was provided)\n"
     ]
    },
    {
     "name": "stdout",
     "output_type": "stream",
     "text": [
      "iter=1000\tepsilon=0.056\treward/step=-0.28898\n"
     ]
    },
    {
     "name": "stderr",
     "output_type": "stream",
     "text": [
      "[2017-03-19 22:51:28,877] Finished writing results. You can upload them to the scoreboard via gym.upload('/Users/nexes/Documents/Study/Practical_RL/week4/records')\n"
     ]
    },
    {
     "name": "stdout",
     "output_type": "stream",
     "text": [
      "Episode finished after 6 timesteps with reward=71.0\n",
      "iter=1010\tepsilon=0.056\treward/step=-0.18764\n",
      "iter=1020\tepsilon=0.056\treward/step=-0.07835\n",
      "iter=1030\tepsilon=0.056\treward/step=0.01814\n",
      "iter=1040\tepsilon=0.055\treward/step=0.08127\n",
      "iter=1050\tepsilon=0.055\treward/step=0.15801\n",
      "iter=1060\tepsilon=0.055\treward/step=0.21894\n",
      "iter=1070\tepsilon=0.055\treward/step=0.29763\n",
      "iter=1080\tepsilon=0.054\treward/step=0.38042\n",
      "iter=1090\tepsilon=0.054\treward/step=0.46493\n"
     ]
    },
    {
     "name": "stderr",
     "output_type": "stream",
     "text": [
      "[2017-03-19 22:56:44,517] Making new env: ppaquette/DoomBasic-v0\n",
      "[2017-03-19 22:56:44,540] Clearing 2 monitor files from previous run (because force=True was provided)\n"
     ]
    },
    {
     "name": "stdout",
     "output_type": "stream",
     "text": [
      "iter=1100\tepsilon=0.054\treward/step=0.53473\n"
     ]
    },
    {
     "name": "stderr",
     "output_type": "stream",
     "text": [
      "[2017-03-19 22:56:45,898] Finished writing results. You can upload them to the scoreboard via gym.upload('/Users/nexes/Documents/Study/Practical_RL/week4/records')\n"
     ]
    },
    {
     "name": "stdout",
     "output_type": "stream",
     "text": [
      "Episode finished after 7 timesteps with reward=66.0\n",
      "iter=1110\tepsilon=0.054\treward/step=0.56121\n",
      "iter=1120\tepsilon=0.054\treward/step=0.64199\n",
      "iter=1130\tepsilon=0.053\treward/step=0.73015\n",
      "iter=1140\tepsilon=0.053\treward/step=0.82004\n",
      "iter=1150\tepsilon=0.053\treward/step=0.91798\n",
      "iter=1160\tepsilon=0.053\treward/step=1.00801\n",
      "iter=1170\tepsilon=0.053\treward/step=1.10239\n",
      "iter=1180\tepsilon=0.053\treward/step=1.20155\n",
      "iter=1190\tepsilon=0.052\treward/step=1.28931\n"
     ]
    },
    {
     "name": "stderr",
     "output_type": "stream",
     "text": [
      "[2017-03-19 23:02:11,194] Making new env: ppaquette/DoomBasic-v0\n",
      "[2017-03-19 23:02:11,215] Clearing 2 monitor files from previous run (because force=True was provided)\n"
     ]
    },
    {
     "name": "stdout",
     "output_type": "stream",
     "text": [
      "iter=1200\tepsilon=0.052\treward/step=1.37044\n"
     ]
    },
    {
     "name": "stderr",
     "output_type": "stream",
     "text": [
      "[2017-03-19 23:02:12,563] Finished writing results. You can upload them to the scoreboard via gym.upload('/Users/nexes/Documents/Study/Practical_RL/week4/records')\n"
     ]
    },
    {
     "name": "stdout",
     "output_type": "stream",
     "text": [
      "Episode finished after 6 timesteps with reward=71.0\n",
      "iter=1210\tepsilon=0.052\treward/step=1.46141\n",
      "iter=1220\tepsilon=0.052\treward/step=1.54518\n",
      "iter=1230\tepsilon=0.052\treward/step=1.61051\n",
      "iter=1240\tepsilon=0.052\treward/step=1.68555\n",
      "iter=1250\tepsilon=0.052\treward/step=1.73888\n",
      "iter=1260\tepsilon=0.052\treward/step=1.82657\n",
      "iter=1270\tepsilon=0.052\treward/step=1.90711\n",
      "iter=1280\tepsilon=0.052\treward/step=1.99477\n",
      "iter=1290\tepsilon=0.052\treward/step=2.07245\n"
     ]
    },
    {
     "name": "stderr",
     "output_type": "stream",
     "text": [
      "[2017-03-19 23:08:07,905] Making new env: ppaquette/DoomBasic-v0\n",
      "[2017-03-19 23:08:07,937] Clearing 2 monitor files from previous run (because force=True was provided)\n"
     ]
    },
    {
     "name": "stdout",
     "output_type": "stream",
     "text": [
      "iter=1300\tepsilon=0.051\treward/step=2.17107\n"
     ]
    },
    {
     "name": "stderr",
     "output_type": "stream",
     "text": [
      "[2017-03-19 23:08:09,351] Finished writing results. You can upload them to the scoreboard via gym.upload('/Users/nexes/Documents/Study/Practical_RL/week4/records')\n"
     ]
    },
    {
     "name": "stdout",
     "output_type": "stream",
     "text": [
      "Episode finished after 6 timesteps with reward=71.0\n",
      "iter=1310\tepsilon=0.051\treward/step=2.24045\n",
      "iter=1320\tepsilon=0.051\treward/step=2.32332\n",
      "iter=1330\tepsilon=0.051\treward/step=2.40433\n",
      "iter=1340\tepsilon=0.051\treward/step=2.49224\n",
      "iter=1350\tepsilon=0.051\treward/step=2.54949\n",
      "iter=1360\tepsilon=0.051\treward/step=2.61193\n",
      "iter=1370\tepsilon=0.051\treward/step=2.67328\n",
      "iter=1380\tepsilon=0.051\treward/step=2.74873\n",
      "iter=1390\tepsilon=0.051\treward/step=2.82075\n"
     ]
    },
    {
     "name": "stderr",
     "output_type": "stream",
     "text": [
      "[2017-03-19 23:14:12,079] Making new env: ppaquette/DoomBasic-v0\n",
      "[2017-03-19 23:14:12,109] Clearing 2 monitor files from previous run (because force=True was provided)\n"
     ]
    },
    {
     "name": "stdout",
     "output_type": "stream",
     "text": [
      "iter=1400\tepsilon=0.051\treward/step=2.89405\n"
     ]
    },
    {
     "name": "stderr",
     "output_type": "stream",
     "text": [
      "[2017-03-19 23:14:13,532] Finished writing results. You can upload them to the scoreboard via gym.upload('/Users/nexes/Documents/Study/Practical_RL/week4/records')\n"
     ]
    },
    {
     "name": "stdout",
     "output_type": "stream",
     "text": [
      "Episode finished after 6 timesteps with reward=71.0\n",
      "iter=1410\tepsilon=0.051\treward/step=2.96426\n",
      "iter=1420\tepsilon=0.051\treward/step=3.02587\n",
      "iter=1430\tepsilon=0.051\treward/step=3.09658\n",
      "iter=1440\tepsilon=0.051\treward/step=3.16380\n",
      "iter=1450\tepsilon=0.051\treward/step=3.22977\n",
      "iter=1460\tepsilon=0.051\treward/step=3.29747\n",
      "iter=1470\tepsilon=0.051\treward/step=3.36125\n",
      "iter=1480\tepsilon=0.051\treward/step=3.43212\n",
      "iter=1490\tepsilon=0.051\treward/step=3.49729\n"
     ]
    },
    {
     "name": "stderr",
     "output_type": "stream",
     "text": [
      "[2017-03-19 23:20:55,535] Making new env: ppaquette/DoomBasic-v0\n",
      "[2017-03-19 23:20:55,585] Clearing 2 monitor files from previous run (because force=True was provided)\n"
     ]
    },
    {
     "name": "stdout",
     "output_type": "stream",
     "text": [
      "iter=1500\tepsilon=0.051\treward/step=3.55887\n"
     ]
    },
    {
     "name": "stderr",
     "output_type": "stream",
     "text": [
      "[2017-03-19 23:20:56,954] Finished writing results. You can upload them to the scoreboard via gym.upload('/Users/nexes/Documents/Study/Practical_RL/week4/records')\n"
     ]
    },
    {
     "name": "stdout",
     "output_type": "stream",
     "text": [
      "Episode finished after 4 timesteps with reward=81.0\n",
      "iter=1510\tepsilon=0.050\treward/step=3.63170\n",
      "iter=1520\tepsilon=0.050\treward/step=3.68008\n",
      "iter=1530\tepsilon=0.050\treward/step=3.73229\n",
      "iter=1540\tepsilon=0.050\treward/step=3.80039\n",
      "iter=1550\tepsilon=0.050\treward/step=3.85594\n",
      "iter=1560\tepsilon=0.050\treward/step=3.91296\n",
      "iter=1570\tepsilon=0.050\treward/step=3.96522\n",
      "iter=1580\tepsilon=0.050\treward/step=4.01615\n",
      "iter=1590\tepsilon=0.050\treward/step=4.07348\n"
     ]
    },
    {
     "name": "stderr",
     "output_type": "stream",
     "text": [
      "[2017-03-19 23:27:35,169] Making new env: ppaquette/DoomBasic-v0\n",
      "[2017-03-19 23:27:35,191] Clearing 2 monitor files from previous run (because force=True was provided)\n"
     ]
    },
    {
     "name": "stdout",
     "output_type": "stream",
     "text": [
      "iter=1600\tepsilon=0.050\treward/step=4.12561\n"
     ]
    },
    {
     "name": "stderr",
     "output_type": "stream",
     "text": [
      "[2017-03-19 23:27:36,579] Finished writing results. You can upload them to the scoreboard via gym.upload('/Users/nexes/Documents/Study/Practical_RL/week4/records')\n"
     ]
    },
    {
     "name": "stdout",
     "output_type": "stream",
     "text": [
      "Episode finished after 5 timesteps with reward=76.0\n",
      "iter=1610\tepsilon=0.050\treward/step=4.18821\n",
      "iter=1620\tepsilon=0.050\treward/step=4.24571\n",
      "iter=1630\tepsilon=0.050\treward/step=4.30014\n",
      "iter=1640\tepsilon=0.050\treward/step=4.34538\n",
      "iter=1650\tepsilon=0.050\treward/step=4.39667\n",
      "iter=1660\tepsilon=0.050\treward/step=4.43855\n",
      "iter=1670\tepsilon=0.050\treward/step=4.47145\n",
      "iter=1680\tepsilon=0.050\treward/step=4.51231\n",
      "iter=1690\tepsilon=0.050\treward/step=4.55454\n"
     ]
    },
    {
     "name": "stderr",
     "output_type": "stream",
     "text": [
      "[2017-03-19 23:34:42,548] Making new env: ppaquette/DoomBasic-v0\n",
      "[2017-03-19 23:34:42,594] Clearing 2 monitor files from previous run (because force=True was provided)\n"
     ]
    },
    {
     "name": "stdout",
     "output_type": "stream",
     "text": [
      "iter=1700\tepsilon=0.050\treward/step=4.60729\n"
     ]
    },
    {
     "name": "stderr",
     "output_type": "stream",
     "text": [
      "[2017-03-19 23:34:44,226] Finished writing results. You can upload them to the scoreboard via gym.upload('/Users/nexes/Documents/Study/Practical_RL/week4/records')\n"
     ]
    },
    {
     "name": "stdout",
     "output_type": "stream",
     "text": [
      "Episode finished after 6 timesteps with reward=71.0\n",
      "iter=1710\tepsilon=0.050\treward/step=4.65872\n",
      "iter=1720\tepsilon=0.050\treward/step=4.70544\n",
      "iter=1730\tepsilon=0.050\treward/step=4.74600\n",
      "iter=1740\tepsilon=0.050\treward/step=4.79225\n",
      "iter=1750\tepsilon=0.050\treward/step=4.83604\n",
      "iter=1760\tepsilon=0.050\treward/step=4.86284\n",
      "iter=1770\tepsilon=0.050\treward/step=4.90550\n"
     ]
    },
    {
     "ename": "KeyboardInterrupt",
     "evalue": "",
     "output_type": "error",
     "traceback": [
      "\u001b[0;31m---------------------------------------------------------------------------\u001b[0m",
      "\u001b[0;31mKeyboardInterrupt\u001b[0m                         Traceback (most recent call last)",
      "\u001b[0;32m<ipython-input-35-4ad940c2acd3>\u001b[0m in \u001b[0;36m<module>\u001b[0;34m()\u001b[0m\n\u001b[1;32m      7\u001b[0m \u001b[0;34m\u001b[0m\u001b[0m\n\u001b[1;32m      8\u001b[0m     \u001b[0;31m#train\u001b[0m\u001b[0;34m\u001b[0m\u001b[0;34m\u001b[0m\u001b[0m\n\u001b[0;32m----> 9\u001b[0;31m     \u001b[0mpool\u001b[0m\u001b[0;34m.\u001b[0m\u001b[0mupdate\u001b[0m\u001b[0;34m(\u001b[0m\u001b[0mSEQ_LENGTH\u001b[0m\u001b[0;34m,\u001b[0m\u001b[0mappend\u001b[0m\u001b[0;34m=\u001b[0m\u001b[0mTrue\u001b[0m\u001b[0;34m)\u001b[0m\u001b[0;34m\u001b[0m\u001b[0m\n\u001b[0m\u001b[1;32m     10\u001b[0m \u001b[0;34m\u001b[0m\u001b[0m\n\u001b[1;32m     11\u001b[0m     \u001b[0mloss\u001b[0m \u001b[0;34m=\u001b[0m \u001b[0mtrain_step\u001b[0m\u001b[0;34m(\u001b[0m\u001b[0;34m)\u001b[0m\u001b[0;34m\u001b[0m\u001b[0m\n",
      "\u001b[0;32m/Users/nexes/anaconda2/lib/python2.7/site-packages/agentnet/experiments/openai_gym/pool.pyc\u001b[0m in \u001b[0;36mupdate\u001b[0;34m(self, n_steps, append, max_size, add_last_observation, preprocess)\u001b[0m\n\u001b[1;32m    204\u001b[0m             self.experience_replay.append_sessions(observation_tensor, action_tensor, reward_tensor,\n\u001b[1;32m    205\u001b[0m                                                    \u001b[0mis_alive_tensor\u001b[0m\u001b[0;34m,\u001b[0m \u001b[0mpreceding_memory_states\u001b[0m\u001b[0;34m,\u001b[0m\u001b[0;34m\u001b[0m\u001b[0m\n\u001b[0;32m--> 206\u001b[0;31m                                                    max_pool_size=max_size or self.max_size)\n\u001b[0m\u001b[1;32m    207\u001b[0m \u001b[0;34m\u001b[0m\u001b[0m\n\u001b[1;32m    208\u001b[0m     def evaluate(self, n_games=1, save_path=\"./records\", use_monitor=True, record_video=True, verbose=True,\n",
      "\u001b[0;32m/Users/nexes/anaconda2/lib/python2.7/site-packages/agentnet/environment/session_pool.pyc\u001b[0m in \u001b[0;36mappend_sessions\u001b[0;34m(self, observation_sequences, action_sequences, reward_seq, is_alive, prev_memories, max_pool_size)\u001b[0m\n\u001b[1;32m    269\u001b[0m \u001b[0;34m\u001b[0m\u001b[0m\n\u001b[1;32m    270\u001b[0m         \u001b[0;31m#load everything into the environmnet\u001b[0m\u001b[0;34m\u001b[0m\u001b[0;34m\u001b[0m\u001b[0m\n\u001b[0;32m--> 271\u001b[0;31m         \u001b[0mself\u001b[0m\u001b[0;34m.\u001b[0m\u001b[0mload_sessions\u001b[0m\u001b[0;34m(\u001b[0m\u001b[0mobservation_tensors\u001b[0m\u001b[0;34m,\u001b[0m\u001b[0maction_tensors\u001b[0m\u001b[0;34m,\u001b[0m\u001b[0mreward_tensor\u001b[0m\u001b[0;34m,\u001b[0m\u001b[0mis_alive_tensor\u001b[0m\u001b[0;34m,\u001b[0m\u001b[0mprev_memory_tensors\u001b[0m\u001b[0;34m)\u001b[0m\u001b[0;34m\u001b[0m\u001b[0m\n\u001b[0m\u001b[1;32m    272\u001b[0m \u001b[0;34m\u001b[0m\u001b[0m\n\u001b[1;32m    273\u001b[0m \u001b[0;34m\u001b[0m\u001b[0m\n",
      "\u001b[0;32m/Users/nexes/anaconda2/lib/python2.7/site-packages/agentnet/environment/session_pool.pyc\u001b[0m in \u001b[0;36mload_sessions\u001b[0;34m(self, observation_sequences, action_sequences, reward_seq, is_alive, prev_memories)\u001b[0m\n\u001b[1;32m    187\u001b[0m \u001b[0;34m\u001b[0m\u001b[0m\n\u001b[1;32m    188\u001b[0m         \u001b[0;32mfor\u001b[0m \u001b[0mobservation_var\u001b[0m\u001b[0;34m,\u001b[0m \u001b[0mobservation_seq\u001b[0m \u001b[0;32min\u001b[0m \u001b[0mzip\u001b[0m\u001b[0;34m(\u001b[0m\u001b[0mself\u001b[0m\u001b[0;34m.\u001b[0m\u001b[0mobservations\u001b[0m\u001b[0;34m,\u001b[0m \u001b[0mobservation_sequences\u001b[0m\u001b[0;34m)\u001b[0m\u001b[0;34m:\u001b[0m\u001b[0;34m\u001b[0m\u001b[0m\n\u001b[0;32m--> 189\u001b[0;31m             \u001b[0mset_shared\u001b[0m\u001b[0;34m(\u001b[0m\u001b[0mobservation_var\u001b[0m\u001b[0;34m,\u001b[0m \u001b[0mobservation_seq\u001b[0m\u001b[0;34m)\u001b[0m\u001b[0;34m\u001b[0m\u001b[0m\n\u001b[0m\u001b[1;32m    190\u001b[0m         \u001b[0;32mfor\u001b[0m \u001b[0maction_var\u001b[0m\u001b[0;34m,\u001b[0m \u001b[0maction_seq\u001b[0m \u001b[0;32min\u001b[0m \u001b[0mzip\u001b[0m\u001b[0;34m(\u001b[0m\u001b[0mself\u001b[0m\u001b[0;34m.\u001b[0m\u001b[0mactions\u001b[0m\u001b[0;34m,\u001b[0m \u001b[0maction_sequences\u001b[0m\u001b[0;34m)\u001b[0m\u001b[0;34m:\u001b[0m\u001b[0;34m\u001b[0m\u001b[0m\n\u001b[1;32m    191\u001b[0m             \u001b[0mset_shared\u001b[0m\u001b[0;34m(\u001b[0m\u001b[0maction_var\u001b[0m\u001b[0;34m,\u001b[0m \u001b[0maction_seq\u001b[0m\u001b[0;34m)\u001b[0m\u001b[0;34m\u001b[0m\u001b[0m\n",
      "\u001b[0;31mKeyboardInterrupt\u001b[0m: "
     ]
    }
   ],
   "source": [
    "from tqdm import trange, tqdm_notebook #\n",
    "#the loop may take eons to finish.\n",
    "#consider interrupting early.\n",
    "\n",
    "for i in tqdm_notebook(range(2000)):  \n",
    "    \n",
    "    \n",
    "    #train\n",
    "    pool.update(SEQ_LENGTH,append=True)\n",
    "    \n",
    "    loss = train_step()\n",
    "    \n",
    "    targetnet.load_weights(0.01)\n",
    "    \n",
    "    ##update resolver's epsilon (chance of random action instead of optimal one)\n",
    "    current_epsilon = 0.05 + 0.95*np.exp(-epoch_counter/200.)\n",
    "    action_layer.epsilon.set_value(np.float32(current_epsilon))\n",
    "    \n",
    "    if epoch_counter%10==0:\n",
    "        #average reward per game tick in current experience replay pool\n",
    "        pool_mean_reward = pool.experience_replay.rewards.get_value().mean()\n",
    "        print(\"iter=%i\\tepsilon=%.3f\\treward/step=%.5f\"%(epoch_counter,\n",
    "                                                         current_epsilon,\n",
    "                                                         pool_mean_reward))\n",
    "        \n",
    "    ##record current learning progress and show learning curves\n",
    "    if epoch_counter%100 ==0:\n",
    "        rewards[epoch_counter] = pool.evaluate(record_video=False)\n",
    "    \n",
    "    epoch_counter  +=1\n",
    "\n",
    "    \n",
    "# Time to drink some coffee!"
   ]
  },
  {
   "cell_type": "markdown",
   "metadata": {},
   "source": [
    "# Evaluating results\n",
    " * Here we plot learning curves and sample testimonials"
   ]
  },
  {
   "cell_type": "code",
   "execution_count": 36,
   "metadata": {},
   "outputs": [
    {
     "data": {
      "text/plain": [
       "[<matplotlib.lines.Line2D at 0x10c2dabd0>]"
      ]
     },
     "execution_count": 36,
     "metadata": {},
     "output_type": "execute_result"
    },
    {
     "data": {
      "image/png": "[encoded data removed]",
      "text/plain": [
       "<matplotlib.figure.Figure at 0x11cd42dd0>"
      ]
     },
     "metadata": {},
     "output_type": "display_data"
    }
   ],
   "source": [
    "time,rw = zip(*sorted(list(rewards.items()),key=lambda p:p[0]))\n",
    "plt.plot(time,map(np.mean,rw))\n",
    "    "
   ]
  },
  {
   "cell_type": "code",
   "execution_count": 37,
   "metadata": {},
   "outputs": [
    {
     "name": "stderr",
     "output_type": "stream",
     "text": [
      "[2017-03-19 23:41:53,056] Making new env: ppaquette/DoomBasic-v0\n",
      "[2017-03-19 23:41:53,087] Clearing 14 monitor files from previous run (because force=True was provided)\n",
      "[2017-03-19 23:41:54,566] Starting new video recorder writing to /Users/nexes/Documents/Study/Practical_RL/week4/DoomRecords/openaigym.video.18.41826.video000000.mp4\n",
      "[2017-03-19 23:41:54,999] Starting new video recorder writing to /Users/nexes/Documents/Study/Practical_RL/week4/DoomRecords/openaigym.video.18.41826.video000001.mp4\n"
     ]
    },
    {
     "name": "stdout",
     "output_type": "stream",
     "text": [
      "Episode finished after 3 timesteps with reward=86.0\n",
      "Episode finished after 6 timesteps with reward=71.0\n",
      "Episode finished after 7 timesteps with reward=66.0\n",
      "Episode finished after 4 timesteps with reward=81.0\n",
      "Episode finished after 7 timesteps with reward=66.0\n",
      "Episode finished after 5 timesteps with reward=76.0\n",
      "Episode finished after 2 timesteps with reward=91.0\n"
     ]
    },
    {
     "name": "stderr",
     "output_type": "stream",
     "text": [
      "[2017-03-19 23:41:56,306] Starting new video recorder writing to /Users/nexes/Documents/Study/Practical_RL/week4/DoomRecords/openaigym.video.18.41826.video000008.mp4\n"
     ]
    },
    {
     "name": "stdout",
     "output_type": "stream",
     "text": [
      "Episode finished after 1 timesteps with reward=96.0\n",
      "Episode finished after 1 timesteps with reward=96.0\n",
      "Episode finished after 5 timesteps with reward=76.0\n",
      "Episode finished after 4 timesteps with reward=81.0\n",
      "Episode finished after 1 timesteps with reward=96.0\n",
      "Episode finished after 4 timesteps with reward=81.0\n",
      "Episode finished after 1 timesteps with reward=96.0\n",
      "Episode finished after 1 timesteps with reward=96.0\n",
      "Episode finished after 6 timesteps with reward=71.0\n",
      "Episode finished after 1 timesteps with reward=96.0\n",
      "Episode finished after 5 timesteps with reward=76.0\n",
      "Episode finished after 1 timesteps with reward=96.0\n"
     ]
    },
    {
     "name": "stderr",
     "output_type": "stream",
     "text": [
      "[2017-03-19 23:41:57,500] Finished writing results. You can upload them to the scoreboard via gym.upload('/Users/nexes/Documents/Study/Practical_RL/week4/DoomRecords')\n"
     ]
    },
    {
     "name": "stdout",
     "output_type": "stream",
     "text": [
      "Episode finished after 5 timesteps with reward=76.0\n",
      "mean session score=83.500000.5\n"
     ]
    }
   ],
   "source": [
    "action_layer.epsilon.set_value(0.001)\n",
    "rw = pool.evaluate(n_games=20,save_path=\"./DoomRecords\",record_video=True)\n",
    "print(\"mean session score=%f.5\"%np.mean(rw))"
   ]
  },
  {
   "cell_type": "markdown",
   "metadata": {},
   "source": [
    "## Homework II\n",
    "Get it work. We want stable positive score :)"
   ]
  },
  {
   "cell_type": "markdown",
   "metadata": {},
   "source": [
    "## Bonus assignment II\n",
    "* Better env\n",
    "  * Switch to DoomDefendCenter, DoomHealthGathering, DoomDeathmatch __or__ any atari game you want.\n",
    "  * Try to get `better_than_random` score on any of those environments __(2+++ pts)__\n",
    "  * Deploy a better network. Doom will likely need some recurrent netsle\n",
    "     * Find an arcitecture which maxsimizes score __(bonus points depend on your ```mean_reward```)__  \n",
    "     * Bonus can get large as you approach state-of-the-art\n",
    "     \n",
    "* Deploy a different RL algorithm\n",
    "  * Try at least two RL algorithms which had been learned during the course and try to compare them on ```mean_reward``` with similar training time (**plot** or **table** would be good idea) __(3 pts)__\n",
    "  * See the note in assignment 4.1 on how to train on-policy\n",
    "  \n",
    "  \n"
   ]
  },
  {
   "cell_type": "code",
   "execution_count": 22,
   "metadata": {
    "collapsed": true
   },
   "outputs": [],
   "source": [
    "from pickle import dump, load\n",
    "#with open(\"brains_doom.pcl\",'wb') as f:\n",
    "#    dump(get_all_param_values(qvalues_layer), f)"
   ]
  },
  {
   "cell_type": "code",
   "execution_count": null,
   "metadata": {
    "collapsed": true
   },
   "outputs": [],
   "source": []
  }
 ],
 "metadata": {
  "anaconda-cloud": {},
  "kernelspec": {
   "display_name": "Python 3",
   "language": "python",
   "name": "python3"
  },
  "language_info": {
   "codemirror_mode": {
    "name": "ipython",
    "version": 3
   },
   "file_extension": ".py",
   "mimetype": "text/x-python",
   "name": "python",
   "nbconvert_exporter": "python",
   "pygments_lexer": "ipython3",
   "version": "3.5.2"
  }
 },
 "nbformat": 4,
 "nbformat_minor": 1
}
