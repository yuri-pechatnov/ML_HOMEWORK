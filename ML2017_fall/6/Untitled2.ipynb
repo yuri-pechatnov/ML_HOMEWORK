{
 "cells": [
  {
   "cell_type": "code",
   "execution_count": null,
   "metadata": {},
   "outputs": [],
   "source": []
  },
  {
   "cell_type": "code",
   "execution_count": null,
   "metadata": {},
   "outputs": [],
   "source": []
  },
  {
   "cell_type": "code",
   "execution_count": null,
   "metadata": {},
   "outputs": [],
   "source": []
  },
  {
   "cell_type": "code",
   "execution_count": null,
   "metadata": {},
   "outputs": [],
   "source": []
  },
  {
   "cell_type": "code",
   "execution_count": 3,
   "metadata": {},
   "outputs": [],
   "source": [
    "import numpy as np\n",
    "import random\n",
    "from collections import deque\n",
    "\n",
    "\n",
    "class MemoryBuffer:\n",
    "\n",
    "\tdef __init__(self, size):\n",
    "\t\tself.buffer = deque(maxlen=size)\n",
    "\t\tself.maxSize = size\n",
    "\t\tself.len = 0\n",
    "\n",
    "\tdef sample(self, count):\n",
    "\t\t\"\"\"\n",
    "\t\tsamples a random batch from the replay memory buffer\n",
    "\t\t:param count: batch size\n",
    "\t\t:return: batch (numpy array)\n",
    "\t\t\"\"\"\n",
    "\t\tbatch = []\n",
    "\t\tcount = min(count, self.len)\n",
    "\t\tbatch = random.sample(self.buffer, count)\n",
    "\n",
    "\t\ts_arr = np.float32([arr[0] for arr in batch])\n",
    "\t\ta_arr = np.float32([arr[1] for arr in batch])\n",
    "\t\tr_arr = np.float32([arr[2] for arr in batch])\n",
    "\t\ts1_arr = np.float32([arr[3] for arr in batch])\n",
    "\n",
    "\t\treturn s_arr, a_arr, r_arr, s1_arr\n",
    "\n",
    "\tdef len(self):\n",
    "\t\treturn self.len\n",
    "\n",
    "\tdef add(self, s, a, r, s1):\n",
    "\t\t\"\"\"\n",
    "\t\tadds a particular transaction in the memory buffer\n",
    "\t\t:param s: current state\n",
    "\t\t:param a: action taken\n",
    "\t\t:param r: reward received\n",
    "\t\t:param s1: next state\n",
    "\t\t:return:\n",
    "\t\t\"\"\"\n",
    "\t\ttransition = (s,a,r,s1)\n",
    "\t\tself.len += 1\n",
    "\t\tif self.len > self.maxSize:\n",
    "\t\t\tself.len = self.maxSize\n",
    "\t\tself.buffer.append(transition)"
   ]
  },
  {
   "cell_type": "code",
   "execution_count": null,
   "metadata": {},
   "outputs": [],
   "source": []
  },
  {
   "cell_type": "code",
   "execution_count": null,
   "metadata": {},
   "outputs": [],
   "source": []
  },
  {
   "cell_type": "code",
   "execution_count": null,
   "metadata": {},
   "outputs": [],
   "source": []
  },
  {
   "cell_type": "code",
   "execution_count": 2,
   "metadata": {},
   "outputs": [
    {
     "ename": "ImportError",
     "evalue": "No module named psutil",
     "output_type": "error",
     "traceback": [
      "\u001b[0;31m---------------------------------------------------------------------------\u001b[0m",
      "\u001b[0;31mImportError\u001b[0m                               Traceback (most recent call last)",
      "\u001b[0;32m<ipython-input-2-7baa11692bd0>\u001b[0m in \u001b[0;36m<module>\u001b[0;34m()\u001b[0m\n\u001b[1;32m      3\u001b[0m \u001b[0;32mimport\u001b[0m \u001b[0mnumpy\u001b[0m \u001b[0;32mas\u001b[0m \u001b[0mnp\u001b[0m\u001b[0;34m\u001b[0m\u001b[0m\n\u001b[1;32m      4\u001b[0m \u001b[0;32mimport\u001b[0m \u001b[0mos\u001b[0m\u001b[0;34m\u001b[0m\u001b[0m\n\u001b[0;32m----> 5\u001b[0;31m \u001b[0;32mimport\u001b[0m \u001b[0mpsutil\u001b[0m\u001b[0;34m\u001b[0m\u001b[0m\n\u001b[0m\u001b[1;32m      6\u001b[0m \u001b[0;32mimport\u001b[0m \u001b[0mgc\u001b[0m\u001b[0;34m\u001b[0m\u001b[0m\n\u001b[1;32m      7\u001b[0m \u001b[0;34m\u001b[0m\u001b[0m\n",
      "\u001b[0;31mImportError\u001b[0m: No module named psutil"
     ]
    }
   ],
   "source": [
    "from __future__ import division\n",
    "import gym\n",
    "import numpy as np\n",
    "import os\n",
    "import psutil\n",
    "import gc\n",
    "\n",
    "import train\n",
    "import buffer\n",
    "\n",
    "env = gym.make('BipedalWalker-v2')\n",
    "# env = gym.make('Pendulum-v0')\n",
    "\n",
    "MAX_EPISODES = 5000\n",
    "MAX_STEPS = 1000\n",
    "MAX_BUFFER = 1000000\n",
    "MAX_TOTAL_REWARD = 300\n",
    "S_DIM = env.observation_space.shape[0]\n",
    "A_DIM = env.action_space.shape[0]\n",
    "A_MAX = env.action_space.high[0]\n",
    "\n",
    "print ' State Dimensions :- ', S_DIM\n",
    "print ' Action Dimensions :- ', A_DIM\n",
    "print ' Action Max :- ', A_MAX\n",
    "\n",
    "ram = buffer.MemoryBuffer(MAX_BUFFER)\n",
    "trainer = train.Trainer(S_DIM, A_DIM, A_MAX, ram)\n",
    "\n",
    "for _ep in range(MAX_EPISODES):\n",
    "\tobservation = env.reset()\n",
    "\tprint 'EPISODE :- ', _ep\n",
    "\tfor r in range(MAX_STEPS):\n",
    "\t\tenv.render()\n",
    "\t\tstate = np.float32(observation)\n",
    "\n",
    "\t\taction = trainer.get_exploration_action(state)\n",
    "\t\t# if _ep%5 == 0:\n",
    "\t\t# \t# validate every 5th episode\n",
    "\t\t# \taction = trainer.get_exploitation_action(state)\n",
    "\t\t# else:\n",
    "\t\t# \t# get action based on observation, use exploration policy here\n",
    "\t\t# \taction = trainer.get_exploration_action(state)\n",
    "\n",
    "\t\tnew_observation, reward, done, info = env.step(action)\n",
    "\n",
    "\t\t# # dont update if this is validation\n",
    "\t\t# if _ep%50 == 0 or _ep>450:\n",
    "\t\t# \tcontinue\n",
    "\n",
    "\t\tif done:\n",
    "\t\t\tnew_state = None\n",
    "\t\telse:\n",
    "\t\t\tnew_state = np.float32(new_observation)\n",
    "\t\t\t# push this exp in ram\n",
    "\t\t\tram.add(state, action, reward, new_state)\n",
    "\n",
    "\t\tobservation = new_observation\n",
    "\n",
    "\t\t# perform optimization\n",
    "\t\ttrainer.optimize()\n",
    "\t\tif done:\n",
    "\t\t\tbreak\n",
    "\n",
    "\t# check memory consumption and clear memory\n",
    "\tgc.collect()\n",
    "\t# process = psutil.Process(os.getpid())\n",
    "\t# print(process.memory_info().rss)\n",
    "\n",
    "\tif _ep%100 == 0:\n",
    "\t\ttrainer.save_models(_ep)\n",
    "\n",
    "\n",
    "print 'Completed episodes'"
   ]
  },
  {
   "cell_type": "code",
   "execution_count": null,
   "metadata": {},
   "outputs": [],
   "source": []
  },
  {
   "cell_type": "code",
   "execution_count": null,
   "metadata": {},
   "outputs": [],
   "source": []
  },
  {
   "cell_type": "code",
   "execution_count": null,
   "metadata": {},
   "outputs": [],
   "source": []
  },
  {
   "cell_type": "code",
   "execution_count": null,
   "metadata": {},
   "outputs": [],
   "source": []
  },
  {
   "cell_type": "code",
   "execution_count": null,
   "metadata": {},
   "outputs": [],
   "source": []
  },
  {
   "cell_type": "code",
   "execution_count": null,
   "metadata": {},
   "outputs": [],
   "source": []
  },
  {
   "cell_type": "code",
   "execution_count": null,
   "metadata": {},
   "outputs": [],
   "source": []
  },
  {
   "cell_type": "code",
   "execution_count": null,
   "metadata": {},
   "outputs": [],
   "source": []
  }
 ],
 "metadata": {
  "kernelspec": {
   "display_name": "Python 2",
   "language": "python",
   "name": "python2"
  },
  "language_info": {
   "codemirror_mode": {
    "name": "ipython",
    "version": 2
   },
   "file_extension": ".py",
   "mimetype": "text/x-python",
   "name": "python",
   "nbconvert_exporter": "python",
   "pygments_lexer": "ipython2",
   "version": "2.7.12"
  }
 },
 "nbformat": 4,
 "nbformat_minor": 2
}
