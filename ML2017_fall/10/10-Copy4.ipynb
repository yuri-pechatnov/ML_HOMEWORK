{
 "cells": [
  {
   "cell_type": "markdown",
   "metadata": {},
   "source": [
    "<span style=\"font-size: 14pt\">MIPT, Advanced ML, Autumn 2017</span>\n",
    "\n",
    "<span style=\"font-size: 16pt\"> HW #10: Recommender Systems\n",
    "\n",
    "<span style=\"color:blue; font-size: 12pt\">Andrey Saitgalin </span>,\n",
    "<span style=\"color:blue; font-size: 12pt; font-family: 'Verdana'\"> andrey.saitgalin@gmail.com </span>"
   ]
  },
  {
   "cell_type": "markdown",
   "metadata": {},
   "source": [
    "<h1 align=\"center\">Organization Info</h1> \n",
    "\n",
    "* Дедлайн **18 декабря 23:59** для всех групп.\n",
    "* В качестве решения задания нужно прислать ноутбук с подробными комментариями (<span style='color:red'> без присланного решения результат контеста не будет засчитан </span>).\n",
    "* <span style='color:red'>Название команды в контесте должно соответствовать шаблону: НомерГруппы_Имя_Фамилия, например, 494_Ivan_Ivanov</span>."
   ]
  },
  {
   "cell_type": "markdown",
   "metadata": {},
   "source": [
    "**Оформление дз**: \n",
    "- Присылайте выполненное задание на почту ``ml.course.mipt@gmail.com``\n",
    "- Укажите тему письма в следующем формате ``ML2017_Aut_fall <номер_группы> <фамилия>``, к примеру -- ``ML2017_Aut_fall 401 ivanov``\n",
    "- Выполненное дз сохраните в файл ``<фамилия>_<группа>_task<номер>.ipnb``, к примеру -- ``ivanov_401_task10.ipnb``\n",
    "\n",
    "**Вопросы**:\n",
    "- Присылайте вопросы на почту ``ml.course.mipt@gmail.com``\n",
    "- Укажите тему письма в следующем формате ``ML2017_Aut_fall Question <Содержание вопроса>``\n",
    "\n",
    "\n",
    "--------\n",
    "- **PS1**: Мы используем автоматические фильтры, и просто не найдем ваше дз, если вы не аккуратно его подпишите.\n",
    "- **PS2**: Напоминаем, что дедлайны жесткие, письма пришедшие после автоматически удаляются =( чтобы соблазна не было."
   ]
  },
  {
   "cell_type": "markdown",
   "metadata": {},
   "source": [
    "<h1 align=\"center\">Contest (100%)</h1> \n",
    "* Ссылка на контест: https://www.kaggle.com/t/f37413eb448145acba822f3a8c43946d"
   ]
  },
  {
   "cell_type": "code",
   "execution_count": 10,
   "metadata": {},
   "outputs": [],
   "source": [
    "import numpy as np\n",
    "\n",
    "import pandas as pd\n",
    "from IPython.display import display\n",
    "\n",
    "from scipy.sparse import coo_matrix\n",
    "import matplotlib.pyplot as plt\n",
    "import seaborn as sns\n",
    "\n",
    "from collections import Counter\n",
    "\n",
    "\n",
    "import numpy as np\n",
    "import pandas as pd\n",
    "from scipy.sparse import coo_matrix, csr_matrix, csc_matrix\n",
    "import matplotlib.pyplot as plt\n",
    "import seaborn as sns\n",
    "from sklearn.metrics.pairwise import cosine_similarity\n",
    "\n",
    "\n",
    "%matplotlib inline\n"
   ]
  },
  {
   "cell_type": "code",
   "execution_count": 11,
   "metadata": {},
   "outputs": [
    {
     "data": {
      "text/html": [
       "<div>\n",
       "<style>\n",
       "    .dataframe thead tr:only-child th {\n",
       "        text-align: right;\n",
       "    }\n",
       "\n",
       "    .dataframe thead th {\n",
       "        text-align: left;\n",
       "    }\n",
       "\n",
       "    .dataframe tbody tr th {\n",
       "        vertical-align: top;\n",
       "    }\n",
       "</style>\n",
       "<table border=\"1\" class=\"dataframe\">\n",
       "  <thead>\n",
       "    <tr style=\"text-align: right;\">\n",
       "      <th></th>\n",
       "      <th>rating</th>\n",
       "      <th>movieId</th>\n",
       "      <th>userId</th>\n",
       "    </tr>\n",
       "  </thead>\n",
       "  <tbody>\n",
       "    <tr>\n",
       "      <th>0</th>\n",
       "      <td>3.0</td>\n",
       "      <td>2158</td>\n",
       "      <td>10953099004185006703</td>\n",
       "    </tr>\n",
       "    <tr>\n",
       "      <th>1</th>\n",
       "      <td>3.5</td>\n",
       "      <td>12959</td>\n",
       "      <td>10953099004185006703</td>\n",
       "    </tr>\n",
       "    <tr>\n",
       "      <th>2</th>\n",
       "      <td>3.5</td>\n",
       "      <td>7808</td>\n",
       "      <td>10953099004185006703</td>\n",
       "    </tr>\n",
       "    <tr>\n",
       "      <th>3</th>\n",
       "      <td>4.0</td>\n",
       "      <td>9049</td>\n",
       "      <td>4762492897681260571</td>\n",
       "    </tr>\n",
       "    <tr>\n",
       "      <th>4</th>\n",
       "      <td>3.0</td>\n",
       "      <td>12363</td>\n",
       "      <td>2110017552365950661</td>\n",
       "    </tr>\n",
       "  </tbody>\n",
       "</table>\n",
       "</div>"
      ],
      "text/plain": [
       "   rating  movieId                userId\n",
       "0     3.0     2158  10953099004185006703\n",
       "1     3.5    12959  10953099004185006703\n",
       "2     3.5     7808  10953099004185006703\n",
       "3     4.0     9049   4762492897681260571\n",
       "4     3.0    12363   2110017552365950661"
      ]
     },
     "execution_count": 11,
     "metadata": {},
     "output_type": "execute_result"
    }
   ],
   "source": [
    "train = pd.read_csv(\"data/train.csv\")\n",
    "train.head()"
   ]
  },
  {
   "cell_type": "code",
   "execution_count": 12,
   "metadata": {},
   "outputs": [],
   "source": [
    "train.userId = train.userId.astype('uint64')"
   ]
  },
  {
   "cell_type": "code",
   "execution_count": 13,
   "metadata": {},
   "outputs": [
    {
     "data": {
      "text/html": [
       "<div>\n",
       "<style>\n",
       "    .dataframe thead tr:only-child th {\n",
       "        text-align: right;\n",
       "    }\n",
       "\n",
       "    .dataframe thead th {\n",
       "        text-align: left;\n",
       "    }\n",
       "\n",
       "    .dataframe tbody tr th {\n",
       "        vertical-align: top;\n",
       "    }\n",
       "</style>\n",
       "<table border=\"1\" class=\"dataframe\">\n",
       "  <thead>\n",
       "    <tr style=\"text-align: right;\">\n",
       "      <th></th>\n",
       "      <th>rating</th>\n",
       "      <th>movieId</th>\n",
       "      <th>userId</th>\n",
       "    </tr>\n",
       "  </thead>\n",
       "  <tbody>\n",
       "    <tr>\n",
       "      <th>0</th>\n",
       "      <td>3.0</td>\n",
       "      <td>2158</td>\n",
       "      <td>10953099004185006703</td>\n",
       "    </tr>\n",
       "    <tr>\n",
       "      <th>1</th>\n",
       "      <td>3.5</td>\n",
       "      <td>12959</td>\n",
       "      <td>10953099004185006703</td>\n",
       "    </tr>\n",
       "  </tbody>\n",
       "</table>\n",
       "</div>"
      ],
      "text/plain": [
       "   rating  movieId                userId\n",
       "0     3.0     2158  10953099004185006703\n",
       "1     3.5    12959  10953099004185006703"
      ]
     },
     "execution_count": 13,
     "metadata": {},
     "output_type": "execute_result"
    }
   ],
   "source": [
    "train.head(2)"
   ]
  },
  {
   "cell_type": "code",
   "execution_count": 14,
   "metadata": {},
   "outputs": [
    {
     "data": {
      "text/plain": [
       "57043719"
      ]
     },
     "metadata": {},
     "output_type": "display_data"
    },
    {
     "data": {
      "text/plain": [
       "18345"
      ]
     },
     "metadata": {},
     "output_type": "display_data"
    },
    {
     "data": {
      "text/plain": [
       "138493"
      ]
     },
     "metadata": {},
     "output_type": "display_data"
    }
   ],
   "source": [
    "display(train.size)\n",
    "display(train.movieId.max())\n",
    "display(len(set(train.userId)))"
   ]
  },
  {
   "cell_type": "code",
   "execution_count": 15,
   "metadata": {},
   "outputs": [
    {
     "data": {
      "text/html": [
       "<div>\n",
       "<style>\n",
       "    .dataframe thead tr:only-child th {\n",
       "        text-align: right;\n",
       "    }\n",
       "\n",
       "    .dataframe thead th {\n",
       "        text-align: left;\n",
       "    }\n",
       "\n",
       "    .dataframe tbody tr th {\n",
       "        vertical-align: top;\n",
       "    }\n",
       "</style>\n",
       "<table border=\"1\" class=\"dataframe\">\n",
       "  <thead>\n",
       "    <tr style=\"text-align: right;\">\n",
       "      <th></th>\n",
       "      <th>movieId</th>\n",
       "      <th>userId</th>\n",
       "    </tr>\n",
       "  </thead>\n",
       "  <tbody>\n",
       "    <tr>\n",
       "      <th>0</th>\n",
       "      <td>939</td>\n",
       "      <td>3128775406573976678</td>\n",
       "    </tr>\n",
       "    <tr>\n",
       "      <th>1</th>\n",
       "      <td>19</td>\n",
       "      <td>6058877902987009152</td>\n",
       "    </tr>\n",
       "    <tr>\n",
       "      <th>2</th>\n",
       "      <td>1213</td>\n",
       "      <td>2787275058272728238</td>\n",
       "    </tr>\n",
       "    <tr>\n",
       "      <th>3</th>\n",
       "      <td>1141</td>\n",
       "      <td>14199414671932452776</td>\n",
       "    </tr>\n",
       "    <tr>\n",
       "      <th>4</th>\n",
       "      <td>2935</td>\n",
       "      <td>5958052843391945803</td>\n",
       "    </tr>\n",
       "  </tbody>\n",
       "</table>\n",
       "</div>"
      ],
      "text/plain": [
       "   movieId                userId\n",
       "0      939   3128775406573976678\n",
       "1       19   6058877902987009152\n",
       "2     1213   2787275058272728238\n",
       "3     1141  14199414671932452776\n",
       "4     2935   5958052843391945803"
      ]
     },
     "execution_count": 15,
     "metadata": {},
     "output_type": "execute_result"
    }
   ],
   "source": [
    "test = pd.read_csv(\"data/test.csv\")\n",
    "test.userId = test.userId.astype('uint64')\n",
    "test.head()"
   ]
  },
  {
   "cell_type": "code",
   "execution_count": 19,
   "metadata": {},
   "outputs": [],
   "source": [
    "user_to_compress_id = {}\n",
    "compress_to_user_id = {}\n",
    "\n",
    "def add_id_to_compress(i):\n",
    "    if i not in user_to_compress_id:\n",
    "        cid = len(compress_to_user_id)\n",
    "        user_to_compress_id[i] = cid\n",
    "        compress_to_user_id[cid] = i\n",
    "\n",
    "for i, row in test.iterrows():\n",
    "    add_id_to_compress(row.userId)\n",
    "    \n",
    "for i, row in train.iterrows():\n",
    "    add_id_to_compress(row.userId)\n",
    "        \n",
    "        "
   ]
  },
  {
   "cell_type": "code",
   "execution_count": 24,
   "metadata": {},
   "outputs": [
    {
     "data": {
      "text/html": [
       "<div>\n",
       "<style>\n",
       "    .dataframe thead tr:only-child th {\n",
       "        text-align: right;\n",
       "    }\n",
       "\n",
       "    .dataframe thead th {\n",
       "        text-align: left;\n",
       "    }\n",
       "\n",
       "    .dataframe tbody tr th {\n",
       "        vertical-align: top;\n",
       "    }\n",
       "</style>\n",
       "<table border=\"1\" class=\"dataframe\">\n",
       "  <thead>\n",
       "    <tr style=\"text-align: right;\">\n",
       "      <th></th>\n",
       "      <th>movieId</th>\n",
       "      <th>userId</th>\n",
       "      <th>userId2</th>\n",
       "    </tr>\n",
       "  </thead>\n",
       "  <tbody>\n",
       "    <tr>\n",
       "      <th>0</th>\n",
       "      <td>939</td>\n",
       "      <td>3128775406573976678</td>\n",
       "      <td>0</td>\n",
       "    </tr>\n",
       "    <tr>\n",
       "      <th>1</th>\n",
       "      <td>19</td>\n",
       "      <td>6058877902987009152</td>\n",
       "      <td>1</td>\n",
       "    </tr>\n",
       "    <tr>\n",
       "      <th>2</th>\n",
       "      <td>1213</td>\n",
       "      <td>2787275058272728238</td>\n",
       "      <td>2</td>\n",
       "    </tr>\n",
       "    <tr>\n",
       "      <th>3</th>\n",
       "      <td>1141</td>\n",
       "      <td>14199414671932452776</td>\n",
       "      <td>3</td>\n",
       "    </tr>\n",
       "    <tr>\n",
       "      <th>4</th>\n",
       "      <td>2935</td>\n",
       "      <td>5958052843391945803</td>\n",
       "      <td>4</td>\n",
       "    </tr>\n",
       "  </tbody>\n",
       "</table>\n",
       "</div>"
      ],
      "text/plain": [
       "   movieId                userId  userId2\n",
       "0      939   3128775406573976678        0\n",
       "1       19   6058877902987009152        1\n",
       "2     1213   2787275058272728238        2\n",
       "3     1141  14199414671932452776        3\n",
       "4     2935   5958052843391945803        4"
      ]
     },
     "metadata": {},
     "output_type": "display_data"
    }
   ],
   "source": [
    "test[\"userId2\"] = test[\"userId\"]\n",
    "\n",
    "ui2 = []\n",
    "\n",
    "for i, row in test.iterrows():\n",
    "    ui2.append(user_to_compress_id[row.userId])\n",
    "\n",
    "test[\"userId2\"] = np.array(ui2)\n",
    "\n",
    "display(test.head())"
   ]
  },
  {
   "cell_type": "code",
   "execution_count": 25,
   "metadata": {},
   "outputs": [
    {
     "data": {
      "text/html": [
       "<div>\n",
       "<style>\n",
       "    .dataframe thead tr:only-child th {\n",
       "        text-align: right;\n",
       "    }\n",
       "\n",
       "    .dataframe thead th {\n",
       "        text-align: left;\n",
       "    }\n",
       "\n",
       "    .dataframe tbody tr th {\n",
       "        vertical-align: top;\n",
       "    }\n",
       "</style>\n",
       "<table border=\"1\" class=\"dataframe\">\n",
       "  <thead>\n",
       "    <tr style=\"text-align: right;\">\n",
       "      <th></th>\n",
       "      <th>rating</th>\n",
       "      <th>movieId</th>\n",
       "      <th>userId</th>\n",
       "      <th>userId2</th>\n",
       "    </tr>\n",
       "  </thead>\n",
       "  <tbody>\n",
       "    <tr>\n",
       "      <th>0</th>\n",
       "      <td>3.0</td>\n",
       "      <td>2158</td>\n",
       "      <td>10953099004185006703</td>\n",
       "      <td>731</td>\n",
       "    </tr>\n",
       "    <tr>\n",
       "      <th>1</th>\n",
       "      <td>3.5</td>\n",
       "      <td>12959</td>\n",
       "      <td>10953099004185006703</td>\n",
       "      <td>731</td>\n",
       "    </tr>\n",
       "    <tr>\n",
       "      <th>2</th>\n",
       "      <td>3.5</td>\n",
       "      <td>7808</td>\n",
       "      <td>10953099004185006703</td>\n",
       "      <td>731</td>\n",
       "    </tr>\n",
       "    <tr>\n",
       "      <th>3</th>\n",
       "      <td>4.0</td>\n",
       "      <td>9049</td>\n",
       "      <td>4762492897681260571</td>\n",
       "      <td>3052</td>\n",
       "    </tr>\n",
       "    <tr>\n",
       "      <th>4</th>\n",
       "      <td>3.0</td>\n",
       "      <td>12363</td>\n",
       "      <td>2110017552365950661</td>\n",
       "      <td>125</td>\n",
       "    </tr>\n",
       "  </tbody>\n",
       "</table>\n",
       "</div>"
      ],
      "text/plain": [
       "   rating  movieId                userId  userId2\n",
       "0     3.0     2158  10953099004185006703      731\n",
       "1     3.5    12959  10953099004185006703      731\n",
       "2     3.5     7808  10953099004185006703      731\n",
       "3     4.0     9049   4762492897681260571     3052\n",
       "4     3.0    12363   2110017552365950661      125"
      ]
     },
     "metadata": {},
     "output_type": "display_data"
    }
   ],
   "source": [
    "train[\"userId2\"] = train[\"userId\"]\n",
    "\n",
    "ui2 = []\n",
    "\n",
    "for i, row in train.iterrows():\n",
    "    ui2.append(user_to_compress_id[row.userId])\n",
    "\n",
    "train[\"userId2\"] = np.array(ui2)\n",
    "\n",
    "display(train.head())"
   ]
  },
  {
   "cell_type": "code",
   "execution_count": 28,
   "metadata": {},
   "outputs": [],
   "source": [
    "#test.to_csv(\"test2.csv\")\n",
    "#train.to_csv('train2.csv')"
   ]
  },
  {
   "cell_type": "code",
   "execution_count": null,
   "metadata": {},
   "outputs": [],
   "source": [
    "\n"
   ]
  },
  {
   "cell_type": "code",
   "execution_count": 33,
   "metadata": {},
   "outputs": [],
   "source": [
    "import time\n",
    "from scipy.sparse.linalg import svds\n",
    "\n",
    "df = train\n",
    "\n",
    "# df[\"random\"] = np.random.random(size=(df.shape[0], 1))\n",
    "# idx = df.sort_values(by=\"random\") \\\n",
    "#     .reset_index() \\\n",
    "#     .groupby(\"userId\") \\\n",
    "#     .head(n=7)[\"index\"]\n",
    "\n",
    "# mask = df.index.isin(idx)\n",
    "# train_df = df[~mask]\n",
    "# test_df = df[mask]\n",
    "\n",
    "train_df = df\n",
    "    \n",
    "train_M = csr_matrix(\n",
    "    (train_df[\"rating\"], (train_df[\"userId2\"], train_df[\"movieId\"] - 1)), shape=(138493, 26744))"
   ]
  },
  {
   "cell_type": "code",
   "execution_count": 214,
   "metadata": {},
   "outputs": [],
   "source": [
    "\n",
    "train_M_mean = train_M.mean()\n",
    "\n",
    "#M2 = (train_M / train_M.mean(axis=1))\n",
    "\n",
    "#U, S, Vt = svds(M2, k=100)\n",
    "U, S, Vt = svds(train_M, k=100)"
   ]
  },
  {
   "cell_type": "code",
   "execution_count": 176,
   "metadata": {},
   "outputs": [],
   "source": [
    "class ErrorAggregator(object):\n",
    "    def __init__(self):\n",
    "        self.sum_ = 0.0\n",
    "        self.count = 0\n",
    "        \n",
    "    def add_value(self, x, count):\n",
    "        self.sum_ += x\n",
    "        self.count += count\n",
    "        \n",
    "    def get_rmse(self):\n",
    "        return np.sqrt(self.sum_ / (self.count - 1))\n",
    "    \n",
    "svd_error = ErrorAggregator()\n",
    "mean_error = ErrorAggregator()\n",
    "times = []"
   ]
  },
  {
   "cell_type": "code",
   "execution_count": 177,
   "metadata": {},
   "outputs": [
    {
     "name": "stdout",
     "output_type": "stream",
     "text": [
      "RMSE: 1.96161754034\n",
      "Random RMSE: 3.39853112719\n",
      "Average evaluation time: 0.000253323939248\n"
     ]
    }
   ],
   "source": [
    "for user_id, group in train[:10000].groupby(\"userId2\"):\n",
    "    start_time = time.time()\n",
    "    \n",
    "    uvec = U[user_id, :] * S\n",
    "    \n",
    "    movie_ids = group[\"movieId\"] - 1\n",
    "    ratings = group[\"rating\"]\n",
    "    \n",
    "    diff = (uvec.dot(Vt[:, movie_ids]) - ratings.values) ** 2\n",
    "    svd_error.add_value(np.sum(diff), len(diff))\n",
    "    \n",
    "    mean_diff = (ratings.values - train_M_mean) ** 2\n",
    "    mean_error.add_value(np.sum(mean_diff), len(mean_diff))\n",
    "    \n",
    "    times.append(time.time() - start_time)\n",
    "\n",
    "print(\"RMSE:\", svd_error.get_rmse())\n",
    "print(\"Random RMSE:\", mean_error.get_rmse())\n",
    "print(\"Average evaluation time:\", np.mean(times))"
   ]
  },
  {
   "cell_type": "code",
   "execution_count": 195,
   "metadata": {},
   "outputs": [
    {
     "name": "stdout",
     "output_type": "stream",
     "text": [
      "3.25025\n"
     ]
    },
    {
     "data": {
      "image/png": "[encoded data removed]",
      "text/plain": [
       "<matplotlib.figure.Figure at 0x7f8d81e737f0>"
      ]
     },
     "metadata": {},
     "output_type": "display_data"
    },
    {
     "name": "stdout",
     "output_type": "stream",
     "text": [
      "1.18714994841\n"
     ]
    }
   ],
   "source": [
    "results = []\n",
    "\n",
    "tt = train[:10000].copy()\n",
    "\n",
    "for user_id, group in tt.groupby(\"userId2\"):\n",
    "    start_time = time.time()\n",
    "    uvec = U[user_id, :] * S\n",
    "    movie_ids = group[\"movieId\"] - 1    \n",
    "    results.append((user_id, movie_ids, uvec.dot(Vt[:, movie_ids])))\n",
    "\n",
    "    \n",
    "res2 = {}\n",
    "for r in results:\n",
    "    for m, ri in zip(r[1], r[2]):\n",
    "        res2[(int(r[0]), int(m))] = ri\n",
    "        \n",
    "prating = []\n",
    "\n",
    "for i, row in tt.iterrows():\n",
    "    prating.append(res2[(int(row.userId2), int(row.movieId) - 1)])\n",
    "    \n",
    "\n",
    "\n",
    "prating = reshape(np.array(prating), hist_shape, hist_xs)\n",
    "    \n",
    "tt[\"rating2\"] = np.array(prating)\n",
    "\n",
    "print(tt.rating.mean())\n",
    "\n",
    "plt.hist(tt.rating)\n",
    "plt.show()\n",
    "\n",
    "tt.head()\n",
    "\n",
    "print((((tt[\"rating\"] - tt[\"rating2\"]) ** 2).sum() / len(tt)) ** 0.5)"
   ]
  },
  {
   "cell_type": "code",
   "execution_count": 203,
   "metadata": {},
   "outputs": [],
   "source": [
    "results = []\n",
    "\n",
    "for user_id, group in test.groupby(\"userId2\"):\n",
    "    start_time = time.time()\n",
    "    uvec = U[user_id, :] * S\n",
    "    movie_ids = group[\"movieId\"] - 1    \n",
    "    results.append((user_id, movie_ids, uvec.dot(Vt[:, movie_ids])))\n"
   ]
  },
  {
   "cell_type": "code",
   "execution_count": 204,
   "metadata": {},
   "outputs": [],
   "source": [
    "res2 = {}\n",
    "for r in results:\n",
    "    for m, ri in zip(r[1], r[2]):\n",
    "        res2[(int(r[0]), int(m))] = ri"
   ]
  },
  {
   "cell_type": "code",
   "execution_count": 205,
   "metadata": {},
   "outputs": [],
   "source": [
    "prating = []\n",
    "\n",
    "for i, row in test.iterrows():\n",
    "    prating.append(res2[(int(row.userId2), int(row.movieId) - 1)])"
   ]
  },
  {
   "cell_type": "code",
   "execution_count": 206,
   "metadata": {},
   "outputs": [],
   "source": [
    "prating = np.array(prating)\n",
    "test[\"rating\"] = prating"
   ]
  },
  {
   "cell_type": "code",
   "execution_count": null,
   "metadata": {},
   "outputs": [],
   "source": []
  },
  {
   "cell_type": "code",
   "execution_count": 183,
   "metadata": {},
   "outputs": [
    {
     "name": "stdout",
     "output_type": "stream",
     "text": [
      "3.65559799577\n",
      "0.822592502529\n"
     ]
    }
   ],
   "source": [
    "answer = pd.read_csv('data/baseline.csv')\n",
    "print(answer.rating.mean())\n",
    "answer[\"rating\"] = test[\"rating\"]\n",
    "print(answer.rating.mean())\n",
    "answer.to_csv(\"to_send.csv\", index=False)\n"
   ]
  },
  {
   "cell_type": "code",
   "execution_count": 184,
   "metadata": {},
   "outputs": [
    {
     "data": {
      "text/plain": [
       "3.5207268919475605"
      ]
     },
     "execution_count": 184,
     "metadata": {},
     "output_type": "execute_result"
    }
   ],
   "source": [
    "train.rating.mean()"
   ]
  },
  {
   "cell_type": "code",
   "execution_count": 185,
   "metadata": {},
   "outputs": [
    {
     "data": {
      "image/png": "[encoded data removed]",
      "text/plain": [
       "<matplotlib.figure.Figure at 0x7f8d81e5aa90>"
      ]
     },
     "metadata": {},
     "output_type": "display_data"
    }
   ],
   "source": [
    "plt.hist(answer.rating, bins=50)\n",
    "plt.show()"
   ]
  },
  {
   "cell_type": "code",
   "execution_count": 186,
   "metadata": {},
   "outputs": [
    {
     "data": {
      "text/plain": [
       "0.82259250252904903"
      ]
     },
     "execution_count": 186,
     "metadata": {},
     "output_type": "execute_result"
    }
   ],
   "source": [
    "answer.rating.mean()"
   ]
  },
  {
   "cell_type": "code",
   "execution_count": 20,
   "metadata": {},
   "outputs": [],
   "source": [
    "import numpy as np"
   ]
  },
  {
   "cell_type": "code",
   "execution_count": 21,
   "metadata": {},
   "outputs": [
    {
     "data": {
      "image/png": "[encoded data removed]",
      "text/plain": [
       "<matplotlib.figure.Figure at 0x7f56c42902e8>"
      ]
     },
     "metadata": {},
     "output_type": "display_data"
    }
   ],
   "source": [
    "a = plt.hist(train.rating, bins=10)\n",
    "plt.show()"
   ]
  },
  {
   "cell_type": "code",
   "execution_count": 30,
   "metadata": {},
   "outputs": [
    {
     "data": {
      "text/plain": [
       "array([ 0.01195515,  0.03404094,  0.01410676,  0.07200356,  0.04487432,\n",
       "        0.21409095,  0.11150101,  0.27782659,  0.07696208,  0.14263865])"
      ]
     },
     "metadata": {},
     "output_type": "display_data"
    },
    {
     "data": {
      "text/plain": [
       "array([ 0.5,  1. ,  1.5,  2. ,  2.5,  3. ,  3.5,  4. ,  4.5,  5. ])"
      ]
     },
     "metadata": {},
     "output_type": "display_data"
    },
    {
     "data": {
      "text/plain": [
       "[(0.5, 0.011955146192344156),\n",
       " (1.0, 0.034040943228122976),\n",
       " (1.5, 0.014106759063166972),\n",
       " (2.0, 0.072003562741061816),\n",
       " (2.5, 0.044874318240015171),\n",
       " (3.0, 0.21409095013598253),\n",
       " (3.5, 0.11150100504492003),\n",
       " (4.0, 0.27782659121506437),\n",
       " (4.5, 0.076962075351363401),\n",
       " (5.0, 0.14263864878795859)]"
      ]
     },
     "metadata": {},
     "output_type": "display_data"
    }
   ],
   "source": [
    "hist_shape = a[0] / a[0].sum()\n",
    "display(hist_shape)\n",
    "hist_xs = np.arange(0.5, 5.1, 0.5)\n",
    "display(hist_xs)\n",
    "hist_pairs = list(zip(hist_xs, hist_shape))\n",
    "display(hist_pairs)"
   ]
  },
  {
   "cell_type": "code",
   "execution_count": 37,
   "metadata": {},
   "outputs": [],
   "source": [
    "def remap(x, l, u, nl, nu):\n",
    "    return nl + (x - l) / (u - l) * (nu - nl)\n",
    "    \n",
    "def reshape(values, hist_shape, hist_xs):\n",
    "    enuv = list(enumerate(values))\n",
    "    values = sorted(enuv, key=lambda x: x[1])\n",
    "    bounds = [0] + [int(len(enuv) * x) for x in hist_shape.cumsum()]\n",
    "    bounds[-1] = len(values)\n",
    "    for i in range(len(bounds) - 1):\n",
    "        l = hist_xs[i - 1] if i != 0 else hist_xs[i]\n",
    "        u = hist_xs[i + 1] if i != len(bounds) - 2 else hist_xs[i]\n",
    "        m = hist_xs[i]\n",
    "        mid = (bounds[i] + bounds[i + 1]) // 2\n",
    "        for j in range(bounds[i], bounds[i + 1]):\n",
    "            values[j] = (values[j][0], m)\n",
    "        \n",
    "#         for j in range(bounds[i], mid):\n",
    "#             values[j] = (values[j][0], remap(values[j][1], values[bounds[i]][1], values[mid - 1][1], l, m))\n",
    "#         for j in range(mid, bounds[i + 1]):\n",
    "#             values[j] = (values[j][0], remap(values[j][1], values[mid][1], \n",
    "#                                              values[bounds[i + 1] - 1][1], m, u))\n",
    "    enuv = sorted(values)\n",
    "    return np.array([x[1] for x in enuv])\n",
    "    "
   ]
  },
  {
   "cell_type": "code",
   "execution_count": 209,
   "metadata": {},
   "outputs": [
    {
     "name": "stdout",
     "output_type": "stream",
     "text": [
      "[(1.8841814237484198, 4.6419229434025029), (0.50949306476392631, 3.5071885106837422), (2.4357414779557973, 4.5), (0.046958243747968462, 2.0048590208577846), (1.2060659473415989, 4.0434118105124011), (0.18028532523194474, 2.5020815785412589), (0.17256062852209667, 2.5042129170261385), (1.4638445597770198, 4.0276964246104772), (0.61358712696428219, 3.5663330274438652), (1.4687966998654725, 4.0264130124665787), (3.2683751522362483, 4.5), (0.88734719502798787, 3.5013654898096362), (0.85670521522521714, 3.5086373099479937), (2.1487729657886634, 4.5616479220125381), (0.15669067244181251, 2.5085916323877568), (3.8677157954343087, 4.5), (0.52264672234370546, 3.5045097853593736), (1.2123543866749205, 4.041922137258954), (2.209280366810134, 4.5432904459050407), (0.031595481190452961, 2.0042487677882237), (1.0520575549950719, 4.0798949775947957), (1.3597620059024011, 4.0070026324218819), (1.6173154289332794, 4.5378899731369691), (1.2851192466628154, 4.0246848133429154), (0.65745082499448926, 3.5559234871748631), (-0.36538297798927166, 0.0), (0.94806936679467446, 4.1045288198608345), (0.9311161446256937, 4.1085448817620858), (1.6681970982967766, 4.5264034591017346), (1.0245310410572213, 4.0864157547543343), (1.274413876814684, 4.0272208166794696), (3.4581617019526472, 4.5), (2.2325685443996757, 4.5362249934732723), (0.78611890545665108, 3.5253885431310725), (0.48001154614336233, 3.5131923837548449), (1.4098718233042891, 4.0416841681296969), (0.62478619387340328, 3.5636753140452946), (0.98571836389618572, 4.0956101198418873), (2.5622718471958619, 4.5), (1.0875045894560522, 4.0714979022074651), (3.9562569839111532, 4.5), (0.47088965019883217, 3.5150500460457068), (2.9395038127464286, 4.5), (-0.14216055198211816, 1.0213452545410209), (4.6181383520573744, 4.5), (0.99592236831196246, 4.0931928853500636), (2.0053660204799248, 4.6051564767961137), (3.0646127541707284, 4.5), (0.067974479932864762, 2.5029283124306509), (0.8833505952039471, 3.5023139453360894), (0.51123609086674682, 3.5068335456761508), (0.72560448535616096, 3.5397495596704798), (2.6165347509256458, 4.5), (0.81064586444186126, 3.5195679128901638), (1.4102568582803567, 4.0415843812587111), (2.2869394798123324, 4.519729273430265), (1.2090654758344042, 4.0427012498896708), (0.78822290763814695, 3.5248892305692525), (0.70456161793355032, 3.5447433605957936), (0.27613558539583927, 3.0142147748537109), (0.82366559007679419, 3.5164781287548896), (0.90658935160621779, 4.1143550527150516), (0.33747536950642265, 3.000031435676707), (0.95110961729248911, 4.1038086125708668), (0.76268825527819162, 3.5309490021784065), (0.96767929905152217, 4.0998834078537323), (0.043909806596675205, 2.0000200397145282), (1.9199085686224313, 4.6310836047870332), (2.1021382128852615, 4.5757965442926372), (1.5492198665099095, 4.0055702925760608), (0.0095466568777953786, 1.5047930300014185), (0.035870742161806357, 2.0027806470836333), (1.1041654364741988, 4.0675511012816452), (1.691900270666767, 4.5210524785715478), (1.6479689666421664, 4.5309699507491947), (1.3563919205394441, 4.007800974547953), (0.14799901910647589, 2.5109897660552205), (0.63323857094975255, 3.5616694330207519), (4.0039911436814659, 4.5), (-0.020367227452511294, 1.0080795521234691), (0.12436676346703013, 2.5175101949886498), (2.228337832015816, 4.5375085587924442), (0.15061098023811384, 2.51026909397061), (0.84614407318539198, 3.511143633816868), (2.6013104252846908, 4.5), (3.4064870000518903, 4.5), (2.0644590490496189, 4.587228110319046), (1.8638979636348998, 4.6480767878599636), (0.95100631023554982, 4.1038330850594225), (1.0433086719621225, 4.0819675072577066), (0.85458399066775748, 3.5091407096484764), (1.5236274526275935, 4.0122029027570258), (0.56822711091990896, 3.5770976673356345), (1.2749256578250958, 4.0270995804804031), (4.1851591821736855, 4.5), (0.88990704325527159, 3.5007579978652474), (0.65925699774570534, 3.5554948541860618), (2.6077056142276005, 4.5), (0.090537861359944849, 2.5268440036377493), (1.2942563994914607, 4.0225203061480421)]\n",
      "3.65559799577\n",
      "3.27073236814\n"
     ]
    }
   ],
   "source": [
    "prating = np.array(prating)\n",
    "\n",
    "\n",
    "prating2 = reshape(prating, hist_shape, hist_xs)\n",
    "\n",
    "\n",
    "print(list(zip(prating[:100], prating2[:100])))\n",
    "\n",
    "test[\"rating\"] = prating2\n",
    "\n",
    "answer = pd.read_csv('data/baseline.csv')\n",
    "print(answer.rating.mean())\n",
    "answer[\"rating\"] = test[\"rating\"]\n",
    "print(answer.rating.mean())\n",
    "answer.to_csv(\"to_send.csv\", index=False)"
   ]
  },
  {
   "cell_type": "code",
   "execution_count": 211,
   "metadata": {},
   "outputs": [
    {
     "data": {
      "image/png": "[encoded data removed]",
      "text/plain": [
       "<matplotlib.figure.Figure at 0x7f8dae09a2b0>"
      ]
     },
     "metadata": {},
     "output_type": "display_data"
    }
   ],
   "source": [
    "plt.hist(answer.rating)\n",
    "plt.show()"
   ]
  },
  {
   "cell_type": "code",
   "execution_count": 215,
   "metadata": {},
   "outputs": [],
   "source": [
    "import numpy as np\n",
    "import pandas as pd\n",
    "from scipy.sparse import coo_matrix, csr_matrix, csc_matrix\n",
    "import matplotlib.pyplot as plt\n",
    "import seaborn as sns\n",
    "from sklearn.metrics.pairwise import cosine_similarity\n"
   ]
  },
  {
   "cell_type": "code",
   "execution_count": 237,
   "metadata": {},
   "outputs": [
    {
     "name": "stdout",
     "output_type": "stream",
     "text": [
      "8.1.1\r\n"
     ]
    }
   ],
   "source": [
    "!vw --version"
   ]
  },
  {
   "cell_type": "code",
   "execution_count": 240,
   "metadata": {},
   "outputs": [
    {
     "data": {
      "text/html": [
       "<div>\n",
       "<style>\n",
       "    .dataframe thead tr:only-child th {\n",
       "        text-align: right;\n",
       "    }\n",
       "\n",
       "    .dataframe thead th {\n",
       "        text-align: left;\n",
       "    }\n",
       "\n",
       "    .dataframe tbody tr th {\n",
       "        vertical-align: top;\n",
       "    }\n",
       "</style>\n",
       "<table border=\"1\" class=\"dataframe\">\n",
       "  <thead>\n",
       "    <tr style=\"text-align: right;\">\n",
       "      <th></th>\n",
       "      <th>movieId</th>\n",
       "      <th>userId</th>\n",
       "      <th>userId2</th>\n",
       "      <th>rating</th>\n",
       "      <th>movieId2</th>\n",
       "    </tr>\n",
       "  </thead>\n",
       "  <tbody>\n",
       "    <tr>\n",
       "      <th>0</th>\n",
       "      <td>939</td>\n",
       "      <td>3128775406573976678</td>\n",
       "      <td>0</td>\n",
       "      <td>4.641923</td>\n",
       "      <td>0</td>\n",
       "    </tr>\n",
       "    <tr>\n",
       "      <th>1</th>\n",
       "      <td>19</td>\n",
       "      <td>6058877902987009152</td>\n",
       "      <td>1</td>\n",
       "      <td>3.507189</td>\n",
       "      <td>1</td>\n",
       "    </tr>\n",
       "    <tr>\n",
       "      <th>2</th>\n",
       "      <td>1213</td>\n",
       "      <td>2787275058272728238</td>\n",
       "      <td>2</td>\n",
       "      <td>4.500000</td>\n",
       "      <td>2</td>\n",
       "    </tr>\n",
       "    <tr>\n",
       "      <th>3</th>\n",
       "      <td>1141</td>\n",
       "      <td>14199414671932452776</td>\n",
       "      <td>3</td>\n",
       "      <td>2.004859</td>\n",
       "      <td>3</td>\n",
       "    </tr>\n",
       "    <tr>\n",
       "      <th>4</th>\n",
       "      <td>2935</td>\n",
       "      <td>5958052843391945803</td>\n",
       "      <td>4</td>\n",
       "      <td>4.043412</td>\n",
       "      <td>4</td>\n",
       "    </tr>\n",
       "  </tbody>\n",
       "</table>\n",
       "</div>"
      ],
      "text/plain": [
       "   movieId                userId  userId2    rating  movieId2\n",
       "0      939   3128775406573976678        0  4.641923         0\n",
       "1       19   6058877902987009152        1  3.507189         1\n",
       "2     1213   2787275058272728238        2  4.500000         2\n",
       "3     1141  14199414671932452776        3  2.004859         3\n",
       "4     2935   5958052843391945803        4  4.043412         4"
      ]
     },
     "metadata": {},
     "output_type": "display_data"
    }
   ],
   "source": [
    "movie_to_compress_id = {}\n",
    "n = len(movie_to_compress_id)\n",
    "def add_id_to_compress(i):\n",
    "    movie_to_compress_id.setdefault(i, n)\n",
    "\n",
    "for i, row in train.iterrows():\n",
    "    add_id_to_compress(row.movieId)\n",
    "    \n",
    "for i, row in test.iterrows():\n",
    "    add_id_to_compress(row.movieId)\n",
    "        \n",
    "ui2 = []\n",
    "\n",
    "for i, row in test.iterrows():\n",
    "    ui2.append(movie_to_compress_id[row.movieId])\n",
    "\n",
    "test[\"movieId2\"] = np.array(ui2)\n",
    "\n",
    "display(test.head())"
   ]
  },
  {
   "cell_type": "code",
   "execution_count": 241,
   "metadata": {},
   "outputs": [],
   "source": [
    "ui2 = []\n",
    "\n",
    "for i, row in train.iterrows():\n",
    "    ui2.append(movie_to_compress_id[row.movieId])\n",
    "\n",
    "train[\"movieId2\"] = np.array(ui2)\n",
    "display(train.head())"
   ]
  },
  {
   "cell_type": "code",
   "execution_count": 242,
   "metadata": {},
   "outputs": [
    {
     "data": {
      "text/html": [
       "<div>\n",
       "<style>\n",
       "    .dataframe thead tr:only-child th {\n",
       "        text-align: right;\n",
       "    }\n",
       "\n",
       "    .dataframe thead th {\n",
       "        text-align: left;\n",
       "    }\n",
       "\n",
       "    .dataframe tbody tr th {\n",
       "        vertical-align: top;\n",
       "    }\n",
       "</style>\n",
       "<table border=\"1\" class=\"dataframe\">\n",
       "  <thead>\n",
       "    <tr style=\"text-align: right;\">\n",
       "      <th></th>\n",
       "      <th>rating</th>\n",
       "      <th>movieId</th>\n",
       "      <th>userId</th>\n",
       "      <th>userId2</th>\n",
       "      <th>movieId2</th>\n",
       "    </tr>\n",
       "  </thead>\n",
       "  <tbody>\n",
       "    <tr>\n",
       "      <th>0</th>\n",
       "      <td>3.0</td>\n",
       "      <td>2158</td>\n",
       "      <td>10953099004185006703</td>\n",
       "      <td>731</td>\n",
       "      <td>9854</td>\n",
       "    </tr>\n",
       "    <tr>\n",
       "      <th>1</th>\n",
       "      <td>3.5</td>\n",
       "      <td>12959</td>\n",
       "      <td>10953099004185006703</td>\n",
       "      <td>731</td>\n",
       "      <td>8608</td>\n",
       "    </tr>\n",
       "    <tr>\n",
       "      <th>2</th>\n",
       "      <td>3.5</td>\n",
       "      <td>7808</td>\n",
       "      <td>10953099004185006703</td>\n",
       "      <td>731</td>\n",
       "      <td>11555</td>\n",
       "    </tr>\n",
       "    <tr>\n",
       "      <th>3</th>\n",
       "      <td>4.0</td>\n",
       "      <td>9049</td>\n",
       "      <td>4762492897681260571</td>\n",
       "      <td>3052</td>\n",
       "      <td>10295</td>\n",
       "    </tr>\n",
       "    <tr>\n",
       "      <th>4</th>\n",
       "      <td>3.0</td>\n",
       "      <td>12363</td>\n",
       "      <td>2110017552365950661</td>\n",
       "      <td>125</td>\n",
       "      <td>9988</td>\n",
       "    </tr>\n",
       "  </tbody>\n",
       "</table>\n",
       "</div>"
      ],
      "text/plain": [
       "   rating  movieId                userId  userId2  movieId2\n",
       "0     3.0     2158  10953099004185006703      731      9854\n",
       "1     3.5    12959  10953099004185006703      731      8608\n",
       "2     3.5     7808  10953099004185006703      731     11555\n",
       "3     4.0     9049   4762492897681260571     3052     10295\n",
       "4     3.0    12363   2110017552365950661      125      9988"
      ]
     },
     "metadata": {},
     "output_type": "display_data"
    }
   ],
   "source": [
    "display(train.head())"
   ]
  },
  {
   "cell_type": "code",
   "execution_count": 243,
   "metadata": {},
   "outputs": [],
   "source": [
    "train[[\"userId2\", \"movieId2\", \"rating\"]].to_csv(\"ml20m_train.csv\", header=False, index=False)\n",
    "test[[\"userId2\", \"movieId2\", \"rating\"]].to_csv(\"ml20m_test.csv\", header=False, index=False)"
   ]
  },
  {
   "cell_type": "code",
   "execution_count": 2,
   "metadata": {},
   "outputs": [
    {
     "name": "stdout",
     "output_type": "stream",
     "text": [
      "\u001b[01m\u001b[Kcompress.cpp:\u001b[m\u001b[K In function ‘\u001b[01m\u001b[Kint main()\u001b[m\u001b[K’:\n",
      "\u001b[01m\u001b[Kcompress.cpp:30:66:\u001b[m\u001b[K \u001b[01;35m\u001b[Kwarning: \u001b[m\u001b[Kformat ‘\u001b[01m\u001b[K%llu\u001b[m\u001b[K’ expects argument of type ‘\u001b[01m\u001b[Klong long unsigned int*\u001b[m\u001b[K’, but argument 5 has type ‘\u001b[01m\u001b[Kuint64_t* {aka long unsigned int*}\u001b[m\u001b[K’ [-Wformat=]\n",
      "         while (fscanf(input, \"%lf,%u,%llu\\n\", &rating, &mId, &uId) == 3) {\n",
      "\u001b[01;32m\u001b[K                                                                  ^\u001b[m\u001b[K\n",
      "\u001b[01m\u001b[Kcompress.cpp:51:66:\u001b[m\u001b[K \u001b[01;35m\u001b[Kwarning: \u001b[m\u001b[Kformat ‘\u001b[01m\u001b[K%llu\u001b[m\u001b[K’ expects argument of type ‘\u001b[01m\u001b[Klong long unsigned int*\u001b[m\u001b[K’, but argument 5 has type ‘\u001b[01m\u001b[Kuint64_t* {aka long unsigned int*}\u001b[m\u001b[K’ [-Wformat=]\n",
      "         while (fscanf(input, \"%lf,%u,%llu\\n\", &rating, &mId, &uId) == 3) {\n",
      "\u001b[01;32m\u001b[K                                                                  ^\u001b[m\u001b[K\n",
      "\u001b[01m\u001b[Kcompress.cpp:78:53:\u001b[m\u001b[K \u001b[01;35m\u001b[Kwarning: \u001b[m\u001b[Kformat ‘\u001b[01m\u001b[K%llu\u001b[m\u001b[K’ expects argument of type ‘\u001b[01m\u001b[Klong long unsigned int*\u001b[m\u001b[K’, but argument 4 has type ‘\u001b[01m\u001b[Kuint64_t* {aka long unsigned int*}\u001b[m\u001b[K’ [-Wformat=]\n",
      "         while (fscanf(input, \"%u,%llu\\n\", &mId, &uId) == 2) {\n",
      "\u001b[01;32m\u001b[K                                                     ^\u001b[m\u001b[K\n",
      "\u001b[01m\u001b[Kcompress.cpp:24:41:\u001b[m\u001b[K \u001b[01;35m\u001b[Kwarning: \u001b[m\u001b[Kignoring return value of ‘\u001b[01m\u001b[Kchar* fgets(char*, int, FILE*)\u001b[m\u001b[K’, declared with attribute warn_unused_result [-Wunused-result]\n",
      "         fgets(line, sizeof(line), input);\n",
      "\u001b[01;32m\u001b[K                                         ^\u001b[m\u001b[K\n",
      "\u001b[01m\u001b[Kcompress.cpp:45:41:\u001b[m\u001b[K \u001b[01;35m\u001b[Kwarning: \u001b[m\u001b[Kignoring return value of ‘\u001b[01m\u001b[Kchar* fgets(char*, int, FILE*)\u001b[m\u001b[K’, declared with attribute warn_unused_result [-Wunused-result]\n",
      "         fgets(line, sizeof(line), input);\n",
      "\u001b[01;32m\u001b[K                                         ^\u001b[m\u001b[K\n",
      "\u001b[01m\u001b[Kcompress.cpp:72:41:\u001b[m\u001b[K \u001b[01;35m\u001b[Kwarning: \u001b[m\u001b[Kignoring return value of ‘\u001b[01m\u001b[Kchar* fgets(char*, int, FILE*)\u001b[m\u001b[K’, declared with attribute warn_unused_result [-Wunused-result]\n",
      "         fgets(line, sizeof(line), input);\n",
      "\u001b[01;32m\u001b[K                                         ^\u001b[m\u001b[K\n"
     ]
    }
   ],
   "source": [
    "# это все жутко долго\n",
    "\n",
    "with open(\"compress.cpp\", \"w\") as f:\n",
    "    f.write(R\"\"\"\n",
    "#include <cstdio>\n",
    "#include <cstdlib>\n",
    "#include <unordered_map>\n",
    "\n",
    "using ui32 = uint32_t;\n",
    "\n",
    "int main() {\n",
    "    char line[1000];\n",
    "\n",
    "    FILE *input, *output;\n",
    "\n",
    "    std::unordered_map<uint64_t, uint32_t> users;\n",
    "    std::unordered_map<uint32_t, uint32_t> movies;\n",
    "\n",
    "    std::unordered_map<uint32_t, uint32_t> movieCounts;\n",
    "\n",
    "\n",
    "    {\n",
    "        FILE* input = fopen(\"data/train.csv\", \"rt\");\n",
    "        FILE* output = fopen(\"data/train2.csv\", \"wt\");\n",
    "\n",
    "        // header\n",
    "        fgets(line, sizeof(line), input);\n",
    "        fputs(line, output);\n",
    "\n",
    "        double rating;\n",
    "        uint32_t mId;\n",
    "        uint64_t uId;\n",
    "        while (fscanf(input, \"%lf,%u,%llu\\n\", &rating, &mId, &uId) == 3) {\n",
    "            movieCounts[mId]++;\n",
    "        }\n",
    "\n",
    "        fclose(input);\n",
    "        fclose(output);\n",
    "    }\n",
    "\n",
    "    {\n",
    "        FILE* input = fopen(\"data/train.csv\", \"rt\");\n",
    "        FILE* output = fopen(\"data/train2.csv\", \"wt\");\n",
    "        FILE* output3 = fopen(\"data/train3.csv\", \"wt\");\n",
    "        FILE* outputVW = fopen(\"data/train2vw.csv\", \"wt\");\n",
    "\n",
    "        // header\n",
    "        fgets(line, sizeof(line), input);\n",
    "        fputs(line, output);\n",
    "\n",
    "        double rating;\n",
    "        uint32_t mId;\n",
    "        uint64_t uId;\n",
    "        while (fscanf(input, \"%lf,%u,%llu\\n\", &rating, &mId, &uId) == 3) {\n",
    "            if (movieCounts[mId] >= 5) {\n",
    "                ui32 cuId = movies.emplace(mId, movies.size()).first->second;\n",
    "                ui32 cmId = users.emplace(uId, users.size()).first->second;\n",
    "                fprintf(output, \"%0.1lf,%u,%u\\n\", rating, cmId, cuId);\n",
    "                fprintf(output3, \"%u,%u,%0.1lf\\n\", cuId, cmId, rating);\n",
    "                fprintf(outputVW, \"%0.1lf |u %u |i %u\\n\", rating, cuId, cmId);\n",
    "            }\n",
    "        }\n",
    "\n",
    "        fclose(input);\n",
    "        fclose(output);\n",
    "        fclose(output3);\n",
    "        fclose(outputVW);\n",
    "    }\n",
    "\n",
    "    {\n",
    "        FILE* input = fopen(\"data/test.csv\", \"rt\");\n",
    "        FILE* output = fopen(\"data/test2.csv\", \"wt\");\n",
    "\n",
    "        // header\n",
    "        fgets(line, sizeof(line), input);\n",
    "        fputs(line, output);\n",
    "\n",
    "        double rating;\n",
    "        uint32_t mId;\n",
    "        uint64_t uId;\n",
    "        while (fscanf(input, \"%u,%llu\\n\", &mId, &uId) == 2) {\n",
    "            fprintf(output, \"%u,%u\\n\",\n",
    "                    movies.emplace(mId, movies.size()).first->second,\n",
    "                    users.emplace(uId, users.size()).first->second);\n",
    "        }\n",
    "\n",
    "        fclose(input);\n",
    "        fclose(output);\n",
    "    }\n",
    "\n",
    "\n",
    "}\n",
    "\n",
    "    \"\"\")\n",
    "    \n",
    "\n",
    "\n",
    "!g++ --std=c++11 -O3 compress.cpp -o compress\n",
    "!./compress \n"
   ]
  },
  {
   "cell_type": "code",
   "execution_count": 8,
   "metadata": {},
   "outputs": [
    {
     "data": {
      "text/html": [
       "<div>\n",
       "<style>\n",
       "    .dataframe thead tr:only-child th {\n",
       "        text-align: right;\n",
       "    }\n",
       "\n",
       "    .dataframe thead th {\n",
       "        text-align: left;\n",
       "    }\n",
       "\n",
       "    .dataframe tbody tr th {\n",
       "        vertical-align: top;\n",
       "    }\n",
       "</style>\n",
       "<table border=\"1\" class=\"dataframe\">\n",
       "  <thead>\n",
       "    <tr style=\"text-align: right;\">\n",
       "      <th></th>\n",
       "      <th>rating</th>\n",
       "      <th>movieId</th>\n",
       "      <th>userId</th>\n",
       "    </tr>\n",
       "  </thead>\n",
       "  <tbody>\n",
       "    <tr>\n",
       "      <th>0</th>\n",
       "      <td>3.0</td>\n",
       "      <td>0</td>\n",
       "      <td>0</td>\n",
       "    </tr>\n",
       "    <tr>\n",
       "      <th>15657477</th>\n",
       "      <td>2.5</td>\n",
       "      <td>8</td>\n",
       "      <td>0</td>\n",
       "    </tr>\n",
       "    <tr>\n",
       "      <th>976912</th>\n",
       "      <td>2.0</td>\n",
       "      <td>21</td>\n",
       "      <td>0</td>\n",
       "    </tr>\n",
       "  </tbody>\n",
       "</table>\n",
       "</div>"
      ],
      "text/plain": [
       "          rating  movieId  userId\n",
       "0            3.0        0       0\n",
       "15657477     2.5        8       0\n",
       "976912       2.0       21       0"
      ]
     },
     "execution_count": 8,
     "metadata": {},
     "output_type": "execute_result"
    }
   ],
   "source": [
    "import pandas as pd\n",
    "df_train = pd.read_csv('data/train2.csv')\n",
    "df_train = df_train.sort_values(['userId', 'movieId'])\n",
    "df_train.head(3)"
   ]
  },
  {
   "cell_type": "code",
   "execution_count": 9,
   "metadata": {},
   "outputs": [],
   "source": [
    "df_train[[\"userId\", \"movieId\", \"rating\"]].to_csv('data/train2s.csv', index=False)"
   ]
  },
  {
   "cell_type": "code",
   "execution_count": 10,
   "metadata": {},
   "outputs": [],
   "source": [
    "!awk -F\",\" '{printf \"%f |u %d |i %d\\n\", $3,$1+1,$2+1}' < data/train2s.csv > data/train2vw.csv"
   ]
  },
  {
   "cell_type": "code",
   "execution_count": 11,
   "metadata": {},
   "outputs": [
    {
     "name": "stdout",
     "output_type": "stream",
     "text": [
      "creating quadratic features for pairs: ui \n",
      "using l2 regularization = 0.001\n",
      "final_regressor = movielens.reg\n",
      "Num weight bits = 18\n",
      "learning rate = 0.015\n",
      "initial_t = 1\n",
      "power_t = 0\n",
      "decay_learning_rate = 0.97\n",
      "using cache_file = movielens.cache\n",
      "ignoring text input in favor of cache input\n",
      "num sources = 1\n",
      "average  since         example        example  current  current  current\n",
      "loss     last          counter         weight    label  predict features\n",
      "22.288675 22.288675            1            1.0   5.0000   0.2789       63\n",
      "17.776968 13.265260            2            2.0   4.0000   0.3578       63\n",
      "14.530089 11.283211            4            4.0   4.5000   0.4959       63\n",
      "14.231754 13.933419            8            8.0   4.5000   0.7217       63\n",
      "9.850208 5.468663           16           16.0   3.5000   1.1505       63\n",
      "8.271773 6.693338           32           32.0   3.5000   1.8824       63\n",
      "6.229864 4.187955           64           64.0   5.0000   3.1649       63\n",
      "3.816582 1.403300          128          128.0   4.5000   3.7401       63\n",
      "2.845598 1.874614          256          256.0   5.0000   3.1721       63\n",
      "2.118391 1.391183          512          512.0   2.0000   3.8243       63\n",
      "1.575852 1.033313         1024         1024.0   3.0000   3.6766       63\n",
      "1.252699 0.929546         2048         2048.0   5.0000   3.8297       63\n",
      "0.987130 0.721560         4096         4096.0   3.0000   2.8914       63\n",
      "1.019852 1.052574         8192         8192.0   3.5000   3.4707       63\n",
      "0.920301 0.820751        16384        16384.0   3.0000   3.7277       63\n",
      "0.856055 0.791809        32768        32768.0   3.0000   2.4835       63\n",
      "0.876415 0.896775        65536        65536.0   2.0000   2.6613       63\n",
      "0.870447 0.864480       131072       131072.0   1.0000   3.4544       63\n",
      "0.823634 0.776821       262144       262144.0   4.5000   3.8564       63\n",
      "0.834755 0.845877       524288       524288.0   3.0000   2.5407       63\n",
      "0.815959 0.797163      1048576      1048576.0   2.5000   2.9724       63\n",
      "0.795891 0.775823      2097152      2097152.0   4.0000   3.4602       63\n",
      "0.781084 0.766277      4194304      4194304.0   4.5000   3.7274       63\n",
      "0.767972 0.754860      8388608      8388608.0   5.0000   4.1831       63\n",
      "0.759286 0.750600     16777216     16777216.0   3.0000   3.0487       63\n",
      "0.731578 0.731578     33554432     33554432.0   3.5000   3.1488       63 h\n",
      "0.689571 0.647564     67108864     67108864.0   4.0000   4.2338       63 h\n",
      "\n",
      "finished run\n",
      "number of examples per pass = 17112903\n",
      "passes used = 5\n",
      "weighted example sum = 85564515.000000\n",
      "weighted label sum = 301245865.000000\n",
      "average loss = 0.617889 h\n",
      "best constant = 3.520687\n",
      "total feature number = 5390564445\n",
      "cat: write error: Broken pipe\n"
     ]
    }
   ],
   "source": [
    "!cat data/train2vw.csv | vw /dev/stdin -b 18 -q ui --rank 30 --l2 0.001 --learning_rate 0.015 \\\n",
    "    --passes 5 --decay_learning_rate 0.97 --power_t 0 \\\n",
    "    --loss_function squared -f movielens.reg --cache_file movielens.cache"
   ]
  },
  {
   "cell_type": "code",
   "execution_count": 2,
   "metadata": {},
   "outputs": [],
   "source": [
    "import pandas as pd\n",
    "answer = pd.read_csv('data/baseline.csv')\n",
    "test_wa = pd.read_csv('data/test2.csv')\n",
    "test_wa['rating'] = answer['rating']\n",
    "test_wa.to_csv(\"test_wa.csv\", index=False, header=False)\n"
   ]
  },
  {
   "cell_type": "code",
   "execution_count": 3,
   "metadata": {},
   "outputs": [
    {
     "name": "stdout",
     "output_type": "stream",
     "text": [
      "creating quadratic features for pairs: ui \n",
      "only testing\n",
      "Num weight bits = 18\n",
      "learning rate = 10\n",
      "initial_t = 1\n",
      "power_t = 0.5\n",
      "using no cache\n",
      "Reading datafile = /dev/stdin\n",
      "num sources = 1\n",
      "average  since         example        example  current  current  current\n",
      "loss     last          counter         weight    label  predict features\n",
      "0.427959 0.427959            1            1.0   4.0674   3.4132       63\n",
      "0.297160 0.166361            2            2.0   3.2720   2.8641       63\n",
      "0.389500 0.481840            4            4.0   3.5760   2.6696       63\n",
      "0.595496 0.801491            8            8.0   3.9315   3.1788       63\n",
      "0.698220 0.800945           16           16.0   4.2100   3.1328       63\n",
      "0.730499 0.762778           32           32.0   3.7609   3.7544       63\n",
      "0.700302 0.670104           64           64.0   4.1327   4.3258       63\n",
      "0.637065 0.573827          128          128.0   3.6066   3.4273       63\n",
      "0.551125 0.465186          256          256.0   3.8800   3.9482       63\n",
      "0.596371 0.641617          512          512.0   4.4475   3.0661       63\n",
      "0.542272 0.488173         1024         1024.0   3.6435   3.4577       63\n",
      "0.556481 0.570691         2048         2048.0   3.2496   3.0158       63\n",
      "0.573153 0.589825         4096         4096.0   3.1066   2.2520       63\n",
      "0.577094 0.581035         8192         8192.0   4.1871   3.2866       63\n",
      "0.577190 0.577285        16384        16384.0   3.7108   3.2767       63\n",
      "0.575231 0.573273        32768        32768.0   3.3254   3.2908       63\n",
      "0.576487 0.577743        65536        65536.0   2.8384   2.9268       63\n",
      "0.571232 0.565976       131072       131072.0   3.5222   2.8040       63\n",
      "0.559594 0.547956       262144       262144.0   4.0043   2.8207       63\n",
      "0.552645 0.545696       524288       524288.0   3.9187   3.2505       63\n",
      "\n",
      "finished run\n",
      "number of examples per pass = 969451\n",
      "passes used = 1\n",
      "weighted example sum = 969451.000000\n",
      "weighted label sum = 3543923.124002\n",
      "average loss = 0.562139\n",
      "best constant = 3.655598\n",
      "total feature number = 61075413\n"
     ]
    }
   ],
   "source": [
    "!awk -F\",\" '{printf \"%f |u %d |i %d\\n\", $3,$1+1,$2+1}' < test_wa.csv | \\\n",
    "  vw /dev/stdin -i movielens.reg -t"
   ]
  },
  {
   "cell_type": "code",
   "execution_count": 5,
   "metadata": {},
   "outputs": [
    {
     "name": "stdout",
     "output_type": "stream",
     "text": [
      "creating quadratic features for pairs: ui \n",
      "only testing\n",
      "predictions = /dev/stdout\n",
      "Num weight bits = 18\n",
      "learning rate = 10\n",
      "initial_t = 1\n",
      "power_t = 0.5\n",
      "using no cache\n",
      "Reading datafile = /dev/stdin\n",
      "num sources = 1\n",
      "average  since         example        example  current  current  current\n",
      "loss     last          counter         weight    label  predict features\n",
      "0.427959 0.427959            1            1.0   4.0674   3.4132       63\n",
      "0.297160 0.166361            2            2.0   3.2720   2.8641       63\n",
      "0.389500 0.481840            4            4.0   3.5760   2.6696       63\n",
      "0.595496 0.801491            8            8.0   3.9315   3.1788       63\n",
      "0.698220 0.800945           16           16.0   4.2100   3.1328       63\n",
      "0.730499 0.762778           32           32.0   3.7609   3.7544       63\n",
      "0.700302 0.670104           64           64.0   4.1327   4.3258       63\n",
      "0.637065 0.573827          128          128.0   3.6066   3.4273       63\n",
      "0.551125 0.465186          256          256.0   3.8800   3.9482       63\n",
      "0.596371 0.641617          512          512.0   4.4475   3.0661       63\n",
      "0.542272 0.488173         1024         1024.0   3.6435   3.4577       63\n",
      "0.556481 0.570691         2048         2048.0   3.2496   3.0158       63\n",
      "0.573153 0.589825         4096         4096.0   3.1066   2.2520       63\n",
      "0.577094 0.581035         8192         8192.0   4.1871   3.2866       63\n",
      "0.577190 0.577285        16384        16384.0   3.7108   3.2767       63\n",
      "0.575231 0.573273        32768        32768.0   3.3254   3.2908       63\n",
      "0.576487 0.577743        65536        65536.0   2.8384   2.9268       63\n",
      "0.571232 0.565976       131072       131072.0   3.5222   2.8040       63\n",
      "0.559594 0.547956       262144       262144.0   4.0043   2.8207       63\n",
      "0.552645 0.545696       524288       524288.0   3.9187   3.2505       63\n",
      "\n",
      "finished run\n",
      "number of examples per pass = 969451\n",
      "passes used = 1\n",
      "weighted example sum = 969451.000000\n",
      "weighted label sum = 3543923.124002\n",
      "average loss = 0.562139\n",
      "best constant = 3.655598\n",
      "total feature number = 61075413\n"
     ]
    }
   ],
   "source": [
    "!awk -F\",\" '{printf \"%f |u %d |i %d\\n\", $3,$1+1,$2+1}' < test_wa.csv | \\\n",
    "  vw /dev/stdin -i movielens.reg -t -p /dev/stdout > my_predictions.csv"
   ]
  },
  {
   "cell_type": "code",
   "execution_count": 10,
   "metadata": {},
   "outputs": [
    {
     "data": {
      "image/png": "[encoded data removed]",
      "text/plain": [
       "<matplotlib.figure.Figure at 0x7f56c97322e8>"
      ]
     },
     "metadata": {},
     "output_type": "display_data"
    }
   ],
   "source": [
    "predictions = pd.read_csv(\"my_predictions.csv\", names=[\"rating\"])\n",
    "import matplotlib.pylab as plt\n",
    "plt.hist(predictions.rating)\n",
    "plt.show()"
   ]
  },
  {
   "cell_type": "code",
   "execution_count": 13,
   "metadata": {},
   "outputs": [],
   "source": [
    "train = pd.read_csv('data/train.csv')"
   ]
  },
  {
   "cell_type": "code",
   "execution_count": 17,
   "metadata": {},
   "outputs": [
    {
     "data": {
      "image/png": "[encoded data removed]",
      "text/plain": [
       "<matplotlib.figure.Figure at 0x7f56c97588d0>"
      ]
     },
     "metadata": {},
     "output_type": "display_data"
    }
   ],
   "source": [
    "plt.hist(train.rating)\n",
    "plt.show()"
   ]
  },
  {
   "cell_type": "code",
   "execution_count": 38,
   "metadata": {},
   "outputs": [
    {
     "data": {
      "text/plain": [
       "[(4.0673664539699992, 4.0),\n",
       " (3.2719767155199997, 2.5),\n",
       " (3.9301689773200001, 4.5),\n",
       " (3.5759671979800003, 2.0),\n",
       " (3.5827481591300003, 1.0),\n",
       " (2.6603618418199999, 5.0),\n",
       " (3.0653897300200001, 3.0),\n",
       " (3.9315379093699998, 3.5),\n",
       " (3.2886601140700003, 5.0),\n",
       " (3.6612360565599995, 4.0),\n",
       " (3.5193422557499998, 4.0),\n",
       " (3.4838757224100001, 5.0),\n",
       " (3.4150726541199998, 2.0),\n",
       " (4.15008492678, 3.5),\n",
       " (4.2428157845000003, 1.5),\n",
       " (4.2099699582900003, 3.0),\n",
       " (3.1799613098999999, 3.0),\n",
       " (3.6205170303600003, 2.0),\n",
       " (2.3907023814200001, 5.0),\n",
       " (3.5745597309599995, 5.0)]"
      ]
     },
     "metadata": {},
     "output_type": "display_data"
    }
   ],
   "source": [
    "test['rating'] = reshape(np.array(predictions.rating), hist_shape, hist_xs)\n",
    "r = np.array(test['rating'])\n",
    "test['rating'] = np.minimum(np.ones_like(r) * 5, np.maximum(np.ones_like(r) * 0.5, r))\n",
    "\n",
    "display(list(zip(answer.rating, test.rating))[:20])"
   ]
  },
  {
   "cell_type": "code",
   "execution_count": 39,
   "metadata": {},
   "outputs": [
    {
     "data": {
      "image/png": "[encoded data removed]",
      "text/plain": [
       "<matplotlib.figure.Figure at 0x7f56c4213358>"
      ]
     },
     "metadata": {},
     "output_type": "display_data"
    }
   ],
   "source": [
    "plt.hist(test.rating)\n",
    "plt.show()"
   ]
  },
  {
   "cell_type": "code",
   "execution_count": 235,
   "metadata": {},
   "outputs": [
    {
     "name": "stdout",
     "output_type": "stream",
     "text": [
      "3.000000 |u 731 |i 2157\r\n",
      "3.500000 |u 731 |i 12958\r\n"
     ]
    }
   ],
   "source": [
    "!head -n 2 ./ml20m_train_prepared.csv"
   ]
  },
  {
   "cell_type": "code",
   "execution_count": 46,
   "metadata": {},
   "outputs": [],
   "source": [
    "ans = answer.copy()\n",
    "\n",
    "ans.rating = test.rating\n",
    "\n",
    "ans.to_csv(\"to_send.csv\", index=False)"
   ]
  },
  {
   "cell_type": "code",
   "execution_count": 47,
   "metadata": {},
   "outputs": [
    {
     "name": "stdout",
     "output_type": "stream",
     "text": [
      "Id,rating\n",
      "1,4.0\n",
      "2,2.5\n",
      "3,4.5\n",
      "4,2.0\n",
      "5,1.0\n",
      "6,5.0\n",
      "7,3.0\n",
      "8,3.5\n",
      "9,5.0\n",
      "Id,rating\n",
      "1,4.06736645397\n",
      "2,3.27197671552\n",
      "3,3.93016897732\n",
      "4,3.57596719798\n",
      "5,3.58274815913\n",
      "6,2.66036184182\n",
      "7,3.06538973002\n",
      "8,3.93153790937\n",
      "9,3.28866011407\n"
     ]
    }
   ],
   "source": [
    "!head to_send.csv\n",
    "!head data/baseline.csv"
   ]
  },
  {
   "cell_type": "code",
   "execution_count": null,
   "metadata": {},
   "outputs": [],
   "source": []
  }
 ],
 "metadata": {
  "kernelspec": {
   "display_name": "Python 3",
   "language": "python",
   "name": "python3"
  },
  "language_info": {
   "codemirror_mode": {
    "name": "ipython",
    "version": 3
   },
   "file_extension": ".py",
   "mimetype": "text/x-python",
   "name": "python",
   "nbconvert_exporter": "python",
   "pygments_lexer": "ipython3",
   "version": "3.5.2"
  }
 },
 "nbformat": 4,
 "nbformat_minor": 1
}
