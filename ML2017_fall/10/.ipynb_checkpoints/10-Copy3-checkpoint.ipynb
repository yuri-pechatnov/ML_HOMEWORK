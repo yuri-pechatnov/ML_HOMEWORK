{
 "cells": [
  {
   "cell_type": "markdown",
   "metadata": {},
   "source": [
    "<span style=\"font-size: 14pt\">MIPT, Advanced ML, Autumn 2017</span>\n",
    "\n",
    "<span style=\"font-size: 16pt\"> HW #10: Recommender Systems\n",
    "\n",
    "<span style=\"color:blue; font-size: 12pt\">Andrey Saitgalin </span>,\n",
    "<span style=\"color:blue; font-size: 12pt; font-family: 'Verdana'\"> andrey.saitgalin@gmail.com </span>"
   ]
  },
  {
   "cell_type": "markdown",
   "metadata": {},
   "source": [
    "<h1 align=\"center\">Organization Info</h1> \n",
    "\n",
    "* Дедлайн **18 декабря 23:59** для всех групп.\n",
    "* В качестве решения задания нужно прислать ноутбук с подробными комментариями (<span style='color:red'> без присланного решения результат контеста не будет засчитан </span>).\n",
    "* <span style='color:red'>Название команды в контесте должно соответствовать шаблону: НомерГруппы_Имя_Фамилия, например, 494_Ivan_Ivanov</span>."
   ]
  },
  {
   "cell_type": "markdown",
   "metadata": {},
   "source": [
    "**Оформление дз**: \n",
    "- Присылайте выполненное задание на почту ``ml.course.mipt@gmail.com``\n",
    "- Укажите тему письма в следующем формате ``ML2017_Aut_fall <номер_группы> <фамилия>``, к примеру -- ``ML2017_Aut_fall 401 ivanov``\n",
    "- Выполненное дз сохраните в файл ``<фамилия>_<группа>_task<номер>.ipnb``, к примеру -- ``ivanov_401_task10.ipnb``\n",
    "\n",
    "**Вопросы**:\n",
    "- Присылайте вопросы на почту ``ml.course.mipt@gmail.com``\n",
    "- Укажите тему письма в следующем формате ``ML2017_Aut_fall Question <Содержание вопроса>``\n",
    "\n",
    "\n",
    "--------\n",
    "- **PS1**: Мы используем автоматические фильтры, и просто не найдем ваше дз, если вы не аккуратно его подпишите.\n",
    "- **PS2**: Напоминаем, что дедлайны жесткие, письма пришедшие после автоматически удаляются =( чтобы соблазна не было."
   ]
  },
  {
   "cell_type": "markdown",
   "metadata": {},
   "source": [
    "<h1 align=\"center\">Contest (100%)</h1> \n",
    "* Ссылка на контест: https://www.kaggle.com/t/f37413eb448145acba822f3a8c43946d"
   ]
  },
  {
   "cell_type": "code",
   "execution_count": 10,
   "metadata": {},
   "outputs": [],
   "source": [
    "import numpy as np\n",
    "\n",
    "import pandas as pd\n",
    "from IPython.display import display\n",
    "\n",
    "from scipy.sparse import coo_matrix\n",
    "import matplotlib.pyplot as plt\n",
    "import seaborn as sns\n",
    "\n",
    "from collections import Counter\n",
    "\n",
    "\n",
    "import numpy as np\n",
    "import pandas as pd\n",
    "from scipy.sparse import coo_matrix, csr_matrix, csc_matrix\n",
    "import matplotlib.pyplot as plt\n",
    "import seaborn as sns\n",
    "from sklearn.metrics.pairwise import cosine_similarity\n",
    "\n",
    "\n",
    "%matplotlib inline\n"
   ]
  },
  {
   "cell_type": "code",
   "execution_count": 11,
   "metadata": {},
   "outputs": [
    {
     "data": {
      "text/html": [
       "<div>\n",
       "<style>\n",
       "    .dataframe thead tr:only-child th {\n",
       "        text-align: right;\n",
       "    }\n",
       "\n",
       "    .dataframe thead th {\n",
       "        text-align: left;\n",
       "    }\n",
       "\n",
       "    .dataframe tbody tr th {\n",
       "        vertical-align: top;\n",
       "    }\n",
       "</style>\n",
       "<table border=\"1\" class=\"dataframe\">\n",
       "  <thead>\n",
       "    <tr style=\"text-align: right;\">\n",
       "      <th></th>\n",
       "      <th>rating</th>\n",
       "      <th>movieId</th>\n",
       "      <th>userId</th>\n",
       "    </tr>\n",
       "  </thead>\n",
       "  <tbody>\n",
       "    <tr>\n",
       "      <th>0</th>\n",
       "      <td>3.0</td>\n",
       "      <td>2158</td>\n",
       "      <td>10953099004185006703</td>\n",
       "    </tr>\n",
       "    <tr>\n",
       "      <th>1</th>\n",
       "      <td>3.5</td>\n",
       "      <td>12959</td>\n",
       "      <td>10953099004185006703</td>\n",
       "    </tr>\n",
       "    <tr>\n",
       "      <th>2</th>\n",
       "      <td>3.5</td>\n",
       "      <td>7808</td>\n",
       "      <td>10953099004185006703</td>\n",
       "    </tr>\n",
       "    <tr>\n",
       "      <th>3</th>\n",
       "      <td>4.0</td>\n",
       "      <td>9049</td>\n",
       "      <td>4762492897681260571</td>\n",
       "    </tr>\n",
       "    <tr>\n",
       "      <th>4</th>\n",
       "      <td>3.0</td>\n",
       "      <td>12363</td>\n",
       "      <td>2110017552365950661</td>\n",
       "    </tr>\n",
       "  </tbody>\n",
       "</table>\n",
       "</div>"
      ],
      "text/plain": [
       "   rating  movieId                userId\n",
       "0     3.0     2158  10953099004185006703\n",
       "1     3.5    12959  10953099004185006703\n",
       "2     3.5     7808  10953099004185006703\n",
       "3     4.0     9049   4762492897681260571\n",
       "4     3.0    12363   2110017552365950661"
      ]
     },
     "execution_count": 11,
     "metadata": {},
     "output_type": "execute_result"
    }
   ],
   "source": [
    "train = pd.read_csv(\"data/train.csv\")\n",
    "train.head()"
   ]
  },
  {
   "cell_type": "code",
   "execution_count": 12,
   "metadata": {},
   "outputs": [],
   "source": [
    "train.userId = train.userId.astype('uint64')"
   ]
  },
  {
   "cell_type": "code",
   "execution_count": 13,
   "metadata": {},
   "outputs": [
    {
     "data": {
      "text/html": [
       "<div>\n",
       "<style>\n",
       "    .dataframe thead tr:only-child th {\n",
       "        text-align: right;\n",
       "    }\n",
       "\n",
       "    .dataframe thead th {\n",
       "        text-align: left;\n",
       "    }\n",
       "\n",
       "    .dataframe tbody tr th {\n",
       "        vertical-align: top;\n",
       "    }\n",
       "</style>\n",
       "<table border=\"1\" class=\"dataframe\">\n",
       "  <thead>\n",
       "    <tr style=\"text-align: right;\">\n",
       "      <th></th>\n",
       "      <th>rating</th>\n",
       "      <th>movieId</th>\n",
       "      <th>userId</th>\n",
       "    </tr>\n",
       "  </thead>\n",
       "  <tbody>\n",
       "    <tr>\n",
       "      <th>0</th>\n",
       "      <td>3.0</td>\n",
       "      <td>2158</td>\n",
       "      <td>10953099004185006703</td>\n",
       "    </tr>\n",
       "    <tr>\n",
       "      <th>1</th>\n",
       "      <td>3.5</td>\n",
       "      <td>12959</td>\n",
       "      <td>10953099004185006703</td>\n",
       "    </tr>\n",
       "  </tbody>\n",
       "</table>\n",
       "</div>"
      ],
      "text/plain": [
       "   rating  movieId                userId\n",
       "0     3.0     2158  10953099004185006703\n",
       "1     3.5    12959  10953099004185006703"
      ]
     },
     "execution_count": 13,
     "metadata": {},
     "output_type": "execute_result"
    }
   ],
   "source": [
    "train.head(2)"
   ]
  },
  {
   "cell_type": "code",
   "execution_count": 14,
   "metadata": {},
   "outputs": [
    {
     "data": {
      "text/plain": [
       "57043719"
      ]
     },
     "metadata": {},
     "output_type": "display_data"
    },
    {
     "data": {
      "text/plain": [
       "18345"
      ]
     },
     "metadata": {},
     "output_type": "display_data"
    },
    {
     "data": {
      "text/plain": [
       "138493"
      ]
     },
     "metadata": {},
     "output_type": "display_data"
    }
   ],
   "source": [
    "display(train.size)\n",
    "display(train.movieId.max())\n",
    "display(len(set(train.userId)))"
   ]
  },
  {
   "cell_type": "code",
   "execution_count": 15,
   "metadata": {},
   "outputs": [
    {
     "data": {
      "text/html": [
       "<div>\n",
       "<style>\n",
       "    .dataframe thead tr:only-child th {\n",
       "        text-align: right;\n",
       "    }\n",
       "\n",
       "    .dataframe thead th {\n",
       "        text-align: left;\n",
       "    }\n",
       "\n",
       "    .dataframe tbody tr th {\n",
       "        vertical-align: top;\n",
       "    }\n",
       "</style>\n",
       "<table border=\"1\" class=\"dataframe\">\n",
       "  <thead>\n",
       "    <tr style=\"text-align: right;\">\n",
       "      <th></th>\n",
       "      <th>movieId</th>\n",
       "      <th>userId</th>\n",
       "    </tr>\n",
       "  </thead>\n",
       "  <tbody>\n",
       "    <tr>\n",
       "      <th>0</th>\n",
       "      <td>939</td>\n",
       "      <td>3128775406573976678</td>\n",
       "    </tr>\n",
       "    <tr>\n",
       "      <th>1</th>\n",
       "      <td>19</td>\n",
       "      <td>6058877902987009152</td>\n",
       "    </tr>\n",
       "    <tr>\n",
       "      <th>2</th>\n",
       "      <td>1213</td>\n",
       "      <td>2787275058272728238</td>\n",
       "    </tr>\n",
       "    <tr>\n",
       "      <th>3</th>\n",
       "      <td>1141</td>\n",
       "      <td>14199414671932452776</td>\n",
       "    </tr>\n",
       "    <tr>\n",
       "      <th>4</th>\n",
       "      <td>2935</td>\n",
       "      <td>5958052843391945803</td>\n",
       "    </tr>\n",
       "  </tbody>\n",
       "</table>\n",
       "</div>"
      ],
      "text/plain": [
       "   movieId                userId\n",
       "0      939   3128775406573976678\n",
       "1       19   6058877902987009152\n",
       "2     1213   2787275058272728238\n",
       "3     1141  14199414671932452776\n",
       "4     2935   5958052843391945803"
      ]
     },
     "execution_count": 15,
     "metadata": {},
     "output_type": "execute_result"
    }
   ],
   "source": [
    "test = pd.read_csv(\"data/test.csv\")\n",
    "test.userId = test.userId.astype('uint64')\n",
    "test.head()"
   ]
  },
  {
   "cell_type": "code",
   "execution_count": 19,
   "metadata": {},
   "outputs": [],
   "source": [
    "user_to_compress_id = {}\n",
    "compress_to_user_id = {}\n",
    "\n",
    "def add_id_to_compress(i):\n",
    "    if i not in user_to_compress_id:\n",
    "        cid = len(compress_to_user_id)\n",
    "        user_to_compress_id[i] = cid\n",
    "        compress_to_user_id[cid] = i\n",
    "\n",
    "for i, row in test.iterrows():\n",
    "    add_id_to_compress(row.userId)\n",
    "    \n",
    "for i, row in train.iterrows():\n",
    "    add_id_to_compress(row.userId)\n",
    "        \n",
    "        "
   ]
  },
  {
   "cell_type": "code",
   "execution_count": 24,
   "metadata": {},
   "outputs": [
    {
     "data": {
      "text/html": [
       "<div>\n",
       "<style>\n",
       "    .dataframe thead tr:only-child th {\n",
       "        text-align: right;\n",
       "    }\n",
       "\n",
       "    .dataframe thead th {\n",
       "        text-align: left;\n",
       "    }\n",
       "\n",
       "    .dataframe tbody tr th {\n",
       "        vertical-align: top;\n",
       "    }\n",
       "</style>\n",
       "<table border=\"1\" class=\"dataframe\">\n",
       "  <thead>\n",
       "    <tr style=\"text-align: right;\">\n",
       "      <th></th>\n",
       "      <th>movieId</th>\n",
       "      <th>userId</th>\n",
       "      <th>userId2</th>\n",
       "    </tr>\n",
       "  </thead>\n",
       "  <tbody>\n",
       "    <tr>\n",
       "      <th>0</th>\n",
       "      <td>939</td>\n",
       "      <td>3128775406573976678</td>\n",
       "      <td>0</td>\n",
       "    </tr>\n",
       "    <tr>\n",
       "      <th>1</th>\n",
       "      <td>19</td>\n",
       "      <td>6058877902987009152</td>\n",
       "      <td>1</td>\n",
       "    </tr>\n",
       "    <tr>\n",
       "      <th>2</th>\n",
       "      <td>1213</td>\n",
       "      <td>2787275058272728238</td>\n",
       "      <td>2</td>\n",
       "    </tr>\n",
       "    <tr>\n",
       "      <th>3</th>\n",
       "      <td>1141</td>\n",
       "      <td>14199414671932452776</td>\n",
       "      <td>3</td>\n",
       "    </tr>\n",
       "    <tr>\n",
       "      <th>4</th>\n",
       "      <td>2935</td>\n",
       "      <td>5958052843391945803</td>\n",
       "      <td>4</td>\n",
       "    </tr>\n",
       "  </tbody>\n",
       "</table>\n",
       "</div>"
      ],
      "text/plain": [
       "   movieId                userId  userId2\n",
       "0      939   3128775406573976678        0\n",
       "1       19   6058877902987009152        1\n",
       "2     1213   2787275058272728238        2\n",
       "3     1141  14199414671932452776        3\n",
       "4     2935   5958052843391945803        4"
      ]
     },
     "metadata": {},
     "output_type": "display_data"
    }
   ],
   "source": [
    "test[\"userId2\"] = test[\"userId\"]\n",
    "\n",
    "ui2 = []\n",
    "\n",
    "for i, row in test.iterrows():\n",
    "    ui2.append(user_to_compress_id[row.userId])\n",
    "\n",
    "test[\"userId2\"] = np.array(ui2)\n",
    "\n",
    "display(test.head())"
   ]
  },
  {
   "cell_type": "code",
   "execution_count": 25,
   "metadata": {},
   "outputs": [
    {
     "data": {
      "text/html": [
       "<div>\n",
       "<style>\n",
       "    .dataframe thead tr:only-child th {\n",
       "        text-align: right;\n",
       "    }\n",
       "\n",
       "    .dataframe thead th {\n",
       "        text-align: left;\n",
       "    }\n",
       "\n",
       "    .dataframe tbody tr th {\n",
       "        vertical-align: top;\n",
       "    }\n",
       "</style>\n",
       "<table border=\"1\" class=\"dataframe\">\n",
       "  <thead>\n",
       "    <tr style=\"text-align: right;\">\n",
       "      <th></th>\n",
       "      <th>rating</th>\n",
       "      <th>movieId</th>\n",
       "      <th>userId</th>\n",
       "      <th>userId2</th>\n",
       "    </tr>\n",
       "  </thead>\n",
       "  <tbody>\n",
       "    <tr>\n",
       "      <th>0</th>\n",
       "      <td>3.0</td>\n",
       "      <td>2158</td>\n",
       "      <td>10953099004185006703</td>\n",
       "      <td>731</td>\n",
       "    </tr>\n",
       "    <tr>\n",
       "      <th>1</th>\n",
       "      <td>3.5</td>\n",
       "      <td>12959</td>\n",
       "      <td>10953099004185006703</td>\n",
       "      <td>731</td>\n",
       "    </tr>\n",
       "    <tr>\n",
       "      <th>2</th>\n",
       "      <td>3.5</td>\n",
       "      <td>7808</td>\n",
       "      <td>10953099004185006703</td>\n",
       "      <td>731</td>\n",
       "    </tr>\n",
       "    <tr>\n",
       "      <th>3</th>\n",
       "      <td>4.0</td>\n",
       "      <td>9049</td>\n",
       "      <td>4762492897681260571</td>\n",
       "      <td>3052</td>\n",
       "    </tr>\n",
       "    <tr>\n",
       "      <th>4</th>\n",
       "      <td>3.0</td>\n",
       "      <td>12363</td>\n",
       "      <td>2110017552365950661</td>\n",
       "      <td>125</td>\n",
       "    </tr>\n",
       "  </tbody>\n",
       "</table>\n",
       "</div>"
      ],
      "text/plain": [
       "   rating  movieId                userId  userId2\n",
       "0     3.0     2158  10953099004185006703      731\n",
       "1     3.5    12959  10953099004185006703      731\n",
       "2     3.5     7808  10953099004185006703      731\n",
       "3     4.0     9049   4762492897681260571     3052\n",
       "4     3.0    12363   2110017552365950661      125"
      ]
     },
     "metadata": {},
     "output_type": "display_data"
    }
   ],
   "source": [
    "train[\"userId2\"] = train[\"userId\"]\n",
    "\n",
    "ui2 = []\n",
    "\n",
    "for i, row in train.iterrows():\n",
    "    ui2.append(user_to_compress_id[row.userId])\n",
    "\n",
    "train[\"userId2\"] = np.array(ui2)\n",
    "\n",
    "display(train.head())"
   ]
  },
  {
   "cell_type": "code",
   "execution_count": 28,
   "metadata": {},
   "outputs": [],
   "source": [
    "#test.to_csv(\"test2.csv\")\n",
    "#train.to_csv('train2.csv')"
   ]
  },
  {
   "cell_type": "code",
   "execution_count": null,
   "metadata": {},
   "outputs": [],
   "source": [
    "\n"
   ]
  },
  {
   "cell_type": "code",
   "execution_count": 33,
   "metadata": {},
   "outputs": [],
   "source": [
    "import time\n",
    "from scipy.sparse.linalg import svds\n",
    "\n",
    "df = train\n",
    "\n",
    "# df[\"random\"] = np.random.random(size=(df.shape[0], 1))\n",
    "# idx = df.sort_values(by=\"random\") \\\n",
    "#     .reset_index() \\\n",
    "#     .groupby(\"userId\") \\\n",
    "#     .head(n=7)[\"index\"]\n",
    "\n",
    "# mask = df.index.isin(idx)\n",
    "# train_df = df[~mask]\n",
    "# test_df = df[mask]\n",
    "\n",
    "train_df = df\n",
    "    \n",
    "train_M = csr_matrix(\n",
    "    (train_df[\"rating\"], (train_df[\"userId2\"], train_df[\"movieId\"] - 1)), shape=(138493, 26744))"
   ]
  },
  {
   "cell_type": "code",
   "execution_count": 175,
   "metadata": {},
   "outputs": [],
   "source": [
    "\n",
    "train_M_mean = train_M.mean()\n",
    "\n",
    "U, S, Vt = svds(train_M, k=100)"
   ]
  },
  {
   "cell_type": "code",
   "execution_count": 176,
   "metadata": {},
   "outputs": [],
   "source": [
    "class ErrorAggregator(object):\n",
    "    def __init__(self):\n",
    "        self.sum_ = 0.0\n",
    "        self.count = 0\n",
    "        \n",
    "    def add_value(self, x, count):\n",
    "        self.sum_ += x\n",
    "        self.count += count\n",
    "        \n",
    "    def get_rmse(self):\n",
    "        return np.sqrt(self.sum_ / (self.count - 1))\n",
    "    \n",
    "svd_error = ErrorAggregator()\n",
    "mean_error = ErrorAggregator()\n",
    "times = []"
   ]
  },
  {
   "cell_type": "code",
   "execution_count": 177,
   "metadata": {},
   "outputs": [
    {
     "name": "stdout",
     "output_type": "stream",
     "text": [
      "RMSE: 1.96161754034\n",
      "Random RMSE: 3.39853112719\n",
      "Average evaluation time: 0.000253323939248\n"
     ]
    }
   ],
   "source": [
    "for user_id, group in train[:10000].groupby(\"userId2\"):\n",
    "    start_time = time.time()\n",
    "    \n",
    "    uvec = U[user_id, :] * S\n",
    "    \n",
    "    movie_ids = group[\"movieId\"] - 1\n",
    "    ratings = group[\"rating\"]\n",
    "    \n",
    "    diff = (uvec.dot(Vt[:, movie_ids]) - ratings.values) ** 2\n",
    "    svd_error.add_value(np.sum(diff), len(diff))\n",
    "    \n",
    "    mean_diff = (ratings.values - train_M_mean) ** 2\n",
    "    mean_error.add_value(np.sum(mean_diff), len(mean_diff))\n",
    "    \n",
    "    times.append(time.time() - start_time)\n",
    "\n",
    "print(\"RMSE:\", svd_error.get_rmse())\n",
    "print(\"Random RMSE:\", mean_error.get_rmse())\n",
    "print(\"Average evaluation time:\", np.mean(times))"
   ]
  },
  {
   "cell_type": "code",
   "execution_count": 195,
   "metadata": {},
   "outputs": [
    {
     "name": "stdout",
     "output_type": "stream",
     "text": [
      "3.25025\n"
     ]
    },
    {
     "data": {
      "image/png": "[encoded data removed]",
      "text/plain": [
       "<matplotlib.figure.Figure at 0x7f8d81e737f0>"
      ]
     },
     "metadata": {},
     "output_type": "display_data"
    },
    {
     "name": "stdout",
     "output_type": "stream",
     "text": [
      "1.18714994841\n"
     ]
    }
   ],
   "source": [
    "results = []\n",
    "\n",
    "tt = train[:10000].copy()\n",
    "\n",
    "for user_id, group in tt.groupby(\"userId2\"):\n",
    "    start_time = time.time()\n",
    "    uvec = U[user_id, :] * S\n",
    "    movie_ids = group[\"movieId\"] - 1    \n",
    "    results.append((user_id, movie_ids, uvec.dot(Vt[:, movie_ids])))\n",
    "\n",
    "    \n",
    "res2 = {}\n",
    "for r in results:\n",
    "    for m, ri in zip(r[1], r[2]):\n",
    "        res2[(int(r[0]), int(m))] = ri\n",
    "        \n",
    "prating = []\n",
    "\n",
    "for i, row in tt.iterrows():\n",
    "    prating.append(res2[(int(row.userId2), int(row.movieId) - 1)])\n",
    "    \n",
    "\n",
    "\n",
    "prating = reshape(np.array(prating), hist_shape, hist_xs)\n",
    "    \n",
    "tt[\"rating2\"] = np.array(prating)\n",
    "\n",
    "print(tt.rating.mean())\n",
    "\n",
    "plt.hist(tt.rating)\n",
    "plt.show()\n",
    "\n",
    "tt.head()\n",
    "\n",
    "print((((tt[\"rating\"] - tt[\"rating2\"]) ** 2).sum() / len(tt)) ** 0.5)"
   ]
  },
  {
   "cell_type": "code",
   "execution_count": 203,
   "metadata": {},
   "outputs": [],
   "source": [
    "results = []\n",
    "\n",
    "for user_id, group in test.groupby(\"userId2\"):\n",
    "    start_time = time.time()\n",
    "    uvec = U[user_id, :] * S\n",
    "    movie_ids = group[\"movieId\"] - 1    \n",
    "    results.append((user_id, movie_ids, uvec.dot(Vt[:, movie_ids])))\n"
   ]
  },
  {
   "cell_type": "code",
   "execution_count": 204,
   "metadata": {},
   "outputs": [],
   "source": [
    "res2 = {}\n",
    "for r in results:\n",
    "    for m, ri in zip(r[1], r[2]):\n",
    "        res2[(int(r[0]), int(m))] = ri"
   ]
  },
  {
   "cell_type": "code",
   "execution_count": 205,
   "metadata": {},
   "outputs": [],
   "source": [
    "prating = []\n",
    "\n",
    "for i, row in test.iterrows():\n",
    "    prating.append(res2[(int(row.userId2), int(row.movieId) - 1)])"
   ]
  },
  {
   "cell_type": "code",
   "execution_count": 206,
   "metadata": {},
   "outputs": [],
   "source": [
    "prating = np.array(prating)\n",
    "test[\"rating\"] = prating"
   ]
  },
  {
   "cell_type": "code",
   "execution_count": null,
   "metadata": {},
   "outputs": [],
   "source": []
  },
  {
   "cell_type": "code",
   "execution_count": 183,
   "metadata": {},
   "outputs": [
    {
     "name": "stdout",
     "output_type": "stream",
     "text": [
      "3.65559799577\n",
      "0.822592502529\n"
     ]
    }
   ],
   "source": [
    "answer = pd.read_csv('data/baseline.csv')\n",
    "print(answer.rating.mean())\n",
    "answer[\"rating\"] = test[\"rating\"]\n",
    "print(answer.rating.mean())\n",
    "answer.to_csv(\"to_send.csv\", index=False)\n"
   ]
  },
  {
   "cell_type": "code",
   "execution_count": 184,
   "metadata": {},
   "outputs": [
    {
     "data": {
      "text/plain": [
       "3.5207268919475605"
      ]
     },
     "execution_count": 184,
     "metadata": {},
     "output_type": "execute_result"
    }
   ],
   "source": [
    "train.rating.mean()"
   ]
  },
  {
   "cell_type": "code",
   "execution_count": 185,
   "metadata": {},
   "outputs": [
    {
     "data": {
      "image/png": "[encoded data removed]",
      "text/plain": [
       "<matplotlib.figure.Figure at 0x7f8d81e5aa90>"
      ]
     },
     "metadata": {},
     "output_type": "display_data"
    }
   ],
   "source": [
    "plt.hist(answer.rating, bins=50)\n",
    "plt.show()"
   ]
  },
  {
   "cell_type": "code",
   "execution_count": 186,
   "metadata": {},
   "outputs": [
    {
     "data": {
      "text/plain": [
       "0.82259250252904903"
      ]
     },
     "execution_count": 186,
     "metadata": {},
     "output_type": "execute_result"
    }
   ],
   "source": [
    "answer.rating.mean()"
   ]
  },
  {
   "cell_type": "code",
   "execution_count": null,
   "metadata": {},
   "outputs": [],
   "source": []
  },
  {
   "cell_type": "code",
   "execution_count": 187,
   "metadata": {},
   "outputs": [
    {
     "data": {
      "image/png": "[encoded data removed]",
      "text/plain": [
       "<matplotlib.figure.Figure at 0x7f8df7950b38>"
      ]
     },
     "metadata": {},
     "output_type": "display_data"
    }
   ],
   "source": [
    "a = plt.hist(train.rating, bins=10)\n",
    "plt.show()"
   ]
  },
  {
   "cell_type": "code",
   "execution_count": 188,
   "metadata": {},
   "outputs": [
    {
     "data": {
      "text/plain": [
       "array([ 0.01195515,  0.03404094,  0.01410676,  0.07200356,  0.04487432,\n",
       "        0.21409095,  0.11150101,  0.27782659,  0.07696208,  0.14263865])"
      ]
     },
     "metadata": {},
     "output_type": "display_data"
    },
    {
     "data": {
      "text/plain": [
       "array([ 0. ,  0.5,  1. ,  1.5,  2. ,  2.5,  3. ,  3.5,  4. ,  4.5,  5. ])"
      ]
     },
     "metadata": {},
     "output_type": "display_data"
    },
    {
     "data": {
      "text/plain": [
       "[(0.0, 0.011955146192344156),\n",
       " (0.5, 0.034040943228122976),\n",
       " (1.0, 0.014106759063166972),\n",
       " (1.5, 0.072003562741061816),\n",
       " (2.0, 0.044874318240015171),\n",
       " (2.5, 0.21409095013598253),\n",
       " (3.0, 0.11150100504492003),\n",
       " (3.5, 0.27782659121506437),\n",
       " (4.0, 0.076962075351363401),\n",
       " (4.5, 0.14263864878795859)]"
      ]
     },
     "metadata": {},
     "output_type": "display_data"
    }
   ],
   "source": [
    "hist_shape = a[0] / a[0].sum()\n",
    "display(hist_shape)\n",
    "hist_xs = np.arange(0.0, 5.1, 0.5)\n",
    "display(hist_xs)\n",
    "hist_pairs = list(zip(hist_xs, hist_shape))\n",
    "display(hist_pairs)"
   ]
  },
  {
   "cell_type": "code",
   "execution_count": 207,
   "metadata": {},
   "outputs": [],
   "source": [
    "def remap(x, l, u, nl, nu):\n",
    "    return nl + (x - l) / (u - l) * (nu - nl)\n",
    "    \n",
    "def reshape(values, hist_shape, hist_xs):\n",
    "    enuv = list(enumerate(values))\n",
    "    values = sorted(enuv, key=lambda x: x[1])\n",
    "    bounds = [0] + [int(len(enuv) * x) for x in hist_shape.cumsum()]\n",
    "    bounds[-1] = len(values)\n",
    "    for i in range(len(bounds) - 1):\n",
    "        l = hist_xs[i - 1] if i != 0 else hist_xs[i]\n",
    "        u = hist_xs[i + 1] if i != len(bounds) - 2 else hist_xs[i]\n",
    "        m = hist_xs[i]\n",
    "        mid = (bounds[i] + bounds[i + 1]) // 2\n",
    "        for j in range(bounds[i], mid):\n",
    "            values[j] = (values[j][0], remap(values[j][1], values[bounds[i]][1], values[mid - 1][1], l, m))\n",
    "        for j in range(mid, bounds[i + 1]):\n",
    "            values[j] = (values[j][0], remap(values[j][1], values[mid][1], \n",
    "                                             values[bounds[i + 1] - 1][1], m, u))\n",
    "    enuv = sorted(values)\n",
    "    return np.array([x[1] for x in enuv])\n",
    "    "
   ]
  },
  {
   "cell_type": "code",
   "execution_count": 209,
   "metadata": {},
   "outputs": [
    {
     "name": "stdout",
     "output_type": "stream",
     "text": [
      "[(1.8841814237484198, 4.6419229434025029), (0.50949306476392631, 3.5071885106837422), (2.4357414779557973, 4.5), (0.046958243747968462, 2.0048590208577846), (1.2060659473415989, 4.0434118105124011), (0.18028532523194474, 2.5020815785412589), (0.17256062852209667, 2.5042129170261385), (1.4638445597770198, 4.0276964246104772), (0.61358712696428219, 3.5663330274438652), (1.4687966998654725, 4.0264130124665787), (3.2683751522362483, 4.5), (0.88734719502798787, 3.5013654898096362), (0.85670521522521714, 3.5086373099479937), (2.1487729657886634, 4.5616479220125381), (0.15669067244181251, 2.5085916323877568), (3.8677157954343087, 4.5), (0.52264672234370546, 3.5045097853593736), (1.2123543866749205, 4.041922137258954), (2.209280366810134, 4.5432904459050407), (0.031595481190452961, 2.0042487677882237), (1.0520575549950719, 4.0798949775947957), (1.3597620059024011, 4.0070026324218819), (1.6173154289332794, 4.5378899731369691), (1.2851192466628154, 4.0246848133429154), (0.65745082499448926, 3.5559234871748631), (-0.36538297798927166, 0.0), (0.94806936679467446, 4.1045288198608345), (0.9311161446256937, 4.1085448817620858), (1.6681970982967766, 4.5264034591017346), (1.0245310410572213, 4.0864157547543343), (1.274413876814684, 4.0272208166794696), (3.4581617019526472, 4.5), (2.2325685443996757, 4.5362249934732723), (0.78611890545665108, 3.5253885431310725), (0.48001154614336233, 3.5131923837548449), (1.4098718233042891, 4.0416841681296969), (0.62478619387340328, 3.5636753140452946), (0.98571836389618572, 4.0956101198418873), (2.5622718471958619, 4.5), (1.0875045894560522, 4.0714979022074651), (3.9562569839111532, 4.5), (0.47088965019883217, 3.5150500460457068), (2.9395038127464286, 4.5), (-0.14216055198211816, 1.0213452545410209), (4.6181383520573744, 4.5), (0.99592236831196246, 4.0931928853500636), (2.0053660204799248, 4.6051564767961137), (3.0646127541707284, 4.5), (0.067974479932864762, 2.5029283124306509), (0.8833505952039471, 3.5023139453360894), (0.51123609086674682, 3.5068335456761508), (0.72560448535616096, 3.5397495596704798), (2.6165347509256458, 4.5), (0.81064586444186126, 3.5195679128901638), (1.4102568582803567, 4.0415843812587111), (2.2869394798123324, 4.519729273430265), (1.2090654758344042, 4.0427012498896708), (0.78822290763814695, 3.5248892305692525), (0.70456161793355032, 3.5447433605957936), (0.27613558539583927, 3.0142147748537109), (0.82366559007679419, 3.5164781287548896), (0.90658935160621779, 4.1143550527150516), (0.33747536950642265, 3.000031435676707), (0.95110961729248911, 4.1038086125708668), (0.76268825527819162, 3.5309490021784065), (0.96767929905152217, 4.0998834078537323), (0.043909806596675205, 2.0000200397145282), (1.9199085686224313, 4.6310836047870332), (2.1021382128852615, 4.5757965442926372), (1.5492198665099095, 4.0055702925760608), (0.0095466568777953786, 1.5047930300014185), (0.035870742161806357, 2.0027806470836333), (1.1041654364741988, 4.0675511012816452), (1.691900270666767, 4.5210524785715478), (1.6479689666421664, 4.5309699507491947), (1.3563919205394441, 4.007800974547953), (0.14799901910647589, 2.5109897660552205), (0.63323857094975255, 3.5616694330207519), (4.0039911436814659, 4.5), (-0.020367227452511294, 1.0080795521234691), (0.12436676346703013, 2.5175101949886498), (2.228337832015816, 4.5375085587924442), (0.15061098023811384, 2.51026909397061), (0.84614407318539198, 3.511143633816868), (2.6013104252846908, 4.5), (3.4064870000518903, 4.5), (2.0644590490496189, 4.587228110319046), (1.8638979636348998, 4.6480767878599636), (0.95100631023554982, 4.1038330850594225), (1.0433086719621225, 4.0819675072577066), (0.85458399066775748, 3.5091407096484764), (1.5236274526275935, 4.0122029027570258), (0.56822711091990896, 3.5770976673356345), (1.2749256578250958, 4.0270995804804031), (4.1851591821736855, 4.5), (0.88990704325527159, 3.5007579978652474), (0.65925699774570534, 3.5554948541860618), (2.6077056142276005, 4.5), (0.090537861359944849, 2.5268440036377493), (1.2942563994914607, 4.0225203061480421)]\n",
      "3.65559799577\n",
      "3.27073236814\n"
     ]
    }
   ],
   "source": [
    "prating = np.array(prating)\n",
    "\n",
    "\n",
    "prating2 = reshape(prating, hist_shape, hist_xs)\n",
    "\n",
    "\n",
    "print(list(zip(prating[:100], prating2[:100])))\n",
    "\n",
    "test[\"rating\"] = prating2\n",
    "\n",
    "answer = pd.read_csv('data/baseline.csv')\n",
    "print(answer.rating.mean())\n",
    "answer[\"rating\"] = test[\"rating\"]\n",
    "print(answer.rating.mean())\n",
    "answer.to_csv(\"to_send.csv\", index=False)"
   ]
  },
  {
   "cell_type": "code",
   "execution_count": 211,
   "metadata": {},
   "outputs": [
    {
     "data": {
      "image/png": "[encoded data removed]",
      "text/plain": [
       "<matplotlib.figure.Figure at 0x7f8dae09a2b0>"
      ]
     },
     "metadata": {},
     "output_type": "display_data"
    }
   ],
   "source": [
    "plt.hist(answer.rating)\n",
    "plt.show()"
   ]
  },
  {
   "cell_type": "code",
   "execution_count": null,
   "metadata": {},
   "outputs": [],
   "source": []
  },
  {
   "cell_type": "code",
   "execution_count": null,
   "metadata": {},
   "outputs": [],
   "source": []
  }
 ],
 "metadata": {
  "kernelspec": {
   "display_name": "Python 3",
   "language": "python",
   "name": "python3"
  },
  "language_info": {
   "codemirror_mode": {
    "name": "ipython",
    "version": 3
   },
   "file_extension": ".py",
   "mimetype": "text/x-python",
   "name": "python",
   "nbconvert_exporter": "python",
   "pygments_lexer": "ipython3",
   "version": "3.5.2"
  }
 },
 "nbformat": 4,
 "nbformat_minor": 1
}
