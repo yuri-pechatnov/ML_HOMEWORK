{
 "cells": [
  {
   "cell_type": "markdown",
   "metadata": {},
   "source": [
    "<span style=\"font-size: 14pt\">MIPT, Advanced ML, Autumn 2017</span>\n",
    "\n",
    "<span style=\"font-size: 16pt\"> HW #10: Recommender Systems\n",
    "\n",
    "<span style=\"color:blue; font-size: 12pt\">Andrey Saitgalin </span>,\n",
    "<span style=\"color:blue; font-size: 12pt; font-family: 'Verdana'\"> andrey.saitgalin@gmail.com </span>"
   ]
  },
  {
   "cell_type": "markdown",
   "metadata": {},
   "source": [
    "<h1 align=\"center\">Organization Info</h1> \n",
    "\n",
    "* Дедлайн **18 декабря 23:59** для всех групп.\n",
    "* В качестве решения задания нужно прислать ноутбук с подробными комментариями (<span style='color:red'> без присланного решения результат контеста не будет засчитан </span>).\n",
    "* <span style='color:red'>Название команды в контесте должно соответствовать шаблону: НомерГруппы_Имя_Фамилия, например, 494_Ivan_Ivanov</span>."
   ]
  },
  {
   "cell_type": "markdown",
   "metadata": {},
   "source": [
    "**Оформление дз**: \n",
    "- Присылайте выполненное задание на почту ``ml.course.mipt@gmail.com``\n",
    "- Укажите тему письма в следующем формате ``ML2017_Aut_fall <номер_группы> <фамилия>``, к примеру -- ``ML2017_Aut_fall 401 ivanov``\n",
    "- Выполненное дз сохраните в файл ``<фамилия>_<группа>_task<номер>.ipnb``, к примеру -- ``ivanov_401_task10.ipnb``\n",
    "\n",
    "**Вопросы**:\n",
    "- Присылайте вопросы на почту ``ml.course.mipt@gmail.com``\n",
    "- Укажите тему письма в следующем формате ``ML2017_Aut_fall Question <Содержание вопроса>``\n",
    "\n",
    "\n",
    "--------\n",
    "- **PS1**: Мы используем автоматические фильтры, и просто не найдем ваше дз, если вы не аккуратно его подпишите.\n",
    "- **PS2**: Напоминаем, что дедлайны жесткие, письма пришедшие после автоматически удаляются =( чтобы соблазна не было."
   ]
  },
  {
   "cell_type": "markdown",
   "metadata": {},
   "source": [
    "<h1 align=\"center\">Contest (100%)</h1> \n",
    "* Ссылка на контест: https://www.kaggle.com/t/f37413eb448145acba822f3a8c43946d"
   ]
  },
  {
   "cell_type": "code",
   "execution_count": 10,
   "metadata": {},
   "outputs": [],
   "source": [
    "import numpy as np\n",
    "\n",
    "import pandas as pd\n",
    "from IPython.display import display\n",
    "\n",
    "from scipy.sparse import coo_matrix\n",
    "import matplotlib.pyplot as plt\n",
    "import seaborn as sns\n",
    "\n",
    "from collections import Counter\n",
    "\n",
    "\n",
    "import numpy as np\n",
    "import pandas as pd\n",
    "from scipy.sparse import coo_matrix, csr_matrix, csc_matrix\n",
    "import matplotlib.pyplot as plt\n",
    "import seaborn as sns\n",
    "from sklearn.metrics.pairwise import cosine_similarity\n",
    "\n",
    "\n",
    "%matplotlib inline\n"
   ]
  },
  {
   "cell_type": "code",
   "execution_count": 11,
   "metadata": {},
   "outputs": [
    {
     "data": {
      "text/html": [
       "<div>\n",
       "<style>\n",
       "    .dataframe thead tr:only-child th {\n",
       "        text-align: right;\n",
       "    }\n",
       "\n",
       "    .dataframe thead th {\n",
       "        text-align: left;\n",
       "    }\n",
       "\n",
       "    .dataframe tbody tr th {\n",
       "        vertical-align: top;\n",
       "    }\n",
       "</style>\n",
       "<table border=\"1\" class=\"dataframe\">\n",
       "  <thead>\n",
       "    <tr style=\"text-align: right;\">\n",
       "      <th></th>\n",
       "      <th>rating</th>\n",
       "      <th>movieId</th>\n",
       "      <th>userId</th>\n",
       "    </tr>\n",
       "  </thead>\n",
       "  <tbody>\n",
       "    <tr>\n",
       "      <th>0</th>\n",
       "      <td>3.0</td>\n",
       "      <td>2158</td>\n",
       "      <td>10953099004185006703</td>\n",
       "    </tr>\n",
       "    <tr>\n",
       "      <th>1</th>\n",
       "      <td>3.5</td>\n",
       "      <td>12959</td>\n",
       "      <td>10953099004185006703</td>\n",
       "    </tr>\n",
       "    <tr>\n",
       "      <th>2</th>\n",
       "      <td>3.5</td>\n",
       "      <td>7808</td>\n",
       "      <td>10953099004185006703</td>\n",
       "    </tr>\n",
       "    <tr>\n",
       "      <th>3</th>\n",
       "      <td>4.0</td>\n",
       "      <td>9049</td>\n",
       "      <td>4762492897681260571</td>\n",
       "    </tr>\n",
       "    <tr>\n",
       "      <th>4</th>\n",
       "      <td>3.0</td>\n",
       "      <td>12363</td>\n",
       "      <td>2110017552365950661</td>\n",
       "    </tr>\n",
       "  </tbody>\n",
       "</table>\n",
       "</div>"
      ],
      "text/plain": [
       "   rating  movieId                userId\n",
       "0     3.0     2158  10953099004185006703\n",
       "1     3.5    12959  10953099004185006703\n",
       "2     3.5     7808  10953099004185006703\n",
       "3     4.0     9049   4762492897681260571\n",
       "4     3.0    12363   2110017552365950661"
      ]
     },
     "execution_count": 11,
     "metadata": {},
     "output_type": "execute_result"
    }
   ],
   "source": [
    "train = pd.read_csv(\"data/train.csv\")\n",
    "train.head()"
   ]
  },
  {
   "cell_type": "code",
   "execution_count": 12,
   "metadata": {},
   "outputs": [],
   "source": [
    "train.userId = train.userId.astype('uint64')"
   ]
  },
  {
   "cell_type": "code",
   "execution_count": 13,
   "metadata": {},
   "outputs": [
    {
     "data": {
      "text/html": [
       "<div>\n",
       "<style>\n",
       "    .dataframe thead tr:only-child th {\n",
       "        text-align: right;\n",
       "    }\n",
       "\n",
       "    .dataframe thead th {\n",
       "        text-align: left;\n",
       "    }\n",
       "\n",
       "    .dataframe tbody tr th {\n",
       "        vertical-align: top;\n",
       "    }\n",
       "</style>\n",
       "<table border=\"1\" class=\"dataframe\">\n",
       "  <thead>\n",
       "    <tr style=\"text-align: right;\">\n",
       "      <th></th>\n",
       "      <th>rating</th>\n",
       "      <th>movieId</th>\n",
       "      <th>userId</th>\n",
       "    </tr>\n",
       "  </thead>\n",
       "  <tbody>\n",
       "    <tr>\n",
       "      <th>0</th>\n",
       "      <td>3.0</td>\n",
       "      <td>2158</td>\n",
       "      <td>10953099004185006703</td>\n",
       "    </tr>\n",
       "    <tr>\n",
       "      <th>1</th>\n",
       "      <td>3.5</td>\n",
       "      <td>12959</td>\n",
       "      <td>10953099004185006703</td>\n",
       "    </tr>\n",
       "  </tbody>\n",
       "</table>\n",
       "</div>"
      ],
      "text/plain": [
       "   rating  movieId                userId\n",
       "0     3.0     2158  10953099004185006703\n",
       "1     3.5    12959  10953099004185006703"
      ]
     },
     "execution_count": 13,
     "metadata": {},
     "output_type": "execute_result"
    }
   ],
   "source": [
    "train.head(2)"
   ]
  },
  {
   "cell_type": "code",
   "execution_count": 14,
   "metadata": {},
   "outputs": [
    {
     "data": {
      "text/plain": [
       "57043719"
      ]
     },
     "metadata": {},
     "output_type": "display_data"
    },
    {
     "data": {
      "text/plain": [
       "18345"
      ]
     },
     "metadata": {},
     "output_type": "display_data"
    },
    {
     "data": {
      "text/plain": [
       "138493"
      ]
     },
     "metadata": {},
     "output_type": "display_data"
    }
   ],
   "source": [
    "display(train.size)\n",
    "display(train.movieId.max())\n",
    "display(len(set(train.userId)))"
   ]
  },
  {
   "cell_type": "code",
   "execution_count": 15,
   "metadata": {},
   "outputs": [
    {
     "data": {
      "text/html": [
       "<div>\n",
       "<style>\n",
       "    .dataframe thead tr:only-child th {\n",
       "        text-align: right;\n",
       "    }\n",
       "\n",
       "    .dataframe thead th {\n",
       "        text-align: left;\n",
       "    }\n",
       "\n",
       "    .dataframe tbody tr th {\n",
       "        vertical-align: top;\n",
       "    }\n",
       "</style>\n",
       "<table border=\"1\" class=\"dataframe\">\n",
       "  <thead>\n",
       "    <tr style=\"text-align: right;\">\n",
       "      <th></th>\n",
       "      <th>movieId</th>\n",
       "      <th>userId</th>\n",
       "    </tr>\n",
       "  </thead>\n",
       "  <tbody>\n",
       "    <tr>\n",
       "      <th>0</th>\n",
       "      <td>939</td>\n",
       "      <td>3128775406573976678</td>\n",
       "    </tr>\n",
       "    <tr>\n",
       "      <th>1</th>\n",
       "      <td>19</td>\n",
       "      <td>6058877902987009152</td>\n",
       "    </tr>\n",
       "    <tr>\n",
       "      <th>2</th>\n",
       "      <td>1213</td>\n",
       "      <td>2787275058272728238</td>\n",
       "    </tr>\n",
       "    <tr>\n",
       "      <th>3</th>\n",
       "      <td>1141</td>\n",
       "      <td>14199414671932452776</td>\n",
       "    </tr>\n",
       "    <tr>\n",
       "      <th>4</th>\n",
       "      <td>2935</td>\n",
       "      <td>5958052843391945803</td>\n",
       "    </tr>\n",
       "  </tbody>\n",
       "</table>\n",
       "</div>"
      ],
      "text/plain": [
       "   movieId                userId\n",
       "0      939   3128775406573976678\n",
       "1       19   6058877902987009152\n",
       "2     1213   2787275058272728238\n",
       "3     1141  14199414671932452776\n",
       "4     2935   5958052843391945803"
      ]
     },
     "execution_count": 15,
     "metadata": {},
     "output_type": "execute_result"
    }
   ],
   "source": [
    "test = pd.read_csv(\"data/test.csv\")\n",
    "test.userId = test.userId.astype('uint64')\n",
    "test.head()"
   ]
  },
  {
   "cell_type": "code",
   "execution_count": 19,
   "metadata": {},
   "outputs": [],
   "source": [
    "user_to_compress_id = {}\n",
    "compress_to_user_id = {}\n",
    "\n",
    "def add_id_to_compress(i):\n",
    "    if i not in user_to_compress_id:\n",
    "        cid = len(compress_to_user_id)\n",
    "        user_to_compress_id[i] = cid\n",
    "        compress_to_user_id[cid] = i\n",
    "\n",
    "for i, row in test.iterrows():\n",
    "    add_id_to_compress(row.userId)\n",
    "    \n",
    "for i, row in train.iterrows():\n",
    "    add_id_to_compress(row.userId)\n",
    "        \n",
    "        "
   ]
  },
  {
   "cell_type": "code",
   "execution_count": 24,
   "metadata": {},
   "outputs": [
    {
     "data": {
      "text/html": [
       "<div>\n",
       "<style>\n",
       "    .dataframe thead tr:only-child th {\n",
       "        text-align: right;\n",
       "    }\n",
       "\n",
       "    .dataframe thead th {\n",
       "        text-align: left;\n",
       "    }\n",
       "\n",
       "    .dataframe tbody tr th {\n",
       "        vertical-align: top;\n",
       "    }\n",
       "</style>\n",
       "<table border=\"1\" class=\"dataframe\">\n",
       "  <thead>\n",
       "    <tr style=\"text-align: right;\">\n",
       "      <th></th>\n",
       "      <th>movieId</th>\n",
       "      <th>userId</th>\n",
       "      <th>userId2</th>\n",
       "    </tr>\n",
       "  </thead>\n",
       "  <tbody>\n",
       "    <tr>\n",
       "      <th>0</th>\n",
       "      <td>939</td>\n",
       "      <td>3128775406573976678</td>\n",
       "      <td>0</td>\n",
       "    </tr>\n",
       "    <tr>\n",
       "      <th>1</th>\n",
       "      <td>19</td>\n",
       "      <td>6058877902987009152</td>\n",
       "      <td>1</td>\n",
       "    </tr>\n",
       "    <tr>\n",
       "      <th>2</th>\n",
       "      <td>1213</td>\n",
       "      <td>2787275058272728238</td>\n",
       "      <td>2</td>\n",
       "    </tr>\n",
       "    <tr>\n",
       "      <th>3</th>\n",
       "      <td>1141</td>\n",
       "      <td>14199414671932452776</td>\n",
       "      <td>3</td>\n",
       "    </tr>\n",
       "    <tr>\n",
       "      <th>4</th>\n",
       "      <td>2935</td>\n",
       "      <td>5958052843391945803</td>\n",
       "      <td>4</td>\n",
       "    </tr>\n",
       "  </tbody>\n",
       "</table>\n",
       "</div>"
      ],
      "text/plain": [
       "   movieId                userId  userId2\n",
       "0      939   3128775406573976678        0\n",
       "1       19   6058877902987009152        1\n",
       "2     1213   2787275058272728238        2\n",
       "3     1141  14199414671932452776        3\n",
       "4     2935   5958052843391945803        4"
      ]
     },
     "metadata": {},
     "output_type": "display_data"
    }
   ],
   "source": [
    "test[\"userId2\"] = test[\"userId\"]\n",
    "\n",
    "ui2 = []\n",
    "\n",
    "for i, row in test.iterrows():\n",
    "    ui2.append(user_to_compress_id[row.userId])\n",
    "\n",
    "test[\"userId2\"] = np.array(ui2)\n",
    "\n",
    "display(test.head())"
   ]
  },
  {
   "cell_type": "code",
   "execution_count": 25,
   "metadata": {},
   "outputs": [
    {
     "data": {
      "text/html": [
       "<div>\n",
       "<style>\n",
       "    .dataframe thead tr:only-child th {\n",
       "        text-align: right;\n",
       "    }\n",
       "\n",
       "    .dataframe thead th {\n",
       "        text-align: left;\n",
       "    }\n",
       "\n",
       "    .dataframe tbody tr th {\n",
       "        vertical-align: top;\n",
       "    }\n",
       "</style>\n",
       "<table border=\"1\" class=\"dataframe\">\n",
       "  <thead>\n",
       "    <tr style=\"text-align: right;\">\n",
       "      <th></th>\n",
       "      <th>rating</th>\n",
       "      <th>movieId</th>\n",
       "      <th>userId</th>\n",
       "      <th>userId2</th>\n",
       "    </tr>\n",
       "  </thead>\n",
       "  <tbody>\n",
       "    <tr>\n",
       "      <th>0</th>\n",
       "      <td>3.0</td>\n",
       "      <td>2158</td>\n",
       "      <td>10953099004185006703</td>\n",
       "      <td>731</td>\n",
       "    </tr>\n",
       "    <tr>\n",
       "      <th>1</th>\n",
       "      <td>3.5</td>\n",
       "      <td>12959</td>\n",
       "      <td>10953099004185006703</td>\n",
       "      <td>731</td>\n",
       "    </tr>\n",
       "    <tr>\n",
       "      <th>2</th>\n",
       "      <td>3.5</td>\n",
       "      <td>7808</td>\n",
       "      <td>10953099004185006703</td>\n",
       "      <td>731</td>\n",
       "    </tr>\n",
       "    <tr>\n",
       "      <th>3</th>\n",
       "      <td>4.0</td>\n",
       "      <td>9049</td>\n",
       "      <td>4762492897681260571</td>\n",
       "      <td>3052</td>\n",
       "    </tr>\n",
       "    <tr>\n",
       "      <th>4</th>\n",
       "      <td>3.0</td>\n",
       "      <td>12363</td>\n",
       "      <td>2110017552365950661</td>\n",
       "      <td>125</td>\n",
       "    </tr>\n",
       "  </tbody>\n",
       "</table>\n",
       "</div>"
      ],
      "text/plain": [
       "   rating  movieId                userId  userId2\n",
       "0     3.0     2158  10953099004185006703      731\n",
       "1     3.5    12959  10953099004185006703      731\n",
       "2     3.5     7808  10953099004185006703      731\n",
       "3     4.0     9049   4762492897681260571     3052\n",
       "4     3.0    12363   2110017552365950661      125"
      ]
     },
     "metadata": {},
     "output_type": "display_data"
    }
   ],
   "source": [
    "train[\"userId2\"] = train[\"userId\"]\n",
    "\n",
    "ui2 = []\n",
    "\n",
    "for i, row in train.iterrows():\n",
    "    ui2.append(user_to_compress_id[row.userId])\n",
    "\n",
    "train[\"userId2\"] = np.array(ui2)\n",
    "\n",
    "display(train.head())"
   ]
  },
  {
   "cell_type": "code",
   "execution_count": 28,
   "metadata": {},
   "outputs": [],
   "source": [
    "#test.to_csv(\"test2.csv\")\n",
    "#train.to_csv('train2.csv')"
   ]
  },
  {
   "cell_type": "code",
   "execution_count": null,
   "metadata": {},
   "outputs": [],
   "source": [
    "\n"
   ]
  },
  {
   "cell_type": "code",
   "execution_count": 33,
   "metadata": {},
   "outputs": [],
   "source": [
    "import time\n",
    "from scipy.sparse.linalg import svds\n",
    "\n",
    "df = train\n",
    "\n",
    "# df[\"random\"] = np.random.random(size=(df.shape[0], 1))\n",
    "# idx = df.sort_values(by=\"random\") \\\n",
    "#     .reset_index() \\\n",
    "#     .groupby(\"userId\") \\\n",
    "#     .head(n=7)[\"index\"]\n",
    "\n",
    "# mask = df.index.isin(idx)\n",
    "# train_df = df[~mask]\n",
    "# test_df = df[mask]\n",
    "\n",
    "train_df = df\n",
    "    \n",
    "train_M = csr_matrix(\n",
    "    (train_df[\"rating\"], (train_df[\"userId2\"], train_df[\"movieId\"] - 1)), shape=(138493, 26744))"
   ]
  },
  {
   "cell_type": "code",
   "execution_count": 61,
   "metadata": {},
   "outputs": [],
   "source": [
    "\n",
    "train_M_mean = train_M.mean()\n",
    "\n",
    "U, S, Vt = svds(train_M, k=500)"
   ]
  },
  {
   "cell_type": "code",
   "execution_count": 62,
   "metadata": {},
   "outputs": [],
   "source": [
    "class ErrorAggregator(object):\n",
    "    def __init__(self):\n",
    "        self.sum_ = 0.0\n",
    "        self.count = 0\n",
    "        \n",
    "    def add_value(self, x, count):\n",
    "        self.sum_ += x\n",
    "        self.count += count\n",
    "        \n",
    "    def get_rmse(self):\n",
    "        return np.sqrt(self.sum_ / (self.count - 1))\n",
    "    \n",
    "svd_error = ErrorAggregator()\n",
    "mean_error = ErrorAggregator()\n",
    "times = []"
   ]
  },
  {
   "cell_type": "code",
   "execution_count": 75,
   "metadata": {},
   "outputs": [
    {
     "name": "stdout",
     "output_type": "stream",
     "text": [
      "RMSE: 1.74153410906\n",
      "Random RMSE: 3.3984461586\n",
      "Average evaluation time: 0.000324730047655\n"
     ]
    }
   ],
   "source": [
    "for user_id, group in train[:10000].groupby(\"userId2\"):\n",
    "    start_time = time.time()\n",
    "    \n",
    "    uvec = U[user_id, :] * S\n",
    "    \n",
    "    movie_ids = group[\"movieId\"] - 1\n",
    "    ratings = group[\"rating\"]\n",
    "    \n",
    "    diff = (uvec.dot(Vt[:, movie_ids]) - ratings.values) ** 2\n",
    "    svd_error.add_value(np.sum(diff), len(diff))\n",
    "    \n",
    "    mean_diff = (ratings.values - train_M_mean) ** 2\n",
    "    mean_error.add_value(np.sum(mean_diff), len(mean_diff))\n",
    "    \n",
    "    times.append(time.time() - start_time)\n",
    "\n",
    "print(\"RMSE:\", svd_error.get_rmse())\n",
    "print(\"Random RMSE:\", mean_error.get_rmse())\n",
    "print(\"Average evaluation time:\", np.mean(times))"
   ]
  },
  {
   "cell_type": "code",
   "execution_count": 107,
   "metadata": {},
   "outputs": [
    {
     "name": "stdout",
     "output_type": "stream",
     "text": [
      "2.06957236902\n"
     ]
    },
    {
     "data": {
      "image/png": "[encoded data removed]",
      "text/plain": [
       "<matplotlib.figure.Figure at 0x7f8db5243780>"
      ]
     },
     "metadata": {},
     "output_type": "display_data"
    }
   ],
   "source": [
    "results = []\n",
    "\n",
    "tt = train[:10000].copy()\n",
    "\n",
    "for user_id, group in tt.groupby(\"userId2\"):\n",
    "    start_time = time.time()\n",
    "    uvec = U[user_id, :] * S\n",
    "    movie_ids = group[\"movieId\"] - 1    \n",
    "    results.append((user_id, movie_ids, uvec.dot(Vt[:, movie_ids])))\n",
    "\n",
    "    \n",
    "res2 = {}\n",
    "for r in results:\n",
    "    for m, ri in zip(r[1], r[2]):\n",
    "        res2[(int(r[0]), int(m))] = ri\n",
    "        \n",
    "prating = []\n",
    "\n",
    "for i, row in tt.iterrows():\n",
    "    prating.append(res2[(int(row.userId2), int(row.movieId) - 1)])\n",
    "    \n",
    "tt[\"rating\"] = np.array(prating)\n",
    "\n",
    "print(tt.rating.mean())\n",
    "\n",
    "plt.hist(tt.rating)\n",
    "plt.show()"
   ]
  },
  {
   "cell_type": "code",
   "execution_count": 109,
   "metadata": {},
   "outputs": [],
   "source": [
    "results = []\n",
    "\n",
    "for user_id, group in test.groupby(\"userId2\"):\n",
    "    start_time = time.time()\n",
    "    uvec = U[user_id, :] * S\n",
    "    movie_ids = group[\"movieId\"] - 1    \n",
    "    results.append((user_id, movie_ids, uvec.dot(Vt[:, movie_ids])))\n"
   ]
  },
  {
   "cell_type": "code",
   "execution_count": 110,
   "metadata": {},
   "outputs": [],
   "source": [
    "res2 = {}\n",
    "for r in results:\n",
    "    for m, ri in zip(r[1], r[2]):\n",
    "        res2[(int(r[0]), int(m))] = ri"
   ]
  },
  {
   "cell_type": "code",
   "execution_count": 152,
   "metadata": {},
   "outputs": [],
   "source": [
    "prating = []\n",
    "\n",
    "for i, row in test.iterrows():\n",
    "    prating.append(res2[(int(row.userId2), int(row.movieId) - 1)])"
   ]
  },
  {
   "cell_type": "code",
   "execution_count": 112,
   "metadata": {},
   "outputs": [],
   "source": [
    "prating = np.array(prating)\n",
    "test[\"rating\"] = prating"
   ]
  },
  {
   "cell_type": "code",
   "execution_count": null,
   "metadata": {},
   "outputs": [],
   "source": []
  },
  {
   "cell_type": "code",
   "execution_count": 115,
   "metadata": {},
   "outputs": [
    {
     "name": "stdout",
     "output_type": "stream",
     "text": [
      "3.65559799577\n",
      "2.02593885417\n"
     ]
    }
   ],
   "source": [
    "answer = pd.read_csv('data/baseline.csv')\n",
    "print(answer.rating.mean())\n",
    "answer[\"rating\"] = test[\"rating\"]\n",
    "print(answer.rating.mean())\n",
    "answer.to_csv(\"to_send.csv\", index=False)\n"
   ]
  },
  {
   "cell_type": "code",
   "execution_count": 73,
   "metadata": {},
   "outputs": [
    {
     "data": {
      "text/plain": [
       "3.5207268919475605"
      ]
     },
     "execution_count": 73,
     "metadata": {},
     "output_type": "execute_result"
    }
   ],
   "source": [
    "train.rating.mean()"
   ]
  },
  {
   "cell_type": "code",
   "execution_count": 117,
   "metadata": {},
   "outputs": [
    {
     "data": {
      "image/png": "[encoded data removed]",
      "text/plain": [
       "<matplotlib.figure.Figure at 0x7f8dfdf9d978>"
      ]
     },
     "metadata": {},
     "output_type": "display_data"
    }
   ],
   "source": [
    "plt.hist(answer.rating, bins=50)\n",
    "plt.show()"
   ]
  },
  {
   "cell_type": "code",
   "execution_count": 116,
   "metadata": {},
   "outputs": [
    {
     "data": {
      "text/plain": [
       "2.0259388541728343"
      ]
     },
     "execution_count": 116,
     "metadata": {},
     "output_type": "execute_result"
    }
   ],
   "source": [
    "answer.rating.mean()"
   ]
  },
  {
   "cell_type": "code",
   "execution_count": null,
   "metadata": {},
   "outputs": [],
   "source": []
  },
  {
   "cell_type": "code",
   "execution_count": 128,
   "metadata": {},
   "outputs": [
    {
     "data": {
      "image/png": "[encoded data removed]",
      "text/plain": [
       "<matplotlib.figure.Figure at 0x7f8db4ff48d0>"
      ]
     },
     "metadata": {},
     "output_type": "display_data"
    }
   ],
   "source": [
    "a = plt.hist(train.rating, bins=10)\n",
    "plt.show()"
   ]
  },
  {
   "cell_type": "code",
   "execution_count": 161,
   "metadata": {},
   "outputs": [
    {
     "data": {
      "text/plain": [
       "array([ 0.01195515,  0.03404094,  0.01410676,  0.07200356,  0.04487432,\n",
       "        0.21409095,  0.11150101,  0.27782659,  0.07696208,  0.14263865])"
      ]
     },
     "metadata": {},
     "output_type": "display_data"
    },
    {
     "data": {
      "text/plain": [
       "array([ 0. ,  0.5,  1. ,  1.5,  2. ,  2.5,  3. ,  3.5,  4. ,  4.5,  5. ])"
      ]
     },
     "metadata": {},
     "output_type": "display_data"
    },
    {
     "data": {
      "text/plain": [
       "[(0.0, 0.011955146192344156),\n",
       " (0.5, 0.034040943228122976),\n",
       " (1.0, 0.014106759063166972),\n",
       " (1.5, 0.072003562741061816),\n",
       " (2.0, 0.044874318240015171),\n",
       " (2.5, 0.21409095013598253),\n",
       " (3.0, 0.11150100504492003),\n",
       " (3.5, 0.27782659121506437),\n",
       " (4.0, 0.076962075351363401),\n",
       " (4.5, 0.14263864878795859)]"
      ]
     },
     "metadata": {},
     "output_type": "display_data"
    }
   ],
   "source": [
    "hist_shape = a[0] / a[0].sum()\n",
    "display(hist_shape)\n",
    "hist_xs = np.arange(0.0, 5.1, 0.5)\n",
    "display(hist_xs)\n",
    "hist_pairs = list(zip(hist_xs, hist_shape))\n",
    "display(hist_pairs)"
   ]
  },
  {
   "cell_type": "code",
   "execution_count": 170,
   "metadata": {},
   "outputs": [],
   "source": [
    "def reshape(values, hist_shape, hist_xs):\n",
    "    enuv = list(enumerate(values))\n",
    "    values = sorted(enuv, key=lambda x: x[1])\n",
    "    bounds = [0] + [int(len(enuv) * x) for x in hist_shape.cumsum()]\n",
    "    bounds[-1] = len(values)\n",
    "    for i in range(len(bounds) - 1):\n",
    "        m = hist_xs[i]\n",
    "        for j in range(bounds[i], bounds[i + 1]):\n",
    "            values[j] = (values[j][0], m)\n",
    "    enuv = sorted(values)\n",
    "    return np.array([x[1] for x in enuv])\n",
    "    "
   ]
  },
  {
   "cell_type": "code",
   "execution_count": 174,
   "metadata": {},
   "outputs": [
    {
     "name": "stdout",
     "output_type": "stream",
     "text": [
      "[(2.0004146185108014, 4.5), (0.77973155768470881, 4.0), (-0.10389433202072285, 0.5), (0.091110423948451813, 3.0), (0.93408285034523753, 4.5), (0.18990090570225865, 3.5), (0.64315042374587983, 4.0), (1.540262964912011, 4.5), (0.61589854019460288, 4.0), (0.38265503266246081, 3.5), (0.24366460969884018, 3.5), (1.1356756941715744, 4.5), (0.97740089524565332, 4.5), (1.4250668180121935, 4.5), (0.25772741928418186, 3.5), (-0.045743775626856165, 1.5), (0.48419671339704146, 3.5), (0.34875579233441278, 3.5), (1.8395570041081037, 4.5), (0.064299194696632964, 3.0), (1.3416218636453712, 4.5), (0.23506683399962602, 3.5), (0.12728504863938372, 3.5), (1.6018283250987702, 4.5), (0.90648833697282982, 4.5), (0.091538574493111202, 3.0), (0.21000698345661073, 3.5), (0.045547750869403381, 2.5), (2.5468636948982453, 4.5), (0.084438663477466758, 3.0), (-0.02355469782577968, 1.5), (3.5989480503287967, 4.5), (0.13210806845181977, 3.5), (-0.077539578590448466, 1.0), (0.544069695187271, 3.5), (2.269283030375195, 4.5), (0.12771260350112973, 3.5), (0.12191293403583092, 3.5), (2.4432676665697723, 4.5), (1.3259975717904875, 4.5), (0.2160732354628494, 3.5), (0.46377284399026519, 3.5), (0.3886420747631491, 3.5), (0.005079416185781116, 2.5), (0.68913819494460049, 4.0), (0.9409866271194256, 4.5), (-0.0717646631946951, 1.0), (2.2996740444053914, 4.5), (0.0085586116259326328, 2.5), (1.2959322980230434, 4.5), (0.56080297255254041, 4.0), (-0.39464499924322943, 0.0), (0.0056596910991595327, 2.5), (-0.014106293270089276, 2.0), (0.023815996536631578, 2.5), (-0.032548985818226073, 1.5), (0.03307800631787533, 2.5), (1.0652492951290906, 4.5), (1.1072961985923349, 4.5), (0.43498553871796203, 3.5), (0.90792801473914964, 4.5), (0.27360718040791665, 3.5), (0.5426715576511586, 3.5), (0.64082766518491141, 4.0), (0.80302493975867306, 4.0), (0.98450297497326478, 4.5), (0.046652771214955147, 2.5), (-0.26022685987330307, 0.0), (1.1119839578169404, 4.5), (1.3177243377269532, 4.5), (0.037686847650278021, 2.5), (0.2334807471308154, 3.5), (0.057945721706158304, 2.5), (1.7689869824045341, 4.5), (1.498405165434936, 4.5), (0.24401503522212148, 3.5), (0.18027439990341626, 3.5), (0.92906461985111632, 4.5), (-0.1413702181172769, 0.5), (-0.040700128799433299, 1.5), (0.22242102413583414, 3.5), (2.3244358114798827, 4.5), (0.16489892140979623, 3.5), (1.5978294730272879, 4.5), (2.5035764410236458, 4.5), (2.1236161463308232, 4.5), (-0.48419106378964771, 0.0), (0.29149219527188075, 3.5), (-0.004033806142109686, 2.0), (0.71726646411142847, 4.0), (0.81332172534385383, 4.0), (-0.083648726084066316, 1.0), (0.46185955332009454, 3.5), (1.3289348981708606, 4.5), (-0.13800745590562369, 0.5), (1.8018353301443519, 4.5), (0.49004506292159955, 3.5), (2.9079249223137289, 4.5), (0.099917009129087686, 3.0), (1.2847135959090692, 4.5)]\n",
      "3.65559799577\n",
      "3.02073028962\n"
     ]
    }
   ],
   "source": [
    "prating = np.array(prating)\n",
    "\n",
    "\n",
    "prating2 = reshape(prating, hist_shape, hist_xs)\n",
    "\n",
    "\n",
    "print(list(zip(prating[:100], prating2[:100])))\n",
    "\n",
    "test[\"rating\"] = prating2\n",
    "\n",
    "answer = pd.read_csv('data/baseline.csv')\n",
    "print(answer.rating.mean())\n",
    "answer[\"rating\"] = test[\"rating\"]\n",
    "print(answer.rating.mean())\n",
    "answer.to_csv(\"to_send.csv\", index=False)"
   ]
  },
  {
   "cell_type": "code",
   "execution_count": 172,
   "metadata": {},
   "outputs": [
    {
     "data": {
      "image/png": "[encoded data removed]",
      "text/plain": [
       "<matplotlib.figure.Figure at 0x7f8db4f8c630>"
      ]
     },
     "metadata": {},
     "output_type": "display_data"
    }
   ],
   "source": [
    "plt.hist(answer.rating)\n",
    "plt.show()"
   ]
  },
  {
   "cell_type": "code",
   "execution_count": null,
   "metadata": {},
   "outputs": [],
   "source": []
  }
 ],
 "metadata": {
  "kernelspec": {
   "display_name": "Python 3",
   "language": "python",
   "name": "python3"
  },
  "language_info": {
   "codemirror_mode": {
    "name": "ipython",
    "version": 3
   },
   "file_extension": ".py",
   "mimetype": "text/x-python",
   "name": "python",
   "nbconvert_exporter": "python",
   "pygments_lexer": "ipython3",
   "version": "3.5.2"
  }
 },
 "nbformat": 4,
 "nbformat_minor": 1
}
