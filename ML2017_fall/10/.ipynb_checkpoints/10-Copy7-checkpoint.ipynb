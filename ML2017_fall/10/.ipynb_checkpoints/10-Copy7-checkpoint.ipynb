{
 "cells": [
  {
   "cell_type": "markdown",
   "metadata": {},
   "source": [
    "<span style=\"font-size: 14pt\">MIPT, Advanced ML, Autumn 2017</span>\n",
    "\n",
    "<span style=\"font-size: 16pt\"> HW #10: Recommender Systems\n",
    "\n",
    "<span style=\"color:blue; font-size: 12pt\">Andrey Saitgalin </span>,\n",
    "<span style=\"color:blue; font-size: 12pt; font-family: 'Verdana'\"> andrey.saitgalin@gmail.com </span>"
   ]
  },
  {
   "cell_type": "markdown",
   "metadata": {},
   "source": [
    "<h1 align=\"center\">Organization Info</h1> \n",
    "\n",
    "* Дедлайн **18 декабря 23:59** для всех групп.\n",
    "* В качестве решения задания нужно прислать ноутбук с подробными комментариями (<span style='color:red'> без присланного решения результат контеста не будет засчитан </span>).\n",
    "* <span style='color:red'>Название команды в контесте должно соответствовать шаблону: НомерГруппы_Имя_Фамилия, например, 494_Ivan_Ivanov</span>."
   ]
  },
  {
   "cell_type": "markdown",
   "metadata": {},
   "source": [
    "**Оформление дз**: \n",
    "- Присылайте выполненное задание на почту ``ml.course.mipt@gmail.com``\n",
    "- Укажите тему письма в следующем формате ``ML2017_Aut_fall <номер_группы> <фамилия>``, к примеру -- ``ML2017_Aut_fall 401 ivanov``\n",
    "- Выполненное дз сохраните в файл ``<фамилия>_<группа>_task<номер>.ipnb``, к примеру -- ``ivanov_401_task10.ipnb``\n",
    "\n",
    "**Вопросы**:\n",
    "- Присылайте вопросы на почту ``ml.course.mipt@gmail.com``\n",
    "- Укажите тему письма в следующем формате ``ML2017_Aut_fall Question <Содержание вопроса>``\n",
    "\n",
    "\n",
    "--------\n",
    "- **PS1**: Мы используем автоматические фильтры, и просто не найдем ваше дз, если вы не аккуратно его подпишите.\n",
    "- **PS2**: Напоминаем, что дедлайны жесткие, письма пришедшие после автоматически удаляются =( чтобы соблазна не было."
   ]
  },
  {
   "cell_type": "markdown",
   "metadata": {},
   "source": [
    "<h1 align=\"center\">Contest (100%)</h1> \n",
    "* Ссылка на контест: https://www.kaggle.com/t/f37413eb448145acba822f3a8c43946d"
   ]
  },
  {
   "cell_type": "code",
   "execution_count": 2,
   "metadata": {},
   "outputs": [],
   "source": [
    "import numpy as np\n",
    "\n",
    "import pandas as pd\n",
    "from IPython.display import display\n",
    "\n",
    "from scipy.sparse import coo_matrix\n",
    "import matplotlib.pyplot as plt\n",
    "import seaborn as sns\n",
    "\n",
    "from collections import Counter\n",
    "\n",
    "\n",
    "import numpy as np\n",
    "import pandas as pd\n",
    "from scipy.sparse import coo_matrix, csr_matrix, csc_matrix\n",
    "import matplotlib.pyplot as plt\n",
    "import seaborn as sns\n",
    "from sklearn.metrics.pairwise import cosine_similarity\n",
    "\n",
    "\n",
    "%matplotlib inline\n",
    "\n",
    "\n",
    "# далее выборочный копипаст с семинара"
   ]
  },
  {
   "cell_type": "code",
   "execution_count": 3,
   "metadata": {},
   "outputs": [
    {
     "data": {
      "text/html": [
       "<div>\n",
       "<style>\n",
       "    .dataframe thead tr:only-child th {\n",
       "        text-align: right;\n",
       "    }\n",
       "\n",
       "    .dataframe thead th {\n",
       "        text-align: left;\n",
       "    }\n",
       "\n",
       "    .dataframe tbody tr th {\n",
       "        vertical-align: top;\n",
       "    }\n",
       "</style>\n",
       "<table border=\"1\" class=\"dataframe\">\n",
       "  <thead>\n",
       "    <tr style=\"text-align: right;\">\n",
       "      <th></th>\n",
       "      <th>rating</th>\n",
       "      <th>movieId</th>\n",
       "      <th>userId</th>\n",
       "    </tr>\n",
       "  </thead>\n",
       "  <tbody>\n",
       "    <tr>\n",
       "      <th>0</th>\n",
       "      <td>3.0</td>\n",
       "      <td>2158</td>\n",
       "      <td>10953099004185006703</td>\n",
       "    </tr>\n",
       "    <tr>\n",
       "      <th>1</th>\n",
       "      <td>3.5</td>\n",
       "      <td>12959</td>\n",
       "      <td>10953099004185006703</td>\n",
       "    </tr>\n",
       "    <tr>\n",
       "      <th>2</th>\n",
       "      <td>3.5</td>\n",
       "      <td>7808</td>\n",
       "      <td>10953099004185006703</td>\n",
       "    </tr>\n",
       "    <tr>\n",
       "      <th>3</th>\n",
       "      <td>4.0</td>\n",
       "      <td>9049</td>\n",
       "      <td>4762492897681260571</td>\n",
       "    </tr>\n",
       "    <tr>\n",
       "      <th>4</th>\n",
       "      <td>3.0</td>\n",
       "      <td>12363</td>\n",
       "      <td>2110017552365950661</td>\n",
       "    </tr>\n",
       "  </tbody>\n",
       "</table>\n",
       "</div>"
      ],
      "text/plain": [
       "   rating  movieId                userId\n",
       "0     3.0     2158  10953099004185006703\n",
       "1     3.5    12959  10953099004185006703\n",
       "2     3.5     7808  10953099004185006703\n",
       "3     4.0     9049   4762492897681260571\n",
       "4     3.0    12363   2110017552365950661"
      ]
     },
     "execution_count": 3,
     "metadata": {},
     "output_type": "execute_result"
    }
   ],
   "source": [
    "train = pd.read_csv(\"data/train.csv\")\n",
    "train.userId = train.userId.astype('uint64')\n",
    "train.head()"
   ]
  },
  {
   "cell_type": "code",
   "execution_count": 4,
   "metadata": {},
   "outputs": [
    {
     "data": {
      "text/html": [
       "<div>\n",
       "<style>\n",
       "    .dataframe thead tr:only-child th {\n",
       "        text-align: right;\n",
       "    }\n",
       "\n",
       "    .dataframe thead th {\n",
       "        text-align: left;\n",
       "    }\n",
       "\n",
       "    .dataframe tbody tr th {\n",
       "        vertical-align: top;\n",
       "    }\n",
       "</style>\n",
       "<table border=\"1\" class=\"dataframe\">\n",
       "  <thead>\n",
       "    <tr style=\"text-align: right;\">\n",
       "      <th></th>\n",
       "      <th>movieId</th>\n",
       "      <th>userId</th>\n",
       "    </tr>\n",
       "  </thead>\n",
       "  <tbody>\n",
       "    <tr>\n",
       "      <th>0</th>\n",
       "      <td>939</td>\n",
       "      <td>3128775406573976678</td>\n",
       "    </tr>\n",
       "    <tr>\n",
       "      <th>1</th>\n",
       "      <td>19</td>\n",
       "      <td>6058877902987009152</td>\n",
       "    </tr>\n",
       "    <tr>\n",
       "      <th>2</th>\n",
       "      <td>1213</td>\n",
       "      <td>2787275058272728238</td>\n",
       "    </tr>\n",
       "    <tr>\n",
       "      <th>3</th>\n",
       "      <td>1141</td>\n",
       "      <td>14199414671932452776</td>\n",
       "    </tr>\n",
       "    <tr>\n",
       "      <th>4</th>\n",
       "      <td>2935</td>\n",
       "      <td>5958052843391945803</td>\n",
       "    </tr>\n",
       "  </tbody>\n",
       "</table>\n",
       "</div>"
      ],
      "text/plain": [
       "   movieId                userId\n",
       "0      939   3128775406573976678\n",
       "1       19   6058877902987009152\n",
       "2     1213   2787275058272728238\n",
       "3     1141  14199414671932452776\n",
       "4     2935   5958052843391945803"
      ]
     },
     "execution_count": 4,
     "metadata": {},
     "output_type": "execute_result"
    }
   ],
   "source": [
    "test = pd.read_csv(\"data/test.csv\")\n",
    "test.userId = test.userId.astype('uint64')\n",
    "test.head()"
   ]
  },
  {
   "cell_type": "code",
   "execution_count": 42,
   "metadata": {},
   "outputs": [],
   "source": [
    "user_to_compress_id = {}\n",
    "compress_to_user_id = {}\n",
    "\n",
    "def add_id_to_compress(i):\n",
    "    if i not in user_to_compress_id:\n",
    "        cid = len(compress_to_user_id)\n",
    "        user_to_compress_id[i] = cid\n",
    "        compress_to_user_id[cid] = i\n",
    "\n",
    "for i, row in test.iterrows():\n",
    "    add_id_to_compress(row.userId)\n",
    "    \n",
    "for i, row in train.iterrows():\n",
    "    add_id_to_compress(row.userId) "
   ]
  },
  {
   "cell_type": "code",
   "execution_count": 43,
   "metadata": {},
   "outputs": [],
   "source": [
    "test[\"userIdC\"] = test[\"userIdC\"]\n",
    "\n",
    "com = []\n",
    "\n",
    "for i, row in test.iterrows():\n",
    "    com.append(user_to_compress_id[row.userId])\n",
    "\n",
    "test[\"userIdC\"] = np.array(com)\n",
    "\n",
    "\n",
    "train[\"userIdC\"] = train[\"userId\"]\n",
    "\n",
    "com = []\n",
    "\n",
    "for i, row in train.iterrows():\n",
    "    com.append(user_to_compress_id[row.userId])\n",
    "\n",
    "train[\"userIdC\"] = np.array(com)\n"
   ]
  },
  {
   "cell_type": "code",
   "execution_count": 33,
   "metadata": {},
   "outputs": [],
   "source": [
    "import time\n",
    "from scipy.sparse.linalg import svds\n",
    "\n",
    "train_df = train\n",
    "    \n",
    "train_M = csr_matrix(\n",
    "    (train_df[\"rating\"], (train_df[\"userIdC\"], train_df[\"movieId\"] - 1)), shape=(138493, 26744))"
   ]
  },
  {
   "cell_type": "code",
   "execution_count": 35,
   "metadata": {},
   "outputs": [],
   "source": [
    "\n",
    "train_M_mean = train_M.mean()\n",
    "\n",
    "U, S, Vt = svds(train_M, k=10000)"
   ]
  },
  {
   "cell_type": "code",
   "execution_count": 36,
   "metadata": {},
   "outputs": [],
   "source": [
    "class ErrorAggregator(object):\n",
    "    def __init__(self):\n",
    "        self.sum_ = 0.0\n",
    "        self.count = 0\n",
    "        \n",
    "    def add_value(self, x, count):\n",
    "        self.sum_ += x\n",
    "        self.count += count\n",
    "        \n",
    "    def get_rmse(self):\n",
    "        return np.sqrt(self.sum_ / (self.count - 1))\n",
    "    \n",
    "svd_error = ErrorAggregator()\n",
    "mean_error = ErrorAggregator()\n",
    "times = []"
   ]
  },
  {
   "cell_type": "code",
   "execution_count": 41,
   "metadata": {},
   "outputs": [
    {
     "name": "stdout",
     "output_type": "stream",
     "text": [
      "RMSE: 0.76687386435\n",
      "Random RMSE: 2.17123388317\n",
      "Average evaluation time: 0.000225866163099\n"
     ]
    }
   ],
   "source": [
    "for user_id, group in train[:100].groupby(\"userIdC\"):\n",
    "    start_time = time.time()\n",
    "    \n",
    "    uvec = U[user_id, :] * S\n",
    "    \n",
    "    movie_ids = group[\"movieId\"] - 1\n",
    "    ratings = group[\"rating\"]\n",
    "    \n",
    "    diff = (uvec.dot(Vt[:, movie_ids]) - ratings.values) ** 2\n",
    "    svd_error.add_value(np.sum(diff), len(diff))\n",
    "    \n",
    "    mean_diff = (ratings.values - train_M_mean) ** 2\n",
    "    mean_error.add_value(np.sum(mean_diff), len(mean_diff))\n",
    "    \n",
    "    times.append(time.time() - start_time)\n",
    "\n",
    "print(\"RMSE:\", svd_error.get_rmse())\n",
    "print(\"Random RMSE:\", mean_error.get_rmse())\n",
    "print(\"Average evaluation time:\", np.mean(times))"
   ]
  },
  {
   "cell_type": "code",
   "execution_count": null,
   "metadata": {},
   "outputs": [],
   "source": [
    "results = []\n",
    "\n",
    "for user_id, group in test.groupby(\"userIdC\"):\n",
    "    start_time = time.time()\n",
    "    uvec = U[user_id, :] * S\n",
    "    movie_ids = group[\"movieId\"] - 1    \n",
    "    results.append((user_id, movie_ids, uvec.dot(Vt[:, movie_ids])))\n"
   ]
  },
  {
   "cell_type": "code",
   "execution_count": 9,
   "metadata": {},
   "outputs": [],
   "source": [
    "res2 = {}\n",
    "for r in results:\n",
    "    for m, ri in zip(r[1], r[2]):\n",
    "        res2[(int(r[0]), int(m))] = ri"
   ]
  },
  {
   "cell_type": "code",
   "execution_count": 47,
   "metadata": {},
   "outputs": [],
   "source": [
    "prating = []\n",
    "\n",
    "for i, row in test.iterrows():\n",
    "    prating.append(res2[(int(row.userId2), int(row.movieId) - 1)])"
   ]
  },
  {
   "cell_type": "code",
   "execution_count": 48,
   "metadata": {},
   "outputs": [],
   "source": [
    "test[\"rating\"] = np.array(prating)"
   ]
  },
  {
   "cell_type": "code",
   "execution_count": 56,
   "metadata": {},
   "outputs": [],
   "source": [
    "answer = pd.read_csv('data/baseline.csv')\n",
    "answer[\"rating\"] = test[\"rating\"]\n",
    "answer.to_csv(\"to_send.csv\", index=False)\n"
   ]
  },
  {
   "cell_type": "code",
   "execution_count": null,
   "metadata": {},
   "outputs": [],
   "source": []
  },
  {
   "cell_type": "code",
   "execution_count": null,
   "metadata": {},
   "outputs": [],
   "source": []
  },
  {
   "cell_type": "code",
   "execution_count": null,
   "metadata": {},
   "outputs": [],
   "source": []
  },
  {
   "cell_type": "code",
   "execution_count": null,
   "metadata": {},
   "outputs": [],
   "source": []
  },
  {
   "cell_type": "code",
   "execution_count": null,
   "metadata": {},
   "outputs": [],
   "source": []
  },
  {
   "cell_type": "code",
   "execution_count": null,
   "metadata": {},
   "outputs": [],
   "source": []
  },
  {
   "cell_type": "code",
   "execution_count": null,
   "metadata": {},
   "outputs": [],
   "source": []
  }
 ],
 "metadata": {
  "kernelspec": {
   "display_name": "Python 3",
   "language": "python",
   "name": "python3"
  },
  "language_info": {
   "codemirror_mode": {
    "name": "ipython",
    "version": 3
   },
   "file_extension": ".py",
   "mimetype": "text/x-python",
   "name": "python",
   "nbconvert_exporter": "python",
   "pygments_lexer": "ipython3",
   "version": "3.5.2"
  }
 },
 "nbformat": 4,
 "nbformat_minor": 1
}
