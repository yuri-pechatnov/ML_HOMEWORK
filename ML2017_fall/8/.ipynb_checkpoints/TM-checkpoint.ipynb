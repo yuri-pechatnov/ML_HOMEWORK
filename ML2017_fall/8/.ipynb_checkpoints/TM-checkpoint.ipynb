{
 "cells": [
  {
   "cell_type": "markdown",
   "metadata": {},
   "source": [
    "Тематическое моделирование\n",
    "============================================================\n",
    "На основе семинара Анны Потапенко "
   ]
  },
  {
   "cell_type": "markdown",
   "metadata": {},
   "source": [
    "**Key words:** \n",
    "   Тематическое моделирование, PLSA, LDA\n"
   ]
  },
  {
   "cell_type": "markdown",
   "metadata": {},
   "source": [
    "<h3> Plan </h3>\n",
    "  * **Теоретический минимум** (20 minutes)\n",
    "     \n",
    "  * ** nltk+gensim ** (30 minutes)\n",
    "  * ** Обсуждение предобработки ** (20 minutes)\n",
    "  * **BigARTM** (20 minutes)</span> "
   ]
  },
  {
   "cell_type": "markdown",
   "metadata": {},
   "source": [
    "## Постановка задачи "
   ]
  },
  {
   "cell_type": "markdown",
   "metadata": {},
   "source": [
    "**Тема** - вероятностное распределение на терминах: $p(w|t)$ - вероятность встретить термин $w$ в теме $t$.\n",
    " \n",
    "Документ имеет ненаблюдаемый **тематический профиль**: \n",
    "$p(t|d)$ - неизвестная частота темы $t$ в~документе $d$.\n",
    "\n",
    "\n",
    "Когда автор писал термин $w$ в~документ~$d$, он думал о~теме~$t$.\n",
    "\n",
    "Документ $d$ состоит из наблюдаемых терминов $w_1,\\dots, w_{n_d}$, $p(w|d)$ - известная частота термина $w$ в~документе~$d$.\n",
    "\n",
    "**Тематическая модель** пытается выявить латентные темы.\n",
    "\n",
    "\n",
    "*  каждое слово в документе связано снекоторой темой $t\\in T$\n",
    "\n",
    "*  $D\\times W\\times T$ - дискретное вероятностное пространство\n",
    "\n",
    "*   коллекция - это  выборка $(d_i,w_i,t_i)_{i=1}^n \\sim p(d,w,t)$\n",
    "\n",
    "*   $d_i,w_i$ - наблюдаемые, темы $t_i$ - скрытые\n",
    "\n",
    "*   гипотеза условной независимости: $p(w|d,t) = p(w|t)$\n",
    "\n"
   ]
  },
  {
   "cell_type": "markdown",
   "metadata": {
    "collapsed": true
   },
   "source": [
    "## Модель PLSA (Probabilistic Latent Semantic Analysis)\n",
    "\n",
    "**Задача** найти максимум правдоподобия\n",
    "\n",
    "$$\n",
    "            \\!\\sum_{d\\in D} \\sum_{w\\in d} \\!n_{dw} \\ln \\sum_{t\\in T} \\phi_{wt}\\theta_{td}\n",
    "            \\to \\max_{\\Phi,\\Theta},\n",
    "$$\n",
    "при ограничениях неотрицательности и нормировки\n",
    "\n",
    "$$\n",
    "            \\phi_{wt}\\geq 0;\\quad\n",
    "            \\sum_{w\\in W} \\phi_{wt}=1;\n",
    "            \\qquad\n",
    "            \\theta_{td}\\geq 0;\\quad\n",
    "            \\sum_{t\\in T} \\theta_{td}=1\n",
    "$$\n",
    "\n",
    "**Интерпретация:** стохастическое матричное разложение\n",
    "\n",
    "$$\n",
    "        F \\approx \\Phi\\Theta,\n",
    "$$\n",
    "\n",
    "$F = \\bigl( \\hat p(w|d) \\bigr)_{W\\times D}$ -- известная матрица исходных данных,\n",
    "    \n",
    "$\\Phi = \\bigl( \\phi_{wt} \\bigr)_{W\\times T}$ - искомая матрица терминов тем $\\phi_{wt} \\!=\\! p(w|t)$,\n",
    "\n",
    "$\\Theta = \\bigl( \\theta_{td} \\bigr)_{T\\times D}$ - искомая матрица тем документов $\\theta_{td} \\!=\\! p(t|d)$.\n"
   ]
  },
  {
   "cell_type": "markdown",
   "metadata": {},
   "source": [
    "## LDA(Latent Dirichlet Allocation)"
   ]
  },
  {
   "cell_type": "markdown",
   "metadata": {},
   "source": [
    "Метод латентного размещения Дирихле (latent Dirichlet allocation, LDA) предложен Дэвидом Блеем в 2003 году, основан на гипотезе о том, что:\n",
    "* векторы документов порождаются одним и тем же вероятностным распределением на нормированных $|T|$-мерных векторах; это распределение удобно взять из параметрического семейства распределений Дирихле $\\mathrm{Dir}(\\theta,\\alpha),\\; \\alpha\\in\\mathbb{R}^{|T|}$;\n",
    "\n",
    "* векторы тем  порождаются одним и тем же вероятностным распределением на нормированных векторах размерности $|W|$; это распределение удобно взять из параметрического семейства распределений Дирихле $\\mathrm{Dir}(\\theta,\\beta),\\; \\beta\\in\\mathbb{R}^{|W|}$."
   ]
  },
  {
   "cell_type": "markdown",
   "metadata": {},
   "source": [
    "Для идентификации параметров модели LDA по коллекции документов применяется самплирование Гиббса, вариационный байесовский вывод или метод Expectation-Propagation."
   ]
  },
  {
   "cell_type": "markdown",
   "metadata": {},
   "source": [
    "## Пример построения LDA"
   ]
  },
  {
   "cell_type": "markdown",
   "metadata": {},
   "source": [
    "### Предобработка данных"
   ]
  },
  {
   "cell_type": "markdown",
   "metadata": {
    "collapsed": true
   },
   "source": [
    "Подключаем библиотеку тематического моделирования gensim (http://radimrehurek.com/gensim/),\n",
    "загружаем из NLTK (http://nltk.org/) корпус wordnet - он понадобится при лемматизации."
   ]
  },
  {
   "cell_type": "code",
   "execution_count": 1,
   "metadata": {},
   "outputs": [
    {
     "name": "stdout",
     "output_type": "stream",
     "text": [
      "showing info https://raw.githubusercontent.com/nltk/nltk_data/gh-pages/index.xml\n"
     ]
    },
    {
     "data": {
      "text/plain": [
       "True"
      ]
     },
     "execution_count": 1,
     "metadata": {},
     "output_type": "execute_result"
    }
   ],
   "source": [
    "import nltk\n",
    "import sys\n",
    "import os\n",
    "from math import log\n",
    "import numpy as np\n",
    "from time import time\n",
    "from gensim import corpora, models, similarities\n",
    "\n",
    "import logging\n",
    "logging.basicConfig(format='%(asctime)s : %(levelname)s : %(message)s', level=logging.INFO)\n",
    "\n",
    "nltk.download() #download WordNet corpora"
   ]
  },
  {
   "cell_type": "markdown",
   "metadata": {},
   "source": [
    "Определим предобработку текста: приводим к нижнему регистру, разбиваем на токены, производим лемматизацию. Таким образом, превращаем текст в список лемм."
   ]
  },
  {
   "cell_type": "code",
   "execution_count": 2,
   "metadata": {
    "collapsed": true
   },
   "outputs": [],
   "source": [
    "def preprocess(text):\n",
    "    wnl = nltk.WordNetLemmatizer()\n",
    "    return [wnl.lemmatize(t) for t in text.lower().split()]"
   ]
  },
  {
   "cell_type": "markdown",
   "metadata": {},
   "source": [
    "Считаем коллекцию исходных текстов в список документов. Каждый документ - список лемм (токенов). В этом примере мы загружаем всю коллекцию в оперативную память. На самом деле, gensim позволяет этого избежать на всех этапах построения модели."
   ]
  },
  {
   "cell_type": "code",
   "execution_count": 3,
   "metadata": {
    "collapsed": true
   },
   "outputs": [],
   "source": [
    "texts = []\n",
    "for filename in os.listdir(\"nips11\"):\n",
    "    with open( \"nips11/\"+ filename) as f: \n",
    "        texts.append(preprocess(f.read().decode('cp1251')))"
   ]
  },
  {
   "cell_type": "markdown",
   "metadata": {},
   "source": [
    "Строим по коллекции словарь: каждому уникальному токену присваивается номер, запоминается отображение id2word. Выполним второй этап предобработки: отсеим слишком редкие слова (например, опечатки) и слишком частые слова (например, стоп-слова или просто частотные нетематические термины). Функция filter_extremes удаляет из словаря токены, которые встретились менее чем в no_below документов или более чем в доле no_above от общего числа документов."
   ]
  },
  {
   "cell_type": "code",
   "execution_count": 4,
   "metadata": {},
   "outputs": [
    {
     "name": "stderr",
     "output_type": "stream",
     "text": [
      "2017-11-20 21:20:37,757 : INFO : adding document #0 to Dictionary(0 unique tokens: [])\n",
      "2017-11-20 21:20:38,251 : INFO : built Dictionary(51323 unique tokens: [u'=jtm', u'considered,', u'v\\x7fe', u'considered.', u'7:461-467,']...) from 151 documents (total 482453 corpus positions)\n",
      "2017-11-20 21:20:38,376 : INFO : discarding 46048 tokens: [(u'essay', 1), (u'all', 139), (u'distribution),', 1), (u'consider', 93), (u'exponentiation', 1), (u'particular', 76), (u'known', 76), (u'proposition', 4), (u't\\x7f:-le-tdt', 1), (u'sin\\x7feroresearch.', 1)]...\n",
      "2017-11-20 21:20:38,377 : INFO : keeping 5275 tokens which were in no less than 5 and no more than 75 (=50.0%) documents\n",
      "2017-11-20 21:20:38,408 : INFO : resulting dictionary: Dictionary(5275 unique tokens: [u'ever,', u'two-dimensional', u'biophysical', u'similarity', u'fig.']...)\n",
      "2017-11-20 21:20:38,413 : INFO : saving Dictionary object under nips.dict, separately None\n",
      "2017-11-20 21:20:38,453 : INFO : saved nips.dict\n"
     ]
    },
    {
     "name": "stdout",
     "output_type": "stream",
     "text": [
      "Original: Dictionary(51323 unique tokens: [u'=jtm', u'considered,', u'v\\x7fe', u'considered.', u'7:461-467,']...)\n",
      "Filtered: Dictionary(5275 unique tokens: [u'ever,', u'two-dimensional', u'biophysical', u'similarity', u'fig.']...)\n"
     ]
    }
   ],
   "source": [
    "dictionary = corpora.Dictionary(texts)\n",
    "print 'Original: {}'.format(dictionary)\n",
    "dictionary.filter_extremes(no_below = 5, no_above = 0.5, keep_n=None)\n",
    "dictionary.save('nips.dict')\n",
    "print 'Filtered: {}'.format(dictionary)"
   ]
  },
  {
   "cell_type": "markdown",
   "metadata": {},
   "source": [
    "Используя полученный словарь, преобразуем корпус текстов в векторизованное представление. Каждый документ теперь это список пар (номер токена, число его вхождений в документ). Это разреженное представление вектора частот: токены, которые не встречаются в документе, не указываются."
   ]
  },
  {
   "cell_type": "code",
   "execution_count": 5,
   "metadata": {},
   "outputs": [
    {
     "name": "stderr",
     "output_type": "stream",
     "text": [
      "2017-11-20 21:20:38,775 : INFO : storing corpus in Matrix Market format to nips.mm\n",
      "2017-11-20 21:20:38,776 : INFO : saving sparse matrix to nips.mm\n",
      "2017-11-20 21:20:38,777 : INFO : PROGRESS: saving document #0\n",
      "2017-11-20 21:20:39,347 : INFO : saved 151x5275 matrix, density=10.393% (82785/796525)\n",
      "2017-11-20 21:20:39,348 : INFO : saving MmCorpus index to nips.mm.index\n"
     ]
    }
   ],
   "source": [
    "corpus = [dictionary.doc2bow(text) for text in texts]\n",
    "corpora.MmCorpus.serialize('nips.mm', corpus) # store on disc"
   ]
  },
  {
   "cell_type": "markdown",
   "metadata": {},
   "source": [
    "Посмотрим глазами на начало одного из документов. То, что большинство счетчиков равно 1 -- типично. Распределение частот слов в документе подчиняется закону Ципфа (частота обратно пропорциональна рангу слова)."
   ]
  },
  {
   "cell_type": "code",
   "execution_count": 6,
   "metadata": {},
   "outputs": [
    {
     "name": "stdout",
     "output_type": "stream",
     "text": [
      "[(7, 1), (16, 1), (25, 9), (27, 2), (35, 1), (38, 1), (72, 2), (81, 1), (112, 1), (117, 1), (141, 3), (145, 1), (146, 3), (150, 1), (161, 1), (169, 1), (190, 1), (195, 1), (199, 1), (241, 1)]\n"
     ]
    }
   ],
   "source": [
    "print corpus[0][0:20]"
   ]
  },
  {
   "cell_type": "markdown",
   "metadata": {},
   "source": [
    "### Обучение модели"
   ]
  },
  {
   "cell_type": "markdown",
   "metadata": {},
   "source": [
    "Теперь мы готовы к тому, чтобы строить тематическую модель нашей коллекции. Мы строим модель online lda, реализованную в библиотеке gensim. Указываем векторизованный корпус текстов, словарь, число тем 100."
   ]
  },
  {
   "cell_type": "code",
   "execution_count": 7,
   "metadata": {
    "scrolled": true
   },
   "outputs": [
    {
     "name": "stderr",
     "output_type": "stream",
     "text": [
      "2017-11-20 21:20:39,369 : INFO : using symmetric alpha at 0.01\n",
      "2017-11-20 21:20:39,371 : INFO : using symmetric eta at 0.000189573459716\n",
      "2017-11-20 21:20:39,374 : INFO : using serial LDA version on this node\n",
      "2017-11-20 21:20:43,358 : INFO : running online (multi-pass) LDA training, 100 topics, 2 passes over the supplied corpus of 151 documents, updating model once every 50 documents, evaluating perplexity every 151 documents, iterating 50x with a convergence threshold of 0.001000\n",
      "2017-11-20 21:20:43,359 : WARNING : too few updates, training might not converge; consider increasing the number of passes or iterations to improve accuracy\n",
      "2017-11-20 21:20:43,360 : INFO : PROGRESS: pass 0, at document #50/151\n",
      "2017-11-20 21:20:43,811 : INFO : merging changes from 50 documents into a model of 151 documents\n",
      "2017-11-20 21:20:44,421 : INFO : topic #54 (0.010): 0.018*\"image\" + 0.014*\"scene\" + 0.006*\"convolution\" + 0.005*\"series\" + 0.004*\"local\" + 0.004*\"sensor\" + 0.004*\"markov\" + 0.004*\"control\" + 0.004*\"polynomial\" + 0.003*\"forward\"\n",
      "2017-11-20 21:20:44,423 : INFO : topic #3 (0.010): 0.010*\"image\" + 0.005*\"em\" + 0.004*\"training\" + 0.004*\"component\" + 0.004*\"gaussian\" + 0.004*\"scene\" + 0.004*\"sensor\" + 0.004*\"digit\" + 0.004*\"mixture\" + 0.004*\"state\"\n",
      "2017-11-20 21:20:44,424 : INFO : topic #84 (0.010): 0.009*\"state\" + 0.006*\"image\" + 0.004*\"prior\" + 0.004*\"convolution\" + 0.004*\"noise\" + 0.004*\"bayesian\" + 0.004*\"signal\" + 0.004*\"training\" + 0.003*\"dynamic\" + 0.003*\"impulse\"\n",
      "2017-11-20 21:20:44,425 : INFO : topic #0 (0.010): 0.006*\"control\" + 0.005*\"concept\" + 0.005*\"state\" + 0.005*\"gaussian\" + 0.004*\"noise\" + 0.004*\"&\" + 0.004*\"training\" + 0.004*\"policy\" + 0.004*\"positive\" + 0.004*\"approximation\"\n",
      "2017-11-20 21:20:44,426 : INFO : topic #67 (0.010): 0.010*\"image\" + 0.010*\"filter\" + 0.008*\"phase\" + 0.007*\"approximation\" + 0.006*\"statistic\" + 0.006*\"gaussian\" + 0.006*\"minimax\" + 0.005*\"firing\" + 0.004*\"training\" + 0.004*\"rate\"\n",
      "2017-11-20 21:20:44,431 : INFO : topic diff=27.200535, rho=1.000000\n",
      "2017-11-20 21:20:44,434 : INFO : PROGRESS: pass 0, at document #100/151\n",
      "2017-11-20 21:20:44,894 : INFO : merging changes from 50 documents into a model of 151 documents\n",
      "2017-11-20 21:20:45,209 : INFO : topic #90 (0.010): 0.006*\"cortical\" + 0.006*\"state\" + 0.005*\"image\" + 0.004*\"neuron\" + 0.004*\"complex\" + 0.004*\"correlation\" + 0.004*\"impulse\" + 0.004*\"visual\" + 0.004*\"degree\" + 0.004*\"behavior\"\n",
      "2017-11-20 21:20:45,210 : INFO : topic #73 (0.010): 0.008*\"signal\" + 0.007*\"training\" + 0.006*\"state\" + 0.004*\"source\" + 0.004*\"search\" + 0.004*\"unit\" + 0.004*\"component\" + 0.004*\"v\" + 0.004*\"structure\" + 0.004*\"class\"\n",
      "2017-11-20 21:20:45,212 : INFO : topic #11 (0.010): 0.006*\"p\" + 0.006*\"training\" + 0.005*\"gaussian\" + 0.005*\"correlation\" + 0.005*\"&\" + 0.004*\"noise\" + 0.004*\"cortical\" + 0.004*\"w\" + 0.004*\"prediction\" + 0.003*\"hidden\"\n",
      "2017-11-20 21:20:45,213 : INFO : topic #14 (0.010): 0.014*\"bound\" + 0.013*\"margin\" + 0.012*\"cost\" + 0.010*\"labeled\" + 0.005*\"training\" + 0.005*\"contour\" + 0.004*\"classifier\" + 0.004*\"field\" + 0.004*\"kernel\" + 0.004*\"hebbian\"\n",
      "2017-11-20 21:20:45,215 : INFO : topic #33 (0.010): 0.019*\"mobile\" + 0.013*\"dense\" + 0.012*\"robot\" + 0.011*\"sparse\" + 0.010*\"pomdp\" + 0.010*\"prior\" + 0.009*\"search\" + 0.009*\"trace\" + 0.008*\"eds.,\" + 0.007*\"pruning\"\n",
      "2017-11-20 21:20:45,219 : INFO : topic diff=11.327812, rho=0.707107\n",
      "2017-11-20 21:20:45,222 : INFO : PROGRESS: pass 0, at document #150/151\n",
      "2017-11-20 21:20:45,603 : INFO : merging changes from 50 documents into a model of 151 documents\n",
      "2017-11-20 21:20:45,819 : INFO : topic #52 (0.010): 0.004*\"state\" + 0.004*\"visual\" + 0.003*\"&\" + 0.003*\"rate\" + 0.003*\"neuron\" + 0.003*\"policy\" + 0.003*\"series\" + 0.003*\"em\" + 0.002*\"fig.\" + 0.002*\"call\"\n",
      "2017-11-20 21:20:45,820 : INFO : topic #76 (0.010): 0.006*\"mixture\" + 0.005*\"gaussian\" + 0.005*\"training\" + 0.005*\"sample\" + 0.005*\"em\" + 0.004*\"state\" + 0.004*\"image\" + 0.004*\"margin\" + 0.004*\"scene\" + 0.003*\"prior\"\n",
      "2017-11-20 21:20:45,821 : INFO : topic #81 (0.010): 0.010*\"similarity\" + 0.007*\"hardware\" + 0.007*\"flow\" + 0.007*\"running\" + 0.007*\"{0,\" + 0.006*\"em\" + 0.005*\"state\" + 0.004*\"and/or\" + 0.004*\"recognition\" + 0.004*\"object\"\n",
      "2017-11-20 21:20:45,823 : INFO : topic #33 (0.010): 0.022*\"ease\" + 0.022*\"pomdp\" + 0.015*\"chosen,\" + 0.015*\"mobile\" + 0.011*\"dense\" + 0.011*\"pruning\" + 0.010*\"prior\" + 0.010*\"search\" + 0.010*\"robot\" + 0.009*\"sparse\"\n",
      "2017-11-20 21:20:45,824 : INFO : topic #87 (0.010): 0.008*\"em\" + 0.008*\"contour\" + 0.006*\"mixture\" + 0.005*\"split\" + 0.005*\"component\" + 0.005*\"8\" + 0.004*\"local\" + 0.004*\"field\" + 0.003*\"training\" + 0.003*\"constraint\"\n",
      "2017-11-20 21:20:45,828 : INFO : topic diff=10.288827, rho=0.577350\n",
      "2017-11-20 21:20:46,010 : INFO : -10.433 per-word bound, 1382.3 perplexity estimate based on a held-out corpus of 1 documents with 1004 words\n",
      "2017-11-20 21:20:46,011 : INFO : PROGRESS: pass 0, at document #151/151\n",
      "2017-11-20 21:20:46,028 : INFO : merging changes from 1 documents into a model of 151 documents\n",
      "2017-11-20 21:20:46,209 : INFO : topic #80 (0.010): 0.005*\"training\" + 0.003*\"classification\" + 0.003*\"p\" + 0.003*\"proximity\" + 0.003*\"state\" + 0.003*\"margin\" + 0.003*\"distance\" + 0.003*\"hidden\" + 0.003*\"w\" + 0.002*\"&\"\n",
      "2017-11-20 21:20:46,210 : INFO : topic #39 (0.010): 0.006*\"population\" + 0.006*\"&\" + 0.005*\"motion\" + 0.005*\"labeled\" + 0.004*\"activity\" + 0.004*\"series\" + 0.004*\"response\" + 0.004*\"neuron\" + 0.003*\"direction\" + 0.003*\"state\"\n",
      "2017-11-20 21:20:46,212 : INFO : topic #36 (0.010): 0.005*\"curve\" + 0.005*\"state\" + 0.003*\"margin\" + 0.003*\"image\" + 0.003*\"line\" + 0.003*\"gaussian\" + 0.002*\"principal\" + 0.002*\"noise\" + 0.002*\"approximation\" + 0.002*\"blind\"\n",
      "2017-11-20 21:20:46,213 : INFO : topic #29 (0.010): 0.006*\"em\" + 0.005*\"state\" + 0.004*\"mixture\" + 0.004*\"recognition\" + 0.003*\"behavior\" + 0.002*\"&\" + 0.002*\"prior\" + 0.002*\"sample\" + 0.002*\"visual\" + 0.002*\"training\"\n",
      "2017-11-20 21:20:46,215 : INFO : topic #93 (0.010): 0.036*\"plan\" + 0.030*\"function:\" + 0.014*\"classifier.\" + 0.010*\"classifier\" + 0.008*\"margin\" + 0.004*\"robot\" + 0.004*\"on-line\" + 0.004*\"win\" + 0.003*\"noise\" + 0.003*\"regularized\"\n",
      "2017-11-20 21:20:46,219 : INFO : topic diff=9.219024, rho=0.500000\n",
      "2017-11-20 21:20:46,224 : INFO : PROGRESS: pass 1, at document #50/151\n",
      "2017-11-20 21:20:46,562 : INFO : merging changes from 50 documents into a model of 151 documents\n",
      "2017-11-20 21:20:46,739 : INFO : topic #59 (0.010): 0.004*\"image\" + 0.003*\"convolution\" + 0.003*\"impulse\" + 0.002*\"polynomial\" + 0.002*\"f\" + 0.002*\"training\" + 0.002*\"noise\" + 0.002*\"state\" + 0.002*\"speed\" + 0.002*\"kernel\"\n",
      "2017-11-20 21:20:46,740 : INFO : topic #6 (0.010): 0.121*\"convolution\" + 0.099*\"microsoft\" + 0.092*\"impulse\" + 0.059*\"polynomial\" + 0.017*\"quantization\" + 0.016*\"n-th\" + 0.013*\"extraction\" + 0.012*\"coefficients.\" + 0.011*\"depicted\" + 0.009*\"kernel\"\n",
      "2017-11-20 21:20:46,741 : INFO : topic #95 (0.010): 0.003*\"independent\" + 0.003*\"&\" + 0.002*\"component\" + 0.002*\"cell\" + 0.002*\"signal\" + 0.002*\"sensor\" + 0.002*\"study\" + 0.002*\"human\" + 0.002*\"image\" + 0.002*\"mixture\"\n",
      "2017-11-20 21:20:46,743 : INFO : topic #8 (0.010): 0.061*\"history\" + 0.026*\"simplification\" + 0.011*\"dk\" + 0.008*\"exceed\" + 0.007*\"auxiliary\" + 0.006*\"curve\" + 0.005*\"segment\" + 0.005*\"principal\" + 0.005*\"state\" + 0.005*\"q_\"\n",
      "2017-11-20 21:20:46,745 : INFO : topic #42 (0.010): 0.042*\"failed\" + 0.016*\"position\" + 0.016*\"convergence\" + 0.012*\"v\" + 0.011*\"continuous\" + 0.011*\"shape\" + 0.011*\"contour\" + 0.011*\"control\" + 0.010*\"discontinuous\" + 0.010*\"arm\"\n",
      "2017-11-20 21:20:46,750 : INFO : topic diff=7.946481, rho=0.447214\n",
      "2017-11-20 21:20:46,753 : INFO : PROGRESS: pass 1, at document #100/151\n",
      "2017-11-20 21:20:47,094 : INFO : merging changes from 50 documents into a model of 151 documents\n",
      "2017-11-20 21:20:47,264 : INFO : topic #38 (0.010): 0.197*\"emission\" + 0.065*\"oscillation\" + 0.039*\"europhys.\" + 0.026*\"studied.\" + 0.025*\"1992;\" + 0.021*\"wo\" + 0.013*\"signal.\" + 0.011*\"1993;\" + 0.011*\"independent\" + 0.009*\"component\"\n",
      "2017-11-20 21:20:47,266 : INFO : topic #54 (0.010): 0.156*\"flow\" + 0.142*\"optical\" + 0.098*\"scene\" + 0.080*\"motion\" + 0.039*\"regularization\" + 0.039*\"field\" + 0.027*\"image\" + 0.024*\"computation\" + 0.023*\"vision\" + 0.020*\"velocity\"\n",
      "2017-11-20 21:20:47,266 : INFO : topic #89 (0.010): 0.004*\"image\" + 0.004*\"sensor\" + 0.003*\"&\" + 0.002*\"fig.\" + 0.002*\"prior\" + 0.002*\"gaussian\" + 0.002*\"em\" + 0.002*\"local\" + 0.002*\"object\" + 0.002*\"mixture\"\n"
     ]
    },
    {
     "name": "stderr",
     "output_type": "stream",
     "text": [
      "2017-11-20 21:20:47,268 : INFO : topic #30 (0.010): 0.015*\"training\" + 0.014*\"z\" + 0.013*\"prior\" + 0.013*\"gaussian\" + 0.011*\"regression\" + 0.011*\"bayesian\" + 0.009*\"prediction\" + 0.007*\"distance\" + 0.007*\"on-line\" + 0.007*\"em\"\n",
      "2017-11-20 21:20:47,270 : INFO : topic #98 (0.010): 0.004*\"image\" + 0.003*\"&\" + 0.003*\"noise\" + 0.002*\"state\" + 0.002*\"phase\" + 0.002*\"approximation\" + 0.002*\"agent\" + 0.002*\"prior\" + 0.002*\"action\" + 0.002*\"gaussian\"\n",
      "2017-11-20 21:20:47,273 : INFO : topic diff=7.271029, rho=0.447214\n",
      "2017-11-20 21:20:47,276 : INFO : PROGRESS: pass 1, at document #150/151\n",
      "2017-11-20 21:20:47,621 : INFO : merging changes from 50 documents into a model of 151 documents\n",
      "2017-11-20 21:20:47,808 : INFO : topic #85 (0.010): 0.167*\"efficacy\" + 0.136*\"em.\" + 0.102*\"aston\" + 0.026*\"motivated\" + 0.013*\"normalizing\" + 0.006*\"prior\" + 0.006*\"sparse\" + 0.005*\"sensor\" + 0.004*\"1\" + 0.003*\"covariance\"\n",
      "2017-11-20 21:20:47,810 : INFO : topic #65 (0.010): 0.001*\"neuron\" + 0.001*\"utility\" + 0.001*\"&\" + 0.001*\"state\" + 0.001*\"correlation\" + 0.001*\"p\" + 0.001*\"independent\" + 0.001*\"component\" + 0.001*\"gaussian\" + 0.001*\"traffic\"\n",
      "2017-11-20 21:20:47,811 : INFO : topic #24 (0.010): 0.002*\"curve\" + 0.001*\"state\" + 0.001*\"policy\" + 0.001*\"blind\" + 0.001*\"signal\" + 0.001*\"line\" + 0.001*\"principal\" + 0.001*\"table\" + 0.001*\"gradient\" + 0.001*\"reinforcement\"\n",
      "2017-11-20 21:20:47,812 : INFO : topic #46 (0.010): 0.002*\"curve\" + 0.002*\"principal\" + 0.001*\"image\" + 0.001*\"line\" + 0.001*\"h\" + 0.001*\"sensor\" + 0.001*\"local\" + 0.001*\"fig.\" + 0.001*\"convolution\" + 0.001*\"vertex\"\n",
      "2017-11-20 21:20:47,813 : INFO : topic #43 (0.010): 0.030*\"direction\" + 0.024*\"response\" + 0.017*\"population\" + 0.015*\"motion\" + 0.014*\"stimulus\" + 0.014*\"visual\" + 0.014*\"activity\" + 0.012*\"coding\" + 0.011*\"code\" + 0.011*\"cortical\"\n",
      "2017-11-20 21:20:47,818 : INFO : topic diff=6.180342, rho=0.447214\n",
      "2017-11-20 21:20:47,943 : INFO : -7.693 per-word bound, 206.9 perplexity estimate based on a held-out corpus of 1 documents with 1004 words\n",
      "2017-11-20 21:20:47,944 : INFO : PROGRESS: pass 1, at document #151/151\n",
      "2017-11-20 21:20:47,961 : INFO : merging changes from 1 documents into a model of 151 documents\n",
      "2017-11-20 21:20:48,125 : INFO : topic #80 (0.010): 0.001*\"training\" + 0.001*\"classification\" + 0.001*\"p\" + 0.001*\"proximity\" + 0.001*\"state\" + 0.001*\"margin\" + 0.001*\"distance\" + 0.001*\"hidden\" + 0.001*\"w\" + 0.001*\"&\"\n",
      "2017-11-20 21:20:48,126 : INFO : topic #23 (0.010): 0.046*\"commercial\" + 0.045*\"madison,\" + 0.031*\"state\" + 0.024*\"environment\" + 0.020*\"hmm\" + 0.017*\"hmms\" + 0.016*\"call\" + 0.014*\"false\" + 0.013*\"(3).\" + 0.012*\"centroid\"\n",
      "2017-11-20 21:20:48,127 : INFO : topic #91 (0.010): 0.001*\"control\" + 0.001*\"population\" + 0.001*\"state\" + 0.001*\"policy\" + 0.001*\"noise\" + 0.001*\"j\" + 0.001*\"correlation\" + 0.001*\"reinforcement\" + 0.001*\"continuous\" + 0.001*\"dynamic\"\n",
      "2017-11-20 21:20:48,128 : INFO : topic #15 (0.010): 0.010*\"dk\" + 0.003*\"e)\" + 0.002*\"&\" + 0.001*\"em\" + 0.001*\"positive\" + 0.001*\"r\" + 0.001*\"agent\" + 0.001*\"action\" + 0.001*\"proximity\" + 0.001*\"factor\"\n",
      "2017-11-20 21:20:48,130 : INFO : topic #72 (0.010): 0.009*\"calculates\" + 0.006*\"approximation\" + 0.005*\"gaussian\" + 0.005*\"field\" + 0.004*\"state\" + 0.004*\"approximation.\" + 0.003*\"estimation\" + 0.003*\"massachusetts,\" + 0.003*\"wu,\" + 0.003*\"f\"\n",
      "2017-11-20 21:20:48,134 : INFO : topic diff=4.897453, rho=0.447214\n"
     ]
    },
    {
     "name": "stdout",
     "output_type": "stream",
     "text": [
      "Evaluation time: 0.146152416865\n"
     ]
    }
   ],
   "source": [
    "start = time()\n",
    "model = models.ldamodel.LdaModel(corpus, id2word=dictionary, num_topics=100, chunksize=50, update_every=1, passes=2)\n",
    "print 'Evaluation time: {}'.format((time()-start) / 60)"
   ]
  },
  {
   "cell_type": "markdown",
   "metadata": {},
   "source": [
    "Посмотрим, что получилось.  Интерпретируемо?) Коллекция NIPS вся посвящена машинному обучению. Зрительно сложно оценить темы, хотя некоторая интерпретируемость прослеживается. "
   ]
  },
  {
   "cell_type": "code",
   "execution_count": 8,
   "metadata": {},
   "outputs": [
    {
     "name": "stdout",
     "output_type": "stream",
     "text": [
      "[(u'neuron', 0.02354453349042205), (u'synaptic', 0.022050759030025225), (u'cell', 0.020612523237473982), (u'visual', 0.017937468076819191), (u'spike', 0.017489225979225004), (u'firing', 0.01737808830794868), (u'rate', 0.013340562805124981), (u'&', 0.013108742606273614), (u'rule', 0.013097234863106405), (u'potential', 0.010659506464008126)] \n",
      "\n",
      "[(u'job', 0.13801409069869797), (u'concept', 0.00068028379825395974), (u'approximation', 0.00064664799687722853), (u'rate', 0.00062139356608129461), (u'positive', 0.00060642558490200363), (u'prior', 0.00059585580690812588), (u'series', 0.00058351254944747396), (u'hypothesis', 0.00055741076959087892), (u'state', 0.00054959245508515631), (u'posterior', 0.0005433337547529728)] \n",
      "\n",
      "[(u'clustering', 0.16902563208901178), (u'language', 0.064770866351768042), (u'dependency', 0.055198442456061793), (u'clustering.', 0.043548247496583335), (u'unsupervised', 0.036502659111949193), (u'cluster', 0.034290032312123318), (u'{0,', 0.02603092226978174), (u'document', 0.020961542633513779), (u'partitioning', 0.016859517884715885), (u'partition', 0.016611419155191636)] \n",
      "\n",
      "[(u'working', 0.042749084995753681), (u'risk', 0.019483281790808247), (u'machine', 0.016380005233068498), (u'training', 0.012510124572198897), (u'support', 0.010985634478416854), (u'integer', 0.010754789280704159), (u'class', 0.0090379191882739435), (u'structural', 0.0088471025043751848), (u'overall', 0.0083261811414485527), (u'report', 0.0079553625036208626)] \n",
      "\n",
      "[(u'image', 0.0025402168655870925), (u'optical', 0.0019419807023685093), (u'scene', 0.0012256671194468963), (u'gaussian', 0.001037346386137778), (u'constraint', 0.00097094158552185541), (u'state', 0.00096443163075924819), (u'sensor', 0.00095880622510488057), (u'local', 0.00094104166054826148), (u'flow', 0.0008358490802974146), (u'call', 0.00083044592512084936)] \n",
      "\n",
      "\n",
      "[(u'neuron', 0.02354453349042205), (u'synaptic', 0.022050759030025225), (u'cell', 0.020612523237473982), (u'visual', 0.017937468076819191), (u'spike', 0.017489225979225004), (u'firing', 0.01737808830794868), (u'rate', 0.013340562805124981), (u'&', 0.013108742606273614), (u'rule', 0.013097234863106405), (u'potential', 0.010659506464008126)] \n",
      "\n",
      "[(u'job', 0.13801409069869797), (u'concept', 0.00068028379825395974), (u'approximation', 0.00064664799687722853), (u'rate', 0.00062139356608129461), (u'positive', 0.00060642558490200363), (u'prior', 0.00059585580690812588), (u'series', 0.00058351254944747396), (u'hypothesis', 0.00055741076959087892), (u'state', 0.00054959245508515631), (u'posterior', 0.0005433337547529728)] \n",
      "\n",
      "[(u'clustering', 0.16902563208901178), (u'language', 0.064770866351768042), (u'dependency', 0.055198442456061793), (u'clustering.', 0.043548247496583335), (u'unsupervised', 0.036502659111949193), (u'cluster', 0.034290032312123318), (u'{0,', 0.02603092226978174), (u'document', 0.020961542633513779), (u'partitioning', 0.016859517884715885), (u'partition', 0.016611419155191636)] \n",
      "\n",
      "[(u'working', 0.042749084995753681), (u'risk', 0.019483281790808247), (u'machine', 0.016380005233068498), (u'training', 0.012510124572198897), (u'support', 0.010985634478416854), (u'integer', 0.010754789280704159), (u'class', 0.0090379191882739435), (u'structural', 0.0088471025043751848), (u'overall', 0.0083261811414485527), (u'report', 0.0079553625036208626)] \n",
      "\n",
      "[(u'image', 0.0025402168655870925), (u'optical', 0.0019419807023685093), (u'scene', 0.0012256671194468963), (u'gaussian', 0.001037346386137778), (u'constraint', 0.00097094158552185541), (u'state', 0.00096443163075924819), (u'sensor', 0.00095880622510488057), (u'local', 0.00094104166054826148), (u'flow', 0.0008358490802974146), (u'call', 0.00083044592512084936)] \n",
      "\n",
      "\n",
      "[(u'neuron', 0.02354453349042205), (u'synaptic', 0.022050759030025225), (u'cell', 0.020612523237473982), (u'visual', 0.017937468076819191), (u'spike', 0.017489225979225004), (u'firing', 0.01737808830794868), (u'rate', 0.013340562805124981), (u'&', 0.013108742606273614), (u'rule', 0.013097234863106405), (u'potential', 0.010659506464008126)] \n",
      "\n",
      "[(u'job', 0.13801409069869797), (u'concept', 0.00068028379825395974), (u'approximation', 0.00064664799687722853), (u'rate', 0.00062139356608129461), (u'positive', 0.00060642558490200363), (u'prior', 0.00059585580690812588), (u'series', 0.00058351254944747396), (u'hypothesis', 0.00055741076959087892), (u'state', 0.00054959245508515631), (u'posterior', 0.0005433337547529728)] \n",
      "\n",
      "[(u'clustering', 0.16902563208901178), (u'language', 0.064770866351768042), (u'dependency', 0.055198442456061793), (u'clustering.', 0.043548247496583335), (u'unsupervised', 0.036502659111949193), (u'cluster', 0.034290032312123318), (u'{0,', 0.02603092226978174), (u'document', 0.020961542633513779), (u'partitioning', 0.016859517884715885), (u'partition', 0.016611419155191636)] \n",
      "\n",
      "[(u'working', 0.042749084995753681), (u'risk', 0.019483281790808247), (u'machine', 0.016380005233068498), (u'training', 0.012510124572198897), (u'support', 0.010985634478416854), (u'integer', 0.010754789280704159), (u'class', 0.0090379191882739435), (u'structural', 0.0088471025043751848), (u'overall', 0.0083261811414485527), (u'report', 0.0079553625036208626)] \n",
      "\n",
      "[(u'image', 0.0025402168655870925), (u'optical', 0.0019419807023685093), (u'scene', 0.0012256671194468963), (u'gaussian', 0.001037346386137778), (u'constraint', 0.00097094158552185541), (u'state', 0.00096443163075924819), (u'sensor', 0.00095880622510488057), (u'local', 0.00094104166054826148), (u'flow', 0.0008358490802974146), (u'call', 0.00083044592512084936)] \n",
      "\n",
      "\n",
      "[(u'neuron', 0.02354453349042205), (u'synaptic', 0.022050759030025225), (u'cell', 0.020612523237473982), (u'visual', 0.017937468076819191), (u'spike', 0.017489225979225004), (u'firing', 0.01737808830794868), (u'rate', 0.013340562805124981), (u'&', 0.013108742606273614), (u'rule', 0.013097234863106405), (u'potential', 0.010659506464008126)] \n",
      "\n",
      "[(u'job', 0.13801409069869797), (u'concept', 0.00068028379825395974), (u'approximation', 0.00064664799687722853), (u'rate', 0.00062139356608129461), (u'positive', 0.00060642558490200363), (u'prior', 0.00059585580690812588), (u'series', 0.00058351254944747396), (u'hypothesis', 0.00055741076959087892), (u'state', 0.00054959245508515631), (u'posterior', 0.0005433337547529728)] \n",
      "\n",
      "[(u'clustering', 0.16902563208901178), (u'language', 0.064770866351768042), (u'dependency', 0.055198442456061793), (u'clustering.', 0.043548247496583335), (u'unsupervised', 0.036502659111949193), (u'cluster', 0.034290032312123318), (u'{0,', 0.02603092226978174), (u'document', 0.020961542633513779), (u'partitioning', 0.016859517884715885), (u'partition', 0.016611419155191636)] \n",
      "\n",
      "[(u'working', 0.042749084995753681), (u'risk', 0.019483281790808247), (u'machine', 0.016380005233068498), (u'training', 0.012510124572198897), (u'support', 0.010985634478416854), (u'integer', 0.010754789280704159), (u'class', 0.0090379191882739435), (u'structural', 0.0088471025043751848), (u'overall', 0.0083261811414485527), (u'report', 0.0079553625036208626)] \n",
      "\n",
      "[(u'image', 0.0025402168655870925), (u'optical', 0.0019419807023685093), (u'scene', 0.0012256671194468963), (u'gaussian', 0.001037346386137778), (u'constraint', 0.00097094158552185541), (u'state', 0.00096443163075924819), (u'sensor', 0.00095880622510488057), (u'local', 0.00094104166054826148), (u'flow', 0.0008358490802974146), (u'call', 0.00083044592512084936)] \n",
      "\n",
      "\n",
      "[(u'neuron', 0.02354453349042205), (u'synaptic', 0.022050759030025225), (u'cell', 0.020612523237473982), (u'visual', 0.017937468076819191), (u'spike', 0.017489225979225004), (u'firing', 0.01737808830794868), (u'rate', 0.013340562805124981), (u'&', 0.013108742606273614), (u'rule', 0.013097234863106405), (u'potential', 0.010659506464008126)] \n",
      "\n",
      "[(u'job', 0.13801409069869797), (u'concept', 0.00068028379825395974), (u'approximation', 0.00064664799687722853), (u'rate', 0.00062139356608129461), (u'positive', 0.00060642558490200363), (u'prior', 0.00059585580690812588), (u'series', 0.00058351254944747396), (u'hypothesis', 0.00055741076959087892), (u'state', 0.00054959245508515631), (u'posterior', 0.0005433337547529728)] \n",
      "\n",
      "[(u'clustering', 0.16902563208901178), (u'language', 0.064770866351768042), (u'dependency', 0.055198442456061793), (u'clustering.', 0.043548247496583335), (u'unsupervised', 0.036502659111949193), (u'cluster', 0.034290032312123318), (u'{0,', 0.02603092226978174), (u'document', 0.020961542633513779), (u'partitioning', 0.016859517884715885), (u'partition', 0.016611419155191636)] \n",
      "\n",
      "[(u'working', 0.042749084995753681), (u'risk', 0.019483281790808247), (u'machine', 0.016380005233068498), (u'training', 0.012510124572198897), (u'support', 0.010985634478416854), (u'integer', 0.010754789280704159), (u'class', 0.0090379191882739435), (u'structural', 0.0088471025043751848), (u'overall', 0.0083261811414485527), (u'report', 0.0079553625036208626)] \n",
      "\n",
      "[(u'image', 0.0025402168655870925), (u'optical', 0.0019419807023685093), (u'scene', 0.0012256671194468963), (u'gaussian', 0.001037346386137778), (u'constraint', 0.00097094158552185541), (u'state', 0.00096443163075924819), (u'sensor', 0.00095880622510488057), (u'local', 0.00094104166054826148), (u'flow', 0.0008358490802974146), (u'call', 0.00083044592512084936)] \n",
      "\n",
      "\n",
      "[(u'neuron', 0.02354453349042205), (u'synaptic', 0.022050759030025225), (u'cell', 0.020612523237473982), (u'visual', 0.017937468076819191), (u'spike', 0.017489225979225004), (u'firing', 0.01737808830794868), (u'rate', 0.013340562805124981), (u'&', 0.013108742606273614), (u'rule', 0.013097234863106405), (u'potential', 0.010659506464008126)] \n",
      "\n",
      "[(u'job', 0.13801409069869797), (u'concept', 0.00068028379825395974), (u'approximation', 0.00064664799687722853), (u'rate', 0.00062139356608129461), (u'positive', 0.00060642558490200363), (u'prior', 0.00059585580690812588), (u'series', 0.00058351254944747396), (u'hypothesis', 0.00055741076959087892), (u'state', 0.00054959245508515631), (u'posterior', 0.0005433337547529728)] \n",
      "\n",
      "[(u'clustering', 0.16902563208901178), (u'language', 0.064770866351768042), (u'dependency', 0.055198442456061793), (u'clustering.', 0.043548247496583335), (u'unsupervised', 0.036502659111949193), (u'cluster', 0.034290032312123318), (u'{0,', 0.02603092226978174), (u'document', 0.020961542633513779), (u'partitioning', 0.016859517884715885), (u'partition', 0.016611419155191636)] \n",
      "\n",
      "[(u'working', 0.042749084995753681), (u'risk', 0.019483281790808247), (u'machine', 0.016380005233068498), (u'training', 0.012510124572198897), (u'support', 0.010985634478416854), (u'integer', 0.010754789280704159), (u'class', 0.0090379191882739435), (u'structural', 0.0088471025043751848), (u'overall', 0.0083261811414485527), (u'report', 0.0079553625036208626)] \n",
      "\n",
      "[(u'image', 0.0025402168655870925), (u'optical', 0.0019419807023685093), (u'scene', 0.0012256671194468963), (u'gaussian', 0.001037346386137778), (u'constraint', 0.00097094158552185541), (u'state', 0.00096443163075924819), (u'sensor', 0.00095880622510488057), (u'local', 0.00094104166054826148), (u'flow', 0.0008358490802974146), (u'call', 0.00083044592512084936)] \n",
      "\n",
      "\n",
      "[(u'neuron', 0.02354453349042205), (u'synaptic', 0.022050759030025225), (u'cell', 0.020612523237473982), (u'visual', 0.017937468076819191), (u'spike', 0.017489225979225004), (u'firing', 0.01737808830794868), (u'rate', 0.013340562805124981), (u'&', 0.013108742606273614), (u'rule', 0.013097234863106405), (u'potential', 0.010659506464008126)] \n",
      "\n",
      "[(u'job', 0.13801409069869797), (u'concept', 0.00068028379825395974), (u'approximation', 0.00064664799687722853), (u'rate', 0.00062139356608129461), (u'positive', 0.00060642558490200363), (u'prior', 0.00059585580690812588), (u'series', 0.00058351254944747396), (u'hypothesis', 0.00055741076959087892), (u'state', 0.00054959245508515631), (u'posterior', 0.0005433337547529728)] \n",
      "\n"
     ]
    },
    {
     "name": "stdout",
     "output_type": "stream",
     "text": [
      "[(u'clustering', 0.16902563208901178), (u'language', 0.064770866351768042), (u'dependency', 0.055198442456061793), (u'clustering.', 0.043548247496583335), (u'unsupervised', 0.036502659111949193), (u'cluster', 0.034290032312123318), (u'{0,', 0.02603092226978174), (u'document', 0.020961542633513779), (u'partitioning', 0.016859517884715885), (u'partition', 0.016611419155191636)] \n",
      "\n",
      "[(u'working', 0.042749084995753681), (u'risk', 0.019483281790808247), (u'machine', 0.016380005233068498), (u'training', 0.012510124572198897), (u'support', 0.010985634478416854), (u'integer', 0.010754789280704159), (u'class', 0.0090379191882739435), (u'structural', 0.0088471025043751848), (u'overall', 0.0083261811414485527), (u'report', 0.0079553625036208626)] \n",
      "\n",
      "[(u'image', 0.0025402168655870925), (u'optical', 0.0019419807023685093), (u'scene', 0.0012256671194468963), (u'gaussian', 0.001037346386137778), (u'constraint', 0.00097094158552185541), (u'state', 0.00096443163075924819), (u'sensor', 0.00095880622510488057), (u'local', 0.00094104166054826148), (u'flow', 0.0008358490802974146), (u'call', 0.00083044592512084936)] \n",
      "\n",
      "\n",
      "[(u'neuron', 0.02354453349042205), (u'synaptic', 0.022050759030025225), (u'cell', 0.020612523237473982), (u'visual', 0.017937468076819191), (u'spike', 0.017489225979225004), (u'firing', 0.01737808830794868), (u'rate', 0.013340562805124981), (u'&', 0.013108742606273614), (u'rule', 0.013097234863106405), (u'potential', 0.010659506464008126)] \n",
      "\n",
      "[(u'job', 0.13801409069869797), (u'concept', 0.00068028379825395974), (u'approximation', 0.00064664799687722853), (u'rate', 0.00062139356608129461), (u'positive', 0.00060642558490200363), (u'prior', 0.00059585580690812588), (u'series', 0.00058351254944747396), (u'hypothesis', 0.00055741076959087892), (u'state', 0.00054959245508515631), (u'posterior', 0.0005433337547529728)] \n",
      "\n",
      "[(u'clustering', 0.16902563208901178), (u'language', 0.064770866351768042), (u'dependency', 0.055198442456061793), (u'clustering.', 0.043548247496583335), (u'unsupervised', 0.036502659111949193), (u'cluster', 0.034290032312123318), (u'{0,', 0.02603092226978174), (u'document', 0.020961542633513779), (u'partitioning', 0.016859517884715885), (u'partition', 0.016611419155191636)] \n",
      "\n",
      "[(u'working', 0.042749084995753681), (u'risk', 0.019483281790808247), (u'machine', 0.016380005233068498), (u'training', 0.012510124572198897), (u'support', 0.010985634478416854), (u'integer', 0.010754789280704159), (u'class', 0.0090379191882739435), (u'structural', 0.0088471025043751848), (u'overall', 0.0083261811414485527), (u'report', 0.0079553625036208626)] \n",
      "\n",
      "[(u'image', 0.0025402168655870925), (u'optical', 0.0019419807023685093), (u'scene', 0.0012256671194468963), (u'gaussian', 0.001037346386137778), (u'constraint', 0.00097094158552185541), (u'state', 0.00096443163075924819), (u'sensor', 0.00095880622510488057), (u'local', 0.00094104166054826148), (u'flow', 0.0008358490802974146), (u'call', 0.00083044592512084936)] \n",
      "\n",
      "\n",
      "[(u'neuron', 0.02354453349042205), (u'synaptic', 0.022050759030025225), (u'cell', 0.020612523237473982), (u'visual', 0.017937468076819191), (u'spike', 0.017489225979225004), (u'firing', 0.01737808830794868), (u'rate', 0.013340562805124981), (u'&', 0.013108742606273614), (u'rule', 0.013097234863106405), (u'potential', 0.010659506464008126)] \n",
      "\n",
      "[(u'job', 0.13801409069869797), (u'concept', 0.00068028379825395974), (u'approximation', 0.00064664799687722853), (u'rate', 0.00062139356608129461), (u'positive', 0.00060642558490200363), (u'prior', 0.00059585580690812588), (u'series', 0.00058351254944747396), (u'hypothesis', 0.00055741076959087892), (u'state', 0.00054959245508515631), (u'posterior', 0.0005433337547529728)] \n",
      "\n",
      "[(u'clustering', 0.16902563208901178), (u'language', 0.064770866351768042), (u'dependency', 0.055198442456061793), (u'clustering.', 0.043548247496583335), (u'unsupervised', 0.036502659111949193), (u'cluster', 0.034290032312123318), (u'{0,', 0.02603092226978174), (u'document', 0.020961542633513779), (u'partitioning', 0.016859517884715885), (u'partition', 0.016611419155191636)] \n",
      "\n",
      "[(u'working', 0.042749084995753681), (u'risk', 0.019483281790808247), (u'machine', 0.016380005233068498), (u'training', 0.012510124572198897), (u'support', 0.010985634478416854), (u'integer', 0.010754789280704159), (u'class', 0.0090379191882739435), (u'structural', 0.0088471025043751848), (u'overall', 0.0083261811414485527), (u'report', 0.0079553625036208626)] \n",
      "\n",
      "[(u'image', 0.0025402168655870925), (u'optical', 0.0019419807023685093), (u'scene', 0.0012256671194468963), (u'gaussian', 0.001037346386137778), (u'constraint', 0.00097094158552185541), (u'state', 0.00096443163075924819), (u'sensor', 0.00095880622510488057), (u'local', 0.00094104166054826148), (u'flow', 0.0008358490802974146), (u'call', 0.00083044592512084936)] \n",
      "\n",
      "\n",
      "[(u'neuron', 0.02354453349042205), (u'synaptic', 0.022050759030025225), (u'cell', 0.020612523237473982), (u'visual', 0.017937468076819191), (u'spike', 0.017489225979225004), (u'firing', 0.01737808830794868), (u'rate', 0.013340562805124981), (u'&', 0.013108742606273614), (u'rule', 0.013097234863106405), (u'potential', 0.010659506464008126)] \n",
      "\n",
      "[(u'job', 0.13801409069869797), (u'concept', 0.00068028379825395974), (u'approximation', 0.00064664799687722853), (u'rate', 0.00062139356608129461), (u'positive', 0.00060642558490200363), (u'prior', 0.00059585580690812588), (u'series', 0.00058351254944747396), (u'hypothesis', 0.00055741076959087892), (u'state', 0.00054959245508515631), (u'posterior', 0.0005433337547529728)] \n",
      "\n",
      "[(u'clustering', 0.16902563208901178), (u'language', 0.064770866351768042), (u'dependency', 0.055198442456061793), (u'clustering.', 0.043548247496583335), (u'unsupervised', 0.036502659111949193), (u'cluster', 0.034290032312123318), (u'{0,', 0.02603092226978174), (u'document', 0.020961542633513779), (u'partitioning', 0.016859517884715885), (u'partition', 0.016611419155191636)] \n",
      "\n",
      "[(u'working', 0.042749084995753681), (u'risk', 0.019483281790808247), (u'machine', 0.016380005233068498), (u'training', 0.012510124572198897), (u'support', 0.010985634478416854), (u'integer', 0.010754789280704159), (u'class', 0.0090379191882739435), (u'structural', 0.0088471025043751848), (u'overall', 0.0083261811414485527), (u'report', 0.0079553625036208626)] \n",
      "\n",
      "[(u'image', 0.0025402168655870925), (u'optical', 0.0019419807023685093), (u'scene', 0.0012256671194468963), (u'gaussian', 0.001037346386137778), (u'constraint', 0.00097094158552185541), (u'state', 0.00096443163075924819), (u'sensor', 0.00095880622510488057), (u'local', 0.00094104166054826148), (u'flow', 0.0008358490802974146), (u'call', 0.00083044592512084936)] \n",
      "\n",
      "\n"
     ]
    }
   ],
   "source": [
    "for position in range(10):\n",
    "    for topic in range(60, 65):\n",
    "        print model.show_topic(topic),\n",
    "        print('')\n",
    "        print('')\n",
    "    print"
   ]
  },
  {
   "cell_type": "markdown",
   "metadata": {},
   "source": [
    "Мы посмотрели на часть матрицы Phi - вероятностей слов в темах, теперь посомтрим на часть матрицы Theta - вероятностей тем в документах. Ниже выведены номера тем и вероятности этих тем для некоторого документа. Заметим, что это очень разреженный вектор. На самом деле, модель строит абсолютно плотный вектор (и это плохо), а функция вывода просто обнуляет все вероятнсти, меньшие 0.01."
   ]
  },
  {
   "cell_type": "code",
   "execution_count": 9,
   "metadata": {},
   "outputs": [
    {
     "name": "stdout",
     "output_type": "stream",
     "text": [
      "[(30, 0.43798289478503871), (43, 0.017991202744811446), (56, 0.011569795781367303), (60, 0.023868140551495297), (63, 0.088212817954809258), (72, 0.233923711353552), (73, 0.1420425878178217), (74, 0.014116903023921427)]\n"
     ]
    }
   ],
   "source": [
    "some_document = corpus[0]\n",
    "print model[some_document]"
   ]
  },
  {
   "cell_type": "markdown",
   "metadata": {},
   "source": [
    "### Оценка моделей с помощью перплексии"
   ]
  },
  {
   "cell_type": "markdown",
   "metadata": {},
   "source": [
    "Перплексия:\n",
    "$$\n",
    "\\mathcal{P} = \\exp\\bigl( -\\frac1{n}\\,L(D) \\bigr)\n",
    "$$"
   ]
  },
  {
   "cell_type": "markdown",
   "metadata": {},
   "source": [
    "Хочется оценить модель чем-то более убедительным, чем разглядывание профилей тем и профилей документов. Это необходимо для возможноси сравнения разных моделей, например полученных с разными параметрами запуска. Научимся мерить перплексию. Функция model.state.get_lambda возвращает ненормированную матрицу Phi, model.inference оценивает ненормированную матрицу Theta для списка документов. Проходим по коллекции и считаем перплексию по формуле. Чем меньше перплексия, тем лучше."
   ]
  },
  {
   "cell_type": "code",
   "execution_count": 10,
   "metadata": {
    "collapsed": true
   },
   "outputs": [],
   "source": [
    "def perplexity(model, corpus):\n",
    "    corpus_length = 0\n",
    "    log_likelihood = 0\n",
    "    topic_profiles = model.state.get_lambda() / np.sum(model.state.get_lambda(), axis=1)[:, np.newaxis]\n",
    "    for document in corpus:\n",
    "        gamma, _ = model.inference([document])\n",
    "        document_profile = gamma / np.sum(gamma)\n",
    "        for term_id, term_count in document:\n",
    "            corpus_length += term_count\n",
    "            term_probability = np.dot(document_profile, topic_profiles[:, term_id])\n",
    "            log_likelihood += term_count * log(term_probability)\n",
    "    perplexity = np.exp(-log_likelihood / corpus_length)\n",
    "    return perplexity"
   ]
  },
  {
   "cell_type": "code",
   "execution_count": 11,
   "metadata": {},
   "outputs": [
    {
     "name": "stdout",
     "output_type": "stream",
     "text": [
      "Perplexity: 2206.82903488\n"
     ]
    }
   ],
   "source": [
    "print 'Perplexity: {}'.format(perplexity(model, corpus))"
   ]
  },
  {
   "cell_type": "markdown",
   "metadata": {},
   "source": [
    "Вернемся к параметрам построения модели online LDA. Можно задать: num_topics (100) - число тем, chunksize (2000) - размер блока, passes - число проходов по все коллекции, update_every (1) - каждые сколько блоков обновлять Phi, decay (0.5) - коэффициент забывания при обновлениях.\n",
    "Таким образом, при обучении первой модели мы совершили два полных прохода по коллекции, обновляя Phi после каждых 50 документов. Сделаем 40 проходов по коллекции с обновлениями Phi раз в коллекцию:"
   ]
  },
  {
   "cell_type": "code",
   "execution_count": 12,
   "metadata": {
    "scrolled": true
   },
   "outputs": [
    {
     "name": "stderr",
     "output_type": "stream",
     "text": [
      "2017-11-20 21:20:49,512 : INFO : using symmetric alpha at 0.01\n",
      "2017-11-20 21:20:49,514 : INFO : using symmetric eta at 0.000189573459716\n",
      "2017-11-20 21:20:49,517 : INFO : using serial LDA version on this node\n",
      "2017-11-20 21:20:53,328 : INFO : running batch LDA training, 100 topics, 40 passes over the supplied corpus of 151 documents, updating model once every 151 documents, evaluating perplexity every 151 documents, iterating 50x with a convergence threshold of 0.001000\n",
      "2017-11-20 21:21:02,463 : INFO : -19.307 per-word bound, 648632.5 perplexity estimate based on a held-out corpus of 151 documents with 163809 words\n",
      "2017-11-20 21:21:02,464 : INFO : PROGRESS: pass 0, at document #151/151\n",
      "2017-11-20 21:21:04,504 : INFO : topic #21 (0.010): 0.005*\"&\" + 0.004*\"r\" + 0.004*\"state\" + 0.003*\"margin\" + 0.003*\"curve\" + 0.003*\"component\" + 0.003*\"signal\" + 0.003*\"training\" + 0.003*\"cell\" + 0.003*\"control\"\n",
      "2017-11-20 21:21:04,505 : INFO : topic #5 (0.010): 0.008*\"training\" + 0.006*\"synaptic\" + 0.004*\"&\" + 0.004*\"state\" + 0.003*\"synapsis\" + 0.003*\"neuron\" + 0.003*\"mixture\" + 0.003*\"policy\" + 0.003*\"gaussian\" + 0.003*\"prior\"\n",
      "2017-11-20 21:21:04,506 : INFO : topic #68 (0.010): 0.005*\"state\" + 0.005*\"approximation\" + 0.004*\"training\" + 0.003*\"component\" + 0.003*\"image\" + 0.003*\"field\" + 0.003*\"cell\" + 0.003*\"noise\" + 0.003*\"dynamic\" + 0.002*\"control\"\n",
      "2017-11-20 21:21:04,508 : INFO : topic #99 (0.010): 0.008*\"image\" + 0.005*\"training\" + 0.004*\"rule\" + 0.004*\"noise\" + 0.004*\"distance\" + 0.003*\"curve\" + 0.003*\"digit\" + 0.003*\"mixture\" + 0.003*\"component\" + 0.003*\"class\"\n",
      "2017-11-20 21:21:04,509 : INFO : topic #24 (0.010): 0.005*\"state\" + 0.005*\"component\" + 0.005*\"distance\" + 0.004*\"image\" + 0.004*\"gaussian\" + 0.004*\"independent\" + 0.003*\"training\" + 0.003*\"w\" + 0.003*\"graph\" + 0.003*\"mixture\"\n",
      "2017-11-20 21:21:04,513 : INFO : topic diff=11.329132, rho=1.000000\n",
      "2017-11-20 21:21:10,840 : INFO : -13.964 per-word bound, 15982.2 perplexity estimate based on a held-out corpus of 151 documents with 163809 words\n",
      "2017-11-20 21:21:10,841 : INFO : PROGRESS: pass 1, at document #151/151\n",
      "2017-11-20 21:21:12,755 : INFO : topic #98 (0.010): 0.009*\"synaptic\" + 0.007*\"&\" + 0.005*\"cell\" + 0.004*\"neuron\" + 0.004*\"rate\" + 0.003*\"firing\" + 0.003*\"distance\" + 0.003*\"response\" + 0.003*\"image\" + 0.003*\"labeled\"\n",
      "2017-11-20 21:21:12,757 : INFO : topic #42 (0.010): 0.006*\"state\" + 0.005*\"image\" + 0.004*\"rate\" + 0.003*\"visual\" + 0.003*\"training\" + 0.003*\"density\" + 0.003*\"noise\" + 0.003*\"gaussian\" + 0.003*\"neuron\" + 0.003*\"sound\"\n",
      "2017-11-20 21:21:12,758 : INFO : topic #51 (0.010): 0.018*\"conditional\" + 0.015*\"likelihood\" + 0.012*\"gate\" + 0.012*\"bound\" + 0.009*\"q\" + 0.009*\"mixture\" + 0.008*\"em\" + 0.008*\"maximum\" + 0.008*\"density\" + 0.007*\"expert\"\n",
      "2017-11-20 21:21:12,759 : INFO : topic #77 (0.010): 0.006*\"search\" + 0.005*\"image\" + 0.005*\"state\" + 0.004*\"visual\" + 0.004*\"local\" + 0.004*\"analog\" + 0.003*\"kernel\" + 0.003*\"classifier\" + 0.003*\"cell\" + 0.003*\"gaussian\"\n",
      "2017-11-20 21:21:12,761 : INFO : topic #70 (0.010): 0.008*\"state\" + 0.005*\"cell\" + 0.004*\"&\" + 0.004*\"bound\" + 0.004*\"synaptic\" + 0.003*\"mixture\" + 0.003*\"neuron\" + 0.003*\"policy\" + 0.003*\"goal\" + 0.003*\"part\"\n",
      "2017-11-20 21:21:12,767 : INFO : topic diff=8.389327, rho=0.577350\n",
      "2017-11-20 21:21:18,248 : INFO : -11.786 per-word bound, 3531.7 perplexity estimate based on a held-out corpus of 151 documents with 163809 words\n",
      "2017-11-20 21:21:18,249 : INFO : PROGRESS: pass 2, at document #151/151\n",
      "2017-11-20 21:21:19,867 : INFO : topic #34 (0.010): 0.040*\"latent\" + 0.026*\"kernel\" + 0.008*\"principal\" + 0.007*\"constraint\" + 0.007*\"basis\" + 0.007*\"rbf\" + 0.007*\"radial\" + 0.007*\"pdf\" + 0.006*\"space.\" + 0.006*\"mixture\"\n",
      "2017-11-20 21:21:19,868 : INFO : topic #92 (0.010): 0.019*\"state\" + 0.014*\"approximation\" + 0.012*\"control\" + 0.007*\"mode\" + 0.007*\"trained\" + 0.007*\"fisher\" + 0.007*\"dynamic\" + 0.007*\"approximate\" + 0.007*\"mixture\" + 0.007*\"physical\"\n",
      "2017-11-20 21:21:19,869 : INFO : topic #2 (0.010): 0.034*\"tree\" + 0.017*\"node\" + 0.016*\"image\" + 0.013*\"posterior\" + 0.013*\"prior\" + 0.013*\"balanced\" + 0.010*\"dynamic\" + 0.009*\"parent\" + 0.008*\"structure\" + 0.008*\"dt\"\n",
      "2017-11-20 21:21:19,871 : INFO : topic #38 (0.010): 0.025*\"analog\" + 0.018*\"net\" + 0.015*\"noise\" + 0.015*\"language\" + 0.013*\"w\" + 0.012*\"state\" + 0.012*\"measure\" + 0.012*\"l\" + 0.009*\"gaussian\" + 0.009*\"theorem\"\n",
      "2017-11-20 21:21:19,873 : INFO : topic #51 (0.010): 0.040*\"conditional\" + 0.027*\"bound\" + 0.026*\"likelihood\" + 0.021*\"gate\" + 0.020*\"em\" + 0.015*\"joint\" + 0.015*\"density\" + 0.014*\"mixture\" + 0.013*\"q\" + 0.013*\"expert\"\n",
      "2017-11-20 21:21:19,877 : INFO : topic diff=9.215757, rho=0.500000\n",
      "2017-11-20 21:21:24,877 : INFO : -10.594 per-word bound, 1545.3 perplexity estimate based on a held-out corpus of 151 documents with 163809 words\n",
      "2017-11-20 21:21:24,878 : INFO : PROGRESS: pass 3, at document #151/151\n",
      "2017-11-20 21:21:26,323 : INFO : topic #4 (0.010): 0.016*\"noise\" + 0.012*\"fig.\" + 0.011*\"cell\" + 0.010*\"image\" + 0.010*\"delay\" + 0.010*\"pixel\" + 0.009*\"complex\" + 0.008*\"current\" + 0.007*\"channel\" + 0.007*\"source\"\n",
      "2017-11-20 21:21:26,324 : INFO : topic #12 (0.010): 0.018*\"mass\" + 0.015*\"architecture\" + 0.014*\"positive\" + 0.014*\"detection\" + 0.013*\"%\" + 0.010*\"resolution\" + 0.010*\"false\" + 0.009*\"pixel\" + 0.009*\"unit\" + 0.009*\"low\"\n",
      "2017-11-20 21:21:26,325 : INFO : topic #77 (0.010): 0.005*\"search\" + 0.004*\"image\" + 0.004*\"state\" + 0.004*\"visual\" + 0.003*\"local\" + 0.003*\"analog\" + 0.003*\"kernel\" + 0.002*\"classifier\" + 0.002*\"cell\" + 0.002*\"gaussian\"\n",
      "2017-11-20 21:21:26,327 : INFO : topic #86 (0.010): 0.005*\"sensor\" + 0.004*\"field\" + 0.004*\"image\" + 0.004*\"gaussian\" + 0.004*\"noise\" + 0.004*\"visual\" + 0.004*\"motion\" + 0.004*\"local\" + 0.004*\"binary\" + 0.003*\"flow\"\n",
      "2017-11-20 21:21:26,328 : INFO : topic #83 (0.010): 0.026*\"front\" + 0.022*\"field\" + 0.014*\"latent\" + 0.013*\"along\" + 0.012*\"discontinuity\" + 0.010*\"covariance\" + 0.010*\"sample\" + 0.009*\"convolution\" + 0.009*\"posterior\" + 0.008*\"constrained\"\n",
      "2017-11-20 21:21:26,332 : INFO : topic diff=9.202573, rho=0.447214\n",
      "2017-11-20 21:21:31,710 : INFO : -9.822 per-word bound, 905.2 perplexity estimate based on a held-out corpus of 151 documents with 163809 words\n",
      "2017-11-20 21:21:31,711 : INFO : PROGRESS: pass 4, at document #151/151\n",
      "2017-11-20 21:21:33,244 : INFO : topic #6 (0.010): 0.003*\"state\" + 0.002*\"direction\" + 0.002*\"population\" + 0.002*\"cell\" + 0.002*\"task\" + 0.002*\"training\" + 0.002*\"&\" + 0.002*\"subject\" + 0.002*\"agent\" + 0.002*\"visual\"\n",
      "2017-11-20 21:21:33,246 : INFO : topic #86 (0.010): 0.005*\"sensor\" + 0.004*\"image\" + 0.004*\"gaussian\" + 0.004*\"noise\" + 0.004*\"local\" + 0.004*\"binary\" + 0.004*\"field\" + 0.004*\"visual\" + 0.004*\"motion\" + 0.003*\"correlation\"\n",
      "2017-11-20 21:21:33,247 : INFO : topic #59 (0.010): 0.025*\"training\" + 0.020*\"class\" + 0.019*\"during\" + 0.016*\"discrimination\" + 0.015*\"threshold\" + 0.013*\"curve\" + 0.012*\"range\" + 0.012*\"rate\" + 0.011*\"target\" + 0.011*\"node\"\n",
      "2017-11-20 21:21:33,248 : INFO : topic #79 (0.010): 0.019*\"forward\" + 0.018*\"motor\" + 0.017*\"module\" + 0.017*\"object\" + 0.015*\"inverse\" + 0.014*\"multiple\" + 0.012*\"control\" + 0.011*\"architecture\" + 0.010*\"signal\" + 0.008*\"layer\"\n",
      "2017-11-20 21:21:33,250 : INFO : topic #96 (0.010): 0.029*\"segment\" + 0.028*\"classifier\" + 0.018*\"image\" + 0.015*\"people\" + 0.014*\">\" + 0.013*\"projected\" + 0.013*\"body\" + 0.011*\"configuration\" + 0.010*\"node\" + 0.009*\"positive\"\n",
      "2017-11-20 21:21:33,253 : INFO : topic diff=8.571042, rho=0.408248\n",
      "2017-11-20 21:21:39,936 : INFO : -9.309 per-word bound, 634.4 perplexity estimate based on a held-out corpus of 151 documents with 163809 words\n",
      "2017-11-20 21:21:39,938 : INFO : PROGRESS: pass 5, at document #151/151\n",
      "2017-11-20 21:21:41,618 : INFO : topic #61 (0.010): 0.032*\"entropic\" + 0.021*\"entropy\" + 0.020*\"oi\" + 0.019*\"estimator\" + 0.014*\"state\" + 0.013*\"map\" + 0.012*\"murphy,\" + 0.010*\"model's\" + 0.010*\"pruning\" + 0.010*\"discovery\"\n",
      "2017-11-20 21:21:41,620 : INFO : topic #85 (0.010): 0.003*\"training\" + 0.003*\"bound\" + 0.003*\"image\" + 0.002*\"rule\" + 0.002*\"state\" + 0.002*\"class\" + 0.002*\"node\" + 0.002*\"noise\" + 0.002*\"unit\" + 0.001*\"code\"\n",
      "2017-11-20 21:21:41,621 : INFO : topic #55 (0.010): 0.003*\"image\" + 0.002*\"state\" + 0.002*\"unit\" + 0.002*\"spike\" + 0.002*\"cell\" + 0.002*\"mixture\" + 0.002*\"hidden\" + 0.002*\"flow\" + 0.002*\"component\" + 0.002*\"em\"\n"
     ]
    },
    {
     "name": "stderr",
     "output_type": "stream",
     "text": [
      "2017-11-20 21:21:41,623 : INFO : topic #89 (0.010): 0.002*\"training\" + 0.002*\"image\" + 0.001*\"control\" + 0.001*\"&\" + 0.001*\"gaussian\" + 0.001*\"state\" + 0.001*\"transformation\" + 0.001*\"dynamic\" + 0.001*\"prior\" + 0.001*\"transition\"\n",
      "2017-11-20 21:21:41,624 : INFO : topic #52 (0.010): 0.020*\"state\" + 0.009*\"call\" + 0.008*\"convergence\" + 0.006*\"rl\" + 0.006*\"rate\" + 0.006*\"control\" + 0.006*\"policy\" + 0.006*\"reinforcement\" + 0.006*\"reward\" + 0.005*\"node\"\n",
      "2017-11-20 21:21:41,628 : INFO : topic diff=7.593844, rho=0.377964\n",
      "2017-11-20 21:21:47,532 : INFO : -8.965 per-word bound, 499.7 perplexity estimate based on a held-out corpus of 151 documents with 163809 words\n",
      "2017-11-20 21:21:47,533 : INFO : PROGRESS: pass 6, at document #151/151\n",
      "2017-11-20 21:21:49,035 : INFO : topic #60 (0.010): 0.046*\"gaussian\" + 0.044*\"predictor\" + 0.036*\"regression\" + 0.024*\"lemma\" + 0.019*\"i.\" + 0.016*\"di\" + 0.016*\"bayesian\" + 0.015*\"e\" + 0.014*\"opper\" + 0.014*\"h\"\n",
      "2017-11-20 21:21:49,036 : INFO : topic #21 (0.010): 0.002*\"&\" + 0.002*\"r\" + 0.002*\"state\" + 0.002*\"margin\" + 0.002*\"curve\" + 0.002*\"component\" + 0.002*\"signal\" + 0.001*\"training\" + 0.001*\"cell\" + 0.001*\"control\"\n",
      "2017-11-20 21:21:49,037 : INFO : topic #35 (0.010): 0.002*\"image\" + 0.002*\"direction\" + 0.001*\"kernel\" + 0.001*\"training\" + 0.001*\"visual\" + 0.001*\"response\" + 0.001*\"motion\" + 0.001*\"bound\" + 0.001*\"population\" + 0.001*\"cell\"\n",
      "2017-11-20 21:21:49,038 : INFO : topic #81 (0.010): 0.060*\"spike\" + 0.031*\"transfer\" + 0.016*\"cell\" + 0.014*\"complex\" + 0.013*\"ratio\" + 0.012*\"frequency\" + 0.012*\"clustering\" + 0.011*\"shape\" + 0.010*\"cluster\" + 0.010*\"spectrum\"\n",
      "2017-11-20 21:21:49,040 : INFO : topic #47 (0.010): 0.023*\"clustering\" + 0.019*\"aspect\" + 0.012*\"latent\" + 0.011*\"em\" + 0.011*\"mixture\" + 0.010*\"32\" + 0.009*\":\" + 0.009*\"!\" + 0.009*\"class\" + 0.008*\"observation\"\n",
      "2017-11-20 21:21:49,044 : INFO : topic diff=6.495204, rho=0.353553\n",
      "2017-11-20 21:21:54,063 : INFO : -8.732 per-word bound, 425.2 perplexity estimate based on a held-out corpus of 151 documents with 163809 words\n",
      "2017-11-20 21:21:54,064 : INFO : PROGRESS: pass 7, at document #151/151\n",
      "2017-11-20 21:21:55,697 : INFO : topic #22 (0.010): 0.002*\"control\" + 0.001*\"noise\" + 0.001*\"signal\" + 0.001*\"change\" + 0.001*\"positive\" + 0.001*\"controller\" + 0.001*\"rate\" + 0.001*\"neuron\" + 0.001*\"firing\" + 0.001*\"feedback\"\n",
      "2017-11-20 21:21:55,698 : INFO : topic #72 (0.010): 0.011*\"visual\" + 0.009*\"distance\" + 0.007*\"search\" + 0.007*\"state\" + 0.006*\"ei\" + 0.006*\"fig.\" + 0.006*\"target\" + 0.005*\"environment\" + 0.005*\"v1\" + 0.004*\"bar\"\n",
      "2017-11-20 21:21:55,699 : INFO : topic #83 (0.010): 0.033*\"front\" + 0.028*\"field\" + 0.016*\"along\" + 0.015*\"discontinuity\" + 0.013*\"covariance\" + 0.011*\"constrained\" + 0.010*\"posterior\" + 0.010*\"sample\" + 0.009*\"prior\" + 0.009*\"(b)\"\n",
      "2017-11-20 21:21:55,700 : INFO : topic #61 (0.010): 0.058*\"entropic\" + 0.037*\"entropy\" + 0.035*\"estimator\" + 0.034*\"oi\" + 0.022*\"map\" + 0.017*\"state\" + 0.015*\"murphy,\" + 0.014*\"discovery\" + 0.014*\"pruning\" + 0.014*\"model's\"\n",
      "2017-11-20 21:21:55,702 : INFO : topic #21 (0.010): 0.002*\"&\" + 0.002*\"r\" + 0.001*\"state\" + 0.001*\"margin\" + 0.001*\"curve\" + 0.001*\"component\" + 0.001*\"signal\" + 0.001*\"training\" + 0.001*\"cell\" + 0.001*\"control\"\n",
      "2017-11-20 21:21:55,706 : INFO : topic diff=5.419982, rho=0.333333\n",
      "2017-11-20 21:22:01,081 : INFO : -8.573 per-word bound, 380.8 perplexity estimate based on a held-out corpus of 151 documents with 163809 words\n",
      "2017-11-20 21:22:01,082 : INFO : PROGRESS: pass 8, at document #151/151\n",
      "2017-11-20 21:22:02,539 : INFO : topic #9 (0.010): 0.094*\"similarity\" + 0.079*\"matching\" + 0.040*\"measure\" + 0.039*\"probabilistic\" + 0.034*\"subspace\" + 0.030*\"variation\" + 0.030*\"recognition\" + 0.026*\"image\" + 0.022*\"intensity\" + 0.017*\"normalized\"\n",
      "2017-11-20 21:22:02,540 : INFO : topic #11 (0.010): 0.042*\"sparse\" + 0.023*\"code\" + 0.021*\"component\" + 0.020*\"coding\" + 0.019*\"density\" + 0.019*\"shrinkage\" + 0.015*\"image\" + 0.011*\"noise\" + 0.010*\"gaussian\" + 0.008*\"estimation\"\n",
      "2017-11-20 21:22:02,541 : INFO : topic #5 (0.010): 0.044*\"synaptic\" + 0.027*\"synapsis\" + 0.017*\"prior\" + 0.015*\"modification\" + 0.014*\"pruning\" + 0.014*\"memory\" + 0.012*\"neuronal\" + 0.009*\"level\" + 0.009*\"gaussians\" + 0.009*\"mixture\"\n",
      "2017-11-20 21:22:02,543 : INFO : topic #52 (0.010): 0.021*\"state\" + 0.010*\"call\" + 0.008*\"convergence\" + 0.007*\"control\" + 0.007*\"rl\" + 0.006*\"rate\" + 0.006*\"reinforcement\" + 0.006*\"policy\" + 0.005*\"node\" + 0.005*\"reward\"\n",
      "2017-11-20 21:22:02,544 : INFO : topic #70 (0.010): 0.002*\"state\" + 0.001*\"cell\" + 0.001*\"&\" + 0.001*\"bound\" + 0.001*\"synaptic\" + 0.001*\"mixture\" + 0.001*\"neuron\" + 0.001*\"policy\" + 0.001*\"goal\" + 0.001*\"part\"\n",
      "2017-11-20 21:22:02,548 : INFO : topic diff=4.445492, rho=0.316228\n",
      "2017-11-20 21:22:07,857 : INFO : -8.463 per-word bound, 352.9 perplexity estimate based on a held-out corpus of 151 documents with 163809 words\n",
      "2017-11-20 21:22:07,858 : INFO : PROGRESS: pass 9, at document #151/151\n",
      "2017-11-20 21:22:09,402 : INFO : topic #46 (0.010): 0.002*\"neuron\" + 0.001*\"firing\" + 0.001*\"&\" + 0.001*\"visual\" + 0.001*\"correlation\" + 0.001*\"z\" + 0.001*\"layer\" + 0.001*\"spike\" + 0.001*\"image\" + 0.001*\"positive\"\n",
      "2017-11-20 21:22:09,403 : INFO : topic #79 (0.010): 0.022*\"forward\" + 0.021*\"motor\" + 0.019*\"object\" + 0.019*\"module\" + 0.019*\"inverse\" + 0.016*\"multiple\" + 0.016*\"control\" + 0.013*\"architecture\" + 0.011*\"signal\" + 0.009*\"variational\"\n",
      "2017-11-20 21:22:09,404 : INFO : topic #91 (0.010): 0.019*\"visual\" + 0.017*\"centroid\" + 0.015*\"edge\" + 0.012*\"attention\" + 0.009*\"orientation\" + 0.009*\"contrast\" + 0.008*\"task\" + 0.008*\"q-\" + 0.007*\"circuit\" + 0.007*\"stage\"\n",
      "2017-11-20 21:22:09,406 : INFO : topic #39 (0.010): 0.023*\"curve\" + 0.012*\"principal\" + 0.010*\"neuron\" + 0.009*\"h\" + 0.008*\"line\" + 0.008*\"utility\" + 0.006*\"vertex\" + 0.006*\"segment\" + 0.006*\"node\" + 0.006*\"squared\"\n",
      "2017-11-20 21:22:09,407 : INFO : topic #82 (0.010): 0.064*\"loss\" + 0.024*\"threshold\" + 0.023*\"classification\" + 0.018*\"bound\" + 0.018*\"perceptron\" + 0.016*\"update\" + 0.013*\"gradient\" + 0.013*\"regression\" + 0.012*\"divergence\" + 0.012*\"matching\"\n",
      "2017-11-20 21:22:09,411 : INFO : topic diff=3.603490, rho=0.301511\n",
      "2017-11-20 21:22:14,289 : INFO : -8.386 per-word bound, 334.6 perplexity estimate based on a held-out corpus of 151 documents with 163809 words\n",
      "2017-11-20 21:22:14,290 : INFO : PROGRESS: pass 10, at document #151/151\n",
      "2017-11-20 21:22:15,838 : INFO : topic #4 (0.010): 0.018*\"noise\" + 0.013*\"cell\" + 0.012*\"fig.\" + 0.010*\"delay\" + 0.010*\"pixel\" + 0.009*\"image\" + 0.009*\"source\" + 0.009*\"complex\" + 0.008*\"current\" + 0.008*\"&\"\n",
      "2017-11-20 21:22:15,840 : INFO : topic #3 (0.010): 0.007*\"gaussian\" + 0.007*\"training\" + 0.006*\"kernel\" + 0.005*\"pca\" + 0.004*\"distance\" + 0.004*\"component\" + 0.004*\"classification\" + 0.004*\"data.\" + 0.004*\"z\" + 0.004*\"p\"\n",
      "2017-11-20 21:22:15,841 : INFO : topic #97 (0.010): 0.126*\"cell\" + 0.033*\"modulated\" + 0.016*\"frequency\" + 0.015*\"complex\" + 0.014*\"manner.\" + 0.014*\"2).\" + 0.013*\"spatial\" + 0.013*\"k.,\" + 0.009*\"function,\" + 0.008*\"mixture\"\n",
      "2017-11-20 21:22:15,843 : INFO : topic #77 (0.010): 0.001*\"search\" + 0.001*\"image\" + 0.001*\"state\" + 0.001*\"visual\" + 0.001*\"local\" + 0.001*\"analog\" + 0.001*\"kernel\" + 0.001*\"classifier\" + 0.001*\"cell\" + 0.001*\"gaussian\"\n",
      "2017-11-20 21:22:15,844 : INFO : topic #16 (0.010): 0.024*\"analog\" + 0.023*\"convolution\" + 0.022*\"chip\" + 0.020*\"impulse\" + 0.020*\"noise\" + 0.018*\"signal\" + 0.014*\"cell\" + 0.013*\"polynomial\" + 0.011*\"ratio\" + 0.011*\"speed\"\n",
      "2017-11-20 21:22:15,847 : INFO : topic diff=2.898141, rho=0.288675\n",
      "2017-11-20 21:22:21,260 : INFO : -8.332 per-word bound, 322.2 perplexity estimate based on a held-out corpus of 151 documents with 163809 words\n",
      "2017-11-20 21:22:21,261 : INFO : PROGRESS: pass 11, at document #151/151\n",
      "2017-11-20 21:22:23,011 : INFO : topic #43 (0.010): 0.015*\"local\" + 0.010*\"field\" + 0.007*\"contour\" + 0.006*\"prediction\" + 0.006*\"mutual\" + 0.006*\"bound\" + 0.005*\"square\" + 0.005*\"<\" + 0.005*\"p\" + 0.005*\"gaussian\"\n",
      "2017-11-20 21:22:23,012 : INFO : topic #14 (0.010): 0.025*\"conductance\" + 0.022*\"firing\" + 0.022*\"rate\" + 0.021*\"cell\" + 0.015*\"mutual\" + 0.015*\"neuron\" + 0.014*\"stimulus\" + 0.011*\"among\" + 0.010*\"spike\" + 0.009*\"change\"\n",
      "2017-11-20 21:22:23,013 : INFO : topic #28 (0.010): 0.060*\"hmm\" + 0.028*\"emission\" + 0.028*\"regularization\" + 0.025*\"training\" + 0.020*\"mixture\" + 0.017*\"prototype\" + 0.017*\"speech\" + 0.017*\"discrete\" + 0.013*\"state\" + 0.013*\"complexity\"\n"
     ]
    },
    {
     "name": "stderr",
     "output_type": "stream",
     "text": [
      "2017-11-20 21:22:23,015 : INFO : topic #97 (0.010): 0.144*\"cell\" + 0.037*\"modulated\" + 0.018*\"frequency\" + 0.016*\"manner.\" + 0.015*\"2).\" + 0.014*\"complex\" + 0.013*\"k.,\" + 0.012*\"spatial\" + 0.009*\"function,\" + 0.009*\"mixture\"\n",
      "2017-11-20 21:22:23,017 : INFO : topic #1 (0.010): 0.029*\"hand\" + 0.025*\"control\" + 0.022*\"inverse\" + 0.022*\"position\" + 0.022*\"feedback\" + 0.021*\"movement\" + 0.019*\"arm\" + 0.018*\"forward\" + 0.016*\"desired\" + 0.015*\"controller\"\n",
      "2017-11-20 21:22:23,021 : INFO : topic diff=2.319572, rho=0.277350\n",
      "2017-11-20 21:22:30,326 : INFO : -8.292 per-word bound, 313.4 perplexity estimate based on a held-out corpus of 151 documents with 163809 words\n",
      "2017-11-20 21:22:30,330 : INFO : PROGRESS: pass 12, at document #151/151\n",
      "2017-11-20 21:22:32,484 : INFO : topic #3 (0.010): 0.007*\"training\" + 0.006*\"gaussian\" + 0.006*\"kernel\" + 0.005*\"pca\" + 0.005*\"distance\" + 0.004*\"p\" + 0.004*\"classification\" + 0.004*\"w\" + 0.004*\"data.\" + 0.004*\"z\"\n",
      "2017-11-20 21:22:32,493 : INFO : topic #4 (0.010): 0.018*\"noise\" + 0.013*\"cell\" + 0.012*\"fig.\" + 0.010*\"delay\" + 0.010*\"pixel\" + 0.009*\"source\" + 0.009*\"image\" + 0.009*\"complex\" + 0.008*\"&\" + 0.008*\"current\"\n",
      "2017-11-20 21:22:32,495 : INFO : topic #86 (0.010): 0.006*\"sensor\" + 0.005*\"image\" + 0.005*\"noise\" + 0.005*\"binary\" + 0.004*\"correlation\" + 0.004*\"gaussian\" + 0.004*\"local\" + 0.003*\"p\" + 0.003*\"r\" + 0.003*\"line\"\n",
      "2017-11-20 21:22:32,496 : INFO : topic #74 (0.010): 0.019*\"kernel\" + 0.011*\"search\" + 0.011*\"local\" + 0.008*\"sample\" + 0.008*\"mixture\" + 0.006*\"bound\" + 0.006*\"instance\" + 0.006*\"cost\" + 0.005*\"level\" + 0.004*\"object\"\n",
      "2017-11-20 21:22:32,503 : INFO : topic #82 (0.010): 0.067*\"loss\" + 0.025*\"threshold\" + 0.023*\"classification\" + 0.018*\"bound\" + 0.018*\"perceptron\" + 0.017*\"update\" + 0.013*\"gradient\" + 0.013*\"regression\" + 0.012*\"divergence\" + 0.012*\"relative\"\n",
      "2017-11-20 21:22:32,516 : INFO : topic diff=1.852081, rho=0.267261\n",
      "2017-11-20 21:22:40,206 : INFO : -8.262 per-word bound, 307.1 perplexity estimate based on a held-out corpus of 151 documents with 163809 words\n",
      "2017-11-20 21:22:40,207 : INFO : PROGRESS: pass 13, at document #151/151\n",
      "2017-11-20 21:22:42,507 : INFO : topic #30 (0.010): 0.000*\"image\" + 0.000*\"<\" + 0.000*\"training\" + 0.000*\"approximation\" + 0.000*\"state\" + 0.000*\"8\" + 0.000*\"filter\" + 0.000*\"24\" + 0.000*\"&\" + 0.000*\"rate\"\n",
      "2017-11-20 21:22:42,509 : INFO : topic #52 (0.010): 0.022*\"state\" + 0.010*\"call\" + 0.008*\"control\" + 0.007*\"convergence\" + 0.007*\"rl\" + 0.006*\"rate\" + 0.006*\"node\" + 0.006*\"reinforcement\" + 0.006*\"v\" + 0.006*\"policy\"\n",
      "2017-11-20 21:22:42,511 : INFO : topic #32 (0.010): 0.062*\"sound\" + 0.025*\"signal\" + 0.022*\"circuit\" + 0.018*\"pulse\" + 0.017*\"delay\" + 0.015*\"surface\" + 0.015*\"onset\" + 0.014*\"source\" + 0.012*\"threshold\" + 0.012*\"generating\"\n",
      "2017-11-20 21:22:42,513 : INFO : topic #79 (0.010): 0.023*\"forward\" + 0.021*\"motor\" + 0.020*\"object\" + 0.020*\"inverse\" + 0.020*\"module\" + 0.017*\"control\" + 0.016*\"multiple\" + 0.013*\"architecture\" + 0.011*\"signal\" + 0.011*\"variational\"\n",
      "2017-11-20 21:22:42,514 : INFO : topic #55 (0.010): 0.000*\"image\" + 0.000*\"state\" + 0.000*\"unit\" + 0.000*\"spike\" + 0.000*\"cell\" + 0.000*\"mixture\" + 0.000*\"hidden\" + 0.000*\"flow\" + 0.000*\"component\" + 0.000*\"em\"\n",
      "2017-11-20 21:22:42,519 : INFO : topic diff=1.478153, rho=0.258199\n",
      "2017-11-20 21:22:51,028 : INFO : -8.240 per-word bound, 302.4 perplexity estimate based on a held-out corpus of 151 documents with 163809 words\n",
      "2017-11-20 21:22:51,030 : INFO : PROGRESS: pass 14, at document #151/151\n",
      "2017-11-20 21:22:53,351 : INFO : topic #34 (0.010): 0.161*\"latent\" + 0.049*\"principal\" + 0.043*\"component\" + 0.029*\"sample\" + 0.025*\"bishop\" + 0.023*\"basis\" + 0.023*\"w\" + 0.021*\"kernel\" + 0.021*\"nonlinear\" + 0.019*\"radial\"\n",
      "2017-11-20 21:22:53,352 : INFO : topic #41 (0.010): 0.000*\"state\" + 0.000*\"rule\" + 0.000*\"neuron\" + 0.000*\"noise\" + 0.000*\"training\" + 0.000*\"forward\" + 0.000*\"motor\" + 0.000*\"bound\" + 0.000*\"path\" + 0.000*\"action\"\n",
      "2017-11-20 21:22:53,354 : INFO : topic #60 (0.010): 0.095*\"gaussian\" + 0.050*\"regression\" + 0.041*\"bound\" + 0.038*\"bayesian\" + 0.036*\"generalization\" + 0.035*\"prediction\" + 0.033*\"predictor\" + 0.031*\"i.\" + 0.028*\"covariance\" + 0.025*\"curve\"\n",
      "2017-11-20 21:22:53,355 : INFO : topic #76 (0.010): 0.073*\"flow\" + 0.054*\"optical\" + 0.046*\"motion\" + 0.040*\"field\" + 0.039*\"chip\" + 0.020*\"sensor\" + 0.018*\"analog\" + 0.018*\"pixel\" + 0.018*\"computation\" + 0.015*\"current\"\n",
      "2017-11-20 21:22:53,357 : INFO : topic #44 (0.010): 0.023*\"regression\" + 0.022*\"adaptive\" + 0.018*\"support\" + 0.015*\"parametric\" + 0.014*\"sv\" + 0.013*\"constraint\" + 0.012*\"regularization\" + 0.012*\"fraction\" + 0.012*\"quadratic\" + 0.010*\"nonparametric\"\n",
      "2017-11-20 21:22:53,362 : INFO : topic diff=1.181266, rho=0.250000\n",
      "2017-11-20 21:23:00,928 : INFO : -8.223 per-word bound, 298.7 perplexity estimate based on a held-out corpus of 151 documents with 163809 words\n",
      "2017-11-20 21:23:00,929 : INFO : PROGRESS: pass 15, at document #151/151\n",
      "2017-11-20 21:23:02,677 : INFO : topic #30 (0.010): 0.000*\"image\" + 0.000*\"<\" + 0.000*\"training\" + 0.000*\"approximation\" + 0.000*\"state\" + 0.000*\"8\" + 0.000*\"filter\" + 0.000*\"24\" + 0.000*\"&\" + 0.000*\"rate\"\n",
      "2017-11-20 21:23:02,678 : INFO : topic #65 (0.010): 0.032*\"state\" + 0.022*\"action\" + 0.019*\"search\" + 0.018*\"goal\" + 0.013*\"v\" + 0.011*\"environment\" + 0.010*\"policy\" + 0.009*\"planning\" + 0.009*\"reinforcement\" + 0.007*\"singh,\"\n",
      "2017-11-20 21:23:02,680 : INFO : topic #36 (0.010): 0.000*\"training\" + 0.000*\"state\" + 0.000*\"binary\" + 0.000*\"rule\" + 0.000*\"control\" + 0.000*\"forward\" + 0.000*\"correlation\" + 0.000*\"node\" + 0.000*\"kernel\" + 0.000*\"inverse\"\n",
      "2017-11-20 21:23:02,681 : INFO : topic #38 (0.010): 0.036*\"analog\" + 0.024*\"net\" + 0.020*\"language\" + 0.019*\"noise\" + 0.018*\"w\" + 0.016*\"measure\" + 0.016*\"l\" + 0.014*\"state\" + 0.013*\"theorem\" + 0.012*\"gaussian\"\n",
      "2017-11-20 21:23:02,683 : INFO : topic #14 (0.010): 0.026*\"conductance\" + 0.022*\"firing\" + 0.022*\"rate\" + 0.021*\"cell\" + 0.015*\"mutual\" + 0.015*\"neuron\" + 0.014*\"stimulus\" + 0.011*\"among\" + 0.010*\"spike\" + 0.009*\"change\"\n",
      "2017-11-20 21:23:02,688 : INFO : topic diff=0.946466, rho=0.242536\n",
      "2017-11-20 21:23:09,400 : INFO : -8.209 per-word bound, 295.9 perplexity estimate based on a held-out corpus of 151 documents with 163809 words\n",
      "2017-11-20 21:23:09,401 : INFO : PROGRESS: pass 16, at document #151/151\n",
      "2017-11-20 21:23:11,095 : INFO : topic #20 (0.010): 0.035*\"policy\" + 0.018*\"state\" + 0.014*\"reward\" + 0.013*\"transition\" + 0.011*\"rl\" + 0.011*\"block\" + 0.011*\"stochastic\" + 0.011*\"reinforcement\" + 0.010*\"a)\" + 0.009*\"every\"\n",
      "2017-11-20 21:23:11,096 : INFO : topic #99 (0.010): 0.001*\"rule\" + 0.000*\"image\" + 0.000*\"classifier\" + 0.000*\"training\" + 0.000*\"distance\" + 0.000*\"noise\" + 0.000*\"d\" + 0.000*\"face\" + 0.000*\"sensor\" + 0.000*\"principal\"\n",
      "2017-11-20 21:23:11,097 : INFO : topic #76 (0.010): 0.071*\"flow\" + 0.054*\"optical\" + 0.047*\"motion\" + 0.039*\"field\" + 0.039*\"chip\" + 0.020*\"sensor\" + 0.019*\"analog\" + 0.018*\"pixel\" + 0.018*\"computation\" + 0.015*\"current\"\n",
      "2017-11-20 21:23:11,099 : INFO : topic #37 (0.010): 0.000*\"cell\" + 0.000*\"neuron\" + 0.000*\"complex\" + 0.000*\"cortical\" + 0.000*\"spatial\" + 0.000*\"&\" + 0.000*\"density\" + 0.000*\"recurrent\" + 0.000*\"state\" + 0.000*\"response\"\n",
      "2017-11-20 21:23:11,101 : INFO : topic #28 (0.010): 0.060*\"hmm\" + 0.028*\"regularization\" + 0.027*\"emission\" + 0.026*\"training\" + 0.020*\"mixture\" + 0.017*\"prototype\" + 0.017*\"discrete\" + 0.016*\"speech\" + 0.014*\"state\" + 0.013*\"complexity\"\n",
      "2017-11-20 21:23:11,106 : INFO : topic diff=0.761219, rho=0.235702\n",
      "2017-11-20 21:23:18,497 : INFO : -8.197 per-word bound, 293.6 perplexity estimate based on a held-out corpus of 151 documents with 163809 words\n",
      "2017-11-20 21:23:18,499 : INFO : PROGRESS: pass 17, at document #151/151\n",
      "2017-11-20 21:23:20,944 : INFO : topic #62 (0.010): 0.027*\"face\" + 0.023*\"image\" + 0.022*\"labeled\" + 0.019*\"density\" + 0.017*\"prior\" + 0.016*\"estimation\" + 0.015*\"training\" + 0.013*\"dependency\" + 0.010*\"data.\" + 0.009*\"bayesian\"\n",
      "2017-11-20 21:23:20,945 : INFO : topic #49 (0.010): 0.024*\"activity\" + 0.020*\"cortical\" + 0.019*\"noise\" + 0.018*\"variance\" + 0.017*\"line\" + 0.016*\"normalization\" + 0.016*\"spatial\" + 0.015*\"unit\" + 0.015*\"attractor\" + 0.015*\"ideal\"\n",
      "2017-11-20 21:23:20,949 : INFO : topic #89 (0.010): 0.000*\"training\" + 0.000*\"image\" + 0.000*\"control\" + 0.000*\"&\" + 0.000*\"gaussian\" + 0.000*\"state\" + 0.000*\"transformation\" + 0.000*\"dynamic\" + 0.000*\"prior\" + 0.000*\"transition\"\n"
     ]
    },
    {
     "name": "stderr",
     "output_type": "stream",
     "text": [
      "2017-11-20 21:23:20,952 : INFO : topic #17 (0.010): 0.000*\"state\" + 0.000*\"gaussian\" + 0.000*\"neuron\" + 0.000*\"mixture\" + 0.000*\"z\" + 0.000*\"control\" + 0.000*\"training\" + 0.000*\"component\" + 0.000*\"cortical\" + 0.000*\"activity\"\n",
      "2017-11-20 21:23:20,954 : INFO : topic #69 (0.010): 0.017*\"separating\" + 0.017*\"means,\" + 0.017*\"threshold.\" + 0.017*\"na\" + 0.001*\"texture\" + 0.001*\"labeling\" + 0.001*\"region\" + 0.001*\"homogeneous\" + 0.001*\"outlier\" + 0.001*\"label\"\n",
      "2017-11-20 21:23:20,958 : INFO : topic diff=0.615220, rho=0.229416\n",
      "2017-11-20 21:23:27,578 : INFO : -8.188 per-word bound, 291.6 perplexity estimate based on a held-out corpus of 151 documents with 163809 words\n",
      "2017-11-20 21:23:27,579 : INFO : PROGRESS: pass 18, at document #151/151\n",
      "2017-11-20 21:23:29,847 : INFO : topic #24 (0.010): 0.019*\"histogram\" + 0.019*\"image\" + 0.016*\"recognition\" + 0.016*\"attribute\" + 0.015*\"object\" + 0.014*\"matching\" + 0.014*\"graph\" + 0.012*\"euclidean\" + 0.010*\"angle\" + 0.010*\"database\"\n",
      "2017-11-20 21:23:29,850 : INFO : topic #6 (0.010): 0.000*\"state\" + 0.000*\"direction\" + 0.000*\"population\" + 0.000*\"cell\" + 0.000*\"task\" + 0.000*\"training\" + 0.000*\"&\" + 0.000*\"subject\" + 0.000*\"agent\" + 0.000*\"visual\"\n",
      "2017-11-20 21:23:29,853 : INFO : topic #94 (0.010): 0.017*\"image\" + 0.013*\"ica\" + 0.012*\"code\" + 0.009*\"filter\" + 0.008*\"statistic\" + 0.008*\"phase\" + 0.008*\"approximation\" + 0.008*\"mixture\" + 0.008*\"natural\" + 0.007*\"source\"\n",
      "2017-11-20 21:23:29,856 : INFO : topic #4 (0.010): 0.018*\"noise\" + 0.012*\"fig.\" + 0.012*\"cell\" + 0.010*\"delay\" + 0.010*\"pixel\" + 0.009*\"source\" + 0.009*\"image\" + 0.009*\"complex\" + 0.008*\"&\" + 0.008*\"current\"\n",
      "2017-11-20 21:23:29,858 : INFO : topic #38 (0.010): 0.036*\"analog\" + 0.024*\"net\" + 0.020*\"language\" + 0.019*\"noise\" + 0.018*\"w\" + 0.016*\"measure\" + 0.016*\"l\" + 0.014*\"state\" + 0.013*\"theorem\" + 0.012*\"gaussian\"\n",
      "2017-11-20 21:23:29,870 : INFO : topic diff=0.499977, rho=0.223607\n",
      "2017-11-20 21:23:36,922 : INFO : -8.180 per-word bound, 290.0 perplexity estimate based on a held-out corpus of 151 documents with 163809 words\n",
      "2017-11-20 21:23:36,923 : INFO : PROGRESS: pass 19, at document #151/151\n",
      "2017-11-20 21:23:38,625 : INFO : topic #79 (0.010): 0.023*\"forward\" + 0.021*\"motor\" + 0.020*\"inverse\" + 0.020*\"object\" + 0.020*\"module\" + 0.017*\"control\" + 0.016*\"multiple\" + 0.013*\"architecture\" + 0.012*\"variational\" + 0.012*\"signal\"\n",
      "2017-11-20 21:23:38,627 : INFO : topic #12 (0.010): 0.024*\"mass\" + 0.023*\"positive\" + 0.022*\"architecture\" + 0.019*\"detection\" + 0.017*\"%\" + 0.015*\"resolution\" + 0.015*\"unit\" + 0.014*\"false\" + 0.014*\"pixel\" + 0.014*\"low\"\n",
      "2017-11-20 21:23:38,628 : INFO : topic #86 (0.010): 0.006*\"sensor\" + 0.005*\"noise\" + 0.005*\"image\" + 0.005*\"binary\" + 0.005*\"correlation\" + 0.004*\"local\" + 0.004*\"r\" + 0.004*\"p\" + 0.003*\"gaussian\" + 0.003*\"line\"\n",
      "2017-11-20 21:23:38,629 : INFO : topic #50 (0.010): 0.030*\"document\" + 0.023*\"cell\" + 0.017*\"word\" + 0.017*\"partition\" + 0.013*\"partitioning\" + 0.010*\"goal\" + 0.009*\"retrieval\" + 0.009*\"along\" + 0.008*\"agent\" + 0.008*\"largest\"\n",
      "2017-11-20 21:23:38,631 : INFO : topic #30 (0.010): 0.000*\"image\" + 0.000*\"<\" + 0.000*\"training\" + 0.000*\"approximation\" + 0.000*\"state\" + 0.000*\"8\" + 0.000*\"filter\" + 0.000*\"24\" + 0.000*\"&\" + 0.000*\"rate\"\n",
      "2017-11-20 21:23:38,635 : INFO : topic diff=0.408760, rho=0.218218\n",
      "2017-11-20 21:23:44,879 : INFO : -8.173 per-word bound, 288.6 perplexity estimate based on a held-out corpus of 151 documents with 163809 words\n",
      "2017-11-20 21:23:44,880 : INFO : PROGRESS: pass 20, at document #151/151\n",
      "2017-11-20 21:23:46,483 : INFO : topic #51 (0.010): 0.099*\"em\" + 0.082*\"mixture\" + 0.053*\"likelihood\" + 0.042*\"density\" + 0.034*\"conditional\" + 0.034*\"update\" + 0.030*\"bound\" + 0.027*\"q\" + 0.024*\"maximum\" + 0.020*\"gaussian\"\n",
      "2017-11-20 21:23:46,484 : INFO : topic #64 (0.010): 0.048*\"series\" + 0.021*\"stationary\" + 0.014*\"markov\" + 0.013*\"connection\" + 0.012*\"&\" + 0.012*\"asymptotically\" + 0.012*\"t\" + 0.012*\"chain\" + 0.011*\"g\" + 0.009*\"i.e.,\"\n",
      "2017-11-20 21:23:46,486 : INFO : topic #46 (0.010): 0.000*\"neuron\" + 0.000*\"firing\" + 0.000*\"&\" + 0.000*\"visual\" + 0.000*\"correlation\" + 0.000*\"z\" + 0.000*\"layer\" + 0.000*\"spike\" + 0.000*\"image\" + 0.000*\"positive\"\n",
      "2017-11-20 21:23:46,488 : INFO : topic #86 (0.010): 0.006*\"sensor\" + 0.005*\"noise\" + 0.005*\"binary\" + 0.005*\"image\" + 0.005*\"correlation\" + 0.004*\"local\" + 0.004*\"r\" + 0.004*\"p\" + 0.003*\"gaussian\" + 0.003*\"line\"\n",
      "2017-11-20 21:23:46,490 : INFO : topic #78 (0.010): 0.012*\"class\" + 0.011*\"clustering\" + 0.010*\"r\" + 0.010*\"cluster\" + 0.010*\"cut\" + 0.009*\"distance\" + 0.008*\"node\" + 0.007*\"similarity\" + 0.006*\"every\" + 0.006*\"partition\"\n",
      "2017-11-20 21:23:46,495 : INFO : topic diff=0.336362, rho=0.213201\n",
      "2017-11-20 21:23:53,101 : INFO : -8.167 per-word bound, 287.4 perplexity estimate based on a held-out corpus of 151 documents with 163809 words\n",
      "2017-11-20 21:23:53,102 : INFO : PROGRESS: pass 21, at document #151/151\n",
      "2017-11-20 21:23:54,788 : INFO : topic #88 (0.010): 0.000*\"training\" + 0.000*\"kernel\" + 0.000*\"spike\" + 0.000*\"machine\" + 0.000*\"support\" + 0.000*\"classification\" + 0.000*\"density\" + 0.000*\"w\" + 0.000*\"gaussian\" + 0.000*\"p\"\n",
      "2017-11-20 21:23:54,790 : INFO : topic #16 (0.010): 0.023*\"convolution\" + 0.023*\"analog\" + 0.022*\"chip\" + 0.020*\"impulse\" + 0.019*\"noise\" + 0.019*\"signal\" + 0.013*\"cell\" + 0.013*\"polynomial\" + 0.011*\"speed\" + 0.011*\"ratio\"\n",
      "2017-11-20 21:23:54,797 : INFO : topic #86 (0.010): 0.006*\"sensor\" + 0.005*\"noise\" + 0.005*\"binary\" + 0.005*\"correlation\" + 0.005*\"image\" + 0.004*\"r\" + 0.004*\"local\" + 0.004*\"p\" + 0.003*\"gaussian\" + 0.003*\"line\"\n",
      "2017-11-20 21:23:54,803 : INFO : topic #89 (0.010): 0.000*\"training\" + 0.000*\"image\" + 0.000*\"control\" + 0.000*\"&\" + 0.000*\"gaussian\" + 0.000*\"state\" + 0.000*\"transformation\" + 0.000*\"dynamic\" + 0.000*\"prior\" + 0.000*\"transition\"\n",
      "2017-11-20 21:23:54,805 : INFO : topic #72 (0.010): 0.013*\"visual\" + 0.009*\"distance\" + 0.008*\"search\" + 0.007*\"ei\" + 0.007*\"target\" + 0.007*\"fig.\" + 0.005*\"v1\" + 0.005*\"bar\" + 0.005*\"diagram\" + 0.004*\"interaction\"\n",
      "2017-11-20 21:23:54,814 : INFO : topic diff=0.278684, rho=0.208514\n",
      "2017-11-20 21:24:03,213 : INFO : -8.162 per-word bound, 286.4 perplexity estimate based on a held-out corpus of 151 documents with 163809 words\n",
      "2017-11-20 21:24:03,214 : INFO : PROGRESS: pass 22, at document #151/151\n",
      "2017-11-20 21:24:04,952 : INFO : topic #38 (0.010): 0.036*\"analog\" + 0.024*\"net\" + 0.020*\"language\" + 0.019*\"noise\" + 0.018*\"w\" + 0.016*\"measure\" + 0.016*\"l\" + 0.014*\"state\" + 0.013*\"theorem\" + 0.012*\"gaussian\"\n",
      "2017-11-20 21:24:04,954 : INFO : topic #57 (0.010): 0.033*\"speech\" + 0.030*\"path\" + 0.020*\"acoustic\" + 0.016*\"continuity\" + 0.013*\"hidden\" + 0.011*\"recognition\" + 0.010*\"optimization\" + 0.009*\"hmms\" + 0.009*\"&\" + 0.009*\"hmm\"\n",
      "2017-11-20 21:24:04,955 : INFO : topic #89 (0.010): 0.000*\"training\" + 0.000*\"image\" + 0.000*\"control\" + 0.000*\"&\" + 0.000*\"gaussian\" + 0.000*\"state\" + 0.000*\"transformation\" + 0.000*\"dynamic\" + 0.000*\"prior\" + 0.000*\"transition\"\n",
      "2017-11-20 21:24:04,957 : INFO : topic #79 (0.010): 0.023*\"forward\" + 0.021*\"motor\" + 0.020*\"inverse\" + 0.020*\"object\" + 0.020*\"module\" + 0.017*\"control\" + 0.016*\"multiple\" + 0.013*\"architecture\" + 0.012*\"variational\" + 0.012*\"signal\"\n",
      "2017-11-20 21:24:04,959 : INFO : topic #67 (0.010): 0.000*\"state\" + 0.000*\"&\" + 0.000*\"rate\" + 0.000*\"rule\" + 0.000*\"training\" + 0.000*\"control\" + 0.000*\"image\" + 0.000*\"kernel\" + 0.000*\"sparse\" + 0.000*\"spike\"\n",
      "2017-11-20 21:24:04,964 : INFO : topic diff=0.232555, rho=0.204124\n",
      "2017-11-20 21:24:10,540 : INFO : -8.157 per-word bound, 285.4 perplexity estimate based on a held-out corpus of 151 documents with 163809 words\n",
      "2017-11-20 21:24:10,541 : INFO : PROGRESS: pass 23, at document #151/151\n",
      "2017-11-20 21:24:12,194 : INFO : topic #40 (0.010): 0.023*\"wavelet\" + 0.016*\"basis\" + 0.011*\"selection\" + 0.010*\"training\" + 0.009*\"memory\" + 0.009*\"filter\" + 0.008*\"threshold\" + 0.007*\"binary\" + 0.007*\"speed\" + 0.006*\"table\"\n",
      "2017-11-20 21:24:12,196 : INFO : topic #63 (0.010): 0.035*\"policy\" + 0.034*\"risk\" + 0.020*\"state\" + 0.018*\"price\" + 0.018*\"q-learning\" + 0.017*\"<\" + 0.017*\"return\" + 0.015*\"u)\" + 0.013*\"reward\" + 0.013*\"worst\"\n",
      "2017-11-20 21:24:12,197 : INFO : topic #52 (0.010): 0.021*\"state\" + 0.010*\"call\" + 0.008*\"control\" + 0.007*\"convergence\" + 0.007*\"rl\" + 0.006*\"rate\" + 0.006*\"node\" + 0.006*\"v\" + 0.006*\"reinforcement\" + 0.006*\"policy\"\n"
     ]
    },
    {
     "name": "stderr",
     "output_type": "stream",
     "text": [
      "2017-11-20 21:24:12,199 : INFO : topic #36 (0.010): 0.000*\"training\" + 0.000*\"state\" + 0.000*\"binary\" + 0.000*\"rule\" + 0.000*\"control\" + 0.000*\"forward\" + 0.000*\"correlation\" + 0.000*\"node\" + 0.000*\"kernel\" + 0.000*\"inverse\"\n",
      "2017-11-20 21:24:12,201 : INFO : topic #49 (0.010): 0.025*\"activity\" + 0.019*\"cortical\" + 0.019*\"noise\" + 0.018*\"variance\" + 0.017*\"line\" + 0.016*\"normalization\" + 0.016*\"spatial\" + 0.015*\"unit\" + 0.015*\"attractor\" + 0.015*\"ideal\"\n",
      "2017-11-20 21:24:12,206 : INFO : topic diff=0.195454, rho=0.200000\n",
      "2017-11-20 21:24:18,589 : INFO : -8.153 per-word bound, 284.6 perplexity estimate based on a held-out corpus of 151 documents with 163809 words\n",
      "2017-11-20 21:24:18,592 : INFO : PROGRESS: pass 24, at document #151/151\n",
      "2017-11-20 21:24:20,176 : INFO : topic #8 (0.010): 0.039*\"policy\" + 0.035*\"action\" + 0.028*\"state\" + 0.027*\"agent\" + 0.024*\"partially\" + 0.023*\"observable\" + 0.019*\"trace\" + 0.019*\"observation\" + 0.019*\"decision\" + 0.017*\"reward\"\n",
      "2017-11-20 21:24:20,177 : INFO : topic #34 (0.010): 0.133*\"latent\" + 0.085*\"pca\" + 0.067*\"component\" + 0.063*\"principal\" + 0.033*\"kernel\" + 0.027*\"nonlinear\" + 0.025*\"bishop\" + 0.025*\"sample\" + 0.023*\"w\" + 0.020*\"basis\"\n",
      "2017-11-20 21:24:20,178 : INFO : topic #11 (0.010): 0.048*\"sparse\" + 0.027*\"code\" + 0.025*\"coding\" + 0.023*\"component\" + 0.021*\"density\" + 0.020*\"shrinkage\" + 0.016*\"image\" + 0.012*\"noise\" + 0.010*\"gaussian\" + 0.008*\"noisy\"\n",
      "2017-11-20 21:24:20,181 : INFO : topic #75 (0.010): 0.050*\"support\" + 0.034*\"machine\" + 0.032*\"training\" + 0.023*\"working\" + 0.016*\"class\" + 0.016*\"programming\" + 0.015*\"risk\" + 0.012*\"minimization\" + 0.011*\"classification\" + 0.011*\"decision\"\n",
      "2017-11-20 21:24:20,182 : INFO : topic #45 (0.010): 0.050*\"state\" + 0.045*\"gaussian\" + 0.041*\"kalman\" + 0.040*\"nonlinear\" + 0.030*\"hidden\" + 0.024*\"em\" + 0.022*\"extended\" + 0.021*\"density\" + 0.021*\"covariance\" + 0.020*\"dynamical\"\n",
      "2017-11-20 21:24:20,186 : INFO : topic diff=0.165427, rho=0.196116\n",
      "2017-11-20 21:24:25,966 : INFO : -8.149 per-word bound, 283.8 perplexity estimate based on a held-out corpus of 151 documents with 163809 words\n",
      "2017-11-20 21:24:25,967 : INFO : PROGRESS: pass 25, at document #151/151\n",
      "2017-11-20 21:24:27,662 : INFO : topic #21 (0.010): 0.000*\"&\" + 0.000*\"r\" + 0.000*\"state\" + 0.000*\"margin\" + 0.000*\"curve\" + 0.000*\"component\" + 0.000*\"signal\" + 0.000*\"training\" + 0.000*\"cell\" + 0.000*\"control\"\n",
      "2017-11-20 21:24:27,663 : INFO : topic #94 (0.010): 0.017*\"image\" + 0.014*\"ica\" + 0.012*\"code\" + 0.009*\"filter\" + 0.009*\"statistic\" + 0.008*\"phase\" + 0.008*\"source\" + 0.008*\"approximation\" + 0.008*\"natural\" + 0.007*\"class\"\n",
      "2017-11-20 21:24:27,665 : INFO : topic #43 (0.010): 0.015*\"local\" + 0.011*\"field\" + 0.008*\"contour\" + 0.006*\"<\" + 0.006*\"mutual\" + 0.006*\"p\" + 0.006*\"square\" + 0.005*\"phys.\" + 0.005*\"prediction\" + 0.005*\"bound\"\n",
      "2017-11-20 21:24:27,666 : INFO : topic #88 (0.010): 0.000*\"training\" + 0.000*\"kernel\" + 0.000*\"spike\" + 0.000*\"machine\" + 0.000*\"support\" + 0.000*\"classification\" + 0.000*\"density\" + 0.000*\"w\" + 0.000*\"gaussian\" + 0.000*\"p\"\n",
      "2017-11-20 21:24:27,668 : INFO : topic #5 (0.010): 0.045*\"synaptic\" + 0.028*\"synapsis\" + 0.017*\"prior\" + 0.015*\"modification\" + 0.015*\"pruning\" + 0.014*\"memory\" + 0.012*\"neuronal\" + 0.009*\"level\" + 0.009*\"robot\" + 0.008*\"gaussians\"\n",
      "2017-11-20 21:24:27,672 : INFO : topic diff=0.140984, rho=0.192450\n",
      "2017-11-20 21:24:34,237 : INFO : -8.145 per-word bound, 283.1 perplexity estimate based on a held-out corpus of 151 documents with 163809 words\n",
      "2017-11-20 21:24:34,238 : INFO : PROGRESS: pass 26, at document #151/151\n",
      "2017-11-20 21:24:36,013 : INFO : topic #50 (0.010): 0.030*\"document\" + 0.023*\"cell\" + 0.017*\"word\" + 0.017*\"partition\" + 0.013*\"partitioning\" + 0.010*\"goal\" + 0.009*\"retrieval\" + 0.009*\"along\" + 0.008*\"agent\" + 0.008*\"largest\"\n",
      "2017-11-20 21:24:36,015 : INFO : topic #35 (0.010): 0.000*\"image\" + 0.000*\"direction\" + 0.000*\"kernel\" + 0.000*\"training\" + 0.000*\"visual\" + 0.000*\"response\" + 0.000*\"motion\" + 0.000*\"bound\" + 0.000*\"population\" + 0.000*\"cell\"\n",
      "2017-11-20 21:24:36,017 : INFO : topic #63 (0.010): 0.035*\"policy\" + 0.034*\"risk\" + 0.021*\"state\" + 0.018*\"price\" + 0.018*\"q-learning\" + 0.017*\"<\" + 0.017*\"return\" + 0.015*\"u)\" + 0.013*\"reward\" + 0.013*\"worst\"\n",
      "2017-11-20 21:24:36,019 : INFO : topic #78 (0.010): 0.012*\"class\" + 0.011*\"clustering\" + 0.010*\"r\" + 0.010*\"cut\" + 0.010*\"cluster\" + 0.009*\"distance\" + 0.008*\"node\" + 0.007*\"similarity\" + 0.006*\"every\" + 0.006*\"graph\"\n",
      "2017-11-20 21:24:36,021 : INFO : topic #22 (0.010): 0.000*\"control\" + 0.000*\"noise\" + 0.000*\"signal\" + 0.000*\"change\" + 0.000*\"positive\" + 0.000*\"controller\" + 0.000*\"rate\" + 0.000*\"neuron\" + 0.000*\"firing\" + 0.000*\"feedback\"\n",
      "2017-11-20 21:24:36,031 : INFO : topic diff=0.120994, rho=0.188982\n",
      "2017-11-20 21:24:42,098 : INFO : -8.142 per-word bound, 282.5 perplexity estimate based on a held-out corpus of 151 documents with 163809 words\n",
      "2017-11-20 21:24:42,099 : INFO : PROGRESS: pass 27, at document #151/151\n",
      "2017-11-20 21:24:43,747 : INFO : topic #79 (0.010): 0.023*\"forward\" + 0.021*\"motor\" + 0.020*\"inverse\" + 0.020*\"object\" + 0.020*\"module\" + 0.017*\"control\" + 0.016*\"multiple\" + 0.013*\"architecture\" + 0.013*\"variational\" + 0.012*\"signal\"\n",
      "2017-11-20 21:24:43,749 : INFO : topic #41 (0.010): 0.000*\"state\" + 0.000*\"rule\" + 0.000*\"neuron\" + 0.000*\"noise\" + 0.000*\"training\" + 0.000*\"forward\" + 0.000*\"motor\" + 0.000*\"bound\" + 0.000*\"path\" + 0.000*\"action\"\n",
      "2017-11-20 21:24:43,750 : INFO : topic #24 (0.010): 0.019*\"histogram\" + 0.019*\"image\" + 0.016*\"recognition\" + 0.016*\"attribute\" + 0.015*\"euclidean\" + 0.014*\"graph\" + 0.013*\"object\" + 0.013*\"matching\" + 0.012*\"pairwise\" + 0.010*\"database\"\n",
      "2017-11-20 21:24:43,752 : INFO : topic #38 (0.010): 0.036*\"analog\" + 0.024*\"net\" + 0.020*\"language\" + 0.019*\"noise\" + 0.018*\"w\" + 0.016*\"measure\" + 0.016*\"l\" + 0.014*\"state\" + 0.013*\"theorem\" + 0.012*\"gaussian\"\n",
      "2017-11-20 21:24:43,754 : INFO : topic #34 (0.010): 0.126*\"latent\" + 0.102*\"pca\" + 0.070*\"component\" + 0.064*\"principal\" + 0.037*\"kernel\" + 0.028*\"nonlinear\" + 0.024*\"bishop\" + 0.024*\"sample\" + 0.022*\"w\" + 0.020*\"basis\"\n",
      "2017-11-20 21:24:43,758 : INFO : topic diff=0.104534, rho=0.185695\n",
      "2017-11-20 21:24:51,025 : INFO : -8.139 per-word bound, 281.9 perplexity estimate based on a held-out corpus of 151 documents with 163809 words\n",
      "2017-11-20 21:24:51,026 : INFO : PROGRESS: pass 28, at document #151/151\n",
      "2017-11-20 21:24:53,716 : INFO : topic #34 (0.010): 0.124*\"latent\" + 0.107*\"pca\" + 0.070*\"component\" + 0.064*\"principal\" + 0.038*\"kernel\" + 0.029*\"nonlinear\" + 0.024*\"bishop\" + 0.023*\"sample\" + 0.022*\"w\" + 0.020*\"basis\"\n",
      "2017-11-20 21:24:53,717 : INFO : topic #53 (0.010): 0.076*\"group\" + 0.055*\"cluster\" + 0.050*\"structure\" + 0.046*\"clustering\" + 0.043*\"probabilistic\" + 0.033*\"object\" + 0.033*\"visualization\" + 0.032*\"assignment\" + 0.024*\"data.\" + 0.023*\"dimensional\"\n",
      "2017-11-20 21:24:53,719 : INFO : topic #58 (0.010): 0.022*\"digit\" + 0.019*\"neuron\" + 0.018*\"cell\" + 0.018*\"spatial\" + 0.017*\"&\" + 0.016*\"response\" + 0.015*\"visual\" + 0.014*\"image\" + 0.012*\"complex\" + 0.011*\"cortical\"\n",
      "2017-11-20 21:24:53,723 : INFO : topic #26 (0.010): 0.032*\"approximation\" + 0.018*\"bound\" + 0.015*\"field\" + 0.014*\"h\" + 0.011*\"<\" + 0.010*\"theorem\" + 0.009*\"q\" + 0.009*\"_<\" + 0.009*\">\" + 0.009*\"incremental\"\n",
      "2017-11-20 21:24:53,726 : INFO : topic #83 (0.010): 0.036*\"front\" + 0.030*\"field\" + 0.017*\"along\" + 0.016*\"discontinuity\" + 0.016*\"covariance\" + 0.012*\"prior\" + 0.012*\"constrained\" + 0.010*\"(a)\" + 0.010*\"(b)\" + 0.010*\"frontal\"\n",
      "2017-11-20 21:24:53,743 : INFO : topic diff=0.090925, rho=0.182574\n",
      "2017-11-20 21:25:00,624 : INFO : -8.136 per-word bound, 281.4 perplexity estimate based on a held-out corpus of 151 documents with 163809 words\n",
      "2017-11-20 21:25:00,625 : INFO : PROGRESS: pass 29, at document #151/151\n",
      "2017-11-20 21:25:02,296 : INFO : topic #20 (0.010): 0.034*\"policy\" + 0.018*\"state\" + 0.014*\"reward\" + 0.013*\"transition\" + 0.012*\"rl\" + 0.011*\"block\" + 0.011*\"reinforcement\" + 0.010*\"stochastic\" + 0.010*\"a)\" + 0.010*\"every\"\n",
      "2017-11-20 21:25:02,297 : INFO : topic #82 (0.010): 0.071*\"loss\" + 0.025*\"threshold\" + 0.021*\"classification\" + 0.019*\"update\" + 0.018*\"bound\" + 0.016*\"perceptron\" + 0.013*\"gradient\" + 0.012*\"regression\" + 0.012*\"relative\" + 0.011*\"divergence\"\n"
     ]
    },
    {
     "name": "stderr",
     "output_type": "stream",
     "text": [
      "2017-11-20 21:25:02,298 : INFO : topic #63 (0.010): 0.035*\"policy\" + 0.034*\"risk\" + 0.021*\"state\" + 0.018*\"price\" + 0.018*\"q-learning\" + 0.017*\"<\" + 0.017*\"return\" + 0.015*\"u)\" + 0.013*\"reward\" + 0.013*\"sensitive\"\n",
      "2017-11-20 21:25:02,300 : INFO : topic #38 (0.010): 0.036*\"analog\" + 0.024*\"net\" + 0.020*\"language\" + 0.019*\"noise\" + 0.018*\"w\" + 0.016*\"measure\" + 0.016*\"l\" + 0.014*\"state\" + 0.013*\"theorem\" + 0.012*\"gaussian\"\n",
      "2017-11-20 21:25:02,302 : INFO : topic #48 (0.010): 0.000*\"image\" + 0.000*\"training\" + 0.000*\"face\" + 0.000*\"visual\" + 0.000*\"prior\" + 0.000*\"recognition\" + 0.000*\"class\" + 0.000*\"distance\" + 0.000*\"estimation\" + 0.000*\"table\"\n",
      "2017-11-20 21:25:02,306 : INFO : topic diff=0.079600, rho=0.179605\n",
      "2017-11-20 21:25:08,795 : INFO : -8.134 per-word bound, 280.9 perplexity estimate based on a held-out corpus of 151 documents with 163809 words\n",
      "2017-11-20 21:25:08,798 : INFO : PROGRESS: pass 30, at document #151/151\n",
      "2017-11-20 21:25:11,389 : INFO : topic #49 (0.010): 0.025*\"activity\" + 0.019*\"cortical\" + 0.019*\"noise\" + 0.018*\"variance\" + 0.017*\"line\" + 0.016*\"normalization\" + 0.016*\"spatial\" + 0.015*\"unit\" + 0.015*\"attractor\" + 0.015*\"ideal\"\n",
      "2017-11-20 21:25:11,391 : INFO : topic #14 (0.010): 0.029*\"conductance\" + 0.023*\"firing\" + 0.023*\"rate\" + 0.021*\"cell\" + 0.016*\"mutual\" + 0.015*\"neuron\" + 0.015*\"stimulus\" + 0.011*\"among\" + 0.010*\"spike\" + 0.009*\"change\"\n",
      "2017-11-20 21:25:11,392 : INFO : topic #7 (0.010): 0.014*\"&\" + 0.013*\"state\" + 0.009*\"markov\" + 0.009*\"split\" + 0.008*\"arc\" + 0.008*\"agent\" + 0.007*\"probabilistic\" + 0.007*\"speech\" + 0.006*\"task\" + 0.006*\"hmms\"\n",
      "2017-11-20 21:25:11,394 : INFO : topic #10 (0.010): 0.000*\"document\" + 0.000*\"clustering\" + 0.000*\"image\" + 0.000*\"training\" + 0.000*\"em\" + 0.000*\"mixture\" + 0.000*\"&\" + 0.000*\"component\" + 0.000*\"node\" + 0.000*\"aspect\"\n",
      "2017-11-20 21:25:11,396 : INFO : topic #83 (0.010): 0.036*\"front\" + 0.030*\"field\" + 0.017*\"along\" + 0.016*\"discontinuity\" + 0.016*\"covariance\" + 0.012*\"prior\" + 0.012*\"constrained\" + 0.010*\"(a)\" + 0.010*\"(b)\" + 0.010*\"frontal\"\n",
      "2017-11-20 21:25:11,408 : INFO : topic diff=0.070136, rho=0.176777\n",
      "2017-11-20 21:25:18,850 : INFO : -8.132 per-word bound, 280.4 perplexity estimate based on a held-out corpus of 151 documents with 163809 words\n",
      "2017-11-20 21:25:18,851 : INFO : PROGRESS: pass 31, at document #151/151\n",
      "2017-11-20 21:25:20,540 : INFO : topic #24 (0.010): 0.019*\"histogram\" + 0.019*\"image\" + 0.016*\"recognition\" + 0.016*\"attribute\" + 0.016*\"euclidean\" + 0.014*\"graph\" + 0.013*\"matching\" + 0.013*\"object\" + 0.013*\"pairwise\" + 0.010*\"database\"\n",
      "2017-11-20 21:25:20,541 : INFO : topic #52 (0.010): 0.021*\"state\" + 0.010*\"call\" + 0.008*\"control\" + 0.007*\"convergence\" + 0.007*\"rl\" + 0.006*\"rate\" + 0.006*\"v\" + 0.006*\"node\" + 0.006*\"reinforcement\" + 0.006*\"policy\"\n",
      "2017-11-20 21:25:20,543 : INFO : topic #75 (0.010): 0.051*\"support\" + 0.035*\"machine\" + 0.032*\"training\" + 0.023*\"working\" + 0.017*\"class\" + 0.016*\"programming\" + 0.014*\"risk\" + 0.012*\"decision\" + 0.012*\"minimization\" + 0.011*\"classification\"\n",
      "2017-11-20 21:25:20,544 : INFO : topic #16 (0.010): 0.023*\"convolution\" + 0.023*\"analog\" + 0.022*\"chip\" + 0.020*\"impulse\" + 0.020*\"signal\" + 0.019*\"noise\" + 0.013*\"cell\" + 0.013*\"polynomial\" + 0.011*\"speed\" + 0.011*\"ratio\"\n",
      "2017-11-20 21:25:20,546 : INFO : topic #22 (0.010): 0.000*\"control\" + 0.000*\"noise\" + 0.000*\"signal\" + 0.000*\"change\" + 0.000*\"positive\" + 0.000*\"controller\" + 0.000*\"rate\" + 0.000*\"neuron\" + 0.000*\"firing\" + 0.000*\"feedback\"\n",
      "2017-11-20 21:25:20,550 : INFO : topic diff=0.062203, rho=0.174078\n",
      "2017-11-20 21:25:26,574 : INFO : -8.129 per-word bound, 280.0 perplexity estimate based on a held-out corpus of 151 documents with 163809 words\n",
      "2017-11-20 21:25:26,575 : INFO : PROGRESS: pass 32, at document #151/151\n",
      "2017-11-20 21:25:28,210 : INFO : topic #31 (0.010): 0.041*\"detection\" + 0.031*\"state\" + 0.030*\"account\" + 0.030*\"behavior\" + 0.027*\"call\" + 0.021*\"st\" + 0.019*\"hierarchical\" + 0.019*\"hidden\" + 0.018*\"em\" + 0.018*\"i,\"\n",
      "2017-11-20 21:25:28,211 : INFO : topic #97 (0.010): 0.353*\"cell\" + 0.071*\"frequency\" + 0.038*\"modulated\" + 0.027*\"1995;\" + 0.017*\"manner.\" + 0.017*\"2).\" + 0.012*\"respond\" + 0.011*\"k.,\" + 0.011*\"excitation\" + 0.010*\"equation,\"\n",
      "2017-11-20 21:25:28,212 : INFO : topic #42 (0.010): 0.000*\"state\" + 0.000*\"image\" + 0.000*\"rate\" + 0.000*\"visual\" + 0.000*\"training\" + 0.000*\"density\" + 0.000*\"noise\" + 0.000*\"gaussian\" + 0.000*\"neuron\" + 0.000*\"sound\"\n",
      "2017-11-20 21:25:28,214 : INFO : topic #55 (0.010): 0.000*\"image\" + 0.000*\"state\" + 0.000*\"unit\" + 0.000*\"spike\" + 0.000*\"cell\" + 0.000*\"mixture\" + 0.000*\"hidden\" + 0.000*\"flow\" + 0.000*\"component\" + 0.000*\"em\"\n",
      "2017-11-20 21:25:28,216 : INFO : topic #45 (0.010): 0.054*\"state\" + 0.044*\"gaussian\" + 0.042*\"kalman\" + 0.039*\"nonlinear\" + 0.030*\"hidden\" + 0.023*\"em\" + 0.022*\"density\" + 0.022*\"sample\" + 0.021*\"extended\" + 0.021*\"covariance\"\n",
      "2017-11-20 21:25:28,221 : INFO : topic diff=0.055471, rho=0.171499\n",
      "2017-11-20 21:25:34,331 : INFO : -8.127 per-word bound, 279.6 perplexity estimate based on a held-out corpus of 151 documents with 163809 words\n",
      "2017-11-20 21:25:34,332 : INFO : PROGRESS: pass 33, at document #151/151\n",
      "2017-11-20 21:25:35,982 : INFO : topic #17 (0.010): 0.000*\"state\" + 0.000*\"gaussian\" + 0.000*\"neuron\" + 0.000*\"mixture\" + 0.000*\"z\" + 0.000*\"control\" + 0.000*\"training\" + 0.000*\"component\" + 0.000*\"cortical\" + 0.000*\"activity\"\n",
      "2017-11-20 21:25:35,983 : INFO : topic #91 (0.010): 0.020*\"visual\" + 0.017*\"centroid\" + 0.013*\"attention\" + 0.012*\"edge\" + 0.011*\"orientation\" + 0.010*\"contrast\" + 0.008*\"task\" + 0.008*\"q-\" + 0.008*\"circuit\" + 0.007*\"threshold\"\n",
      "2017-11-20 21:25:35,985 : INFO : topic #37 (0.010): 0.000*\"cell\" + 0.000*\"neuron\" + 0.000*\"complex\" + 0.000*\"cortical\" + 0.000*\"spatial\" + 0.000*\"&\" + 0.000*\"density\" + 0.000*\"recurrent\" + 0.000*\"state\" + 0.000*\"response\"\n",
      "2017-11-20 21:25:35,986 : INFO : topic #8 (0.010): 0.039*\"policy\" + 0.038*\"action\" + 0.028*\"state\" + 0.028*\"agent\" + 0.023*\"partially\" + 0.022*\"observable\" + 0.019*\"observation\" + 0.019*\"decision\" + 0.018*\"trace\" + 0.017*\"reward\"\n",
      "2017-11-20 21:25:35,988 : INFO : topic #56 (0.010): 0.018*\"control\" + 0.017*\"contrast\" + 0.014*\"p\" + 0.013*\"adaptation\" + 0.013*\"neuron\" + 0.011*\"correlation\" + 0.010*\"response\" + 0.010*\"population\" + 0.010*\"j\" + 0.009*\"visual\"\n",
      "2017-11-20 21:25:35,992 : INFO : topic diff=0.049755, rho=0.169031\n",
      "2017-11-20 21:25:41,586 : INFO : -8.125 per-word bound, 279.2 perplexity estimate based on a held-out corpus of 151 documents with 163809 words\n",
      "2017-11-20 21:25:41,587 : INFO : PROGRESS: pass 34, at document #151/151\n",
      "2017-11-20 21:25:43,424 : INFO : topic #18 (0.010): 0.000*\"image\" + 0.000*\"mixture\" + 0.000*\"training\" + 0.000*\"&\" + 0.000*\"local\" + 0.000*\"state\" + 0.000*\"component\" + 0.000*\"texture\" + 0.000*\"region\" + 0.000*\"rate\"\n",
      "2017-11-20 21:25:43,425 : INFO : topic #22 (0.010): 0.000*\"control\" + 0.000*\"noise\" + 0.000*\"signal\" + 0.000*\"change\" + 0.000*\"positive\" + 0.000*\"controller\" + 0.000*\"rate\" + 0.000*\"neuron\" + 0.000*\"firing\" + 0.000*\"feedback\"\n",
      "2017-11-20 21:25:43,427 : INFO : topic #2 (0.010): 0.062*\"tree\" + 0.025*\"node\" + 0.020*\"posterior\" + 0.017*\"prior\" + 0.016*\"image\" + 0.014*\"balanced\" + 0.012*\"structure\" + 0.012*\"dt\" + 0.012*\"dynamic\" + 0.011*\"parent\"\n",
      "2017-11-20 21:25:43,429 : INFO : topic #71 (0.010): 0.087*\"graph\" + 0.032*\"maximum\" + 0.029*\"g\" + 0.029*\"vol.\" + 0.028*\"pp.\" + 0.024*\"maximal\" + 0.021*\"equations,\" + 0.021*\"theorem\" + 0.019*\"vertex\" + 0.018*\"association\"\n",
      "2017-11-20 21:25:43,431 : INFO : topic #98 (0.010): 0.000*\"synaptic\" + 0.000*\"&\" + 0.000*\"cell\" + 0.000*\"neuron\" + 0.000*\"rate\" + 0.000*\"firing\" + 0.000*\"distance\" + 0.000*\"response\" + 0.000*\"image\" + 0.000*\"labeled\"\n",
      "2017-11-20 21:25:43,436 : INFO : topic diff=0.044864, rho=0.166667\n",
      "2017-11-20 21:25:49,284 : INFO : -8.123 per-word bound, 278.9 perplexity estimate based on a held-out corpus of 151 documents with 163809 words\n",
      "2017-11-20 21:25:49,286 : INFO : PROGRESS: pass 35, at document #151/151\n",
      "2017-11-20 21:25:50,925 : INFO : topic #87 (0.010): 0.013*\"training\" + 0.010*\"reinforcement\" + 0.009*\"posterior\" + 0.008*\"variational\" + 0.007*\"return\" + 0.006*\"y\" + 0.006*\"observation\" + 0.006*\"year\" + 0.006*\"&\" + 0.005*\"sequence\"\n",
      "2017-11-20 21:25:50,927 : INFO : topic #56 (0.010): 0.018*\"control\" + 0.017*\"contrast\" + 0.014*\"p\" + 0.013*\"adaptation\" + 0.013*\"neuron\" + 0.011*\"correlation\" + 0.010*\"response\" + 0.010*\"population\" + 0.010*\"j\" + 0.009*\"visual\"\n"
     ]
    },
    {
     "name": "stderr",
     "output_type": "stream",
     "text": [
      "2017-11-20 21:25:50,930 : INFO : topic #95 (0.010): 0.019*\"training\" + 0.017*\"8\" + 0.017*\"measurement\" + 0.016*\"direction\" + 0.015*\"24\" + 0.014*\"subject\" + 0.014*\"task\" + 0.012*\"trained\" + 0.011*\"30\" + 0.010*\"stimulus\"\n",
      "2017-11-20 21:25:50,933 : INFO : topic #17 (0.010): 0.000*\"state\" + 0.000*\"gaussian\" + 0.000*\"neuron\" + 0.000*\"mixture\" + 0.000*\"z\" + 0.000*\"control\" + 0.000*\"training\" + 0.000*\"component\" + 0.000*\"cortical\" + 0.000*\"activity\"\n",
      "2017-11-20 21:25:50,939 : INFO : topic #68 (0.010): 0.020*\"inference\" + 0.019*\"state\" + 0.019*\"em\" + 0.018*\"approximation\" + 0.017*\"approximate\" + 0.017*\"message\" + 0.013*\"online\" + 0.013*\"dynamic\" + 0.013*\"observation\" + 0.012*\"window\"\n",
      "2017-11-20 21:25:50,943 : INFO : topic diff=0.040664, rho=0.164399\n",
      "2017-11-20 21:25:56,528 : INFO : -8.122 per-word bound, 278.5 perplexity estimate based on a held-out corpus of 151 documents with 163809 words\n",
      "2017-11-20 21:25:56,529 : INFO : PROGRESS: pass 36, at document #151/151\n",
      "2017-11-20 21:25:58,251 : INFO : topic #5 (0.010): 0.046*\"synaptic\" + 0.029*\"synapsis\" + 0.017*\"prior\" + 0.015*\"modification\" + 0.015*\"pruning\" + 0.015*\"memory\" + 0.012*\"neuronal\" + 0.009*\"level\" + 0.009*\"robot\" + 0.008*\"gaussians\"\n",
      "2017-11-20 21:25:58,253 : INFO : topic #76 (0.010): 0.067*\"flow\" + 0.053*\"optical\" + 0.052*\"motion\" + 0.040*\"chip\" + 0.039*\"field\" + 0.021*\"sensor\" + 0.021*\"analog\" + 0.020*\"pixel\" + 0.020*\"computation\" + 0.017*\"coordinate\"\n",
      "2017-11-20 21:25:58,258 : INFO : topic #28 (0.010): 0.063*\"hmm\" + 0.027*\"emission\" + 0.027*\"regularization\" + 0.027*\"training\" + 0.020*\"mixture\" + 0.017*\"prototype\" + 0.016*\"discrete\" + 0.016*\"speech\" + 0.013*\"state\" + 0.013*\"complexity\"\n",
      "2017-11-20 21:25:58,260 : INFO : topic #17 (0.010): 0.000*\"state\" + 0.000*\"gaussian\" + 0.000*\"neuron\" + 0.000*\"mixture\" + 0.000*\"z\" + 0.000*\"control\" + 0.000*\"training\" + 0.000*\"component\" + 0.000*\"cortical\" + 0.000*\"activity\"\n",
      "2017-11-20 21:25:58,265 : INFO : topic #12 (0.010): 0.024*\"mass\" + 0.023*\"positive\" + 0.023*\"architecture\" + 0.019*\"detection\" + 0.017*\"%\" + 0.015*\"resolution\" + 0.015*\"unit\" + 0.014*\"false\" + 0.014*\"low\" + 0.014*\"pixel\"\n",
      "2017-11-20 21:25:58,275 : INFO : topic diff=0.037063, rho=0.162221\n",
      "2017-11-20 21:26:04,433 : INFO : -8.120 per-word bound, 278.2 perplexity estimate based on a held-out corpus of 151 documents with 163809 words\n",
      "2017-11-20 21:26:04,434 : INFO : PROGRESS: pass 37, at document #151/151\n",
      "2017-11-20 21:26:06,037 : INFO : topic #4 (0.010): 0.018*\"noise\" + 0.012*\"fig.\" + 0.010*\"delay\" + 0.010*\"pixel\" + 0.010*\"source\" + 0.009*\"image\" + 0.009*\"complex\" + 0.009*\"cell\" + 0.009*\"&\" + 0.008*\"current\"\n",
      "2017-11-20 21:26:06,039 : INFO : topic #80 (0.010): 0.048*\"bound\" + 0.043*\"layer\" + 0.042*\"unit\" + 0.024*\"polynomial\" + 0.021*\"lower\" + 0.018*\"activation\" + 0.016*\"piecewise\" + 0.014*\"upper\" + 0.014*\"l\" + 0.012*\"dimension\"\n",
      "2017-11-20 21:26:06,040 : INFO : topic #34 (0.010): 0.134*\"pca\" + 0.114*\"latent\" + 0.073*\"component\" + 0.064*\"principal\" + 0.047*\"kernel\" + 0.032*\"nonlinear\" + 0.022*\"bishop\" + 0.022*\"sample\" + 0.021*\"w\" + 0.019*\"basis\"\n",
      "2017-11-20 21:26:06,042 : INFO : topic #75 (0.010): 0.052*\"support\" + 0.036*\"machine\" + 0.033*\"training\" + 0.022*\"working\" + 0.017*\"class\" + 0.016*\"programming\" + 0.014*\"risk\" + 0.013*\"decision\" + 0.012*\"minimization\" + 0.011*\"classification\"\n",
      "2017-11-20 21:26:06,045 : INFO : topic #89 (0.010): 0.000*\"training\" + 0.000*\"image\" + 0.000*\"control\" + 0.000*\"&\" + 0.000*\"gaussian\" + 0.000*\"state\" + 0.000*\"transformation\" + 0.000*\"dynamic\" + 0.000*\"prior\" + 0.000*\"transition\"\n",
      "2017-11-20 21:26:06,051 : INFO : topic diff=0.033924, rho=0.160128\n",
      "2017-11-20 21:26:11,760 : INFO : -8.118 per-word bound, 277.9 perplexity estimate based on a held-out corpus of 151 documents with 163809 words\n",
      "2017-11-20 21:26:11,761 : INFO : PROGRESS: pass 38, at document #151/151\n",
      "2017-11-20 21:26:13,534 : INFO : topic #17 (0.010): 0.000*\"state\" + 0.000*\"gaussian\" + 0.000*\"neuron\" + 0.000*\"mixture\" + 0.000*\"z\" + 0.000*\"control\" + 0.000*\"training\" + 0.000*\"component\" + 0.000*\"cortical\" + 0.000*\"activity\"\n",
      "2017-11-20 21:26:13,536 : INFO : topic #0 (0.010): 0.063*\"margin\" + 0.022*\"cost\" + 0.021*\"training\" + 0.015*\"generalization\" + 0.013*\"hypothesis\" + 0.011*\"classifier\" + 0.011*\"complexity\" + 0.008*\"0.\" + 0.007*\"chosen\" + 0.007*\"validation\"\n",
      "2017-11-20 21:26:13,538 : INFO : topic #62 (0.010): 0.032*\"face\" + 0.022*\"labeled\" + 0.019*\"density\" + 0.017*\"prior\" + 0.017*\"estimation\" + 0.016*\"training\" + 0.014*\"dependency\" + 0.013*\"image\" + 0.010*\"data.\" + 0.009*\"bayesian\"\n",
      "2017-11-20 21:26:13,541 : INFO : topic #13 (0.010): 0.030*\"component\" + 0.029*\"face\" + 0.018*\"independent\" + 0.014*\"subject\" + 0.012*\"ica\" + 0.011*\"response\" + 0.011*\"activity\" + 0.011*\"stimulus\" + 0.010*\"representation\" + 0.009*\"study\"\n",
      "2017-11-20 21:26:13,542 : INFO : topic #93 (0.010): 0.017*\"policy\" + 0.014*\"reinforcement\" + 0.013*\"&\" + 0.013*\"state\" + 0.011*\"on-line\" + 0.011*\"em\" + 0.010*\"unit\" + 0.010*\"stochastic\" + 0.009*\"gradient\" + 0.009*\"rl\"\n",
      "2017-11-20 21:26:13,547 : INFO : topic diff=0.031185, rho=0.158114\n",
      "2017-11-20 21:26:19,626 : INFO : -8.117 per-word bound, 277.6 perplexity estimate based on a held-out corpus of 151 documents with 163809 words\n",
      "2017-11-20 21:26:19,629 : INFO : PROGRESS: pass 39, at document #151/151\n",
      "2017-11-20 21:26:21,212 : INFO : topic #83 (0.010): 0.036*\"front\" + 0.030*\"field\" + 0.017*\"along\" + 0.016*\"discontinuity\" + 0.016*\"covariance\" + 0.012*\"prior\" + 0.012*\"constrained\" + 0.010*\"(a)\" + 0.010*\"(b)\" + 0.010*\"frontal\"\n",
      "2017-11-20 21:26:21,213 : INFO : topic #86 (0.010): 0.006*\"sensor\" + 0.005*\"noise\" + 0.005*\"correlation\" + 0.005*\"binary\" + 0.004*\"r\" + 0.004*\"p\" + 0.004*\"local\" + 0.004*\"image\" + 0.003*\"line\" + 0.003*\"gaussian\"\n",
      "2017-11-20 21:26:21,215 : INFO : topic #5 (0.010): 0.046*\"synaptic\" + 0.029*\"synapsis\" + 0.017*\"prior\" + 0.015*\"modification\" + 0.015*\"pruning\" + 0.015*\"memory\" + 0.012*\"neuronal\" + 0.009*\"level\" + 0.009*\"robot\" + 0.008*\"object\"\n",
      "2017-11-20 21:26:21,216 : INFO : topic #21 (0.010): 0.000*\"&\" + 0.000*\"r\" + 0.000*\"state\" + 0.000*\"margin\" + 0.000*\"curve\" + 0.000*\"component\" + 0.000*\"signal\" + 0.000*\"training\" + 0.000*\"cell\" + 0.000*\"control\"\n",
      "2017-11-20 21:26:21,218 : INFO : topic #49 (0.010): 0.025*\"activity\" + 0.019*\"cortical\" + 0.019*\"noise\" + 0.018*\"variance\" + 0.017*\"line\" + 0.016*\"normalization\" + 0.016*\"spatial\" + 0.015*\"unit\" + 0.015*\"attractor\" + 0.015*\"ideal\"\n",
      "2017-11-20 21:26:21,223 : INFO : topic diff=0.028792, rho=0.156174\n"
     ]
    },
    {
     "name": "stdout",
     "output_type": "stream",
     "text": [
      "Evaluation time: 5.52863933643\n",
      "Perplexity: 924.316031243\n"
     ]
    }
   ],
   "source": [
    "start = time()\n",
    "model2 = models.ldamodel.LdaModel(corpus, id2word=dictionary, num_topics=100, update_every=0, passes=40)\n",
    "print 'Evaluation time: {}'.format((time()-start) / 60)\n",
    "print 'Perplexity: {}'.format(perplexity(model2, corpus))"
   ]
  },
  {
   "cell_type": "markdown",
   "metadata": {},
   "source": [
    "Модель достигла лучшей перплексии, однако обучалась существенно дольше. Необходим подбор оптимального сочетания параметров, это требует большого числа экспериментов.\n",
    "Вернемся к первому набору параметров и изменим число тем со 100 на 10:"
   ]
  },
  {
   "cell_type": "code",
   "execution_count": 13,
   "metadata": {
    "scrolled": true
   },
   "outputs": [
    {
     "name": "stderr",
     "output_type": "stream",
     "text": [
      "2017-11-20 21:26:22,332 : INFO : using symmetric alpha at 0.1\n",
      "2017-11-20 21:26:22,334 : INFO : using symmetric eta at 0.000189573459716\n",
      "2017-11-20 21:26:22,338 : INFO : using serial LDA version on this node\n",
      "2017-11-20 21:26:22,754 : INFO : running online (multi-pass) LDA training, 10 topics, 2 passes over the supplied corpus of 151 documents, updating model once every 50 documents, evaluating perplexity every 151 documents, iterating 50x with a convergence threshold of 0.001000\n",
      "2017-11-20 21:26:22,755 : WARNING : too few updates, training might not converge; consider increasing the number of passes or iterations to improve accuracy\n",
      "2017-11-20 21:26:22,756 : INFO : PROGRESS: pass 0, at document #50/151\n",
      "2017-11-20 21:26:22,908 : INFO : merging changes from 50 documents into a model of 151 documents\n",
      "2017-11-20 21:26:23,163 : INFO : topic #2 (0.100): 0.008*\"state\" + 0.004*\"training\" + 0.004*\"control\" + 0.003*\"gaussian\" + 0.003*\"image\" + 0.003*\"&\" + 0.003*\"mixture\" + 0.003*\"rate\" + 0.003*\"dynamic\" + 0.003*\"p\"\n",
      "2017-11-20 21:26:23,165 : INFO : topic #8 (0.100): 0.005*\"state\" + 0.005*\"&\" + 0.004*\"image\" + 0.004*\"local\" + 0.003*\"visual\" + 0.003*\"gaussian\" + 0.003*\"em\" + 0.003*\"neuron\" + 0.003*\"mixture\" + 0.003*\"scene\"\n",
      "2017-11-20 21:26:23,166 : INFO : topic #5 (0.100): 0.008*\"state\" + 0.004*\"&\" + 0.004*\"control\" + 0.003*\"gaussian\" + 0.003*\"prior\" + 0.003*\"training\" + 0.003*\"correlation\" + 0.003*\"inverse\" + 0.003*\"dynamic\" + 0.003*\"p\"\n",
      "2017-11-20 21:26:23,167 : INFO : topic #0 (0.100): 0.006*\"image\" + 0.005*\"&\" + 0.004*\"state\" + 0.004*\"training\" + 0.004*\"noise\" + 0.003*\"prior\" + 0.003*\"sensor\" + 0.003*\"p\" + 0.003*\"control\" + 0.003*\"em\"\n",
      "2017-11-20 21:26:23,168 : INFO : topic #1 (0.100): 0.008*\"state\" + 0.005*\"policy\" + 0.004*\"&\" + 0.004*\"mode\" + 0.004*\"sample\" + 0.003*\"gaussian\" + 0.003*\"mixture\" + 0.003*\"firing\" + 0.003*\"neuron\" + 0.003*\"rate\"\n",
      "2017-11-20 21:26:23,170 : INFO : topic diff=1.733012, rho=1.000000\n",
      "2017-11-20 21:26:23,172 : INFO : PROGRESS: pass 0, at document #100/151\n",
      "2017-11-20 21:26:23,337 : INFO : merging changes from 50 documents into a model of 151 documents\n",
      "2017-11-20 21:26:23,555 : INFO : topic #5 (0.100): 0.008*\"state\" + 0.006*\"training\" + 0.005*\"entropic\" + 0.005*\"control\" + 0.005*\"bound\" + 0.004*\"&\" + 0.004*\"hand\" + 0.004*\"gaussian\" + 0.003*\"field\" + 0.003*\"prior\"\n",
      "2017-11-20 21:26:23,556 : INFO : topic #9 (0.100): 0.006*\"component\" + 0.005*\"bound\" + 0.005*\"kernel\" + 0.005*\"density\" + 0.004*\"gaussian\" + 0.004*\"training\" + 0.004*\"ica\" + 0.004*\"image\" + 0.004*\"mixture\" + 0.004*\"state\"\n",
      "2017-11-20 21:26:23,558 : INFO : topic #0 (0.100): 0.006*\"training\" + 0.005*\"image\" + 0.003*\"kernel\" + 0.003*\"classification\" + 0.003*\"&\" + 0.003*\"state\" + 0.002*\"noise\" + 0.002*\"recognition\" + 0.002*\"structure\" + 0.002*\"class\"\n",
      "2017-11-20 21:26:23,560 : INFO : topic #3 (0.100): 0.006*\"image\" + 0.006*\"chip\" + 0.006*\"training\" + 0.006*\"noise\" + 0.005*\"template\" + 0.005*\"analog\" + 0.004*\"signal\" + 0.004*\"classification\" + 0.003*\"pixel\" + 0.003*\"circuit\"\n",
      "2017-11-20 21:26:23,563 : INFO : topic #4 (0.100): 0.007*\"sound\" + 0.007*\"cell\" + 0.006*\"neuron\" + 0.006*\"response\" + 0.006*\"rate\" + 0.006*\"&\" + 0.005*\"firing\" + 0.004*\"visual\" + 0.004*\"synaptic\" + 0.004*\"stimulus\"\n",
      "2017-11-20 21:26:23,566 : INFO : topic diff=1.222573, rho=0.707107\n",
      "2017-11-20 21:26:23,567 : INFO : PROGRESS: pass 0, at document #150/151\n",
      "2017-11-20 21:26:23,762 : INFO : merging changes from 50 documents into a model of 151 documents\n",
      "2017-11-20 21:26:23,945 : INFO : topic #6 (0.100): 0.005*\"state\" + 0.004*\"image\" + 0.003*\"latent\" + 0.002*\"em\" + 0.002*\"&\" + 0.002*\"local\" + 0.002*\"neuron\" + 0.002*\"mixture\" + 0.002*\"sample\" + 0.002*\"human\"\n",
      "2017-11-20 21:26:23,947 : INFO : topic #4 (0.100): 0.016*\"synaptic\" + 0.011*\"spike\" + 0.010*\"neuron\" + 0.010*\"firing\" + 0.009*\"cell\" + 0.008*\"&\" + 0.007*\"response\" + 0.007*\"potential\" + 0.005*\"synapsis\" + 0.005*\"visual\"\n",
      "2017-11-20 21:26:23,953 : INFO : topic #1 (0.100): 0.029*\"policy\" + 0.024*\"state\" + 0.015*\"action\" + 0.011*\"agent\" + 0.009*\"reward\" + 0.008*\"environment\" + 0.007*\"markov\" + 0.007*\"observable\" + 0.006*\"decision\" + 0.006*\"reinforcement\"\n",
      "2017-11-20 21:26:23,955 : INFO : topic #3 (0.100): 0.008*\"image\" + 0.007*\"analog\" + 0.005*\"noise\" + 0.005*\"training\" + 0.004*\"signal\" + 0.004*\"cell\" + 0.003*\"search\" + 0.003*\"chip\" + 0.003*\"threshold\" + 0.003*\"visual\"\n",
      "2017-11-20 21:26:23,957 : INFO : topic #5 (0.100): 0.009*\"state\" + 0.007*\"dynamic\" + 0.006*\"bound\" + 0.006*\"training\" + 0.006*\"field\" + 0.005*\"approximation\" + 0.005*\"gaussian\" + 0.005*\"dynamical\" + 0.004*\"theory\" + 0.004*\"replica\"\n",
      "2017-11-20 21:26:23,959 : INFO : topic diff=0.930968, rho=0.577350\n",
      "2017-11-20 21:26:24,120 : INFO : -8.544 per-word bound, 373.2 perplexity estimate based on a held-out corpus of 1 documents with 1004 words\n",
      "2017-11-20 21:26:24,121 : INFO : PROGRESS: pass 0, at document #151/151\n",
      "2017-11-20 21:26:24,135 : INFO : merging changes from 1 documents into a model of 151 documents\n",
      "2017-11-20 21:26:24,314 : INFO : topic #8 (0.100): 0.006*\"state\" + 0.004*\"goal\" + 0.003*\"visual\" + 0.003*\"local\" + 0.003*\"&\" + 0.003*\"search\" + 0.003*\"centroid\" + 0.003*\"cell\" + 0.003*\"action\" + 0.002*\"task\"\n",
      "2017-11-20 21:26:24,315 : INFO : topic #3 (0.100): 0.007*\"training\" + 0.007*\"image\" + 0.006*\"analog\" + 0.005*\"noise\" + 0.004*\"classification\" + 0.004*\"excessive\" + 0.003*\"signal\" + 0.003*\"search\" + 0.003*\"cell\" + 0.003*\"chip\"\n",
      "2017-11-20 21:26:24,316 : INFO : topic #5 (0.100): 0.009*\"state\" + 0.007*\"dynamic\" + 0.006*\"bound\" + 0.006*\"training\" + 0.006*\"field\" + 0.005*\"approximation\" + 0.005*\"gaussian\" + 0.004*\"dynamical\" + 0.004*\"theory\" + 0.004*\"replica\"\n",
      "2017-11-20 21:26:24,318 : INFO : topic #7 (0.100): 0.028*\"working\" + 0.020*\"[19]\" + 0.010*\"[20]\" + 0.009*\"[18]\" + 0.009*\"[21]\" + 0.008*\"image\" + 0.006*\"subject\" + 0.006*\"field\" + 0.006*\"visual\" + 0.005*\"direction\"\n",
      "2017-11-20 21:26:24,321 : INFO : topic #2 (0.100): 0.014*\"control\" + 0.009*\"controller\" + 0.009*\"motor\" + 0.008*\"movement\" + 0.007*\"inverse\" + 0.006*\"arm\" + 0.006*\"forward\" + 0.006*\"position\" + 0.005*\"feedback\" + 0.005*\"visual\"\n",
      "2017-11-20 21:26:24,322 : INFO : topic diff=0.829243, rho=0.500000\n",
      "2017-11-20 21:26:24,324 : INFO : PROGRESS: pass 1, at document #50/151\n",
      "2017-11-20 21:26:24,654 : INFO : merging changes from 50 documents into a model of 151 documents\n",
      "2017-11-20 21:26:24,842 : INFO : topic #5 (0.100): 0.012*\"state\" + 0.008*\"gaussian\" + 0.008*\"approximation\" + 0.007*\"dynamic\" + 0.007*\"prior\" + 0.006*\"field\" + 0.006*\"p\" + 0.004*\"prediction\" + 0.004*\"posterior\" + 0.004*\"continuous\"\n",
      "2017-11-20 21:26:24,847 : INFO : topic #1 (0.100): 0.030*\"policy\" + 0.029*\"state\" + 0.017*\"action\" + 0.014*\"reinforcement\" + 0.011*\"agent\" + 0.011*\"reward\" + 0.009*\"&\" + 0.008*\"call\" + 0.008*\"markov\" + 0.008*\"q-learning\"\n",
      "2017-11-20 21:26:24,851 : INFO : topic #7 (0.100): 0.014*\"working\" + 0.012*\"population\" + 0.012*\"image\" + 0.010*\"scene\" + 0.009*\"[19]\" + 0.009*\"motion\" + 0.007*\"direction\" + 0.007*\"response\" + 0.007*\"visual\" + 0.006*\"field\"\n",
      "2017-11-20 21:26:24,855 : INFO : topic #3 (0.100): 0.010*\"image\" + 0.006*\"noise\" + 0.005*\"local\" + 0.004*\"positive\" + 0.004*\"training\" + 0.004*\"signal\" + 0.004*\"digit\" + 0.004*\"correlation\" + 0.003*\"sensor\" + 0.003*\"filter\"\n",
      "2017-11-20 21:26:24,857 : INFO : topic #9 (0.100): 0.013*\"working\" + 0.010*\"risk\" + 0.009*\"training\" + 0.007*\"class\" + 0.007*\"machine\" + 0.006*\"support\" + 0.005*\"mixture\" + 0.005*\"separation\" + 0.004*\"report\" + 0.004*\"generalization\"\n",
      "2017-11-20 21:26:24,863 : INFO : topic diff=0.959450, rho=0.447214\n",
      "2017-11-20 21:26:24,864 : INFO : PROGRESS: pass 1, at document #100/151\n",
      "2017-11-20 21:26:25,041 : INFO : merging changes from 50 documents into a model of 151 documents\n",
      "2017-11-20 21:26:25,144 : INFO : topic #7 (0.100): 0.014*\"motion\" + 0.012*\"direction\" + 0.011*\"image\" + 0.010*\"field\" + 0.009*\"code\" + 0.008*\"scene\" + 0.008*\"visual\" + 0.008*\"flow\" + 0.008*\"subject\" + 0.007*\"population\"\n",
      "2017-11-20 21:26:25,145 : INFO : topic #5 (0.100): 0.011*\"state\" + 0.009*\"gaussian\" + 0.007*\"field\" + 0.006*\"prior\" + 0.006*\"bound\" + 0.006*\"approximation\" + 0.005*\"dynamic\" + 0.005*\"training\" + 0.004*\"bayesian\" + 0.004*\"z\"\n",
      "2017-11-20 21:26:25,146 : INFO : topic #9 (0.100): 0.009*\"training\" + 0.008*\"working\" + 0.006*\"class\" + 0.006*\"risk\" + 0.006*\"kernel\" + 0.005*\"mixture\" + 0.005*\"bound\" + 0.004*\"machine\" + 0.004*\"component\" + 0.004*\"data.\"\n"
     ]
    },
    {
     "name": "stderr",
     "output_type": "stream",
     "text": [
      "2017-11-20 21:26:25,147 : INFO : topic #1 (0.100): 0.032*\"state\" + 0.022*\"policy\" + 0.018*\"action\" + 0.016*\"reinforcement\" + 0.011*\"reward\" + 0.009*\"agent\" + 0.009*\"goal\" + 0.008*\"rl\" + 0.008*\"call\" + 0.008*\"&\"\n",
      "2017-11-20 21:26:25,149 : INFO : topic #3 (0.100): 0.009*\"image\" + 0.006*\"noise\" + 0.005*\"signal\" + 0.004*\"local\" + 0.004*\"training\" + 0.003*\"chip\" + 0.003*\"positive\" + 0.003*\"analog\" + 0.003*\"classification\" + 0.003*\"table\"\n",
      "2017-11-20 21:26:25,150 : INFO : topic diff=0.748878, rho=0.447214\n",
      "2017-11-20 21:26:25,151 : INFO : PROGRESS: pass 1, at document #150/151\n",
      "2017-11-20 21:26:25,322 : INFO : merging changes from 50 documents into a model of 151 documents\n",
      "2017-11-20 21:26:25,432 : INFO : topic #3 (0.100): 0.010*\"image\" + 0.005*\"noise\" + 0.004*\"local\" + 0.004*\"signal\" + 0.003*\"threshold\" + 0.003*\"analog\" + 0.003*\"positive\" + 0.003*\"face\" + 0.003*\"search\" + 0.003*\"object\"\n",
      "2017-11-20 21:26:25,434 : INFO : topic #6 (0.100): 0.008*\"24\" + 0.005*\"42\" + 0.004*\"64\" + 0.004*\"32\" + 0.003*\"anderson\" + 0.003*\"49\" + 0.003*\"36\" + 0.002*\"human\" + 0.002*\"8\" + 0.002*\"56\"\n",
      "2017-11-20 21:26:25,435 : INFO : topic #8 (0.100): 0.023*\"centroid\" + 0.013*\"hmm\" + 0.010*\"real-time\" + 0.009*\"behavior\" + 0.006*\"state\" + 0.005*\"utility\" + 0.004*\"edge\" + 0.004*\"traffic\" + 0.004*\"hmms\" + 0.004*\"goal\"\n",
      "2017-11-20 21:26:25,437 : INFO : topic #9 (0.100): 0.006*\"training\" + 0.006*\"bound\" + 0.005*\"class\" + 0.005*\"mixture\" + 0.005*\"kernel\" + 0.004*\"gaussian\" + 0.004*\"working\" + 0.004*\"component\" + 0.004*\"w\" + 0.003*\"basis\"\n",
      "2017-11-20 21:26:25,439 : INFO : topic #0 (0.100): 0.022*\"training\" + 0.018*\"support\" + 0.013*\"machine\" + 0.010*\"class\" + 0.009*\"working\" + 0.007*\"classification\" + 0.007*\"programming\" + 0.005*\"generalization\" + 0.005*\"r\" + 0.005*\"minimization\"\n",
      "2017-11-20 21:26:25,441 : INFO : topic diff=0.661249, rho=0.447214\n",
      "2017-11-20 21:26:25,532 : INFO : -6.847 per-word bound, 115.1 perplexity estimate based on a held-out corpus of 1 documents with 1004 words\n",
      "2017-11-20 21:26:25,533 : INFO : PROGRESS: pass 1, at document #151/151\n",
      "2017-11-20 21:26:25,541 : INFO : merging changes from 1 documents into a model of 151 documents\n",
      "2017-11-20 21:26:25,653 : INFO : topic #4 (0.100): 0.014*\"synaptic\" + 0.014*\"neuron\" + 0.013*\"cell\" + 0.011*\"spike\" + 0.010*\"&\" + 0.009*\"firing\" + 0.008*\"response\" + 0.007*\"visual\" + 0.006*\"rate\" + 0.006*\"potential\"\n",
      "2017-11-20 21:26:25,654 : INFO : topic #5 (0.100): 0.010*\"state\" + 0.009*\"gaussian\" + 0.009*\"approximation\" + 0.008*\"field\" + 0.008*\"bound\" + 0.007*\"dynamic\" + 0.006*\"prior\" + 0.005*\"<\" + 0.005*\"approximate\" + 0.004*\"p\"\n",
      "2017-11-20 21:26:25,656 : INFO : topic #6 (0.100): 0.005*\"24\" + 0.003*\"42\" + 0.003*\"64\" + 0.003*\"32\" + 0.002*\"anderson\" + 0.002*\"49\" + 0.002*\"36\" + 0.002*\"human\" + 0.001*\"8\" + 0.001*\"56\"\n",
      "2017-11-20 21:26:25,657 : INFO : topic #7 (0.100): 0.028*\"[19]\" + 0.014*\"[20]\" + 0.014*\"[18]\" + 0.014*\"[21]\" + 0.012*\"image\" + 0.010*\"direction\" + 0.009*\"visual\" + 0.008*\"field\" + 0.008*\"motion\" + 0.008*\"subject\"\n",
      "2017-11-20 21:26:25,659 : INFO : topic #1 (0.100): 0.031*\"state\" + 0.026*\"policy\" + 0.018*\"action\" + 0.012*\"reinforcement\" + 0.011*\"agent\" + 0.011*\"reward\" + 0.009*\"markov\" + 0.009*\"rule\" + 0.008*\"goal\" + 0.008*\"environment\"\n",
      "2017-11-20 21:26:25,660 : INFO : topic diff=0.581420, rho=0.447214\n"
     ]
    },
    {
     "name": "stdout",
     "output_type": "stream",
     "text": [
      "Evaluation time: 0.0555105487506\n",
      "Perplexity: 2209.30254877\n"
     ]
    }
   ],
   "source": [
    "start = time()\n",
    "model3 = models.ldamodel.LdaModel(corpus, id2word=dictionary, num_topics=10, chunksize=50, update_every=1, passes=2)\n",
    "print 'Evaluation time: {}'.format((time()-start) / 60)\n",
    "print 'Perplexity: {}'.format(perplexity(model3, corpus))"
   ]
  },
  {
   "cell_type": "code",
   "execution_count": 14,
   "metadata": {},
   "outputs": [
    {
     "name": "stdout",
     "output_type": "stream",
     "text": [
      "[(u'support', 0.029594530878726873), (u'working', 0.028824752811899751), (u'training', 0.027516832356565924), (u'machine', 0.021043665306824198), (u'risk', 0.013302220106854666), (u'class', 0.012630401324539856), (u'programming', 0.012238905652198663), (u'minimization', 0.0094320478359836112), (u'generalization', 0.0094017053733239861), (u'report', 0.009215761728858898)]\n",
      "\n",
      "\n",
      "[(u'image', 0.010090392053099801), (u'noise', 0.0046954181204268974), (u'local', 0.0039500088225083597), (u'signal', 0.0037404104351476393), (u'threshold', 0.0033781726334125867), (u'analog', 0.0032772846987465659), (u'positive', 0.0029807202894130591), (u'face', 0.002883885140207345), (u'search', 0.0028752837119423707), (u'object', 0.0028203075582538756)]\n",
      "\n",
      "\n",
      "[(u'state', 0.01045846117756415), (u'gaussian', 0.009328695143350902), (u'approximation', 0.0088967206012617647), (u'field', 0.0080576052730342573), (u'bound', 0.0076814415549904379), (u'dynamic', 0.0067732571423206123), (u'prior', 0.0060379594504235742), (u'<', 0.0049668532336510623), (u'approximate', 0.0046865197369878493), (u'p', 0.004441916511274166)]\n",
      "\n",
      "\n",
      "[(u'24', 0.0050961195521310697), (u'42', 0.0033779547353989495), (u'64', 0.0027822998062662268), (u'32', 0.0026369064739531051), (u'anderson', 0.0017292322872529944), (u'49', 0.0016682489463024598), (u'36', 0.0016437099466024344), (u'human', 0.0015363751235594198), (u'8', 0.0014276802043636677), (u'56', 0.0012515908922609254)]\n",
      "\n",
      "\n",
      "[(u'[19]', 0.027933105677298977), (u'[20]', 0.014157259944852195), (u'[18]', 0.013987975301298208), (u'[21]', 0.013765767915714275), (u'image', 0.012184307073574733), (u'direction', 0.0095769356326792215), (u'visual', 0.0089375876072701442), (u'field', 0.0082523725882935779), (u'motion', 0.0078297616933250356), (u'subject', 0.0078040042766423633)]\n",
      "\n",
      "\n",
      "[(u'centroid', 0.0166159420061835), (u'hmm', 0.0093036286809894536), (u'real-time', 0.0076914361314824103), (u'behavior', 0.0065849733143975653), (u'state', 0.0047414620208485365), (u'utility', 0.0033789228526008323), (u'edge', 0.0032536774792371864), (u'traffic', 0.0032106540523451563), (u'hmms', 0.0031335046879144416), (u'goal', 0.0030683948594422039)]\n",
      "\n",
      "\n",
      "[(u'training', 0.0062428165257174973), (u'bound', 0.0060933377503196535), (u'class', 0.0055231178476598721), (u'mixture', 0.0051298654463248312), (u'kernel', 0.0045839615705869242), (u'working', 0.0043745309558141758), (u'w', 0.0039376071928261952), (u'risk', 0.003756400183336667), (u'gaussian', 0.0037525628050480292), (u'component', 0.003692970586852909)]\n",
      "\n",
      "\n",
      "\n",
      "[(u'support', 0.029594530878726873), (u'working', 0.028824752811899751), (u'training', 0.027516832356565924), (u'machine', 0.021043665306824198), (u'risk', 0.013302220106854666), (u'class', 0.012630401324539856), (u'programming', 0.012238905652198663), (u'minimization', 0.0094320478359836112), (u'generalization', 0.0094017053733239861), (u'report', 0.009215761728858898)]\n",
      "\n",
      "\n",
      "[(u'image', 0.010090392053099801), (u'noise', 0.0046954181204268974), (u'local', 0.0039500088225083597), (u'signal', 0.0037404104351476393), (u'threshold', 0.0033781726334125867), (u'analog', 0.0032772846987465659), (u'positive', 0.0029807202894130591), (u'face', 0.002883885140207345), (u'search', 0.0028752837119423707), (u'object', 0.0028203075582538756)]\n",
      "\n",
      "\n",
      "[(u'state', 0.01045846117756415), (u'gaussian', 0.009328695143350902), (u'approximation', 0.0088967206012617647), (u'field', 0.0080576052730342573), (u'bound', 0.0076814415549904379), (u'dynamic', 0.0067732571423206123), (u'prior', 0.0060379594504235742), (u'<', 0.0049668532336510623), (u'approximate', 0.0046865197369878493), (u'p', 0.004441916511274166)]\n",
      "\n",
      "\n",
      "[(u'24', 0.0050961195521310697), (u'42', 0.0033779547353989495), (u'64', 0.0027822998062662268), (u'32', 0.0026369064739531051), (u'anderson', 0.0017292322872529944), (u'49', 0.0016682489463024598), (u'36', 0.0016437099466024344), (u'human', 0.0015363751235594198), (u'8', 0.0014276802043636677), (u'56', 0.0012515908922609254)]\n",
      "\n",
      "\n",
      "[(u'[19]', 0.027933105677298977), (u'[20]', 0.014157259944852195), (u'[18]', 0.013987975301298208), (u'[21]', 0.013765767915714275), (u'image', 0.012184307073574733), (u'direction', 0.0095769356326792215), (u'visual', 0.0089375876072701442), (u'field', 0.0082523725882935779), (u'motion', 0.0078297616933250356), (u'subject', 0.0078040042766423633)]\n",
      "\n",
      "\n",
      "[(u'centroid', 0.0166159420061835), (u'hmm', 0.0093036286809894536), (u'real-time', 0.0076914361314824103), (u'behavior', 0.0065849733143975653), (u'state', 0.0047414620208485365), (u'utility', 0.0033789228526008323), (u'edge', 0.0032536774792371864), (u'traffic', 0.0032106540523451563), (u'hmms', 0.0031335046879144416), (u'goal', 0.0030683948594422039)]\n",
      "\n",
      "\n",
      "[(u'training', 0.0062428165257174973), (u'bound', 0.0060933377503196535), (u'class', 0.0055231178476598721), (u'mixture', 0.0051298654463248312), (u'kernel', 0.0045839615705869242), (u'working', 0.0043745309558141758), (u'w', 0.0039376071928261952), (u'risk', 0.003756400183336667), (u'gaussian', 0.0037525628050480292), (u'component', 0.003692970586852909)]\n",
      "\n",
      "\n",
      "\n",
      "[(u'support', 0.029594530878726873), (u'working', 0.028824752811899751), (u'training', 0.027516832356565924), (u'machine', 0.021043665306824198), (u'risk', 0.013302220106854666), (u'class', 0.012630401324539856), (u'programming', 0.012238905652198663), (u'minimization', 0.0094320478359836112), (u'generalization', 0.0094017053733239861), (u'report', 0.009215761728858898)]\n",
      "\n",
      "\n",
      "[(u'image', 0.010090392053099801), (u'noise', 0.0046954181204268974), (u'local', 0.0039500088225083597), (u'signal', 0.0037404104351476393), (u'threshold', 0.0033781726334125867), (u'analog', 0.0032772846987465659), (u'positive', 0.0029807202894130591), (u'face', 0.002883885140207345), (u'search', 0.0028752837119423707), (u'object', 0.0028203075582538756)]\n",
      "\n",
      "\n",
      "[(u'state', 0.01045846117756415), (u'gaussian', 0.009328695143350902), (u'approximation', 0.0088967206012617647), (u'field', 0.0080576052730342573), (u'bound', 0.0076814415549904379), (u'dynamic', 0.0067732571423206123), (u'prior', 0.0060379594504235742), (u'<', 0.0049668532336510623), (u'approximate', 0.0046865197369878493), (u'p', 0.004441916511274166)]\n",
      "\n",
      "\n",
      "[(u'24', 0.0050961195521310697), (u'42', 0.0033779547353989495), (u'64', 0.0027822998062662268), (u'32', 0.0026369064739531051), (u'anderson', 0.0017292322872529944), (u'49', 0.0016682489463024598), (u'36', 0.0016437099466024344), (u'human', 0.0015363751235594198), (u'8', 0.0014276802043636677), (u'56', 0.0012515908922609254)]\n",
      "\n",
      "\n",
      "[(u'[19]', 0.027933105677298977), (u'[20]', 0.014157259944852195), (u'[18]', 0.013987975301298208), (u'[21]', 0.013765767915714275), (u'image', 0.012184307073574733), (u'direction', 0.0095769356326792215), (u'visual', 0.0089375876072701442), (u'field', 0.0082523725882935779), (u'motion', 0.0078297616933250356), (u'subject', 0.0078040042766423633)]\n",
      "\n",
      "\n",
      "[(u'centroid', 0.0166159420061835), (u'hmm', 0.0093036286809894536), (u'real-time', 0.0076914361314824103), (u'behavior', 0.0065849733143975653), (u'state', 0.0047414620208485365), (u'utility', 0.0033789228526008323), (u'edge', 0.0032536774792371864), (u'traffic', 0.0032106540523451563), (u'hmms', 0.0031335046879144416), (u'goal', 0.0030683948594422039)]\n",
      "\n",
      "\n",
      "[(u'training', 0.0062428165257174973), (u'bound', 0.0060933377503196535), (u'class', 0.0055231178476598721), (u'mixture', 0.0051298654463248312), (u'kernel', 0.0045839615705869242), (u'working', 0.0043745309558141758), (u'w', 0.0039376071928261952), (u'risk', 0.003756400183336667), (u'gaussian', 0.0037525628050480292), (u'component', 0.003692970586852909)]\n",
      "\n",
      "\n",
      "\n",
      "[(u'support', 0.029594530878726873), (u'working', 0.028824752811899751), (u'training', 0.027516832356565924), (u'machine', 0.021043665306824198), (u'risk', 0.013302220106854666), (u'class', 0.012630401324539856), (u'programming', 0.012238905652198663), (u'minimization', 0.0094320478359836112), (u'generalization', 0.0094017053733239861), (u'report', 0.009215761728858898)]\n",
      "\n",
      "\n",
      "[(u'image', 0.010090392053099801), (u'noise', 0.0046954181204268974), (u'local', 0.0039500088225083597), (u'signal', 0.0037404104351476393), (u'threshold', 0.0033781726334125867), (u'analog', 0.0032772846987465659), (u'positive', 0.0029807202894130591), (u'face', 0.002883885140207345), (u'search', 0.0028752837119423707), (u'object', 0.0028203075582538756)]\n",
      "\n",
      "\n",
      "[(u'state', 0.01045846117756415), (u'gaussian', 0.009328695143350902), (u'approximation', 0.0088967206012617647), (u'field', 0.0080576052730342573), (u'bound', 0.0076814415549904379), (u'dynamic', 0.0067732571423206123), (u'prior', 0.0060379594504235742), (u'<', 0.0049668532336510623), (u'approximate', 0.0046865197369878493), (u'p', 0.004441916511274166)]\n",
      "\n",
      "\n",
      "[(u'24', 0.0050961195521310697), (u'42', 0.0033779547353989495), (u'64', 0.0027822998062662268), (u'32', 0.0026369064739531051), (u'anderson', 0.0017292322872529944), (u'49', 0.0016682489463024598), (u'36', 0.0016437099466024344), (u'human', 0.0015363751235594198), (u'8', 0.0014276802043636677), (u'56', 0.0012515908922609254)]\n",
      "\n",
      "\n",
      "[(u'[19]', 0.027933105677298977), (u'[20]', 0.014157259944852195), (u'[18]', 0.013987975301298208), (u'[21]', 0.013765767915714275), (u'image', 0.012184307073574733), (u'direction', 0.0095769356326792215), (u'visual', 0.0089375876072701442), (u'field', 0.0082523725882935779), (u'motion', 0.0078297616933250356), (u'subject', 0.0078040042766423633)]\n",
      "\n",
      "\n",
      "[(u'centroid', 0.0166159420061835), (u'hmm', 0.0093036286809894536), (u'real-time', 0.0076914361314824103), (u'behavior', 0.0065849733143975653), (u'state', 0.0047414620208485365), (u'utility', 0.0033789228526008323), (u'edge', 0.0032536774792371864), (u'traffic', 0.0032106540523451563), (u'hmms', 0.0031335046879144416), (u'goal', 0.0030683948594422039)]\n",
      "\n",
      "\n",
      "[(u'training', 0.0062428165257174973), (u'bound', 0.0060933377503196535), (u'class', 0.0055231178476598721), (u'mixture', 0.0051298654463248312), (u'kernel', 0.0045839615705869242), (u'working', 0.0043745309558141758), (u'w', 0.0039376071928261952), (u'risk', 0.003756400183336667), (u'gaussian', 0.0037525628050480292), (u'component', 0.003692970586852909)]\n",
      "\n",
      "\n",
      "\n",
      "[(u'support', 0.029594530878726873), (u'working', 0.028824752811899751), (u'training', 0.027516832356565924), (u'machine', 0.021043665306824198), (u'risk', 0.013302220106854666), (u'class', 0.012630401324539856), (u'programming', 0.012238905652198663), (u'minimization', 0.0094320478359836112), (u'generalization', 0.0094017053733239861), (u'report', 0.009215761728858898)]\n",
      "\n",
      "\n",
      "[(u'image', 0.010090392053099801), (u'noise', 0.0046954181204268974), (u'local', 0.0039500088225083597), (u'signal', 0.0037404104351476393), (u'threshold', 0.0033781726334125867), (u'analog', 0.0032772846987465659), (u'positive', 0.0029807202894130591), (u'face', 0.002883885140207345), (u'search', 0.0028752837119423707), (u'object', 0.0028203075582538756)]\n",
      "\n",
      "\n",
      "[(u'state', 0.01045846117756415), (u'gaussian', 0.009328695143350902), (u'approximation', 0.0088967206012617647), (u'field', 0.0080576052730342573), (u'bound', 0.0076814415549904379), (u'dynamic', 0.0067732571423206123), (u'prior', 0.0060379594504235742), (u'<', 0.0049668532336510623), (u'approximate', 0.0046865197369878493), (u'p', 0.004441916511274166)]\n",
      "\n",
      "\n",
      "[(u'24', 0.0050961195521310697), (u'42', 0.0033779547353989495), (u'64', 0.0027822998062662268), (u'32', 0.0026369064739531051), (u'anderson', 0.0017292322872529944), (u'49', 0.0016682489463024598), (u'36', 0.0016437099466024344), (u'human', 0.0015363751235594198), (u'8', 0.0014276802043636677), (u'56', 0.0012515908922609254)]\n",
      "\n",
      "\n",
      "[(u'[19]', 0.027933105677298977), (u'[20]', 0.014157259944852195), (u'[18]', 0.013987975301298208), (u'[21]', 0.013765767915714275), (u'image', 0.012184307073574733), (u'direction', 0.0095769356326792215), (u'visual', 0.0089375876072701442), (u'field', 0.0082523725882935779), (u'motion', 0.0078297616933250356), (u'subject', 0.0078040042766423633)]\n",
      "\n",
      "\n",
      "[(u'centroid', 0.0166159420061835), (u'hmm', 0.0093036286809894536), (u'real-time', 0.0076914361314824103), (u'behavior', 0.0065849733143975653), (u'state', 0.0047414620208485365), (u'utility', 0.0033789228526008323), (u'edge', 0.0032536774792371864), (u'traffic', 0.0032106540523451563), (u'hmms', 0.0031335046879144416), (u'goal', 0.0030683948594422039)]\n",
      "\n",
      "\n",
      "[(u'training', 0.0062428165257174973), (u'bound', 0.0060933377503196535), (u'class', 0.0055231178476598721), (u'mixture', 0.0051298654463248312), (u'kernel', 0.0045839615705869242), (u'working', 0.0043745309558141758), (u'w', 0.0039376071928261952), (u'risk', 0.003756400183336667), (u'gaussian', 0.0037525628050480292), (u'component', 0.003692970586852909)]\n",
      "\n",
      "\n",
      "\n",
      "[(u'support', 0.029594530878726873), (u'working', 0.028824752811899751), (u'training', 0.027516832356565924), (u'machine', 0.021043665306824198), (u'risk', 0.013302220106854666), (u'class', 0.012630401324539856), (u'programming', 0.012238905652198663), (u'minimization', 0.0094320478359836112), (u'generalization', 0.0094017053733239861), (u'report', 0.009215761728858898)]\n",
      "\n",
      "\n",
      "[(u'image', 0.010090392053099801), (u'noise', 0.0046954181204268974), (u'local', 0.0039500088225083597), (u'signal', 0.0037404104351476393), (u'threshold', 0.0033781726334125867), (u'analog', 0.0032772846987465659), (u'positive', 0.0029807202894130591), (u'face', 0.002883885140207345), (u'search', 0.0028752837119423707), (u'object', 0.0028203075582538756)]\n",
      "\n",
      "\n",
      "[(u'state', 0.01045846117756415), (u'gaussian', 0.009328695143350902), (u'approximation', 0.0088967206012617647), (u'field', 0.0080576052730342573), (u'bound', 0.0076814415549904379), (u'dynamic', 0.0067732571423206123), (u'prior', 0.0060379594504235742), (u'<', 0.0049668532336510623), (u'approximate', 0.0046865197369878493), (u'p', 0.004441916511274166)]\n",
      "\n",
      "\n",
      "[(u'24', 0.0050961195521310697), (u'42', 0.0033779547353989495), (u'64', 0.0027822998062662268), (u'32', 0.0026369064739531051), (u'anderson', 0.0017292322872529944), (u'49', 0.0016682489463024598), (u'36', 0.0016437099466024344), (u'human', 0.0015363751235594198), (u'8', 0.0014276802043636677), (u'56', 0.0012515908922609254)]\n",
      "\n",
      "\n",
      "[(u'[19]', 0.027933105677298977), (u'[20]', 0.014157259944852195), (u'[18]', 0.013987975301298208), (u'[21]', 0.013765767915714275), (u'image', 0.012184307073574733), (u'direction', 0.0095769356326792215), (u'visual', 0.0089375876072701442), (u'field', 0.0082523725882935779), (u'motion', 0.0078297616933250356), (u'subject', 0.0078040042766423633)]\n",
      "\n",
      "\n",
      "[(u'centroid', 0.0166159420061835), (u'hmm', 0.0093036286809894536), (u'real-time', 0.0076914361314824103), (u'behavior', 0.0065849733143975653), (u'state', 0.0047414620208485365), (u'utility', 0.0033789228526008323), (u'edge', 0.0032536774792371864), (u'traffic', 0.0032106540523451563), (u'hmms', 0.0031335046879144416), (u'goal', 0.0030683948594422039)]\n",
      "\n",
      "\n",
      "[(u'training', 0.0062428165257174973), (u'bound', 0.0060933377503196535), (u'class', 0.0055231178476598721), (u'mixture', 0.0051298654463248312), (u'kernel', 0.0045839615705869242), (u'working', 0.0043745309558141758), (u'w', 0.0039376071928261952), (u'risk', 0.003756400183336667), (u'gaussian', 0.0037525628050480292), (u'component', 0.003692970586852909)]\n",
      "\n",
      "\n",
      "\n",
      "[(u'support', 0.029594530878726873), (u'working', 0.028824752811899751), (u'training', 0.027516832356565924), (u'machine', 0.021043665306824198), (u'risk', 0.013302220106854666), (u'class', 0.012630401324539856), (u'programming', 0.012238905652198663), (u'minimization', 0.0094320478359836112), (u'generalization', 0.0094017053733239861), (u'report', 0.009215761728858898)]\n",
      "\n",
      "\n",
      "[(u'image', 0.010090392053099801), (u'noise', 0.0046954181204268974), (u'local', 0.0039500088225083597), (u'signal', 0.0037404104351476393), (u'threshold', 0.0033781726334125867), (u'analog', 0.0032772846987465659), (u'positive', 0.0029807202894130591), (u'face', 0.002883885140207345), (u'search', 0.0028752837119423707), (u'object', 0.0028203075582538756)]\n",
      "\n",
      "\n",
      "[(u'state', 0.01045846117756415), (u'gaussian', 0.009328695143350902), (u'approximation', 0.0088967206012617647), (u'field', 0.0080576052730342573), (u'bound', 0.0076814415549904379), (u'dynamic', 0.0067732571423206123), (u'prior', 0.0060379594504235742), (u'<', 0.0049668532336510623), (u'approximate', 0.0046865197369878493), (u'p', 0.004441916511274166)]\n",
      "\n",
      "\n",
      "[(u'24', 0.0050961195521310697), (u'42', 0.0033779547353989495), (u'64', 0.0027822998062662268), (u'32', 0.0026369064739531051), (u'anderson', 0.0017292322872529944), (u'49', 0.0016682489463024598), (u'36', 0.0016437099466024344), (u'human', 0.0015363751235594198), (u'8', 0.0014276802043636677), (u'56', 0.0012515908922609254)]\n",
      "\n",
      "\n",
      "[(u'[19]', 0.027933105677298977), (u'[20]', 0.014157259944852195), (u'[18]', 0.013987975301298208), (u'[21]', 0.013765767915714275), (u'image', 0.012184307073574733), (u'direction', 0.0095769356326792215), (u'visual', 0.0089375876072701442), (u'field', 0.0082523725882935779), (u'motion', 0.0078297616933250356), (u'subject', 0.0078040042766423633)]\n",
      "\n",
      "\n",
      "[(u'centroid', 0.0166159420061835), (u'hmm', 0.0093036286809894536), (u'real-time', 0.0076914361314824103), (u'behavior', 0.0065849733143975653), (u'state', 0.0047414620208485365), (u'utility', 0.0033789228526008323), (u'edge', 0.0032536774792371864), (u'traffic', 0.0032106540523451563), (u'hmms', 0.0031335046879144416), (u'goal', 0.0030683948594422039)]\n",
      "\n",
      "\n",
      "[(u'training', 0.0062428165257174973), (u'bound', 0.0060933377503196535), (u'class', 0.0055231178476598721), (u'mixture', 0.0051298654463248312), (u'kernel', 0.0045839615705869242), (u'working', 0.0043745309558141758), (u'w', 0.0039376071928261952), (u'risk', 0.003756400183336667), (u'gaussian', 0.0037525628050480292), (u'component', 0.003692970586852909)]\n",
      "\n",
      "\n",
      "\n",
      "[(u'support', 0.029594530878726873), (u'working', 0.028824752811899751), (u'training', 0.027516832356565924), (u'machine', 0.021043665306824198), (u'risk', 0.013302220106854666), (u'class', 0.012630401324539856), (u'programming', 0.012238905652198663), (u'minimization', 0.0094320478359836112), (u'generalization', 0.0094017053733239861), (u'report', 0.009215761728858898)]\n",
      "\n",
      "\n",
      "[(u'image', 0.010090392053099801), (u'noise', 0.0046954181204268974), (u'local', 0.0039500088225083597), (u'signal', 0.0037404104351476393), (u'threshold', 0.0033781726334125867), (u'analog', 0.0032772846987465659), (u'positive', 0.0029807202894130591), (u'face', 0.002883885140207345), (u'search', 0.0028752837119423707), (u'object', 0.0028203075582538756)]\n",
      "\n",
      "\n",
      "[(u'state', 0.01045846117756415), (u'gaussian', 0.009328695143350902), (u'approximation', 0.0088967206012617647), (u'field', 0.0080576052730342573), (u'bound', 0.0076814415549904379), (u'dynamic', 0.0067732571423206123), (u'prior', 0.0060379594504235742), (u'<', 0.0049668532336510623), (u'approximate', 0.0046865197369878493), (u'p', 0.004441916511274166)]\n",
      "\n",
      "\n",
      "[(u'24', 0.0050961195521310697), (u'42', 0.0033779547353989495), (u'64', 0.0027822998062662268), (u'32', 0.0026369064739531051), (u'anderson', 0.0017292322872529944), (u'49', 0.0016682489463024598), (u'36', 0.0016437099466024344), (u'human', 0.0015363751235594198), (u'8', 0.0014276802043636677), (u'56', 0.0012515908922609254)]\n",
      "\n",
      "\n",
      "[(u'[19]', 0.027933105677298977), (u'[20]', 0.014157259944852195), (u'[18]', 0.013987975301298208), (u'[21]', 0.013765767915714275), (u'image', 0.012184307073574733), (u'direction', 0.0095769356326792215), (u'visual', 0.0089375876072701442), (u'field', 0.0082523725882935779), (u'motion', 0.0078297616933250356), (u'subject', 0.0078040042766423633)]\n",
      "\n",
      "\n",
      "[(u'centroid', 0.0166159420061835), (u'hmm', 0.0093036286809894536), (u'real-time', 0.0076914361314824103), (u'behavior', 0.0065849733143975653), (u'state', 0.0047414620208485365), (u'utility', 0.0033789228526008323), (u'edge', 0.0032536774792371864), (u'traffic', 0.0032106540523451563), (u'hmms', 0.0031335046879144416), (u'goal', 0.0030683948594422039)]\n",
      "\n",
      "\n",
      "[(u'training', 0.0062428165257174973), (u'bound', 0.0060933377503196535), (u'class', 0.0055231178476598721), (u'mixture', 0.0051298654463248312), (u'kernel', 0.0045839615705869242), (u'working', 0.0043745309558141758), (u'w', 0.0039376071928261952), (u'risk', 0.003756400183336667), (u'gaussian', 0.0037525628050480292), (u'component', 0.003692970586852909)]\n",
      "\n",
      "\n",
      "\n",
      "[(u'support', 0.029594530878726873), (u'working', 0.028824752811899751), (u'training', 0.027516832356565924), (u'machine', 0.021043665306824198), (u'risk', 0.013302220106854666), (u'class', 0.012630401324539856), (u'programming', 0.012238905652198663), (u'minimization', 0.0094320478359836112), (u'generalization', 0.0094017053733239861), (u'report', 0.009215761728858898)]\n",
      "\n",
      "\n",
      "[(u'image', 0.010090392053099801), (u'noise', 0.0046954181204268974), (u'local', 0.0039500088225083597), (u'signal', 0.0037404104351476393), (u'threshold', 0.0033781726334125867), (u'analog', 0.0032772846987465659), (u'positive', 0.0029807202894130591), (u'face', 0.002883885140207345), (u'search', 0.0028752837119423707), (u'object', 0.0028203075582538756)]\n",
      "\n",
      "\n",
      "[(u'state', 0.01045846117756415), (u'gaussian', 0.009328695143350902), (u'approximation', 0.0088967206012617647), (u'field', 0.0080576052730342573), (u'bound', 0.0076814415549904379), (u'dynamic', 0.0067732571423206123), (u'prior', 0.0060379594504235742), (u'<', 0.0049668532336510623), (u'approximate', 0.0046865197369878493), (u'p', 0.004441916511274166)]\n",
      "\n",
      "\n",
      "[(u'24', 0.0050961195521310697), (u'42', 0.0033779547353989495), (u'64', 0.0027822998062662268), (u'32', 0.0026369064739531051), (u'anderson', 0.0017292322872529944), (u'49', 0.0016682489463024598), (u'36', 0.0016437099466024344), (u'human', 0.0015363751235594198), (u'8', 0.0014276802043636677), (u'56', 0.0012515908922609254)]\n",
      "\n",
      "\n",
      "[(u'[19]', 0.027933105677298977), (u'[20]', 0.014157259944852195), (u'[18]', 0.013987975301298208), (u'[21]', 0.013765767915714275), (u'image', 0.012184307073574733), (u'direction', 0.0095769356326792215), (u'visual', 0.0089375876072701442), (u'field', 0.0082523725882935779), (u'motion', 0.0078297616933250356), (u'subject', 0.0078040042766423633)]\n",
      "\n",
      "\n",
      "[(u'centroid', 0.0166159420061835), (u'hmm', 0.0093036286809894536), (u'real-time', 0.0076914361314824103), (u'behavior', 0.0065849733143975653), (u'state', 0.0047414620208485365), (u'utility', 0.0033789228526008323), (u'edge', 0.0032536774792371864), (u'traffic', 0.0032106540523451563), (u'hmms', 0.0031335046879144416), (u'goal', 0.0030683948594422039)]\n",
      "\n",
      "\n",
      "[(u'training', 0.0062428165257174973), (u'bound', 0.0060933377503196535), (u'class', 0.0055231178476598721), (u'mixture', 0.0051298654463248312), (u'kernel', 0.0045839615705869242), (u'working', 0.0043745309558141758), (u'w', 0.0039376071928261952), (u'risk', 0.003756400183336667), (u'gaussian', 0.0037525628050480292), (u'component', 0.003692970586852909)]\n",
      "\n",
      "\n",
      "\n",
      "[(u'support', 0.029594530878726873), (u'working', 0.028824752811899751), (u'training', 0.027516832356565924), (u'machine', 0.021043665306824198), (u'risk', 0.013302220106854666), (u'class', 0.012630401324539856), (u'programming', 0.012238905652198663), (u'minimization', 0.0094320478359836112), (u'generalization', 0.0094017053733239861), (u'report', 0.009215761728858898)]\n",
      "\n",
      "\n",
      "[(u'image', 0.010090392053099801), (u'noise', 0.0046954181204268974), (u'local', 0.0039500088225083597), (u'signal', 0.0037404104351476393), (u'threshold', 0.0033781726334125867), (u'analog', 0.0032772846987465659), (u'positive', 0.0029807202894130591), (u'face', 0.002883885140207345), (u'search', 0.0028752837119423707), (u'object', 0.0028203075582538756)]\n",
      "\n",
      "\n",
      "[(u'state', 0.01045846117756415), (u'gaussian', 0.009328695143350902), (u'approximation', 0.0088967206012617647), (u'field', 0.0080576052730342573), (u'bound', 0.0076814415549904379), (u'dynamic', 0.0067732571423206123), (u'prior', 0.0060379594504235742), (u'<', 0.0049668532336510623), (u'approximate', 0.0046865197369878493), (u'p', 0.004441916511274166)]\n",
      "\n",
      "\n",
      "[(u'24', 0.0050961195521310697), (u'42', 0.0033779547353989495), (u'64', 0.0027822998062662268), (u'32', 0.0026369064739531051), (u'anderson', 0.0017292322872529944), (u'49', 0.0016682489463024598), (u'36', 0.0016437099466024344), (u'human', 0.0015363751235594198), (u'8', 0.0014276802043636677), (u'56', 0.0012515908922609254)]\n",
      "\n",
      "\n",
      "[(u'[19]', 0.027933105677298977), (u'[20]', 0.014157259944852195), (u'[18]', 0.013987975301298208), (u'[21]', 0.013765767915714275), (u'image', 0.012184307073574733), (u'direction', 0.0095769356326792215), (u'visual', 0.0089375876072701442), (u'field', 0.0082523725882935779), (u'motion', 0.0078297616933250356), (u'subject', 0.0078040042766423633)]\n",
      "\n",
      "\n",
      "[(u'centroid', 0.0166159420061835), (u'hmm', 0.0093036286809894536), (u'real-time', 0.0076914361314824103), (u'behavior', 0.0065849733143975653), (u'state', 0.0047414620208485365), (u'utility', 0.0033789228526008323), (u'edge', 0.0032536774792371864), (u'traffic', 0.0032106540523451563), (u'hmms', 0.0031335046879144416), (u'goal', 0.0030683948594422039)]\n",
      "\n",
      "\n",
      "[(u'training', 0.0062428165257174973), (u'bound', 0.0060933377503196535), (u'class', 0.0055231178476598721), (u'mixture', 0.0051298654463248312), (u'kernel', 0.0045839615705869242), (u'working', 0.0043745309558141758), (u'w', 0.0039376071928261952), (u'risk', 0.003756400183336667), (u'gaussian', 0.0037525628050480292), (u'component', 0.003692970586852909)]\n",
      "\n",
      "\n",
      "\n"
     ]
    }
   ],
   "source": [
    "for position in range(10):\n",
    "    for topic in [0, 3, 5, 6, 7, 8, 9]:\n",
    "        print model3.show_topic(topic)\n",
    "        print('')\n",
    "        print('')\n",
    "    print"
   ]
  },
  {
   "cell_type": "markdown",
   "metadata": {},
   "source": [
    "Перплексия заметно ухудшилась. При этом визуально темы стали более интепретируемыми. Перплексия не отражает интерпретируемость модели!"
   ]
  },
  {
   "cell_type": "markdown",
   "metadata": {},
   "source": [
    "## \"Ручная\" обработка текстов"
   ]
  },
  {
   "cell_type": "code",
   "execution_count": 15,
   "metadata": {
    "collapsed": true
   },
   "outputs": [],
   "source": [
    "import os\n",
    "try:\n",
    "    nltk.data.find('tokenizers/punkt')\n",
    "except LookupError:\n",
    "    nltk.download('punkt')\n",
    "from nltk import tokenize"
   ]
  },
  {
   "cell_type": "code",
   "execution_count": 16,
   "metadata": {
    "collapsed": true
   },
   "outputs": [],
   "source": [
    "import re\n",
    "import pandas "
   ]
  },
  {
   "cell_type": "markdown",
   "metadata": {},
   "source": [
    "Если есть какие-то знания о формате текста и желание использовать (или удалить?) метаданные, имеет смысл писать \"ручную\" обработку с использованием регулярных выражений. \n",
    "\n",
    "Пример такой обработки приведен ниже:"
   ]
  },
  {
   "cell_type": "code",
   "execution_count": 17,
   "metadata": {
    "collapsed": true
   },
   "outputs": [],
   "source": [
    "def CleanAndSplitText(textDataFrame):\n",
    "\n",
    "    textDataOut = [] \n",
    "   \n",
    "    # This regular expression is for section headers in the bill summaries that we wish to ignore\n",
    "    reHeaders = re.compile(r\" *TABLE OF CONTENTS:? *\"\n",
    "                           \"| *Title [IVXLC]+:? *\"\n",
    "                           \"| *Subtitle [A-Z]+:? *\"\n",
    "                           \"| *\\(Sec\\. \\d+\\) *\")\n",
    "\n",
    "    # This regular expression is for punctuation that we wish to clean out\n",
    "    # We also will split sentences into smaller phrase like units using this expression\n",
    "    rePhraseBreaks = re.compile(\"[\\\"\\!\\?\\)\\]\\}\\,\\:\\;\\*\\-]*\\s+\\([0-9]+\\)\\s+[\\(\\[\\{\\\"\\*\\-]*\"                             \n",
    "                                \"|[\\\"\\!\\?\\)\\]\\}\\,\\:\\;\\*\\-]+\\s+[\\(\\[\\{\\\"\\*\\-]*\"\n",
    "                                \"|\\.\\.+\"\n",
    "                                \"|\\s*\\-\\-+\\s*\"\n",
    "                                \"|\\s+\\-\\s+\"\n",
    "                                \"|\\:\\:+\"\n",
    "                                \"|\\s+[\\/\\(\\[\\{\\\"\\-\\*]+\\s*\"\n",
    "                                \"|[\\,!\\?\\\"\\)\\(\\]\\[\\}\\{\\:\\;\\*](?=[a-zA-Z])\"\n",
    "                                \"|[\\\"\\!\\?\\)\\]\\}\\,\\:\\;]+[\\.]*$\"\n",
    "                             )\n",
    "    \n",
    "    # Regex for underbars\n",
    "    regexUnderbar = re.compile('_')\n",
    "    \n",
    "    # Regex for space\n",
    "    regexSpace = re.compile(' +')\n",
    " \n",
    "    # Regex for sentence final period\n",
    "    regexPeriod = re.compile(\"\\.$\")\n",
    "\n",
    "    # Iterate through each document and do:\n",
    "    #    (1) Split documents into sections based on section headers and remove section headers\n",
    "    #    (2) Split the sections into sentences using NLTK sentence tokenizer\n",
    "    #    (3) Further split sentences into phrasal units based on punctuation and remove punctuation\n",
    "    #    (4) Remove sentence final periods when not part of an abbreviation \n",
    "\n",
    "    for i in range(0, len(frame)):     \n",
    "        # Extract one document from frame\n",
    "        docID = frame['ID'][i]\n",
    "        docText = str(frame['Text'][i])\n",
    "\n",
    "        # Set counter for output line count for this document\n",
    "        lineIndex=0;\n",
    "\n",
    "        # Split document into sections by finding sections headers and splitting on them \n",
    "        sections = reHeaders.split(docText)\n",
    "        \n",
    "        for section in sections:\n",
    "            # Split section into sentence using NLTK tokenizer \n",
    "            sentences = tokenize.sent_tokenize(section)\n",
    "            \n",
    "            for sentence in sentences:\n",
    "                # Split each sentence into phrase level chunks based on punctuation\n",
    "                textSegs = rePhraseBreaks.split(sentence)\n",
    "                numSegs = len(textSegs)\n",
    "                \n",
    "                for j in range(0,numSegs):\n",
    "                    if len(textSegs[j])>0:\n",
    "                        # Convert underbars to spaces \n",
    "                        # Underbars are reserved for building the compound word phrases                   \n",
    "                        textSegs[j] = regexUnderbar.sub(\" \",textSegs[j])\n",
    "                    \n",
    "                        # Split out the words so we can specially handle the last word\n",
    "                        words = regexSpace.split(textSegs[j])\n",
    "                        phraseOut = \"\"\n",
    "                        # If the last word ends in a period then remove the period\n",
    "                        words[-1] = regexPeriod.sub(\"\", words[-1])\n",
    "                        # If the last word is an abbreviation like \"U.S.\"\n",
    "                        # then add the word final period back on\n",
    "                        if \"\\.\" in words[-1]:\n",
    "                            words[-1] += \".\"\n",
    "                        phraseOut = \" \".join(words)  \n",
    "\n",
    "                        textDataOut.append([docID, lineIndex, phraseOut])\n",
    "                        lineIndex += 1\n",
    "                        \n",
    "    # Convert to pandas frame \n",
    "    frameOut = pandas.DataFrame(textDataOut, columns=['DocID', 'DocLine', 'CleanedText'])                      \n",
    "    \n",
    "    return frameOut"
   ]
  },
  {
   "cell_type": "markdown",
   "metadata": {},
   "source": [
    "Еще одна причина воспользоваться \"ручной\" предобработкой - написать что-нибудь \"этакое\" с выделением n-грамм, например. Пример такой обработки можно найти по ссылке: \n",
    "https://docs.microsoft.com/ru-ru/azure/machine-learning/preview/scenario-document-collection-analysis"
   ]
  },
  {
   "cell_type": "markdown",
   "metadata": {},
   "source": [
    "### ARTM"
   ]
  },
  {
   "cell_type": "markdown",
   "metadata": {},
   "source": [
    "**ARTM** - аддитивная регуляризация тематической модели:\n",
    "    \n",
    "Пусть, наряду с правдоподобием, требуется максимизировать ещё $n$ критериев\n",
    "    $R_i(\\Phi,\\Theta)$, $i=1,\\dots,n$ - \n",
    "    **регуляризаторов**.\n",
    "\n",
    "Метод многокритериальной оптимизации - **скаляризация**.\n",
    "\n",
    "**Задача:** максимизировать регуляризованное правдоподобие\n",
    "$$\n",
    "            \\underbrace{\n",
    "                \\sum_{d\\in D} \\sum_{w\\in d} \\!n_{dw} \\ln \\sum_{t\\in T} \\phi_{wt}\\theta_{td}\n",
    "            }_{\\text{log-likelihood~} L(\\Phi,\\Theta)}\n",
    "            {\n",
    "            \\;+\\;\n",
    "            \\underbrace{\n",
    "                \\sum_{i=1}^n \\tau_i R_i(\\Phi,\\Theta)\n",
    "            }_{R(\\Phi,\\Theta)}}\n",
    "            \\to \\max_{\\Phi,\\Theta},\n",
    "$$\n",
    "\n",
    "при ограничениях неотрицательности и нормировки\n",
    "\n",
    "$$\n",
    "            \\phi_{wt}\\geq 0;\\quad\n",
    "            \\sum_{w\\in W} \\phi_{wt}=1;\n",
    "            \\qquad\n",
    "            \\theta_{td}\\geq 0;\\quad\n",
    "            \\sum_{t\\in T} \\theta_{td}=1\n",
    "$$\n",
    "\n",
    "где $\\tau_i>0$ - **коэффициенты регуляризации**.\n"
   ]
  },
  {
   "cell_type": "markdown",
   "metadata": {},
   "source": [
    "## BigARTM"
   ]
  },
  {
   "cell_type": "markdown",
   "metadata": {},
   "source": [
    "http://docs.bigartm.org/en/stable/index.html\n",
    "\n",
    "библиотека для тематического моделирования с открытым кодом   "
   ]
  },
  {
   "cell_type": "markdown",
   "metadata": {},
   "source": [
    "В этом эксперименте для обучения ARTM воспользуемся первыми тремя регуляризаторами. ARTM без регуляризации соответствует PLSA.\n",
    "\n",
    "#### Коллекция:\n",
    "Воспользуемся небольшой коллекцией 'kos', доступной в репозитории UCI https://archive.ics.uci.edu/ml/machine-learning-databases/bag-of-words/. Параметры коллекции следующие:\n",
    "\n",
    "- 3430 документов;\n",
    "- 6906 слов в словаре;\n",
    "- 467714 ненулевых счётчиков в \"мешке слов\"."
   ]
  },
  {
   "cell_type": "code",
   "execution_count": 18,
   "metadata": {},
   "outputs": [
    {
     "name": "stdout",
     "output_type": "stream",
     "text": [
      "0.9.0\n"
     ]
    }
   ],
   "source": [
    "import glob\n",
    "import os\n",
    "import matplotlib.pyplot as plt\n",
    "\n",
    "import artm\n",
    "\n",
    "print artm.version()"
   ]
  },
  {
   "cell_type": "markdown",
   "metadata": {},
   "source": [
    "Прежде всего необходимо подготовить входные данные. BigARTM имеет собственный формат документов для обработки, называемый батчами. В библиотеке присутствуют средства по созданию батчей из файлов в форматах Bag-Of-Words UCI и Vowpal Wabbit (подробности можно найти в http://docs.bigartm.org/en/latest/formats.html).\n",
    "\n",
    "В Python API, по аналогии с алгоритмами из scikit-learn, входные данные представлены одним классом BatchVectorizer. Объект этого класса принимает на вход батчи или файлы UCI / VW и подаётся на вход всем методам. В случае, если входные данные не являются батчами, он создаёт их и сохраняет на диск для последующего быстрого использования.\n",
    "\n",
    "Итак, создадим объект BatchVectorizer:"
   ]
  },
  {
   "cell_type": "code",
   "execution_count": 19,
   "metadata": {
    "collapsed": true
   },
   "outputs": [],
   "source": [
    "batch_vectorizer = None\n",
    "if len(glob.glob(os.path.join('kos', '*.batch'))) < 1:\n",
    "    batch_vectorizer = artm.BatchVectorizer(data_path='', data_format='bow_uci', collection_name='kos', target_folder='kos')\n",
    "else:\n",
    "    batch_vectorizer = artm.BatchVectorizer(data_path='kos', data_format='batches')"
   ]
  },
  {
   "cell_type": "markdown",
   "metadata": {},
   "source": [
    "ARTM &ndash; это класс, представляющий собой Python API BigARTM, и позволяющий использовать практически все возможности библиотеки в стиле scikit-learn. Создадим две тематические модели для нашего эксперимента. Наиболее важным параметром модели является число тем. Опционально можно указать списки регуляризаторов и функционалов качества, которые следует использовать для данной модели. Если этого не сделать, то регуляризаторы и функционалы всегда можно добавить позднее. Обратите внимание, что каждая модель задаёт своё пространство имён для названий регуляризаторов и функционалов качества."
   ]
  },
  {
   "cell_type": "code",
   "execution_count": 21,
   "metadata": {},
   "outputs": [],
   "source": [
    "dictionary = artm.Dictionary()\n",
    "\n",
    "model_plsa = artm.ARTM(topic_names=['topic_{}'.format(i) for i in xrange(15)],\n",
    "                       scores=[artm.PerplexityScore(name='PerplexityScore',\n",
    "                                                    dictionary=dictionary)],\n",
    "                       cache_theta=True)\n",
    "\n",
    "model_artm = artm.ARTM(topic_names=['topic_{}'.format(i) for i in xrange(15)],\n",
    "                       scores=[artm.PerplexityScore(name='PerplexityScore',\n",
    "                                                    dictionary=dictionary)],\n",
    "                       regularizers=[artm.SmoothSparseThetaRegularizer(name='SparseTheta', tau=-0.15)],\n",
    "                       cache_theta=True)"
   ]
  },
  {
   "cell_type": "markdown",
   "metadata": {
    "collapsed": true
   },
   "source": [
    "Следующий шаг — инициализация моделей. Сделаем это по словарю, что означает, что\n",
    "- будет создана матрица $\\Phi$ с именем 'pwt', число строк и столбцов в ней будет взято исходя из числа слов в словаре и заданного в модели числа тем;\n",
    "- эта матрица будет заполнена случайными значениями из диапазона (0, 1) и нормализована.\n",
    "\n",
    "Надо отметить, что этот шаг является опциональным, поскольку модель может быть автоматически инициализирована во время вызовов fit_offline() / fit_online().\n",
    "\n",
    "Словарь &ndash; это объект BigARTM, содержащий информацию о коллекции (словарь коллекции, различные величины и счётчики, связанные со словами). Создать словарь можно на основе папки с батчами. Затем собранный словарь можно сохранять на диск и позже подгрузить вновь."
   ]
  },
  {
   "cell_type": "code",
   "execution_count": 22,
   "metadata": {
    "collapsed": true
   },
   "outputs": [],
   "source": [
    "if not os.path.isfile('kos/dictionary.dict'):\n",
    "    dictionary.gather(data_path=batch_vectorizer.data_path)\n",
    "    dictionary.save(dictionary_path='kos/dictionary.dict')\n",
    "\n",
    "dictionary.load(dictionary_path='kos/dictionary.dict')\n",
    "dictionary.load(dictionary_path='kos/dictionary.dict')"
   ]
  },
  {
   "cell_type": "markdown",
   "metadata": {},
   "source": [
    "Затем словари можно использовать, чтобы инициализировать модель:"
   ]
  },
  {
   "cell_type": "code",
   "execution_count": 23,
   "metadata": {
    "collapsed": true
   },
   "outputs": [],
   "source": [
    "model_plsa.initialize(dictionary=dictionary)\n",
    "model_artm.initialize(dictionary=dictionary)"
   ]
  },
  {
   "cell_type": "markdown",
   "metadata": {},
   "source": [
    "Как уже было сказано, ARTM предоставляет возможность использовать все функционалы качества, имеющиеся в BigARTM. Если функционал подключен к модели, то модель будет сохранять все его значения, полученные на момент каждого обновления матрицы $\\Phi$. Добавим функционалы качества, нужные для нашего эксперимента, которые отсутствовали в конструкторах:"
   ]
  },
  {
   "cell_type": "code",
   "execution_count": 24,
   "metadata": {
    "collapsed": true
   },
   "outputs": [],
   "source": [
    "model_plsa.scores.add(artm.SparsityPhiScore(name='SparsityPhiScore'))\n",
    "model_plsa.scores.add(artm.SparsityThetaScore(name='SparsityThetaScore'))\n",
    "model_plsa.scores.add(artm.TopicKernelScore(name='TopicKernelScore', probability_mass_threshold=0.3))\n",
    "\n",
    "model_artm.scores.add(artm.SparsityPhiScore(name='SparsityPhiScore'))\n",
    "model_artm.scores.add(artm.SparsityThetaScore(name='SparsityThetaScore'))\n",
    "model_artm.scores.add(artm.TopicKernelScore(name='TopicKernelScore', probability_mass_threshold=0.3))"
   ]
  },
  {
   "cell_type": "markdown",
   "metadata": {},
   "source": [
    "Аналогично поступим с регуляризаторами для model_artm (зададим им стартовые коэффициенты регуляризации, которые можно будет позже изменить при необходимости):"
   ]
  },
  {
   "cell_type": "code",
   "execution_count": 25,
   "metadata": {
    "collapsed": true
   },
   "outputs": [],
   "source": [
    "model_artm.regularizers.add(artm.SmoothSparsePhiRegularizer(name='SparsePhi', tau=-0.1))\n",
    "model_artm.regularizers.add(artm.DecorrelatorPhiRegularizer(name='DecorrelatorPhi', tau=1.5e+5))"
   ]
  },
  {
   "cell_type": "markdown",
   "metadata": {},
   "source": [
    "Теперь попробуем обучить модели в оффлайн-режиме (т.е. обновляя Фи раз за проход по коллекции). Инициируем пятнадцать проходов:"
   ]
  },
  {
   "cell_type": "code",
   "execution_count": 26,
   "metadata": {
    "collapsed": true
   },
   "outputs": [],
   "source": [
    "model_plsa.num_document_passes = 1\n",
    "model_artm.num_document_passes = 1\n",
    "\n",
    "model_plsa.fit_offline(batch_vectorizer=batch_vectorizer, num_collection_passes=15)\n",
    "model_artm.fit_offline(batch_vectorizer=batch_vectorizer, num_collection_passes=15)"
   ]
  },
  {
   "cell_type": "markdown",
   "metadata": {},
   "source": [
    "Проверим результаты первой итерации обучения, сравнив финальные значения функционалов, а также графики перплексии (опишем печать в виде функции для возможности повторного использования):"
   ]
  },
  {
   "cell_type": "code",
   "execution_count": 27,
   "metadata": {},
   "outputs": [
    {
     "name": "stdout",
     "output_type": "stream",
     "text": [
      "Sparsity Phi: 0.000 (PLSA) vs. 0.469 (ARTM)\n",
      "Sparsity Theta: 0.000 (PLSA) vs. 0.001 (ARTM)\n",
      "Kernel contrast: 0.466 (PLSA) vs. 0.525 (ARTM)\n",
      "Kernel purity: 0.215 (PLSA) vs. 0.359 (ARTM)\n",
      "Perplexity: 2058.027 (PLSA) vs. 1950.716 (ARTM)\n"
     ]
    },
    {
     "data": {
      "image/png": "[encoded data removed]",
      "text/plain": [
       "<matplotlib.figure.Figure at 0x13317efd0>"
      ]
     },
     "metadata": {},
     "output_type": "display_data"
    }
   ],
   "source": [
    "def print_measures(model_plsa, model_artm):\n",
    "    print 'Sparsity Phi: {0:.3f} (PLSA) vs. {1:.3f} (ARTM)'.format(\n",
    "        model_plsa.score_tracker['SparsityPhiScore'].last_value,\n",
    "        model_artm.score_tracker['SparsityPhiScore'].last_value)\n",
    "\n",
    "    print 'Sparsity Theta: {0:.3f} (PLSA) vs. {1:.3f} (ARTM)'.format(\n",
    "        model_plsa.score_tracker['SparsityThetaScore'].last_value,\n",
    "        model_artm.score_tracker['SparsityThetaScore'].last_value)\n",
    "\n",
    "    print 'Kernel contrast: {0:.3f} (PLSA) vs. {1:.3f} (ARTM)'.format(\n",
    "        model_plsa.score_tracker['TopicKernelScore'].last_average_contrast,\n",
    "        model_artm.score_tracker['TopicKernelScore'].last_average_contrast)\n",
    "\n",
    "    print 'Kernel purity: {0:.3f} (PLSA) vs. {1:.3f} (ARTM)'.format(\n",
    "        model_plsa.score_tracker['TopicKernelScore'].last_average_purity,\n",
    "        model_artm.score_tracker['TopicKernelScore'].last_average_purity)\n",
    "\n",
    "    print 'Perplexity: {0:.3f} (PLSA) vs. {1:.3f} (ARTM)'.format(\n",
    "        model_plsa.score_tracker['PerplexityScore'].last_value,\n",
    "        model_artm.score_tracker['PerplexityScore'].last_value)\n",
    "\n",
    "    plt.plot(xrange(model_plsa.num_phi_updates), model_plsa.score_tracker['PerplexityScore'].value, 'b--',\n",
    "             xrange(model_artm.num_phi_updates), model_artm.score_tracker['PerplexityScore'].value, 'r--', linewidth=2)\n",
    "    plt.xlabel('Iterations count')\n",
    "    plt.ylabel('PLSA perp. (blue), ARTM perp. (red)')\n",
    "    plt.grid(True)\n",
    "    plt.show()\n",
    "    \n",
    "print_measures(model_plsa, model_artm)"
   ]
  },
  {
   "cell_type": "markdown",
   "metadata": {},
   "source": [
    "Видно, что улучшения разреженностей и ядровых характеристик есть, а ухудшение перплексии невелико. Попробуем увеличить по модулю значения коэффициентов регуляризации при регуляризаторах:"
   ]
  },
  {
   "cell_type": "code",
   "execution_count": 28,
   "metadata": {
    "collapsed": true
   },
   "outputs": [],
   "source": [
    "model_artm.regularizers['SparsePhi'].tau = -0.2\n",
    "model_artm.regularizers['SparseTheta'].tau = -0.2\n",
    "model_artm.regularizers['DecorrelatorPhi'].tau = 2.5e+5"
   ]
  },
  {
   "cell_type": "markdown",
   "metadata": {},
   "source": [
    "Кроме того, подключим к каждой из моделей функционал TopTokensScore, который позволит взглянуть на самые вероятные слова в каждой теме:"
   ]
  },
  {
   "cell_type": "code",
   "execution_count": 29,
   "metadata": {
    "collapsed": true
   },
   "outputs": [],
   "source": [
    "model_plsa.scores.add(artm.TopTokensScore(name='TopTokensScore', num_tokens=6))\n",
    "model_artm.scores.add(artm.TopTokensScore(name='TopTokensScore', num_tokens=6))"
   ]
  },
  {
   "cell_type": "markdown",
   "metadata": {},
   "source": [
    "Продолжим обучение моделей, инициировав 25 проходов по коллекции, после чего снова посмотрим на значения функционалов качества:"
   ]
  },
  {
   "cell_type": "code",
   "execution_count": 30,
   "metadata": {
    "collapsed": true
   },
   "outputs": [],
   "source": [
    "model_plsa.fit_offline(batch_vectorizer=batch_vectorizer, num_collection_passes=25)\n",
    "model_artm.fit_offline(batch_vectorizer=batch_vectorizer, num_collection_passes=25)"
   ]
  },
  {
   "cell_type": "code",
   "execution_count": 31,
   "metadata": {},
   "outputs": [
    {
     "name": "stdout",
     "output_type": "stream",
     "text": [
      "Sparsity Phi: 0.093 (PLSA) vs. 0.841 (ARTM)\n",
      "Sparsity Theta: 0.000 (PLSA) vs. 0.023 (ARTM)\n",
      "Kernel contrast: 0.640 (PLSA) vs. 0.739 (ARTM)\n",
      "Kernel purity: 0.674 (PLSA) vs. 0.822 (ARTM)\n",
      "Perplexity: 1619.035 (PLSA) vs. 1644.216 (ARTM)\n"
     ]
    },
    {
     "data": {
      "image/png": "[encoded data removed]",
      "text/plain": [
       "<matplotlib.figure.Figure at 0x1331ce490>"
      ]
     },
     "metadata": {},
     "output_type": "display_data"
    }
   ],
   "source": [
    "print_measures(model_plsa, model_artm)"
   ]
  },
  {
   "cell_type": "markdown",
   "metadata": {},
   "source": [
    "Кроме того, для наглядности построим графики изменения разреженностей матриц по итерациям:"
   ]
  },
  {
   "cell_type": "code",
   "execution_count": 32,
   "metadata": {},
   "outputs": [
    {
     "data": {
      "image/png": "[encoded data removed]",
      "text/plain": [
       "<matplotlib.figure.Figure at 0x133c93450>"
      ]
     },
     "metadata": {},
     "output_type": "display_data"
    },
    {
     "data": {
      "image/png": "[encoded data removed]",
      "text/plain": [
       "<matplotlib.figure.Figure at 0x12e5dc190>"
      ]
     },
     "metadata": {},
     "output_type": "display_data"
    }
   ],
   "source": [
    "plt.plot(xrange(model_plsa.num_phi_updates), model_plsa.score_tracker['SparsityPhiScore'].value, 'b--',\n",
    "                 xrange(model_artm.num_phi_updates), model_artm.score_tracker['SparsityPhiScore'].value, 'r--', linewidth=2)\n",
    "plt.xlabel('Iterations count')\n",
    "plt.ylabel('PLSA Phi sp. (blue), ARTM Phi sp. (red)')\n",
    "plt.grid(True)\n",
    "plt.show()\n",
    "\n",
    "plt.plot(xrange(model_plsa.num_phi_updates), model_plsa.score_tracker['SparsityThetaScore'].value, 'b--',\n",
    "                 xrange(model_artm.num_phi_updates), model_artm.score_tracker['SparsityThetaScore'].value, 'r--', linewidth=2)\n",
    "plt.xlabel('Iterations count')\n",
    "plt.ylabel('PLSA Theta sp. (blue), ARTM Theta sp. (red)')\n",
    "plt.grid(True)\n",
    "plt.show()"
   ]
  },
  {
   "cell_type": "markdown",
   "metadata": {},
   "source": [
    "Кажется, что достигнутых результатов достаточно. Регуляризация позволила добиться улучшения всех характеристик, ухудшив перплексию в пределах разумного. Взглянем на топ-слова слова моделей:"
   ]
  },
  {
   "cell_type": "code",
   "execution_count": 33,
   "metadata": {},
   "outputs": [
    {
     "name": "stdout",
     "output_type": "stream",
     "text": [
      "topic_0:  [u'year', u'tax', u'jobs', u'america', u'president', u'issues']\n",
      "topic_1:  [u'people', u'war', u'service', u'military', u'rights', u'vietnam']\n",
      "topic_2:  [u'november', u'electoral', u'account', u'polls', u'governor', u'contact']\n",
      "topic_3:  [u'republican', u'gop', u'senate', u'senator', u'south', u'conservative']\n",
      "topic_4:  [u'people', u'time', u'country', u'speech', u'talking', u'read']\n",
      "topic_5:  [u'dean', u'democratic', u'edwards', u'primary', u'kerry', u'clark']\n",
      "topic_6:  [u'state', u'party', u'race', u'candidates', u'candidate', u'elections']\n",
      "topic_7:  [u'administration', u'president', u'years', u'bill', u'white', u'cheney']\n",
      "topic_8:  [u'campaign', u'national', u'media', u'local', u'late', u'union']\n",
      "topic_9:  [u'house', u'million', u'money', u'republican', u'committee', u'delay']\n",
      "topic_10:  [u'republicans', u'vote', u'senate', u'election', u'democrats', u'house']\n",
      "topic_11:  [u'iraq', u'war', u'american', u'iraqi', u'military', u'intelligence']\n",
      "topic_12:  [u'kerry', u'poll', u'percent', u'voters', u'polls', u'numbers']\n",
      "topic_13:  [u'news', u'time', u'asked', u'political', u'washington', u'long']\n",
      "topic_14:  [u'bush', u'general', u'bushs', u'kerry', u'oct', u'states']\n"
     ]
    }
   ],
   "source": [
    "for topic_name in model_plsa.topic_names:\n",
    "    print topic_name + ': ',\n",
    "    print model_plsa.score_tracker['TopTokensScore'].last_tokens[topic_name]"
   ]
  },
  {
   "cell_type": "code",
   "execution_count": 34,
   "metadata": {},
   "outputs": [
    {
     "name": "stdout",
     "output_type": "stream",
     "text": [
      "topic_0:  [u'party', u'political', u'issue', u'tax', u'america', u'issues']\n",
      "topic_1:  [u'people', u'military', u'official', u'officials', u'service', u'public']\n",
      "topic_2:  [u'electoral', u'governor', u'account', u'contact', u'ticket', u'experience']\n",
      "topic_3:  [u'gop', u'convention', u'senator', u'debate', u'south', u'sen']\n",
      "topic_4:  [u'country', u'speech', u'bad', u'read', u'end', u'talking']\n",
      "topic_5:  [u'democratic', u'dean', u'john', u'edwards', u'primary', u'clark']\n",
      "topic_6:  [u'percent', u'race', u'candidates', u'candidate', u'win', u'nader']\n",
      "topic_7:  [u'administration', u'years', u'white', u'year', u'bill', u'jobs']\n",
      "topic_8:  [u'campaign', u'national', u'media', u'press', u'local', u'ads']\n",
      "topic_9:  [u'house', u'republican', u'million', u'money', u'elections', u'district']\n",
      "topic_10:  [u'november', u'poll', u'senate', u'republicans', u'vote', u'election']\n",
      "topic_11:  [u'iraq', u'war', u'american', u'iraqi', u'security', u'united']\n",
      "topic_12:  [u'bush', u'kerry', u'general', u'president', u'voters', u'bushs']\n",
      "topic_13:  [u'time', u'news', u'long', u'asked', u'washington', u'political']\n",
      "topic_14:  [u'state', u'states', u'people', u'oct', u'fact', u'ohio']\n"
     ]
    }
   ],
   "source": [
    "for topic_name in model_artm.topic_names:\n",
    "    print topic_name + ': ',\n",
    "    print model_artm.score_tracker['TopTokensScore'].last_tokens[topic_name]"
   ]
  },
  {
   "cell_type": "markdown",
   "metadata": {},
   "source": [
    "Видно, что темы примерно одинаково интерпретируемы, но в модели ARTM они существенно разнообразнее."
   ]
  },
  {
   "cell_type": "markdown",
   "metadata": {},
   "source": [
    "Извлечём матрицу $\\Phi$ в виде pandas.DataFrame и напечатаем её (в случае необходимости, можно извлекать части матрицы с помощью метода ARTM.get_phi()):"
   ]
  },
  {
   "cell_type": "code",
   "execution_count": 36,
   "metadata": {},
   "outputs": [
    {
     "name": "stdout",
     "output_type": "stream",
     "text": [
      "                   topic_0   topic_1   topic_2   topic_3   topic_4   topic_5  \\\n",
      "predebate         0.000000  0.000000  0.000000  0.000000  0.000000  0.000000   \n",
      "barbour           0.000000  0.000000  0.000000  0.000000  0.000000  0.000000   \n",
      "bumblebums        0.000000  0.000000  0.000620  0.000000  0.000000  0.000000   \n",
      "spindizzy         0.000000  0.000000  0.000647  0.000000  0.000000  0.000000   \n",
      "mcentee           0.000000  0.000000  0.000000  0.000000  0.000000  0.000000   \n",
      "aft               0.000000  0.000000  0.000000  0.000000  0.000000  0.000419   \n",
      "postdebate        0.000000  0.000000  0.000000  0.000000  0.000000  0.000000   \n",
      "abrams            0.000000  0.000000  0.000000  0.000000  0.000000  0.000000   \n",
      "bulb              0.000000  0.000000  0.000000  0.000000  0.000000  0.000000   \n",
      "deanclark         0.000000  0.000000  0.000000  0.000000  0.000000  0.000348   \n",
      "amphibians        0.000000  0.000000  0.000000  0.000000  0.000000  0.000000   \n",
      "flypaper          0.000000  0.000000  0.000000  0.000000  0.000000  0.000000   \n",
      "inactive          0.000000  0.000000  0.000000  0.000000  0.000000  0.000000   \n",
      "steinhardt        0.000000  0.000000  0.000000  0.000000  0.000365  0.000000   \n",
      "lightbulb         0.000000  0.000000  0.000000  0.000000  0.000000  0.000000   \n",
      "oceana            0.000000  0.000000  0.000000  0.000000  0.000000  0.000000   \n",
      "dingell           0.000000  0.000000  0.000000  0.000000  0.000000  0.000000   \n",
      "sproul            0.000000  0.000000  0.000000  0.000000  0.000000  0.000000   \n",
      "alzheimers        0.000000  0.000000  0.000000  0.000000  0.000000  0.000000   \n",
      "yucca             0.000000  0.000000  0.000000  0.000000  0.000000  0.000000   \n",
      "timken            0.000000  0.000000  0.000000  0.000000  0.000000  0.000000   \n",
      "russo             0.000000  0.000000  0.000000  0.000000  0.000000  0.000000   \n",
      "leach             0.000000  0.000000  0.000000  0.000000  0.000000  0.000000   \n",
      "ndp               0.000000  0.000000  0.000000  0.000000  0.000000  0.000000   \n",
      "berg              0.000000  0.000000  0.000000  0.000000  0.000000  0.000000   \n",
      "bishops           0.000433  0.000000  0.000000  0.000000  0.000000  0.000000   \n",
      "holidays          0.000000  0.000000  0.000000  0.000297  0.000000  0.000000   \n",
      "relax             0.000000  0.000000  0.000000  0.000000  0.000000  0.000000   \n",
      "veepstakes        0.000000  0.000000  0.000000  0.000000  0.000000  0.000000   \n",
      "theaters          0.000000  0.000000  0.000000  0.000000  0.000000  0.000000   \n",
      "...                    ...       ...       ...       ...       ...       ...   \n",
      "favored           0.000000  0.000000  0.000000  0.000000  0.000000  0.000000   \n",
      "review            0.002021  0.000348  0.000000  0.000000  0.000334  0.000000   \n",
      "ranch             0.000000  0.000000  0.000000  0.000000  0.000000  0.000000   \n",
      "devastating       0.000000  0.000000  0.000029  0.000000  0.000183  0.000000   \n",
      "responsibilities  0.000000  0.000000  0.000000  0.000000  0.000000  0.000000   \n",
      "call              0.000000  0.000083  0.000000  0.000056  0.000564  0.001482   \n",
      "ceiling           0.000000  0.000000  0.000000  0.000411  0.000000  0.000000   \n",
      "chief             0.000000  0.000085  0.000000  0.000000  0.000000  0.000000   \n",
      "blowing           0.000000  0.000000  0.000000  0.000549  0.000000  0.000000   \n",
      "concern           0.000000  0.000004  0.000000  0.000000  0.001301  0.000000   \n",
      "gun               0.000000  0.000000  0.000000  0.000000  0.000000  0.000000   \n",
      "notice            0.000000  0.000000  0.000000  0.000000  0.000000  0.000000   \n",
      "model             0.000963  0.000000  0.000000  0.000000  0.000303  0.000000   \n",
      "options           0.000000  0.000000  0.000000  0.000030  0.000000  0.000000   \n",
      "referring         0.000000  0.000224  0.000000  0.000000  0.000000  0.000000   \n",
      "shows             0.000000  0.000000  0.000000  0.000074  0.000000  0.000000   \n",
      "content           0.000000  0.000000  0.000000  0.000000  0.000000  0.000000   \n",
      "advanced          0.000408  0.000000  0.000000  0.000000  0.000000  0.000000   \n",
      "posting           0.000000  0.000000  0.000000  0.000000  0.002185  0.000000   \n",
      "band              0.000000  0.000000  0.000000  0.000000  0.000000  0.000000   \n",
      "elect             0.000031  0.000000  0.000000  0.000000  0.000000  0.000000   \n",
      "catch             0.000000  0.000000  0.000000  0.000000  0.000446  0.000632   \n",
      "brought           0.000000  0.000934  0.000000  0.000047  0.000000  0.000000   \n",
      "limited           0.000374  0.000000  0.000000  0.000000  0.000000  0.000000   \n",
      "testify           0.000000  0.000000  0.000000  0.000000  0.000000  0.000000   \n",
      "deadline          0.000000  0.000000  0.000000  0.000000  0.000000  0.000000   \n",
      "contempt          0.000000  0.000123  0.000000  0.000000  0.000000  0.000000   \n",
      "administration    0.000000  0.000000  0.000000  0.000000  0.000000  0.000000   \n",
      "assets            0.000000  0.000000  0.000000  0.000000  0.000000  0.000000   \n",
      "close             0.000000  0.000000  0.000000  0.000078  0.000118  0.000000   \n",
      "\n",
      "                   topic_6   topic_7   topic_8   topic_9  topic_10  topic_11  \\\n",
      "predebate         0.000000  0.000000  0.000000  0.000000       0.0  0.000000   \n",
      "barbour           0.000000  0.000000  0.000000  0.000000       0.0  0.000000   \n",
      "bumblebums        0.000000  0.000000  0.000000  0.000000       0.0  0.000000   \n",
      "spindizzy         0.000000  0.000000  0.000000  0.000000       0.0  0.000000   \n",
      "mcentee           0.000000  0.000000  0.000778  0.000000       0.0  0.000000   \n",
      "aft               0.000000  0.000000  0.000000  0.000000       0.0  0.000000   \n",
      "postdebate        0.000000  0.000000  0.000000  0.000000       0.0  0.000000   \n",
      "abrams            0.000000  0.000533  0.000000  0.000000       0.0  0.000000   \n",
      "bulb              0.000000  0.000000  0.000000  0.000000       0.0  0.000000   \n",
      "deanclark         0.000000  0.000000  0.000000  0.000000       0.0  0.000000   \n",
      "amphibians        0.000000  0.000000  0.000000  0.000342       0.0  0.000000   \n",
      "flypaper          0.000000  0.000000  0.000000  0.000000       0.0  0.000327   \n",
      "inactive          0.000000  0.000000  0.000000  0.000000       0.0  0.000000   \n",
      "steinhardt        0.000000  0.000000  0.000000  0.000000       0.0  0.000000   \n",
      "lightbulb         0.000000  0.000000  0.000000  0.000000       0.0  0.000000   \n",
      "oceana            0.000571  0.000000  0.000000  0.000000       0.0  0.000000   \n",
      "dingell           0.000000  0.000000  0.000000  0.000517       0.0  0.000000   \n",
      "sproul            0.000000  0.000000  0.000000  0.000831       0.0  0.000000   \n",
      "alzheimers        0.000000  0.000438  0.000000  0.000000       0.0  0.000000   \n",
      "yucca             0.000000  0.000000  0.000000  0.000000       0.0  0.000000   \n",
      "timken            0.000000  0.000000  0.000000  0.000000       0.0  0.000000   \n",
      "russo             0.000000  0.000311  0.000000  0.000000       0.0  0.000000   \n",
      "leach             0.000354  0.000000  0.000000  0.000000       0.0  0.000000   \n",
      "ndp               0.000535  0.000000  0.000000  0.000000       0.0  0.000000   \n",
      "berg              0.000000  0.000000  0.000000  0.000000       0.0  0.000576   \n",
      "bishops           0.000000  0.000000  0.000000  0.000000       0.0  0.000000   \n",
      "holidays          0.000000  0.000000  0.000000  0.000000       0.0  0.000000   \n",
      "relax             0.000000  0.000000  0.000000  0.000000       0.0  0.000000   \n",
      "veepstakes        0.000139  0.000000  0.000000  0.000000       0.0  0.000000   \n",
      "theaters          0.000000  0.000000  0.000000  0.000552       0.0  0.000000   \n",
      "...                    ...       ...       ...       ...       ...       ...   \n",
      "favored           0.002018  0.000000  0.000000  0.000000       0.0  0.000000   \n",
      "review            0.000000  0.000366  0.000000  0.000000       0.0  0.000000   \n",
      "ranch             0.000000  0.000922  0.000000  0.000000       0.0  0.000000   \n",
      "devastating       0.000000  0.000000  0.000000  0.000000       0.0  0.000369   \n",
      "responsibilities  0.000000  0.000438  0.000000  0.000000       0.0  0.000000   \n",
      "call              0.000000  0.000439  0.001340  0.001730       0.0  0.000000   \n",
      "ceiling           0.000000  0.000000  0.000000  0.000000       0.0  0.000000   \n",
      "chief             0.000000  0.001233  0.000000  0.000275       0.0  0.000000   \n",
      "blowing           0.000000  0.000000  0.000000  0.000000       0.0  0.000000   \n",
      "concern           0.000000  0.000557  0.000000  0.000000       0.0  0.000000   \n",
      "gun               0.000000  0.000278  0.000000  0.000000       0.0  0.000000   \n",
      "notice            0.000000  0.000000  0.000000  0.000000       0.0  0.000000   \n",
      "model             0.000000  0.000000  0.000000  0.000000       0.0  0.000000   \n",
      "options           0.000000  0.000000  0.000313  0.000000       0.0  0.000020   \n",
      "referring         0.000000  0.000000  0.000000  0.000000       0.0  0.000340   \n",
      "shows             0.000000  0.000000  0.003136  0.000000       0.0  0.000000   \n",
      "content           0.000000  0.000000  0.000000  0.000214       0.0  0.000000   \n",
      "advanced          0.000000  0.000000  0.000000  0.000000       0.0  0.000117   \n",
      "posting           0.000000  0.000000  0.000028  0.000000       0.0  0.000000   \n",
      "band              0.000000  0.000000  0.000000  0.000000       0.0  0.000000   \n",
      "elect             0.001650  0.000000  0.000000  0.000000       0.0  0.000000   \n",
      "catch             0.000000  0.000000  0.000283  0.000000       0.0  0.000000   \n",
      "brought           0.000000  0.000117  0.001216  0.000387       0.0  0.000816   \n",
      "limited           0.000124  0.000179  0.000000  0.001287       0.0  0.000000   \n",
      "testify           0.000000  0.000000  0.000000  0.001389       0.0  0.000000   \n",
      "deadline          0.001478  0.000000  0.000000  0.000000       0.0  0.000071   \n",
      "contempt          0.000000  0.000658  0.000000  0.000000       0.0  0.000000   \n",
      "administration    0.000000  0.041239  0.000000  0.000000       0.0  0.001900   \n",
      "assets            0.000000  0.000000  0.000000  0.000000       0.0  0.000129   \n",
      "close             0.012693  0.000000  0.000371  0.000127       0.0  0.000000   \n",
      "\n",
      "                  topic_12  topic_13  topic_14  \n",
      "predebate         0.000000  0.000000  0.000204  \n",
      "barbour           0.000000  0.000000  0.000451  \n",
      "bumblebums        0.000000  0.000000  0.000000  \n",
      "spindizzy         0.000000  0.000000  0.000000  \n",
      "mcentee           0.000000  0.000000  0.000000  \n",
      "aft               0.000000  0.000000  0.000000  \n",
      "postdebate        0.000086  0.000000  0.000763  \n",
      "abrams            0.000000  0.000000  0.000000  \n",
      "bulb              0.000000  0.000360  0.000000  \n",
      "deanclark         0.000000  0.000000  0.000000  \n",
      "amphibians        0.000000  0.000000  0.000000  \n",
      "flypaper          0.000000  0.000000  0.000000  \n",
      "inactive          0.000000  0.000460  0.000000  \n",
      "steinhardt        0.000000  0.000000  0.000000  \n",
      "lightbulb         0.000000  0.000460  0.000000  \n",
      "oceana            0.000000  0.000000  0.000000  \n",
      "dingell           0.000000  0.000000  0.000000  \n",
      "sproul            0.000000  0.000000  0.000000  \n",
      "alzheimers        0.000000  0.000000  0.000000  \n",
      "yucca             0.000000  0.000360  0.000000  \n",
      "timken            0.000000  0.000000  0.000521  \n",
      "russo             0.000000  0.000000  0.000000  \n",
      "leach             0.000000  0.000000  0.000000  \n",
      "ndp               0.000000  0.000000  0.000000  \n",
      "berg              0.000000  0.000000  0.000000  \n",
      "bishops           0.000000  0.000000  0.000000  \n",
      "holidays          0.000000  0.000000  0.000000  \n",
      "relax             0.000000  0.000427  0.000000  \n",
      "veepstakes        0.000000  0.000000  0.000167  \n",
      "theaters          0.000000  0.000000  0.000000  \n",
      "...                    ...       ...       ...  \n",
      "favored           0.000000  0.000000  0.000000  \n",
      "review            0.000000  0.000000  0.000091  \n",
      "ranch             0.000016  0.000000  0.000000  \n",
      "devastating       0.000000  0.000209  0.000000  \n",
      "responsibilities  0.000000  0.000000  0.000000  \n",
      "call              0.000000  0.004296  0.001357  \n",
      "ceiling           0.000000  0.000000  0.000000  \n",
      "chief             0.000000  0.003590  0.000000  \n",
      "blowing           0.000005  0.000000  0.000000  \n",
      "concern           0.000000  0.000764  0.000000  \n",
      "gun               0.000000  0.001487  0.000062  \n",
      "notice            0.000000  0.001847  0.000586  \n",
      "model             0.000000  0.000711  0.000000  \n",
      "options           0.000000  0.001011  0.000000  \n",
      "referring         0.000000  0.000335  0.000000  \n",
      "shows             0.005833  0.000443  0.000000  \n",
      "content           0.000000  0.001243  0.000000  \n",
      "advanced          0.000000  0.000035  0.000000  \n",
      "posting           0.000000  0.000000  0.000000  \n",
      "band              0.000000  0.001093  0.000000  \n",
      "elect             0.000000  0.000000  0.000000  \n",
      "catch             0.000000  0.000572  0.000000  \n",
      "brought           0.000000  0.000136  0.000000  \n",
      "limited           0.000000  0.000241  0.000000  \n",
      "testify           0.000000  0.000000  0.000000  \n",
      "deadline          0.000000  0.000000  0.000752  \n",
      "contempt          0.000000  0.000000  0.000000  \n",
      "administration    0.000000  0.000000  0.000000  \n",
      "assets            0.000000  0.000331  0.000000  \n",
      "close             0.000448  0.000000  0.000096  \n",
      "\n",
      "[6906 rows x 15 columns]\n"
     ]
    }
   ],
   "source": [
    "print model_artm.phi_"
   ]
  },
  {
   "cell_type": "markdown",
   "metadata": {},
   "source": [
    "Дополнительно извлечём $\\Theta$ в виде pandas.DataFrame и напечатаем её:"
   ]
  },
  {
   "cell_type": "code",
   "execution_count": 37,
   "metadata": {},
   "outputs": [
    {
     "name": "stdout",
     "output_type": "stream",
     "text": [
      "              3001      3002      3003      3004      3005      3006  \\\n",
      "topic_0   0.076121  0.035934  0.069378  0.136763  0.083616  0.011376   \n",
      "topic_1   0.095388  0.029030  0.034951  0.043516  0.064788  0.022496   \n",
      "topic_2   0.004087  0.048284  0.012102  0.006648  0.015708  0.520680   \n",
      "topic_3   0.057739  0.029823  0.122427  0.085728  0.060413  0.016142   \n",
      "topic_4   0.122659  0.046273  0.084217  0.077540  0.064804  0.014840   \n",
      "topic_5   0.025646  0.010737  0.024132  0.051743  0.059580  0.017807   \n",
      "topic_6   0.044074  0.017331  0.072042  0.042680  0.036825  0.017084   \n",
      "topic_7   0.061900  0.059854  0.022353  0.029254  0.002857  0.005222   \n",
      "topic_8   0.049225  0.048494  0.043635  0.095823  0.025636  0.016371   \n",
      "topic_9   0.070107  0.492084  0.014166  0.131111  0.200206  0.025601   \n",
      "topic_10  0.056218  0.023523  0.158902  0.092289  0.059759  0.239757   \n",
      "topic_11  0.158816  0.031754  0.028020  0.024615  0.041939  0.006004   \n",
      "topic_12  0.054254  0.027387  0.191633  0.078728  0.125391  0.052282   \n",
      "topic_13  0.056038  0.056568  0.025291  0.041948  0.110979  0.032068   \n",
      "topic_14  0.067728  0.042923  0.096751  0.061612  0.047497  0.002270   \n",
      "\n",
      "              3007      3008      3009      3010    ...         1991  \\\n",
      "topic_0   0.153216  0.031590  0.066032  0.036219    ...     0.087483   \n",
      "topic_1   0.041968  0.009981  0.024485  0.055780    ...     0.066557   \n",
      "topic_2   0.010361  0.000000  0.012824  0.004855    ...     0.014151   \n",
      "topic_3   0.140114  0.095807  0.090739  0.080190    ...     0.042040   \n",
      "topic_4   0.028386  0.042167  0.044592  0.068054    ...     0.154455   \n",
      "topic_5   0.039975  0.080582  0.077005  0.067891    ...     0.041704   \n",
      "topic_6   0.186580  0.291586  0.159586  0.068007    ...     0.063998   \n",
      "topic_7   0.033841  0.019672  0.033055  0.071856    ...     0.042064   \n",
      "topic_8   0.021736  0.015335  0.030470  0.059429    ...     0.089434   \n",
      "topic_9   0.158546  0.344387  0.276788  0.279664    ...     0.026684   \n",
      "topic_10  0.032311  0.000000  0.048914  0.031847    ...     0.039044   \n",
      "topic_11  0.024322  0.002047  0.013785  0.018584    ...     0.031093   \n",
      "topic_12  0.044409  0.017861  0.013088  0.019472    ...     0.148379   \n",
      "topic_13  0.032618  0.034591  0.043202  0.063384    ...     0.072390   \n",
      "topic_14  0.051617  0.014394  0.065438  0.074768    ...     0.080524   \n",
      "\n",
      "              1992      1993      1994      1995      1996      1997  \\\n",
      "topic_0   0.081755  0.077711  0.028989  0.063835  0.114106  0.005819   \n",
      "topic_1   0.066412  0.049778  0.011108  0.018087  0.111398  0.034964   \n",
      "topic_2   0.028480  0.008144  0.473278  0.024771  0.018927  0.015803   \n",
      "topic_3   0.063902  0.078202  0.025081  0.073417  0.045897  0.064343   \n",
      "topic_4   0.112710  0.064262  0.047408  0.055399  0.061833  0.013510   \n",
      "topic_5   0.166137  0.200681  0.066656  0.121939  0.034560  0.330883   \n",
      "topic_6   0.062566  0.086463  0.015080  0.105102  0.047171  0.028323   \n",
      "topic_7   0.034254  0.065199  0.023008  0.017095  0.146536  0.045238   \n",
      "topic_8   0.111383  0.100479  0.028989  0.097625  0.092207  0.045791   \n",
      "topic_9   0.023452  0.026833  0.021445  0.028463  0.031318  0.012594   \n",
      "topic_10  0.041248  0.023984  0.177823  0.042699  0.006806  0.090485   \n",
      "topic_11  0.021688  0.023933  0.007305  0.011352  0.132943  0.010550   \n",
      "topic_12  0.025857  0.013149  0.016585  0.109826  0.021381  0.055667   \n",
      "topic_13  0.062305  0.120906  0.039765  0.084878  0.091554  0.025313   \n",
      "topic_14  0.097850  0.060276  0.017479  0.145512  0.043361  0.220717   \n",
      "\n",
      "              1998      1999      2000  \n",
      "topic_0   0.097601  0.074182  0.014716  \n",
      "topic_1   0.080923  0.031054  0.005184  \n",
      "topic_2   0.007222  0.000000  0.000000  \n",
      "topic_3   0.034290  0.018526  0.033572  \n",
      "topic_4   0.030466  0.028672  0.047126  \n",
      "topic_5   0.228804  0.368793  0.424609  \n",
      "topic_6   0.081716  0.079300  0.107600  \n",
      "topic_7   0.036863  0.033008  0.006729  \n",
      "topic_8   0.114196  0.041101  0.059586  \n",
      "topic_9   0.059266  0.005540  0.007309  \n",
      "topic_10  0.055971  0.055681  0.047264  \n",
      "topic_11  0.022400  0.011003  0.000000  \n",
      "topic_12  0.042442  0.197912  0.162936  \n",
      "topic_13  0.024499  0.007307  0.013284  \n",
      "topic_14  0.083341  0.047919  0.070086  \n",
      "\n",
      "[15 rows x 3430 columns]\n"
     ]
    }
   ],
   "source": [
    "theta_matrix = model_artm.get_theta()\n",
    "print theta_matrix"
   ]
  },
  {
   "cell_type": "code",
   "execution_count": null,
   "metadata": {},
   "outputs": [
    {
     "name": "stderr",
     "output_type": "stream",
     "text": [
      "Exception in thread Thread-12:\n",
      "Traceback (most recent call last):\n",
      "  File \"/Users/flaren/anaconda/envs/MyPython2/lib/python2.7/threading.py\", line 801, in __bootstrap_inner\n",
      "    self.run()\n",
      "  File \"/Users/flaren/anaconda/envs/MyPython2/lib/python2.7/threading.py\", line 754, in run\n",
      "    self.__target(*self.__args, **self.__kwargs)\n",
      "  File \"/Users/flaren/anaconda/envs/MyPython2/lib/python2.7/multiprocessing/pool.py\", line 113, in worker\n",
      "    result = (True, func(*args, **kwds))\n",
      "  File \"/Users/flaren/anaconda/envs/MyPython2/lib/python2.7/site-packages/bigartm-0.9.0-py2.7.egg/artm/master_component.py\", line 908, in transform\n",
      "    theta_matrix_info = self._lib.ArtmRequestTransformMasterModelExternal(self.master_id, args)\n",
      "  File \"/Users/flaren/anaconda/envs/MyPython2/lib/python2.7/site-packages/bigartm-0.9.0-py2.7.egg/artm/wrapper/api.py\", line 161, in artm_api_call\n",
      "    self._check_error(result)\n",
      "  File \"/Users/flaren/anaconda/envs/MyPython2/lib/python2.7/site-packages/bigartm-0.9.0-py2.7.egg/artm/wrapper/api.py\", line 97, in _check_error\n",
      "    raise exception_class(error_message)\n",
      "InvalidOperationException: Transform: no batches to process\n",
      "\n"
     ]
    }
   ],
   "source": [
    "test_batch_vectorizer = artm.BatchVectorizer(data_format='batches', data_path='kos_test', batches=['test_docs.batch'])\n",
    "test_theta_matrix = model_artm.transform(batch_vectorizer=test_batch_vectorizer)\n",
    "print test_theta_matrix"
   ]
  },
  {
   "cell_type": "code",
   "execution_count": null,
   "metadata": {
    "collapsed": true
   },
   "outputs": [],
   "source": []
  },
  {
   "cell_type": "markdown",
   "metadata": {},
   "source": [
    "<h1 align=\"center\"> Conclusion </h1>"
   ]
  },
  {
   "cell_type": "markdown",
   "metadata": {
    "collapsed": true
   },
   "source": [
    "Задача построения тематической модели имеет бесконечно большое множество решений. Это даёт большую свободу действий, и регуляризаторы позволяют использовать её для получения результата, удовлетворяющего сразу нескольким требованиям (разреженность, интерпретируемость, удовлетворительное значение перплексии и т.п.).\n",
    "\n",
    "Приведённый выше пример является демонстрационным, можно пробовать более гибкие стратегии регуляризации для получения ещё более хорошего результата. По аналогичной схеме можно производить эксперименты с более крупными коллекциями.\n",
    "\n",
    "\n",
    "** Check questions **\n",
    "\n",
    "1) В чем основноя отличие PLSA и LDA? На каких объемах выборок разница между моделями наиболее заметна?\n",
    "\n",
    "2) Зачем нужна регуляризация тематической модели?\n",
    "\n",
    "3) По каким параметрам можно сделать предположения о интерпретируемости модели?\n"
   ]
  },
  {
   "cell_type": "markdown",
   "metadata": {},
   "source": [
    "## References\n",
    "\n",
    "[1]  Hofmann T. Probabilistic latent semantic indexing. SIGIR 1999. Pp.50-57\n",
    "\n",
    "[2] Blei D., Ng A., Jordan M. Latent Dirichlet Allocation //\n",
    "    Journal of Machine Learning Research, 2003. - No.3.  Pp. 993-1022.\n"
   ]
  },
  {
   "cell_type": "markdown",
   "metadata": {
    "collapsed": true
   },
   "source": [
    "** You can find ? here** \n",
    "  * оцените <a href=\"?\"> семинар </a>"
   ]
  },
  {
   "cell_type": "code",
   "execution_count": null,
   "metadata": {
    "collapsed": true
   },
   "outputs": [],
   "source": []
  }
 ],
 "metadata": {
  "anaconda-cloud": {},
  "kernelspec": {
   "display_name": "Python 2",
   "language": "python",
   "name": "python2"
  },
  "language_info": {
   "codemirror_mode": {
    "name": "ipython",
    "version": 2
   },
   "file_extension": ".py",
   "mimetype": "text/x-python",
   "name": "python",
   "nbconvert_exporter": "python",
   "pygments_lexer": "ipython2",
   "version": "2.7.12"
  }
 },
 "nbformat": 4,
 "nbformat_minor": 1
}
