{
 "cells": [
  {
   "cell_type": "code",
   "execution_count": 9,
   "metadata": {},
   "outputs": [],
   "source": [
    "import numpy as np\n",
    "import pandas as pd\n",
    "import matplotlib.pylab as plt\n",
    "\n",
    "%matplotlib inline\n",
    "\n",
    "from IPython.display import display, HTML"
   ]
  },
  {
   "cell_type": "code",
   "execution_count": 10,
   "metadata": {},
   "outputs": [],
   "source": [
    "relevance_train = pd.read_csv('relevance_train.csv', sep='\\t')\n",
    "relevance_test = pd.read_csv('relevance_test.csv')\n",
    "queries = pd.read_csv('queries.csv', index_col=\"QueryId\")"
   ]
  },
  {
   "cell_type": "code",
   "execution_count": 11,
   "metadata": {},
   "outputs": [
    {
     "data": {
      "text/html": [
       "<div>\n",
       "<style>\n",
       "    .dataframe thead tr:only-child th {\n",
       "        text-align: right;\n",
       "    }\n",
       "\n",
       "    .dataframe thead th {\n",
       "        text-align: left;\n",
       "    }\n",
       "\n",
       "    .dataframe tbody tr th {\n",
       "        vertical-align: top;\n",
       "    }\n",
       "</style>\n",
       "<table border=\"1\" class=\"dataframe\">\n",
       "  <thead>\n",
       "    <tr style=\"text-align: right;\">\n",
       "      <th></th>\n",
       "      <th>QueryId</th>\n",
       "      <th>DocumentId</th>\n",
       "      <th>Relevance</th>\n",
       "    </tr>\n",
       "  </thead>\n",
       "  <tbody>\n",
       "    <tr>\n",
       "      <th>0</th>\n",
       "      <td>1</td>\n",
       "      <td>184</td>\n",
       "      <td>2</td>\n",
       "    </tr>\n",
       "    <tr>\n",
       "      <th>1</th>\n",
       "      <td>1</td>\n",
       "      <td>29</td>\n",
       "      <td>2</td>\n",
       "    </tr>\n",
       "    <tr>\n",
       "      <th>2</th>\n",
       "      <td>1</td>\n",
       "      <td>31</td>\n",
       "      <td>2</td>\n",
       "    </tr>\n",
       "    <tr>\n",
       "      <th>3</th>\n",
       "      <td>1</td>\n",
       "      <td>12</td>\n",
       "      <td>3</td>\n",
       "    </tr>\n",
       "    <tr>\n",
       "      <th>4</th>\n",
       "      <td>1</td>\n",
       "      <td>51</td>\n",
       "      <td>3</td>\n",
       "    </tr>\n",
       "    <tr>\n",
       "      <th>5</th>\n",
       "      <td>1</td>\n",
       "      <td>102</td>\n",
       "      <td>3</td>\n",
       "    </tr>\n",
       "    <tr>\n",
       "      <th>6</th>\n",
       "      <td>1</td>\n",
       "      <td>13</td>\n",
       "      <td>4</td>\n",
       "    </tr>\n",
       "    <tr>\n",
       "      <th>7</th>\n",
       "      <td>1</td>\n",
       "      <td>14</td>\n",
       "      <td>4</td>\n",
       "    </tr>\n",
       "    <tr>\n",
       "      <th>8</th>\n",
       "      <td>1</td>\n",
       "      <td>15</td>\n",
       "      <td>4</td>\n",
       "    </tr>\n",
       "    <tr>\n",
       "      <th>9</th>\n",
       "      <td>1</td>\n",
       "      <td>57</td>\n",
       "      <td>2</td>\n",
       "    </tr>\n",
       "  </tbody>\n",
       "</table>\n",
       "</div>"
      ],
      "text/plain": [
       "   QueryId  DocumentId  Relevance\n",
       "0        1         184          2\n",
       "1        1          29          2\n",
       "2        1          31          2\n",
       "3        1          12          3\n",
       "4        1          51          3\n",
       "5        1         102          3\n",
       "6        1          13          4\n",
       "7        1          14          4\n",
       "8        1          15          4\n",
       "9        1          57          2"
      ]
     },
     "metadata": {},
     "output_type": "display_data"
    },
    {
     "data": {
      "text/html": [
       "<div>\n",
       "<style>\n",
       "    .dataframe thead tr:only-child th {\n",
       "        text-align: right;\n",
       "    }\n",
       "\n",
       "    .dataframe thead th {\n",
       "        text-align: left;\n",
       "    }\n",
       "\n",
       "    .dataframe tbody tr th {\n",
       "        vertical-align: top;\n",
       "    }\n",
       "</style>\n",
       "<table border=\"1\" class=\"dataframe\">\n",
       "  <thead>\n",
       "    <tr style=\"text-align: right;\">\n",
       "      <th></th>\n",
       "      <th>QueryId</th>\n",
       "      <th>DocumentId</th>\n",
       "    </tr>\n",
       "  </thead>\n",
       "  <tbody>\n",
       "    <tr>\n",
       "      <th>0</th>\n",
       "      <td>126</td>\n",
       "      <td>974</td>\n",
       "    </tr>\n",
       "  </tbody>\n",
       "</table>\n",
       "</div>"
      ],
      "text/plain": [
       "   QueryId  DocumentId\n",
       "0      126         974"
      ]
     },
     "metadata": {},
     "output_type": "display_data"
    },
    {
     "data": {
      "text/html": [
       "<div>\n",
       "<style>\n",
       "    .dataframe thead tr:only-child th {\n",
       "        text-align: right;\n",
       "    }\n",
       "\n",
       "    .dataframe thead th {\n",
       "        text-align: left;\n",
       "    }\n",
       "\n",
       "    .dataframe tbody tr th {\n",
       "        vertical-align: top;\n",
       "    }\n",
       "</style>\n",
       "<table border=\"1\" class=\"dataframe\">\n",
       "  <thead>\n",
       "    <tr style=\"text-align: right;\">\n",
       "      <th></th>\n",
       "      <th>Query</th>\n",
       "    </tr>\n",
       "    <tr>\n",
       "      <th>QueryId</th>\n",
       "      <th></th>\n",
       "    </tr>\n",
       "  </thead>\n",
       "  <tbody>\n",
       "    <tr>\n",
       "      <th>1</th>\n",
       "      <td>what similarity laws must be obeyed when const...</td>\n",
       "    </tr>\n",
       "    <tr>\n",
       "      <th>2</th>\n",
       "      <td>what are the structural and aeroelastic proble...</td>\n",
       "    </tr>\n",
       "    <tr>\n",
       "      <th>4</th>\n",
       "      <td>what problems of heat conduction in composite ...</td>\n",
       "    </tr>\n",
       "    <tr>\n",
       "      <th>8</th>\n",
       "      <td>can a criterion be developed to show empirical...</td>\n",
       "    </tr>\n",
       "    <tr>\n",
       "      <th>9</th>\n",
       "      <td>what chemical kinetic system is applicable to ...</td>\n",
       "    </tr>\n",
       "  </tbody>\n",
       "</table>\n",
       "</div>"
      ],
      "text/plain": [
       "                                                     Query\n",
       "QueryId                                                   \n",
       "1        what similarity laws must be obeyed when const...\n",
       "2        what are the structural and aeroelastic proble...\n",
       "4        what problems of heat conduction in composite ...\n",
       "8        can a criterion be developed to show empirical...\n",
       "9        what chemical kinetic system is applicable to ..."
      ]
     },
     "metadata": {},
     "output_type": "display_data"
    },
    {
     "name": "stdout",
     "output_type": "stream",
     "text": [
      "225 1400\n"
     ]
    }
   ],
   "source": [
    "display(relevance_train.head(10))\n",
    "display(relevance_test.head(1))\n",
    "display(queries.head(5))\n",
    "print(relevance_test.QueryId.max(),relevance_test.DocumentId.max())"
   ]
  },
  {
   "cell_type": "code",
   "execution_count": 12,
   "metadata": {},
   "outputs": [
    {
     "data": {
      "text/html": [
       "<div>\n",
       "<style>\n",
       "    .dataframe thead tr:only-child th {\n",
       "        text-align: right;\n",
       "    }\n",
       "\n",
       "    .dataframe thead th {\n",
       "        text-align: left;\n",
       "    }\n",
       "\n",
       "    .dataframe tbody tr th {\n",
       "        vertical-align: top;\n",
       "    }\n",
       "</style>\n",
       "<table border=\"1\" class=\"dataframe\">\n",
       "  <thead>\n",
       "    <tr style=\"text-align: right;\">\n",
       "      <th></th>\n",
       "      <th>QueryId</th>\n",
       "      <th>DocumentId</th>\n",
       "      <th>Relevance</th>\n",
       "    </tr>\n",
       "  </thead>\n",
       "  <tbody>\n",
       "    <tr>\n",
       "      <th>54</th>\n",
       "      <td>3</td>\n",
       "      <td>5</td>\n",
       "      <td>3</td>\n",
       "    </tr>\n",
       "    <tr>\n",
       "      <th>55</th>\n",
       "      <td>3</td>\n",
       "      <td>6</td>\n",
       "      <td>3</td>\n",
       "    </tr>\n",
       "    <tr>\n",
       "      <th>56</th>\n",
       "      <td>3</td>\n",
       "      <td>90</td>\n",
       "      <td>3</td>\n",
       "    </tr>\n",
       "    <tr>\n",
       "      <th>57</th>\n",
       "      <td>3</td>\n",
       "      <td>91</td>\n",
       "      <td>3</td>\n",
       "    </tr>\n",
       "    <tr>\n",
       "      <th>58</th>\n",
       "      <td>3</td>\n",
       "      <td>119</td>\n",
       "      <td>3</td>\n",
       "    </tr>\n",
       "    <tr>\n",
       "      <th>59</th>\n",
       "      <td>3</td>\n",
       "      <td>144</td>\n",
       "      <td>3</td>\n",
       "    </tr>\n",
       "    <tr>\n",
       "      <th>60</th>\n",
       "      <td>3</td>\n",
       "      <td>181</td>\n",
       "      <td>3</td>\n",
       "    </tr>\n",
       "    <tr>\n",
       "      <th>61</th>\n",
       "      <td>3</td>\n",
       "      <td>399</td>\n",
       "      <td>3</td>\n",
       "    </tr>\n",
       "    <tr>\n",
       "      <th>62</th>\n",
       "      <td>3</td>\n",
       "      <td>485</td>\n",
       "      <td>-1</td>\n",
       "    </tr>\n",
       "  </tbody>\n",
       "</table>\n",
       "</div>"
      ],
      "text/plain": [
       "    QueryId  DocumentId  Relevance\n",
       "54        3           5          3\n",
       "55        3           6          3\n",
       "56        3          90          3\n",
       "57        3          91          3\n",
       "58        3         119          3\n",
       "59        3         144          3\n",
       "60        3         181          3\n",
       "61        3         399          3\n",
       "62        3         485         -1"
      ]
     },
     "execution_count": 12,
     "metadata": {},
     "output_type": "execute_result"
    }
   ],
   "source": [
    "relevance_train[relevance_train.QueryId == 3]"
   ]
  },
  {
   "cell_type": "code",
   "execution_count": 13,
   "metadata": {},
   "outputs": [],
   "source": [
    "documents = []\n",
    "\n",
    "with open('Documents.csv', 'r') as f:\n",
    "    for line in f:\n",
    "        if line.startswith(\".Id \"):\n",
    "            documents.append([int(line[4:]), \"\"])\n",
    "        else:\n",
    "            documents[-1][1] += line\n",
    "            \n",
    "documents = dict(documents)"
   ]
  },
  {
   "cell_type": "markdown",
   "metadata": {},
   "source": [
    "Поюзаем nltk"
   ]
  },
  {
   "cell_type": "code",
   "execution_count": 18,
   "metadata": {},
   "outputs": [],
   "source": [
    "\n",
    "import nltk\n",
    "import sys\n",
    "import os\n",
    "from math import log\n",
    "import numpy as np\n",
    "from time import time\n",
    "from gensim import corpora, models, similarities\n",
    "\n",
    "import logging\n",
    "logging.basicConfig(format='%(asctime)s : %(levelname)s : %(message)s', level=logging.INFO)\n",
    "\n",
    "import string\n",
    "\n",
    "#nltk.download() #download WordNet corpora\n",
    "\n"
   ]
  },
  {
   "cell_type": "code",
   "execution_count": 19,
   "metadata": {},
   "outputs": [],
   "source": [
    "punct_remover = str.maketrans(string.punctuation, ' '*len(string.punctuation))\n",
    "\n",
    "def preprocess(text):\n",
    "    wnl = nltk.WordNetLemmatizer()\n",
    "    return [wnl.lemmatize(t) for t in text.lower().translate(punct_remover).split()]"
   ]
  },
  {
   "cell_type": "code",
   "execution_count": 20,
   "metadata": {},
   "outputs": [],
   "source": [
    "texts = []\n",
    "texts_ids = []\n",
    "for text_id, text in documents.items():\n",
    "    texts.append(preprocess(text))\n",
    "    texts_ids.append(text_id)"
   ]
  },
  {
   "cell_type": "code",
   "execution_count": 21,
   "metadata": {},
   "outputs": [],
   "source": [
    "texts = []\n",
    "texts_ids = []\n",
    "text_id_to_pos = {}\n",
    "for text_id, text in documents.items():\n",
    "    texts.append(preprocess(text))\n",
    "    text_id_to_pos[text_id] = len(texts_ids)\n",
    "    texts_ids.append(text_id)"
   ]
  },
  {
   "cell_type": "code",
   "execution_count": null,
   "metadata": {},
   "outputs": [],
   "source": []
  },
  {
   "cell_type": "code",
   "execution_count": 22,
   "metadata": {},
   "outputs": [
    {
     "name": "stdout",
     "output_type": "stream",
     "text": [
      "Original: Dictionary(8593 unique tokens: ['adiabatic', 'weertman', 'labor', 'cosine', 'therefore']...)\n",
      "Filtered: Dictionary(2602 unique tokens: ['dimensional', 'adiabatic', 'thought', 'known', 'therefore']...)\n"
     ]
    }
   ],
   "source": [
    "dictionary = corpora.Dictionary(texts)\n",
    "print('Original: {}'.format(dictionary))\n",
    "dictionary.filter_extremes(no_below = 5, no_above = 0.5, keep_n=None)\n",
    "dictionary.save('nips.dict')\n",
    "print('Filtered: {}'.format(dictionary))"
   ]
  },
  {
   "cell_type": "code",
   "execution_count": null,
   "metadata": {},
   "outputs": [],
   "source": []
  },
  {
   "cell_type": "code",
   "execution_count": 23,
   "metadata": {},
   "outputs": [],
   "source": [
    "corpus = [dictionary.doc2bow(text) for text in texts]"
   ]
  },
  {
   "cell_type": "code",
   "execution_count": 24,
   "metadata": {},
   "outputs": [
    {
     "data": {
      "text/plain": [
       "[(1451, 'dimensional'),\n",
       " (0, 'adiabatic'),\n",
       " (1, 'thought'),\n",
       " (2, 'known'),\n",
       " (3, 'therefore'),\n",
       " (4, 'critical'),\n",
       " (5, 'follow'),\n",
       " (442, 'bound'),\n",
       " (7, 'geometrical'),\n",
       " (1925, 'tested')]"
      ]
     },
     "execution_count": 24,
     "metadata": {},
     "output_type": "execute_result"
    }
   ],
   "source": [
    "list(dictionary.items())[:10]\n"
   ]
  },
  {
   "cell_type": "code",
   "execution_count": 25,
   "metadata": {},
   "outputs": [
    {
     "name": "stdout",
     "output_type": "stream",
     "text": [
      "[(77, 1), (108, 1), (110, 2), (130, 1), (204, 1), (208, 1), (257, 1), (296, 1), (333, 1), (343, 1), (400, 1), (405, 1), (424, 1), (438, 1), (463, 1), (469, 1), (491, 1), (500, 2), (508, 1), (512, 1)]\n"
     ]
    }
   ],
   "source": [
    "print(corpus[0][0:20])"
   ]
  },
  {
   "cell_type": "code",
   "execution_count": 26,
   "metadata": {},
   "outputs": [
    {
     "name": "stdout",
     "output_type": "stream",
     "text": [
      "Evaluation time: 1.1100677688916525\n"
     ]
    }
   ],
   "source": [
    "start = time()\n",
    "model = models.ldamodel.LdaModel(corpus, id2word=dictionary, num_topics=100, chunksize=50, update_every=1, passes=5)\n",
    "print('Evaluation time: {}'.format((time()-start) / 60))"
   ]
  },
  {
   "cell_type": "code",
   "execution_count": 27,
   "metadata": {},
   "outputs": [
    {
     "data": {
      "text/plain": [
       "[(9, 0.046647410131843127),\n",
       " (13, 0.10442695418576535),\n",
       " (18, 0.017559790176734272),\n",
       " (25, 0.056507268848836341),\n",
       " (30, 0.021525956388410684),\n",
       " (34, 0.011337287882491541),\n",
       " (42, 0.022945035515857672),\n",
       " (44, 0.010744680851063816),\n",
       " (50, 0.15162298467287855),\n",
       " (67, 0.022545929129522031),\n",
       " (69, 0.31556573510912561),\n",
       " (84, 0.010744680851063816),\n",
       " (85, 0.013262747054758871),\n",
       " (86, 0.12377524867537472),\n",
       " (87, 0.016530342307250548),\n",
       " (89, 0.012576776817853907),\n",
       " (94, 0.023747533059080474)]"
      ]
     },
     "execution_count": 27,
     "metadata": {},
     "output_type": "execute_result"
    }
   ],
   "source": [
    "model.get_document_topics(corpus[0])"
   ]
  },
  {
   "cell_type": "code",
   "execution_count": 28,
   "metadata": {},
   "outputs": [],
   "source": [
    "def fit_predict():\n",
    "    global ar\n",
    "    global br\n",
    "    \n",
    "    def correl(a, b):\n",
    "        b = dict(b)\n",
    "        s = 0\n",
    "        for xa, na in a:\n",
    "            if xa in b:\n",
    "                s += -na * log(b[xa])\n",
    "        return s\n",
    "    \n",
    "    ar = []\n",
    "    br = []\n",
    "\n",
    "    for index, row in relevance_train.iterrows():\n",
    "        try:\n",
    "            text = model.get_document_topics(corpus[text_id_to_pos[row.DocumentId]])\n",
    "            query = model.get_document_topics(dictionary.doc2bow(preprocess(queries.loc[row.QueryId].Query)))\n",
    "            corr_true = row.Relevance\n",
    "\n",
    "            corr = correl(text, query)\n",
    "            #print(corr_true, corr)\n",
    "            ar.append(corr_true)\n",
    "            br.append(corr)\n",
    "        except:\n",
    "            pass\n",
    "        \n",
    "    ar = np.array(ar)\n",
    "    br = np.array(br)"
   ]
  },
  {
   "cell_type": "code",
   "execution_count": 6,
   "metadata": {},
   "outputs": [
    {
     "data": {
      "text/plain": [
       "2"
      ]
     },
     "execution_count": 6,
     "metadata": {},
     "output_type": "execute_result"
    }
   ],
   "source": []
  },
  {
   "cell_type": "code",
   "execution_count": 83,
   "metadata": {},
   "outputs": [],
   "source": [
    "\n",
    "\n",
    "def upd_ww(a, b, r):\n",
    "    rf = np.array(Rf)\n",
    "    rf = rf / np.abs(rf).sum()\n",
    "    r = rf[r + 1]\n",
    "\n",
    "    for xa, na in a:\n",
    "        for xb, nb in b:\n",
    "            xab = (xa, xb)\n",
    "            if xab not in ww:\n",
    "                ww[xab] = 0\n",
    "            ww[xab] += r\n",
    "            \n",
    "def fit_predict():\n",
    "    global ar\n",
    "    global br\n",
    "    global wwd\n",
    "    global wwq\n",
    "    \n",
    "    from collections import defaultdict\n",
    "    wwd = defaultdict(lambda: 0) \n",
    "    wwq = defaultdict(lambda: 0)\n",
    "    ww = defaultdict(lambda: 0)\n",
    "    \n",
    "    for index, row in relevance_train.iterrows():\n",
    "        try:\n",
    "            r = row.Relevance\n",
    "            wwd[row.DocumentId] += r\n",
    "            wwq[row.QueryId] += r\n",
    "            \n",
    "            text = corpus[text_id_to_pos[row.DocumentId]]\n",
    "            query = dictionary.doc2bow(preprocess(queries.loc[row.QueryId].Query))\n",
    "            corr_true = row.Relevance\n",
    "            upd_ww(text, query, corr_true)\n",
    "        except:\n",
    "            pass\n",
    "\n",
    "    ar = []\n",
    "    br = []\n",
    "    \n",
    "    def correl(a, b):\n",
    "        s = 0\n",
    "        for xa, na in a:\n",
    "            for xb, nb in b:\n",
    "                if (xa, xb) in ww:\n",
    "                    s += ww[(xa, xb)] * nb\n",
    "                if xa == xb:\n",
    "                    s += 100\n",
    "        return s\n",
    "\n",
    "    for index, row in relevance_train.iterrows():\n",
    "        try:\n",
    "            text = corpus[text_id_to_pos[row.DocumentId]]\n",
    "            query = dictionary.doc2bow(preprocess(queries.loc[row.QueryId].Query))\n",
    "            corr_true = row.Relevance\n",
    "            \n",
    "            \n",
    "            corr = (wwd[row.DocumentId] + 0.5 * wwq[row.QueryId])\n",
    "            corr2 = correl(text, query)\n",
    "            corr = corr2\n",
    "            #print(corr_true, corr)\n",
    "            ar.append(corr_true)\n",
    "            br.append(corr)\n",
    "        except:\n",
    "            pass\n",
    "\n",
    "    ar = np.array(ar)\n",
    "    br = np.array(br)"
   ]
  },
  {
   "cell_type": "code",
   "execution_count": 84,
   "metadata": {},
   "outputs": [
    {
     "data": {
      "image/png": "[encoded data removed]",
      "text/plain": [
       "<matplotlib.figure.Figure at 0x7f5dc9969da0>"
      ]
     },
     "metadata": {},
     "output_type": "display_data"
    }
   ],
   "source": [
    "\n",
    "rs = [-1, 1, 2, 3, 4]\n",
    "    \n",
    "\n",
    "Rf = [-60, 0, 1, 4, 9, 30]\n",
    "\n",
    "fit_predict()\n",
    "\n",
    "#plt.plot(rs, [br[ar == c].sum() for c in [-1, 1, 2, 3, 4]], 'r')\n",
    "plt.fill_between(rs, [br[ar == c].mean() - br[ar == c].std() for c in [-1, 1, 2, 3, 4]],\n",
    "                     [br[ar == c].mean() + br[ar == c].std() for c in [-1, 1, 2, 3, 4]], color='r', alpha=0.3)\n",
    "\n",
    "# Rf = [-1000, 0, 1, 4, 9, 800]\n",
    "\n",
    "# fit_predict()\n",
    "\n",
    "# plt.fill_between(rs, [br[ar == c].mean() - br[ar == c].std() for c in [-1, 1, 2, 3, 4]],\n",
    "#                      [br[ar == c].mean() + br[ar == c].std() for c in [-1, 1, 2, 3, 4]], color='b', alpha=0.3)\n",
    "plt.show()"
   ]
  },
  {
   "cell_type": "code",
   "execution_count": 82,
   "metadata": {},
   "outputs": [],
   "source": [
    "relevance_test[\"Relevance\"] = [0 for i in range(len(relevance_test))]\n",
    "\n",
    "for index, row in relevance_test.iterrows():\n",
    "    try:\n",
    "        #print(len(relevance_train[ (relevance_train.QueryId == row.QueryId)]))\n",
    "        text = corpus[text_id_to_pos[row.DocumentId]]\n",
    "        query = dictionary.doc2bow(preprocess(queries.loc[row.QueryId].Query))\n",
    "        corr_true = row.Relevance\n",
    "\n",
    "\n",
    "        corr = (wwd[row.DocumentId] + 0.5 * wwq[row.QueryId]) + 0.5 * correl(text, query)\n",
    "        \n",
    "        #text = corpus[text_id_to_pos[row.DocumentId]]\n",
    "        #query = dictionary.doc2bow(preprocess(queries.loc[row.QueryId].Query))\n",
    "        row.Relevance = corr # orrel(text, query)\n",
    "    except:\n",
    "        #raise\n",
    "        pass\n",
    "    \n",
    "relevance_test.sort_values(by=\"Relevance\", ascending=False, inplace=True)\n",
    "relevance_test.drop([\"Relevance\"], axis=1, inplace=True)\n",
    "\n",
    "relevance_test.to_csv(\"result.csv\", index=False)"
   ]
  },
  {
   "cell_type": "code",
   "execution_count": 67,
   "metadata": {},
   "outputs": [
    {
     "data": {
      "image/png": "[encoded data removed]",
      "text/plain": [
       "<matplotlib.figure.Figure at 0x7f5dc8eda080>"
      ]
     },
     "metadata": {},
     "output_type": "display_data"
    }
   ],
   "source": [
    "plt.scatter(ar, br, alpha=0.1)\n",
    "plt.show()"
   ]
  },
  {
   "cell_type": "code",
   "execution_count": null,
   "metadata": {},
   "outputs": [],
   "source": []
  },
  {
   "cell_type": "code",
   "execution_count": null,
   "metadata": {},
   "outputs": [],
   "source": []
  },
  {
   "cell_type": "code",
   "execution_count": null,
   "metadata": {},
   "outputs": [],
   "source": []
  }
 ],
 "metadata": {
  "kernelspec": {
   "display_name": "Python 3",
   "language": "python",
   "name": "python3"
  },
  "language_info": {
   "codemirror_mode": {
    "name": "ipython",
    "version": 3
   },
   "file_extension": ".py",
   "mimetype": "text/x-python",
   "name": "python",
   "nbconvert_exporter": "python",
   "pygments_lexer": "ipython3",
   "version": "3.5.2"
  }
 },
 "nbformat": 4,
 "nbformat_minor": 2
}
